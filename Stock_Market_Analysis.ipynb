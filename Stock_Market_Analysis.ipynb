{
  "nbformat": 4,
  "nbformat_minor": 0,
  "metadata": {
    "colab": {
      "provenance": [],
      "collapsed_sections": []
    },
    "kernelspec": {
      "name": "python3",
      "display_name": "Python 3"
    },
    "language_info": {
      "name": "python"
    },
    "accelerator": "GPU",
    "widgets": {
      "application/vnd.jupyter.widget-state+json": {
        "76b8eb3773ab4c2ea9eec068a232a8d4": {
          "model_module": "@jupyter-widgets/controls",
          "model_name": "HBoxModel",
          "model_module_version": "1.5.0",
          "state": {
            "_dom_classes": [],
            "_model_module": "@jupyter-widgets/controls",
            "_model_module_version": "1.5.0",
            "_model_name": "HBoxModel",
            "_view_count": null,
            "_view_module": "@jupyter-widgets/controls",
            "_view_module_version": "1.5.0",
            "_view_name": "HBoxView",
            "box_style": "",
            "children": [
              "IPY_MODEL_f60726898d4e41998ac9635fb811a79c",
              "IPY_MODEL_b4433e7ddfc84e658a408262090c19a6",
              "IPY_MODEL_0509ff2edfdc4d65b9d2e9086689b1d3"
            ],
            "layout": "IPY_MODEL_2d6abee958f04c8eada32eb0722c3ff2"
          }
        },
        "f60726898d4e41998ac9635fb811a79c": {
          "model_module": "@jupyter-widgets/controls",
          "model_name": "HTMLModel",
          "model_module_version": "1.5.0",
          "state": {
            "_dom_classes": [],
            "_model_module": "@jupyter-widgets/controls",
            "_model_module_version": "1.5.0",
            "_model_name": "HTMLModel",
            "_view_count": null,
            "_view_module": "@jupyter-widgets/controls",
            "_view_module_version": "1.5.0",
            "_view_name": "HTMLView",
            "description": "",
            "description_tooltip": null,
            "layout": "IPY_MODEL_769373400bc54ceb9b5a49246c6aaacd",
            "placeholder": "​",
            "style": "IPY_MODEL_45bfcaecdd36477fab7ed403043a5905",
            "value": "100%"
          }
        },
        "b4433e7ddfc84e658a408262090c19a6": {
          "model_module": "@jupyter-widgets/controls",
          "model_name": "FloatProgressModel",
          "model_module_version": "1.5.0",
          "state": {
            "_dom_classes": [],
            "_model_module": "@jupyter-widgets/controls",
            "_model_module_version": "1.5.0",
            "_model_name": "FloatProgressModel",
            "_view_count": null,
            "_view_module": "@jupyter-widgets/controls",
            "_view_module_version": "1.5.0",
            "_view_name": "ProgressView",
            "bar_style": "success",
            "description": "",
            "description_tooltip": null,
            "layout": "IPY_MODEL_134e027d4240436f95a431c822691f51",
            "max": 1174,
            "min": 0,
            "orientation": "horizontal",
            "style": "IPY_MODEL_5b7127fcab624c978330e771924a5bc8",
            "value": 1174
          }
        },
        "0509ff2edfdc4d65b9d2e9086689b1d3": {
          "model_module": "@jupyter-widgets/controls",
          "model_name": "HTMLModel",
          "model_module_version": "1.5.0",
          "state": {
            "_dom_classes": [],
            "_model_module": "@jupyter-widgets/controls",
            "_model_module_version": "1.5.0",
            "_model_name": "HTMLModel",
            "_view_count": null,
            "_view_module": "@jupyter-widgets/controls",
            "_view_module_version": "1.5.0",
            "_view_name": "HTMLView",
            "description": "",
            "description_tooltip": null,
            "layout": "IPY_MODEL_f3a4f33304c84a1896079aa56656f579",
            "placeholder": "​",
            "style": "IPY_MODEL_95f105dc04924064a513d34e7eae4091",
            "value": " 1174/1174 [00:00&lt;00:00, 4485.13it/s]"
          }
        },
        "2d6abee958f04c8eada32eb0722c3ff2": {
          "model_module": "@jupyter-widgets/base",
          "model_name": "LayoutModel",
          "model_module_version": "1.2.0",
          "state": {
            "_model_module": "@jupyter-widgets/base",
            "_model_module_version": "1.2.0",
            "_model_name": "LayoutModel",
            "_view_count": null,
            "_view_module": "@jupyter-widgets/base",
            "_view_module_version": "1.2.0",
            "_view_name": "LayoutView",
            "align_content": null,
            "align_items": null,
            "align_self": null,
            "border": null,
            "bottom": null,
            "display": null,
            "flex": null,
            "flex_flow": null,
            "grid_area": null,
            "grid_auto_columns": null,
            "grid_auto_flow": null,
            "grid_auto_rows": null,
            "grid_column": null,
            "grid_gap": null,
            "grid_row": null,
            "grid_template_areas": null,
            "grid_template_columns": null,
            "grid_template_rows": null,
            "height": null,
            "justify_content": null,
            "justify_items": null,
            "left": null,
            "margin": null,
            "max_height": null,
            "max_width": null,
            "min_height": null,
            "min_width": null,
            "object_fit": null,
            "object_position": null,
            "order": null,
            "overflow": null,
            "overflow_x": null,
            "overflow_y": null,
            "padding": null,
            "right": null,
            "top": null,
            "visibility": null,
            "width": null
          }
        },
        "769373400bc54ceb9b5a49246c6aaacd": {
          "model_module": "@jupyter-widgets/base",
          "model_name": "LayoutModel",
          "model_module_version": "1.2.0",
          "state": {
            "_model_module": "@jupyter-widgets/base",
            "_model_module_version": "1.2.0",
            "_model_name": "LayoutModel",
            "_view_count": null,
            "_view_module": "@jupyter-widgets/base",
            "_view_module_version": "1.2.0",
            "_view_name": "LayoutView",
            "align_content": null,
            "align_items": null,
            "align_self": null,
            "border": null,
            "bottom": null,
            "display": null,
            "flex": null,
            "flex_flow": null,
            "grid_area": null,
            "grid_auto_columns": null,
            "grid_auto_flow": null,
            "grid_auto_rows": null,
            "grid_column": null,
            "grid_gap": null,
            "grid_row": null,
            "grid_template_areas": null,
            "grid_template_columns": null,
            "grid_template_rows": null,
            "height": null,
            "justify_content": null,
            "justify_items": null,
            "left": null,
            "margin": null,
            "max_height": null,
            "max_width": null,
            "min_height": null,
            "min_width": null,
            "object_fit": null,
            "object_position": null,
            "order": null,
            "overflow": null,
            "overflow_x": null,
            "overflow_y": null,
            "padding": null,
            "right": null,
            "top": null,
            "visibility": null,
            "width": null
          }
        },
        "45bfcaecdd36477fab7ed403043a5905": {
          "model_module": "@jupyter-widgets/controls",
          "model_name": "DescriptionStyleModel",
          "model_module_version": "1.5.0",
          "state": {
            "_model_module": "@jupyter-widgets/controls",
            "_model_module_version": "1.5.0",
            "_model_name": "DescriptionStyleModel",
            "_view_count": null,
            "_view_module": "@jupyter-widgets/base",
            "_view_module_version": "1.2.0",
            "_view_name": "StyleView",
            "description_width": ""
          }
        },
        "134e027d4240436f95a431c822691f51": {
          "model_module": "@jupyter-widgets/base",
          "model_name": "LayoutModel",
          "model_module_version": "1.2.0",
          "state": {
            "_model_module": "@jupyter-widgets/base",
            "_model_module_version": "1.2.0",
            "_model_name": "LayoutModel",
            "_view_count": null,
            "_view_module": "@jupyter-widgets/base",
            "_view_module_version": "1.2.0",
            "_view_name": "LayoutView",
            "align_content": null,
            "align_items": null,
            "align_self": null,
            "border": null,
            "bottom": null,
            "display": null,
            "flex": null,
            "flex_flow": null,
            "grid_area": null,
            "grid_auto_columns": null,
            "grid_auto_flow": null,
            "grid_auto_rows": null,
            "grid_column": null,
            "grid_gap": null,
            "grid_row": null,
            "grid_template_areas": null,
            "grid_template_columns": null,
            "grid_template_rows": null,
            "height": null,
            "justify_content": null,
            "justify_items": null,
            "left": null,
            "margin": null,
            "max_height": null,
            "max_width": null,
            "min_height": null,
            "min_width": null,
            "object_fit": null,
            "object_position": null,
            "order": null,
            "overflow": null,
            "overflow_x": null,
            "overflow_y": null,
            "padding": null,
            "right": null,
            "top": null,
            "visibility": null,
            "width": null
          }
        },
        "5b7127fcab624c978330e771924a5bc8": {
          "model_module": "@jupyter-widgets/controls",
          "model_name": "ProgressStyleModel",
          "model_module_version": "1.5.0",
          "state": {
            "_model_module": "@jupyter-widgets/controls",
            "_model_module_version": "1.5.0",
            "_model_name": "ProgressStyleModel",
            "_view_count": null,
            "_view_module": "@jupyter-widgets/base",
            "_view_module_version": "1.2.0",
            "_view_name": "StyleView",
            "bar_color": null,
            "description_width": ""
          }
        },
        "f3a4f33304c84a1896079aa56656f579": {
          "model_module": "@jupyter-widgets/base",
          "model_name": "LayoutModel",
          "model_module_version": "1.2.0",
          "state": {
            "_model_module": "@jupyter-widgets/base",
            "_model_module_version": "1.2.0",
            "_model_name": "LayoutModel",
            "_view_count": null,
            "_view_module": "@jupyter-widgets/base",
            "_view_module_version": "1.2.0",
            "_view_name": "LayoutView",
            "align_content": null,
            "align_items": null,
            "align_self": null,
            "border": null,
            "bottom": null,
            "display": null,
            "flex": null,
            "flex_flow": null,
            "grid_area": null,
            "grid_auto_columns": null,
            "grid_auto_flow": null,
            "grid_auto_rows": null,
            "grid_column": null,
            "grid_gap": null,
            "grid_row": null,
            "grid_template_areas": null,
            "grid_template_columns": null,
            "grid_template_rows": null,
            "height": null,
            "justify_content": null,
            "justify_items": null,
            "left": null,
            "margin": null,
            "max_height": null,
            "max_width": null,
            "min_height": null,
            "min_width": null,
            "object_fit": null,
            "object_position": null,
            "order": null,
            "overflow": null,
            "overflow_x": null,
            "overflow_y": null,
            "padding": null,
            "right": null,
            "top": null,
            "visibility": null,
            "width": null
          }
        },
        "95f105dc04924064a513d34e7eae4091": {
          "model_module": "@jupyter-widgets/controls",
          "model_name": "DescriptionStyleModel",
          "model_module_version": "1.5.0",
          "state": {
            "_model_module": "@jupyter-widgets/controls",
            "_model_module_version": "1.5.0",
            "_model_name": "DescriptionStyleModel",
            "_view_count": null,
            "_view_module": "@jupyter-widgets/base",
            "_view_module_version": "1.2.0",
            "_view_name": "StyleView",
            "description_width": ""
          }
        }
      }
    }
  },
  "cells": [
    {
      "cell_type": "markdown",
      "source": [
        "# Predicting Stock Market Using Deep Learning\n",
        "\n",
        "We gonna make stock market predictions based on past data\n",
        "\n",
        "In order to achieve a great result, we will use the best available technologies and methods through Deep Learning models\n",
        "\n",
        "## Steps to achieve the prediction\n",
        "\n",
        "1. Scrapping the Stock Market data and Technical indicator data\n",
        "2. Performing Data Processing on Time Series data\n",
        "3. Creating and Training a LSTM Sequential Model on Tensorflow"
      ],
      "metadata": {
        "id": "ENUdBfJ5mYlt"
      }
    },
    {
      "cell_type": "code",
      "metadata": {
        "colab": {
          "base_uri": "https://localhost:8080/"
        },
        "id": "LqYuc8_OBEAu",
        "outputId": "9068e093-3cc8-4d4e-efa9-7e8941bb7413"
      },
      "source": [
        "# How to see the GPU informations\n",
        "!nvidia-smi"
      ],
      "execution_count": 2,
      "outputs": [
        {
          "output_type": "stream",
          "name": "stdout",
          "text": [
            "Sat Oct 15 19:53:25 2022       \n",
            "+-----------------------------------------------------------------------------+\n",
            "| NVIDIA-SMI 460.32.03    Driver Version: 460.32.03    CUDA Version: 11.2     |\n",
            "|-------------------------------+----------------------+----------------------+\n",
            "| GPU  Name        Persistence-M| Bus-Id        Disp.A | Volatile Uncorr. ECC |\n",
            "| Fan  Temp  Perf  Pwr:Usage/Cap|         Memory-Usage | GPU-Util  Compute M. |\n",
            "|                               |                      |               MIG M. |\n",
            "|===============================+======================+======================|\n",
            "|   0  Tesla T4            Off  | 00000000:00:04.0 Off |                    0 |\n",
            "| N/A   33C    P8     9W /  70W |      0MiB / 15109MiB |      0%      Default |\n",
            "|                               |                      |                  N/A |\n",
            "+-------------------------------+----------------------+----------------------+\n",
            "                                                                               \n",
            "+-----------------------------------------------------------------------------+\n",
            "| Processes:                                                                  |\n",
            "|  GPU   GI   CI        PID   Type   Process name                  GPU Memory |\n",
            "|        ID   ID                                                   Usage      |\n",
            "|=============================================================================|\n",
            "|  No running processes found                                                 |\n",
            "+-----------------------------------------------------------------------------+\n"
          ]
        }
      ]
    },
    {
      "cell_type": "code",
      "metadata": {
        "colab": {
          "base_uri": "https://localhost:8080/"
        },
        "id": "fnf5tFgYB2Up",
        "outputId": "4fd4999b-0563-4bdb-fa84-8a0d8a7a737c"
      },
      "source": [
        "# yfinance offers a threaded and Pythonic way to download market data from Yahoo!Ⓡ finance\n",
        "!pip install yfinance"
      ],
      "execution_count": 3,
      "outputs": [
        {
          "output_type": "stream",
          "name": "stdout",
          "text": [
            "Looking in indexes: https://pypi.org/simple, https://us-python.pkg.dev/colab-wheels/public/simple/\n",
            "Collecting yfinance\n",
            "  Downloading yfinance-0.1.77-py2.py3-none-any.whl (28 kB)\n",
            "Collecting requests>=2.26\n",
            "  Downloading requests-2.28.1-py3-none-any.whl (62 kB)\n",
            "\u001b[K     |████████████████████████████████| 62 kB 1.5 MB/s \n",
            "\u001b[?25hRequirement already satisfied: appdirs>=1.4.4 in /usr/local/lib/python3.7/dist-packages (from yfinance) (1.4.4)\n",
            "Requirement already satisfied: lxml>=4.5.1 in /usr/local/lib/python3.7/dist-packages (from yfinance) (4.9.1)\n",
            "Requirement already satisfied: multitasking>=0.0.7 in /usr/local/lib/python3.7/dist-packages (from yfinance) (0.0.11)\n",
            "Requirement already satisfied: numpy>=1.15 in /usr/local/lib/python3.7/dist-packages (from yfinance) (1.21.6)\n",
            "Requirement already satisfied: pandas>=0.24.0 in /usr/local/lib/python3.7/dist-packages (from yfinance) (1.3.5)\n",
            "Requirement already satisfied: python-dateutil>=2.7.3 in /usr/local/lib/python3.7/dist-packages (from pandas>=0.24.0->yfinance) (2.8.2)\n",
            "Requirement already satisfied: pytz>=2017.3 in /usr/local/lib/python3.7/dist-packages (from pandas>=0.24.0->yfinance) (2022.4)\n",
            "Requirement already satisfied: six>=1.5 in /usr/local/lib/python3.7/dist-packages (from python-dateutil>=2.7.3->pandas>=0.24.0->yfinance) (1.15.0)\n",
            "Requirement already satisfied: certifi>=2017.4.17 in /usr/local/lib/python3.7/dist-packages (from requests>=2.26->yfinance) (2022.9.24)\n",
            "Requirement already satisfied: charset-normalizer<3,>=2 in /usr/local/lib/python3.7/dist-packages (from requests>=2.26->yfinance) (2.1.1)\n",
            "Requirement already satisfied: urllib3<1.27,>=1.21.1 in /usr/local/lib/python3.7/dist-packages (from requests>=2.26->yfinance) (1.24.3)\n",
            "Requirement already satisfied: idna<4,>=2.5 in /usr/local/lib/python3.7/dist-packages (from requests>=2.26->yfinance) (2.10)\n",
            "Installing collected packages: requests, yfinance\n",
            "  Attempting uninstall: requests\n",
            "    Found existing installation: requests 2.23.0\n",
            "    Uninstalling requests-2.23.0:\n",
            "      Successfully uninstalled requests-2.23.0\n",
            "Successfully installed requests-2.28.1 yfinance-0.1.77\n"
          ]
        }
      ]
    },
    {
      "cell_type": "code",
      "metadata": {
        "id": "cfmwQ_gDCFtq"
      },
      "source": [
        "# Imports\n",
        "import yfinance as yf\n",
        "import pandas as pd\n",
        "import numpy as np\n",
        "import tensorflow as tf"
      ],
      "execution_count": 4,
      "outputs": []
    },
    {
      "cell_type": "code",
      "metadata": {
        "colab": {
          "base_uri": "https://localhost:8080/"
        },
        "id": "95gc8T56CWCB",
        "outputId": "eb6a7436-6db0-48b6-dfd7-f659b433a383"
      },
      "source": [
        "# Download the stock market data based on a ticker\n",
        "\"\"\"\n",
        "Ticker = TSLA(Tesla), Start = When start the stock Market, Interval = The frequency to fetch data\n",
        "\"\"\" \n",
        "data = yf.download(\"TSLA\" , start = \"2018-01-01\" , interval = '1d')"
      ],
      "execution_count": 65,
      "outputs": [
        {
          "output_type": "stream",
          "name": "stdout",
          "text": [
            "\r[*********************100%***********************]  1 of 1 completed\n"
          ]
        }
      ]
    },
    {
      "cell_type": "code",
      "metadata": {
        "colab": {
          "base_uri": "https://localhost:8080/"
        },
        "id": "j9xRdvljC1mo",
        "outputId": "86be386f-2b7a-4686-a788-3498c644b539"
      },
      "source": [
        "# How much data we have?\n",
        "data.shape"
      ],
      "execution_count": 66,
      "outputs": [
        {
          "output_type": "execute_result",
          "data": {
            "text/plain": [
              "(1206, 6)"
            ]
          },
          "metadata": {},
          "execution_count": 66
        }
      ]
    },
    {
      "cell_type": "code",
      "metadata": {
        "colab": {
          "base_uri": "https://localhost:8080/",
          "height": 175
        },
        "id": "-slvrgexDXv4",
        "outputId": "ee4a636e-dc83-44b5-896e-c02edcf7668f"
      },
      "source": [
        "# Show the first 3 lines\n",
        "data.head(3)"
      ],
      "execution_count": 67,
      "outputs": [
        {
          "output_type": "execute_result",
          "data": {
            "text/plain": [
              "                                Open       High        Low      Close  \\\n",
              "Date                                                                    \n",
              "2018-01-02 00:00:00-05:00  20.799999  21.474001  20.733334  21.368668   \n",
              "2018-01-03 00:00:00-05:00  21.400000  21.683332  21.036667  21.150000   \n",
              "2018-01-04 00:00:00-05:00  20.858000  21.236668  20.378668  20.974667   \n",
              "\n",
              "                           Adj Close     Volume  \n",
              "Date                                             \n",
              "2018-01-02 00:00:00-05:00  21.368668   65283000  \n",
              "2018-01-03 00:00:00-05:00  21.150000   67822500  \n",
              "2018-01-04 00:00:00-05:00  20.974667  149194500  "
            ],
            "text/html": [
              "\n",
              "  <div id=\"df-72b8f12c-489b-4c47-afa6-7679553f05fd\">\n",
              "    <div class=\"colab-df-container\">\n",
              "      <div>\n",
              "<style scoped>\n",
              "    .dataframe tbody tr th:only-of-type {\n",
              "        vertical-align: middle;\n",
              "    }\n",
              "\n",
              "    .dataframe tbody tr th {\n",
              "        vertical-align: top;\n",
              "    }\n",
              "\n",
              "    .dataframe thead th {\n",
              "        text-align: right;\n",
              "    }\n",
              "</style>\n",
              "<table border=\"1\" class=\"dataframe\">\n",
              "  <thead>\n",
              "    <tr style=\"text-align: right;\">\n",
              "      <th></th>\n",
              "      <th>Open</th>\n",
              "      <th>High</th>\n",
              "      <th>Low</th>\n",
              "      <th>Close</th>\n",
              "      <th>Adj Close</th>\n",
              "      <th>Volume</th>\n",
              "    </tr>\n",
              "    <tr>\n",
              "      <th>Date</th>\n",
              "      <th></th>\n",
              "      <th></th>\n",
              "      <th></th>\n",
              "      <th></th>\n",
              "      <th></th>\n",
              "      <th></th>\n",
              "    </tr>\n",
              "  </thead>\n",
              "  <tbody>\n",
              "    <tr>\n",
              "      <th>2018-01-02 00:00:00-05:00</th>\n",
              "      <td>20.799999</td>\n",
              "      <td>21.474001</td>\n",
              "      <td>20.733334</td>\n",
              "      <td>21.368668</td>\n",
              "      <td>21.368668</td>\n",
              "      <td>65283000</td>\n",
              "    </tr>\n",
              "    <tr>\n",
              "      <th>2018-01-03 00:00:00-05:00</th>\n",
              "      <td>21.400000</td>\n",
              "      <td>21.683332</td>\n",
              "      <td>21.036667</td>\n",
              "      <td>21.150000</td>\n",
              "      <td>21.150000</td>\n",
              "      <td>67822500</td>\n",
              "    </tr>\n",
              "    <tr>\n",
              "      <th>2018-01-04 00:00:00-05:00</th>\n",
              "      <td>20.858000</td>\n",
              "      <td>21.236668</td>\n",
              "      <td>20.378668</td>\n",
              "      <td>20.974667</td>\n",
              "      <td>20.974667</td>\n",
              "      <td>149194500</td>\n",
              "    </tr>\n",
              "  </tbody>\n",
              "</table>\n",
              "</div>\n",
              "      <button class=\"colab-df-convert\" onclick=\"convertToInteractive('df-72b8f12c-489b-4c47-afa6-7679553f05fd')\"\n",
              "              title=\"Convert this dataframe to an interactive table.\"\n",
              "              style=\"display:none;\">\n",
              "        \n",
              "  <svg xmlns=\"http://www.w3.org/2000/svg\" height=\"24px\"viewBox=\"0 0 24 24\"\n",
              "       width=\"24px\">\n",
              "    <path d=\"M0 0h24v24H0V0z\" fill=\"none\"/>\n",
              "    <path d=\"M18.56 5.44l.94 2.06.94-2.06 2.06-.94-2.06-.94-.94-2.06-.94 2.06-2.06.94zm-11 1L8.5 8.5l.94-2.06 2.06-.94-2.06-.94L8.5 2.5l-.94 2.06-2.06.94zm10 10l.94 2.06.94-2.06 2.06-.94-2.06-.94-.94-2.06-.94 2.06-2.06.94z\"/><path d=\"M17.41 7.96l-1.37-1.37c-.4-.4-.92-.59-1.43-.59-.52 0-1.04.2-1.43.59L10.3 9.45l-7.72 7.72c-.78.78-.78 2.05 0 2.83L4 21.41c.39.39.9.59 1.41.59.51 0 1.02-.2 1.41-.59l7.78-7.78 2.81-2.81c.8-.78.8-2.07 0-2.86zM5.41 20L4 18.59l7.72-7.72 1.47 1.35L5.41 20z\"/>\n",
              "  </svg>\n",
              "      </button>\n",
              "      \n",
              "  <style>\n",
              "    .colab-df-container {\n",
              "      display:flex;\n",
              "      flex-wrap:wrap;\n",
              "      gap: 12px;\n",
              "    }\n",
              "\n",
              "    .colab-df-convert {\n",
              "      background-color: #E8F0FE;\n",
              "      border: none;\n",
              "      border-radius: 50%;\n",
              "      cursor: pointer;\n",
              "      display: none;\n",
              "      fill: #1967D2;\n",
              "      height: 32px;\n",
              "      padding: 0 0 0 0;\n",
              "      width: 32px;\n",
              "    }\n",
              "\n",
              "    .colab-df-convert:hover {\n",
              "      background-color: #E2EBFA;\n",
              "      box-shadow: 0px 1px 2px rgba(60, 64, 67, 0.3), 0px 1px 3px 1px rgba(60, 64, 67, 0.15);\n",
              "      fill: #174EA6;\n",
              "    }\n",
              "\n",
              "    [theme=dark] .colab-df-convert {\n",
              "      background-color: #3B4455;\n",
              "      fill: #D2E3FC;\n",
              "    }\n",
              "\n",
              "    [theme=dark] .colab-df-convert:hover {\n",
              "      background-color: #434B5C;\n",
              "      box-shadow: 0px 1px 3px 1px rgba(0, 0, 0, 0.15);\n",
              "      filter: drop-shadow(0px 1px 2px rgba(0, 0, 0, 0.3));\n",
              "      fill: #FFFFFF;\n",
              "    }\n",
              "  </style>\n",
              "\n",
              "      <script>\n",
              "        const buttonEl =\n",
              "          document.querySelector('#df-72b8f12c-489b-4c47-afa6-7679553f05fd button.colab-df-convert');\n",
              "        buttonEl.style.display =\n",
              "          google.colab.kernel.accessAllowed ? 'block' : 'none';\n",
              "\n",
              "        async function convertToInteractive(key) {\n",
              "          const element = document.querySelector('#df-72b8f12c-489b-4c47-afa6-7679553f05fd');\n",
              "          const dataTable =\n",
              "            await google.colab.kernel.invokeFunction('convertToInteractive',\n",
              "                                                     [key], {});\n",
              "          if (!dataTable) return;\n",
              "\n",
              "          const docLinkHtml = 'Like what you see? Visit the ' +\n",
              "            '<a target=\"_blank\" href=https://colab.research.google.com/notebooks/data_table.ipynb>data table notebook</a>'\n",
              "            + ' to learn more about interactive tables.';\n",
              "          element.innerHTML = '';\n",
              "          dataTable['output_type'] = 'display_data';\n",
              "          await google.colab.output.renderOutput(dataTable, element);\n",
              "          const docLink = document.createElement('div');\n",
              "          docLink.innerHTML = docLinkHtml;\n",
              "          element.appendChild(docLink);\n",
              "        }\n",
              "      </script>\n",
              "    </div>\n",
              "  </div>\n",
              "  "
            ]
          },
          "metadata": {},
          "execution_count": 67
        }
      ]
    },
    {
      "cell_type": "markdown",
      "metadata": {
        "id": "gNCCd3-vQTI1"
      },
      "source": [
        "## Understanding Trends with in the Data"
      ]
    },
    {
      "cell_type": "code",
      "metadata": {
        "id": "OJ0qcUChQbbV"
      },
      "source": [
        "# Sort the data points based on indexes just for confirmation\n",
        "data.sort_index(inplace = True)"
      ],
      "execution_count": 68,
      "outputs": []
    },
    {
      "cell_type": "code",
      "metadata": {
        "id": "N65G-E4XQ1k-"
      },
      "source": [
        "# Remove any duplicated index\n",
        "data = data.loc[~data.index.duplicated(keep='first')]"
      ],
      "execution_count": 69,
      "outputs": []
    },
    {
      "cell_type": "code",
      "metadata": {
        "colab": {
          "base_uri": "https://localhost:8080/",
          "height": 175
        },
        "id": "zlVJE6P2RDhN",
        "outputId": "9b93173d-edb6-4e72-8a18-bb47c89ac2bc"
      },
      "source": [
        "# Show the last 3 lines\n",
        "data.tail(3)"
      ],
      "execution_count": 70,
      "outputs": [
        {
          "output_type": "execute_result",
          "data": {
            "text/plain": [
              "                                 Open        High         Low       Close  \\\n",
              "Date                                                                        \n",
              "2022-10-12 00:00:00-04:00  215.330002  219.300003  211.509995  217.240005   \n",
              "2022-10-13 00:00:00-04:00  208.300003  222.990005  206.220001  221.720001   \n",
              "2022-10-14 00:00:00-04:00  224.009995  226.259995  204.160004  204.990005   \n",
              "\n",
              "                            Adj Close    Volume  \n",
              "Date                                             \n",
              "2022-10-12 00:00:00-04:00  217.240005  66860700  \n",
              "2022-10-13 00:00:00-04:00  221.720001  91483000  \n",
              "2022-10-14 00:00:00-04:00  204.990005  93898700  "
            ],
            "text/html": [
              "\n",
              "  <div id=\"df-7a0fff73-eb5c-4b32-a885-423275df5afe\">\n",
              "    <div class=\"colab-df-container\">\n",
              "      <div>\n",
              "<style scoped>\n",
              "    .dataframe tbody tr th:only-of-type {\n",
              "        vertical-align: middle;\n",
              "    }\n",
              "\n",
              "    .dataframe tbody tr th {\n",
              "        vertical-align: top;\n",
              "    }\n",
              "\n",
              "    .dataframe thead th {\n",
              "        text-align: right;\n",
              "    }\n",
              "</style>\n",
              "<table border=\"1\" class=\"dataframe\">\n",
              "  <thead>\n",
              "    <tr style=\"text-align: right;\">\n",
              "      <th></th>\n",
              "      <th>Open</th>\n",
              "      <th>High</th>\n",
              "      <th>Low</th>\n",
              "      <th>Close</th>\n",
              "      <th>Adj Close</th>\n",
              "      <th>Volume</th>\n",
              "    </tr>\n",
              "    <tr>\n",
              "      <th>Date</th>\n",
              "      <th></th>\n",
              "      <th></th>\n",
              "      <th></th>\n",
              "      <th></th>\n",
              "      <th></th>\n",
              "      <th></th>\n",
              "    </tr>\n",
              "  </thead>\n",
              "  <tbody>\n",
              "    <tr>\n",
              "      <th>2022-10-12 00:00:00-04:00</th>\n",
              "      <td>215.330002</td>\n",
              "      <td>219.300003</td>\n",
              "      <td>211.509995</td>\n",
              "      <td>217.240005</td>\n",
              "      <td>217.240005</td>\n",
              "      <td>66860700</td>\n",
              "    </tr>\n",
              "    <tr>\n",
              "      <th>2022-10-13 00:00:00-04:00</th>\n",
              "      <td>208.300003</td>\n",
              "      <td>222.990005</td>\n",
              "      <td>206.220001</td>\n",
              "      <td>221.720001</td>\n",
              "      <td>221.720001</td>\n",
              "      <td>91483000</td>\n",
              "    </tr>\n",
              "    <tr>\n",
              "      <th>2022-10-14 00:00:00-04:00</th>\n",
              "      <td>224.009995</td>\n",
              "      <td>226.259995</td>\n",
              "      <td>204.160004</td>\n",
              "      <td>204.990005</td>\n",
              "      <td>204.990005</td>\n",
              "      <td>93898700</td>\n",
              "    </tr>\n",
              "  </tbody>\n",
              "</table>\n",
              "</div>\n",
              "      <button class=\"colab-df-convert\" onclick=\"convertToInteractive('df-7a0fff73-eb5c-4b32-a885-423275df5afe')\"\n",
              "              title=\"Convert this dataframe to an interactive table.\"\n",
              "              style=\"display:none;\">\n",
              "        \n",
              "  <svg xmlns=\"http://www.w3.org/2000/svg\" height=\"24px\"viewBox=\"0 0 24 24\"\n",
              "       width=\"24px\">\n",
              "    <path d=\"M0 0h24v24H0V0z\" fill=\"none\"/>\n",
              "    <path d=\"M18.56 5.44l.94 2.06.94-2.06 2.06-.94-2.06-.94-.94-2.06-.94 2.06-2.06.94zm-11 1L8.5 8.5l.94-2.06 2.06-.94-2.06-.94L8.5 2.5l-.94 2.06-2.06.94zm10 10l.94 2.06.94-2.06 2.06-.94-2.06-.94-.94-2.06-.94 2.06-2.06.94z\"/><path d=\"M17.41 7.96l-1.37-1.37c-.4-.4-.92-.59-1.43-.59-.52 0-1.04.2-1.43.59L10.3 9.45l-7.72 7.72c-.78.78-.78 2.05 0 2.83L4 21.41c.39.39.9.59 1.41.59.51 0 1.02-.2 1.41-.59l7.78-7.78 2.81-2.81c.8-.78.8-2.07 0-2.86zM5.41 20L4 18.59l7.72-7.72 1.47 1.35L5.41 20z\"/>\n",
              "  </svg>\n",
              "      </button>\n",
              "      \n",
              "  <style>\n",
              "    .colab-df-container {\n",
              "      display:flex;\n",
              "      flex-wrap:wrap;\n",
              "      gap: 12px;\n",
              "    }\n",
              "\n",
              "    .colab-df-convert {\n",
              "      background-color: #E8F0FE;\n",
              "      border: none;\n",
              "      border-radius: 50%;\n",
              "      cursor: pointer;\n",
              "      display: none;\n",
              "      fill: #1967D2;\n",
              "      height: 32px;\n",
              "      padding: 0 0 0 0;\n",
              "      width: 32px;\n",
              "    }\n",
              "\n",
              "    .colab-df-convert:hover {\n",
              "      background-color: #E2EBFA;\n",
              "      box-shadow: 0px 1px 2px rgba(60, 64, 67, 0.3), 0px 1px 3px 1px rgba(60, 64, 67, 0.15);\n",
              "      fill: #174EA6;\n",
              "    }\n",
              "\n",
              "    [theme=dark] .colab-df-convert {\n",
              "      background-color: #3B4455;\n",
              "      fill: #D2E3FC;\n",
              "    }\n",
              "\n",
              "    [theme=dark] .colab-df-convert:hover {\n",
              "      background-color: #434B5C;\n",
              "      box-shadow: 0px 1px 3px 1px rgba(0, 0, 0, 0.15);\n",
              "      filter: drop-shadow(0px 1px 2px rgba(0, 0, 0, 0.3));\n",
              "      fill: #FFFFFF;\n",
              "    }\n",
              "  </style>\n",
              "\n",
              "      <script>\n",
              "        const buttonEl =\n",
              "          document.querySelector('#df-7a0fff73-eb5c-4b32-a885-423275df5afe button.colab-df-convert');\n",
              "        buttonEl.style.display =\n",
              "          google.colab.kernel.accessAllowed ? 'block' : 'none';\n",
              "\n",
              "        async function convertToInteractive(key) {\n",
              "          const element = document.querySelector('#df-7a0fff73-eb5c-4b32-a885-423275df5afe');\n",
              "          const dataTable =\n",
              "            await google.colab.kernel.invokeFunction('convertToInteractive',\n",
              "                                                     [key], {});\n",
              "          if (!dataTable) return;\n",
              "\n",
              "          const docLinkHtml = 'Like what you see? Visit the ' +\n",
              "            '<a target=\"_blank\" href=https://colab.research.google.com/notebooks/data_table.ipynb>data table notebook</a>'\n",
              "            + ' to learn more about interactive tables.';\n",
              "          element.innerHTML = '';\n",
              "          dataTable['output_type'] = 'display_data';\n",
              "          await google.colab.output.renderOutput(dataTable, element);\n",
              "          const docLink = document.createElement('div');\n",
              "          docLink.innerHTML = docLinkHtml;\n",
              "          element.appendChild(docLink);\n",
              "        }\n",
              "      </script>\n",
              "    </div>\n",
              "  </div>\n",
              "  "
            ]
          },
          "metadata": {},
          "execution_count": 70
        }
      ]
    },
    {
      "cell_type": "code",
      "metadata": {
        "colab": {
          "base_uri": "https://localhost:8080/"
        },
        "id": "3FWKvV05RH2o",
        "outputId": "49ad787d-0a3b-4397-997f-8bcde1a2c159"
      },
      "source": [
        "# Check missing values in the data\n",
        "data.isnull().sum()"
      ],
      "execution_count": 71,
      "outputs": [
        {
          "output_type": "execute_result",
          "data": {
            "text/plain": [
              "Open         0\n",
              "High         0\n",
              "Low          0\n",
              "Close        0\n",
              "Adj Close    0\n",
              "Volume       0\n",
              "dtype: int64"
            ]
          },
          "metadata": {},
          "execution_count": 71
        }
      ]
    },
    {
      "cell_type": "code",
      "metadata": {
        "colab": {
          "base_uri": "https://localhost:8080/",
          "height": 300
        },
        "id": "7y7yZIZ5RRPb",
        "outputId": "987d7ada-ca09-487b-d548-5a688e701444"
      },
      "source": [
        "# Show some statistics about the dataset\n",
        "data.describe()"
      ],
      "execution_count": 72,
      "outputs": [
        {
          "output_type": "execute_result",
          "data": {
            "text/plain": [
              "              Open         High          Low        Close    Adj Close  \\\n",
              "count  1206.000000  1206.000000  1206.000000  1206.000000  1206.000000   \n",
              "mean    129.645696   132.635773   126.380986   129.573764   129.573764   \n",
              "std     119.904423   122.615973   116.822271   119.724988   119.724988   \n",
              "min      12.073333    12.445333    11.799333    11.931333    11.931333   \n",
              "25%      20.861334    21.237501    20.388168    20.866333    20.866333   \n",
              "50%      57.861334    59.409000    56.265999    58.198000    58.198000   \n",
              "75%     237.822498   243.611668   233.620831   238.077503   238.077503   \n",
              "max     411.470001   414.496674   405.666656   409.970001   409.970001   \n",
              "\n",
              "             Volume  \n",
              "count  1.206000e+03  \n",
              "mean   1.335097e+08  \n",
              "std    9.154846e+07  \n",
              "min    2.940180e+07  \n",
              "25%    7.576275e+07  \n",
              "50%    1.025710e+08  \n",
              "75%    1.553078e+08  \n",
              "max    9.140820e+08  "
            ],
            "text/html": [
              "\n",
              "  <div id=\"df-69174cd2-6c2c-43e5-97c8-a6e5273e6145\">\n",
              "    <div class=\"colab-df-container\">\n",
              "      <div>\n",
              "<style scoped>\n",
              "    .dataframe tbody tr th:only-of-type {\n",
              "        vertical-align: middle;\n",
              "    }\n",
              "\n",
              "    .dataframe tbody tr th {\n",
              "        vertical-align: top;\n",
              "    }\n",
              "\n",
              "    .dataframe thead th {\n",
              "        text-align: right;\n",
              "    }\n",
              "</style>\n",
              "<table border=\"1\" class=\"dataframe\">\n",
              "  <thead>\n",
              "    <tr style=\"text-align: right;\">\n",
              "      <th></th>\n",
              "      <th>Open</th>\n",
              "      <th>High</th>\n",
              "      <th>Low</th>\n",
              "      <th>Close</th>\n",
              "      <th>Adj Close</th>\n",
              "      <th>Volume</th>\n",
              "    </tr>\n",
              "  </thead>\n",
              "  <tbody>\n",
              "    <tr>\n",
              "      <th>count</th>\n",
              "      <td>1206.000000</td>\n",
              "      <td>1206.000000</td>\n",
              "      <td>1206.000000</td>\n",
              "      <td>1206.000000</td>\n",
              "      <td>1206.000000</td>\n",
              "      <td>1.206000e+03</td>\n",
              "    </tr>\n",
              "    <tr>\n",
              "      <th>mean</th>\n",
              "      <td>129.645696</td>\n",
              "      <td>132.635773</td>\n",
              "      <td>126.380986</td>\n",
              "      <td>129.573764</td>\n",
              "      <td>129.573764</td>\n",
              "      <td>1.335097e+08</td>\n",
              "    </tr>\n",
              "    <tr>\n",
              "      <th>std</th>\n",
              "      <td>119.904423</td>\n",
              "      <td>122.615973</td>\n",
              "      <td>116.822271</td>\n",
              "      <td>119.724988</td>\n",
              "      <td>119.724988</td>\n",
              "      <td>9.154846e+07</td>\n",
              "    </tr>\n",
              "    <tr>\n",
              "      <th>min</th>\n",
              "      <td>12.073333</td>\n",
              "      <td>12.445333</td>\n",
              "      <td>11.799333</td>\n",
              "      <td>11.931333</td>\n",
              "      <td>11.931333</td>\n",
              "      <td>2.940180e+07</td>\n",
              "    </tr>\n",
              "    <tr>\n",
              "      <th>25%</th>\n",
              "      <td>20.861334</td>\n",
              "      <td>21.237501</td>\n",
              "      <td>20.388168</td>\n",
              "      <td>20.866333</td>\n",
              "      <td>20.866333</td>\n",
              "      <td>7.576275e+07</td>\n",
              "    </tr>\n",
              "    <tr>\n",
              "      <th>50%</th>\n",
              "      <td>57.861334</td>\n",
              "      <td>59.409000</td>\n",
              "      <td>56.265999</td>\n",
              "      <td>58.198000</td>\n",
              "      <td>58.198000</td>\n",
              "      <td>1.025710e+08</td>\n",
              "    </tr>\n",
              "    <tr>\n",
              "      <th>75%</th>\n",
              "      <td>237.822498</td>\n",
              "      <td>243.611668</td>\n",
              "      <td>233.620831</td>\n",
              "      <td>238.077503</td>\n",
              "      <td>238.077503</td>\n",
              "      <td>1.553078e+08</td>\n",
              "    </tr>\n",
              "    <tr>\n",
              "      <th>max</th>\n",
              "      <td>411.470001</td>\n",
              "      <td>414.496674</td>\n",
              "      <td>405.666656</td>\n",
              "      <td>409.970001</td>\n",
              "      <td>409.970001</td>\n",
              "      <td>9.140820e+08</td>\n",
              "    </tr>\n",
              "  </tbody>\n",
              "</table>\n",
              "</div>\n",
              "      <button class=\"colab-df-convert\" onclick=\"convertToInteractive('df-69174cd2-6c2c-43e5-97c8-a6e5273e6145')\"\n",
              "              title=\"Convert this dataframe to an interactive table.\"\n",
              "              style=\"display:none;\">\n",
              "        \n",
              "  <svg xmlns=\"http://www.w3.org/2000/svg\" height=\"24px\"viewBox=\"0 0 24 24\"\n",
              "       width=\"24px\">\n",
              "    <path d=\"M0 0h24v24H0V0z\" fill=\"none\"/>\n",
              "    <path d=\"M18.56 5.44l.94 2.06.94-2.06 2.06-.94-2.06-.94-.94-2.06-.94 2.06-2.06.94zm-11 1L8.5 8.5l.94-2.06 2.06-.94-2.06-.94L8.5 2.5l-.94 2.06-2.06.94zm10 10l.94 2.06.94-2.06 2.06-.94-2.06-.94-.94-2.06-.94 2.06-2.06.94z\"/><path d=\"M17.41 7.96l-1.37-1.37c-.4-.4-.92-.59-1.43-.59-.52 0-1.04.2-1.43.59L10.3 9.45l-7.72 7.72c-.78.78-.78 2.05 0 2.83L4 21.41c.39.39.9.59 1.41.59.51 0 1.02-.2 1.41-.59l7.78-7.78 2.81-2.81c.8-.78.8-2.07 0-2.86zM5.41 20L4 18.59l7.72-7.72 1.47 1.35L5.41 20z\"/>\n",
              "  </svg>\n",
              "      </button>\n",
              "      \n",
              "  <style>\n",
              "    .colab-df-container {\n",
              "      display:flex;\n",
              "      flex-wrap:wrap;\n",
              "      gap: 12px;\n",
              "    }\n",
              "\n",
              "    .colab-df-convert {\n",
              "      background-color: #E8F0FE;\n",
              "      border: none;\n",
              "      border-radius: 50%;\n",
              "      cursor: pointer;\n",
              "      display: none;\n",
              "      fill: #1967D2;\n",
              "      height: 32px;\n",
              "      padding: 0 0 0 0;\n",
              "      width: 32px;\n",
              "    }\n",
              "\n",
              "    .colab-df-convert:hover {\n",
              "      background-color: #E2EBFA;\n",
              "      box-shadow: 0px 1px 2px rgba(60, 64, 67, 0.3), 0px 1px 3px 1px rgba(60, 64, 67, 0.15);\n",
              "      fill: #174EA6;\n",
              "    }\n",
              "\n",
              "    [theme=dark] .colab-df-convert {\n",
              "      background-color: #3B4455;\n",
              "      fill: #D2E3FC;\n",
              "    }\n",
              "\n",
              "    [theme=dark] .colab-df-convert:hover {\n",
              "      background-color: #434B5C;\n",
              "      box-shadow: 0px 1px 3px 1px rgba(0, 0, 0, 0.15);\n",
              "      filter: drop-shadow(0px 1px 2px rgba(0, 0, 0, 0.3));\n",
              "      fill: #FFFFFF;\n",
              "    }\n",
              "  </style>\n",
              "\n",
              "      <script>\n",
              "        const buttonEl =\n",
              "          document.querySelector('#df-69174cd2-6c2c-43e5-97c8-a6e5273e6145 button.colab-df-convert');\n",
              "        buttonEl.style.display =\n",
              "          google.colab.kernel.accessAllowed ? 'block' : 'none';\n",
              "\n",
              "        async function convertToInteractive(key) {\n",
              "          const element = document.querySelector('#df-69174cd2-6c2c-43e5-97c8-a6e5273e6145');\n",
              "          const dataTable =\n",
              "            await google.colab.kernel.invokeFunction('convertToInteractive',\n",
              "                                                     [key], {});\n",
              "          if (!dataTable) return;\n",
              "\n",
              "          const docLinkHtml = 'Like what you see? Visit the ' +\n",
              "            '<a target=\"_blank\" href=https://colab.research.google.com/notebooks/data_table.ipynb>data table notebook</a>'\n",
              "            + ' to learn more about interactive tables.';\n",
              "          element.innerHTML = '';\n",
              "          dataTable['output_type'] = 'display_data';\n",
              "          await google.colab.output.renderOutput(dataTable, element);\n",
              "          const docLink = document.createElement('div');\n",
              "          docLink.innerHTML = docLinkHtml;\n",
              "          element.appendChild(docLink);\n",
              "        }\n",
              "      </script>\n",
              "    </div>\n",
              "  </div>\n",
              "  "
            ]
          },
          "metadata": {},
          "execution_count": 72
        }
      ]
    },
    {
      "cell_type": "markdown",
      "source": [
        "### Lets Plot data with Plotly"
      ],
      "metadata": {
        "id": "cGdFOFBg2KGe"
      }
    },
    {
      "cell_type": "code",
      "metadata": {
        "colab": {
          "base_uri": "https://localhost:8080/",
          "height": 517
        },
        "id": "qx4vsvOARd6a",
        "outputId": "b2cfeb03-fb76-4629-978b-3aa992bc51cf"
      },
      "source": [
        "import plotly.graph_objects as go\n",
        "# Check the trend in Closing Values\n",
        "\n",
        "fig = go.Figure()\n",
        "\n",
        "fig.add_trace(go.Scatter(x = data.index, y = data['Close'], mode = 'lines'))\n",
        "fig.update_layout(height = 500, width = 900,\n",
        "                  xaxis_title = 'Date', yaxis_title = 'Close')\n",
        "fig.show()"
      ],
      "execution_count": 73,
      "outputs": [
        {
          "output_type": "display_data",
          "data": {
            "text/html": [
              "<html>\n",
              "<head><meta charset=\"utf-8\" /></head>\n",
              "<body>\n",
              "    <div>            <script src=\"https://cdnjs.cloudflare.com/ajax/libs/mathjax/2.7.5/MathJax.js?config=TeX-AMS-MML_SVG\"></script><script type=\"text/javascript\">if (window.MathJax) {MathJax.Hub.Config({SVG: {font: \"STIX-Web\"}});}</script>                <script type=\"text/javascript\">window.PlotlyConfig = {MathJaxConfig: 'local'};</script>\n",
              "        <script src=\"https://cdn.plot.ly/plotly-2.8.3.min.js\"></script>                <div id=\"b01d6f02-c1e7-4a08-b51d-7da63aba30aa\" class=\"plotly-graph-div\" style=\"height:500px; width:900px;\"></div>            <script type=\"text/javascript\">                                    window.PLOTLYENV=window.PLOTLYENV || {};                                    if (document.getElementById(\"b01d6f02-c1e7-4a08-b51d-7da63aba30aa\")) {                    Plotly.newPlot(                        \"b01d6f02-c1e7-4a08-b51d-7da63aba30aa\",                        [{\"mode\":\"lines\",\"x\":[\"2018-01-02T00:00:00-05:00\",\"2018-01-03T00:00:00-05:00\",\"2018-01-04T00:00:00-05:00\",\"2018-01-05T00:00:00-05:00\",\"2018-01-08T00:00:00-05:00\",\"2018-01-09T00:00:00-05:00\",\"2018-01-10T00:00:00-05:00\",\"2018-01-11T00:00:00-05:00\",\"2018-01-12T00:00:00-05:00\",\"2018-01-16T00:00:00-05:00\",\"2018-01-17T00:00:00-05:00\",\"2018-01-18T00:00:00-05:00\",\"2018-01-19T00:00:00-05:00\",\"2018-01-22T00:00:00-05:00\",\"2018-01-23T00:00:00-05:00\",\"2018-01-24T00:00:00-05:00\",\"2018-01-25T00:00:00-05:00\",\"2018-01-26T00:00:00-05:00\",\"2018-01-29T00:00:00-05:00\",\"2018-01-30T00:00:00-05:00\",\"2018-01-31T00:00:00-05:00\",\"2018-02-01T00:00:00-05:00\",\"2018-02-02T00:00:00-05:00\",\"2018-02-05T00:00:00-05:00\",\"2018-02-06T00:00:00-05:00\",\"2018-02-07T00:00:00-05:00\",\"2018-02-08T00:00:00-05:00\",\"2018-02-09T00:00:00-05:00\",\"2018-02-12T00:00:00-05:00\",\"2018-02-13T00:00:00-05:00\",\"2018-02-14T00:00:00-05:00\",\"2018-02-15T00:00:00-05:00\",\"2018-02-16T00:00:00-05:00\",\"2018-02-20T00:00:00-05:00\",\"2018-02-21T00:00:00-05:00\",\"2018-02-22T00:00:00-05:00\",\"2018-02-23T00:00:00-05:00\",\"2018-02-26T00:00:00-05:00\",\"2018-02-27T00:00:00-05:00\",\"2018-02-28T00:00:00-05:00\",\"2018-03-01T00:00:00-05:00\",\"2018-03-02T00:00:00-05:00\",\"2018-03-05T00:00:00-05:00\",\"2018-03-06T00:00:00-05:00\",\"2018-03-07T00:00:00-05:00\",\"2018-03-08T00:00:00-05:00\",\"2018-03-09T00:00:00-05:00\",\"2018-03-12T00:00:00-04:00\",\"2018-03-13T00:00:00-04:00\",\"2018-03-14T00:00:00-04:00\",\"2018-03-15T00:00:00-04:00\",\"2018-03-16T00:00:00-04:00\",\"2018-03-19T00:00:00-04:00\",\"2018-03-20T00:00:00-04:00\",\"2018-03-21T00:00:00-04:00\",\"2018-03-22T00:00:00-04:00\",\"2018-03-23T00:00:00-04:00\",\"2018-03-26T00:00:00-04:00\",\"2018-03-27T00:00:00-04:00\",\"2018-03-28T00:00:00-04:00\",\"2018-03-29T00:00:00-04:00\",\"2018-04-02T00:00:00-04:00\",\"2018-04-03T00:00:00-04:00\",\"2018-04-04T00:00:00-04:00\",\"2018-04-05T00:00:00-04:00\",\"2018-04-06T00:00:00-04:00\",\"2018-04-09T00:00:00-04:00\",\"2018-04-10T00:00:00-04:00\",\"2018-04-11T00:00:00-04:00\",\"2018-04-12T00:00:00-04:00\",\"2018-04-13T00:00:00-04:00\",\"2018-04-16T00:00:00-04:00\",\"2018-04-17T00:00:00-04:00\",\"2018-04-18T00:00:00-04:00\",\"2018-04-19T00:00:00-04:00\",\"2018-04-20T00:00:00-04:00\",\"2018-04-23T00:00:00-04:00\",\"2018-04-24T00:00:00-04:00\",\"2018-04-25T00:00:00-04:00\",\"2018-04-26T00:00:00-04:00\",\"2018-04-27T00:00:00-04:00\",\"2018-04-30T00:00:00-04:00\",\"2018-05-01T00:00:00-04:00\",\"2018-05-02T00:00:00-04:00\",\"2018-05-03T00:00:00-04:00\",\"2018-05-04T00:00:00-04:00\",\"2018-05-07T00:00:00-04:00\",\"2018-05-08T00:00:00-04:00\",\"2018-05-09T00:00:00-04:00\",\"2018-05-10T00:00:00-04:00\",\"2018-05-11T00:00:00-04:00\",\"2018-05-14T00:00:00-04:00\",\"2018-05-15T00:00:00-04:00\",\"2018-05-16T00:00:00-04:00\",\"2018-05-17T00:00:00-04:00\",\"2018-05-18T00:00:00-04:00\",\"2018-05-21T00:00:00-04:00\",\"2018-05-22T00:00:00-04:00\",\"2018-05-23T00:00:00-04:00\",\"2018-05-24T00:00:00-04:00\",\"2018-05-25T00:00:00-04:00\",\"2018-05-29T00:00:00-04:00\",\"2018-05-30T00:00:00-04:00\",\"2018-05-31T00:00:00-04:00\",\"2018-06-01T00:00:00-04:00\",\"2018-06-04T00:00:00-04:00\",\"2018-06-05T00:00:00-04:00\",\"2018-06-06T00:00:00-04:00\",\"2018-06-07T00:00:00-04:00\",\"2018-06-08T00:00:00-04:00\",\"2018-06-11T00:00:00-04:00\",\"2018-06-12T00:00:00-04:00\",\"2018-06-13T00:00:00-04:00\",\"2018-06-14T00:00:00-04:00\",\"2018-06-15T00:00:00-04:00\",\"2018-06-18T00:00:00-04:00\",\"2018-06-19T00:00:00-04:00\",\"2018-06-20T00:00:00-04:00\",\"2018-06-21T00:00:00-04:00\",\"2018-06-22T00:00:00-04:00\",\"2018-06-25T00:00:00-04:00\",\"2018-06-26T00:00:00-04:00\",\"2018-06-27T00:00:00-04:00\",\"2018-06-28T00:00:00-04:00\",\"2018-06-29T00:00:00-04:00\",\"2018-07-02T00:00:00-04:00\",\"2018-07-03T00:00:00-04:00\",\"2018-07-05T00:00:00-04:00\",\"2018-07-06T00:00:00-04:00\",\"2018-07-09T00:00:00-04:00\",\"2018-07-10T00:00:00-04:00\",\"2018-07-11T00:00:00-04:00\",\"2018-07-12T00:00:00-04:00\",\"2018-07-13T00:00:00-04:00\",\"2018-07-16T00:00:00-04:00\",\"2018-07-17T00:00:00-04:00\",\"2018-07-18T00:00:00-04:00\",\"2018-07-19T00:00:00-04:00\",\"2018-07-20T00:00:00-04:00\",\"2018-07-23T00:00:00-04:00\",\"2018-07-24T00:00:00-04:00\",\"2018-07-25T00:00:00-04:00\",\"2018-07-26T00:00:00-04:00\",\"2018-07-27T00:00:00-04:00\",\"2018-07-30T00:00:00-04:00\",\"2018-07-31T00:00:00-04:00\",\"2018-08-01T00:00:00-04:00\",\"2018-08-02T00:00:00-04:00\",\"2018-08-03T00:00:00-04:00\",\"2018-08-06T00:00:00-04:00\",\"2018-08-07T00:00:00-04:00\",\"2018-08-08T00:00:00-04:00\",\"2018-08-09T00:00:00-04:00\",\"2018-08-10T00:00:00-04:00\",\"2018-08-13T00:00:00-04:00\",\"2018-08-14T00:00:00-04:00\",\"2018-08-15T00:00:00-04:00\",\"2018-08-16T00:00:00-04:00\",\"2018-08-17T00:00:00-04:00\",\"2018-08-20T00:00:00-04:00\",\"2018-08-21T00:00:00-04:00\",\"2018-08-22T00:00:00-04:00\",\"2018-08-23T00:00:00-04:00\",\"2018-08-24T00:00:00-04:00\",\"2018-08-27T00:00:00-04:00\",\"2018-08-28T00:00:00-04:00\",\"2018-08-29T00:00:00-04:00\",\"2018-08-30T00:00:00-04:00\",\"2018-08-31T00:00:00-04:00\",\"2018-09-04T00:00:00-04:00\",\"2018-09-05T00:00:00-04:00\",\"2018-09-06T00:00:00-04:00\",\"2018-09-07T00:00:00-04:00\",\"2018-09-10T00:00:00-04:00\",\"2018-09-11T00:00:00-04:00\",\"2018-09-12T00:00:00-04:00\",\"2018-09-13T00:00:00-04:00\",\"2018-09-14T00:00:00-04:00\",\"2018-09-17T00:00:00-04:00\",\"2018-09-18T00:00:00-04:00\",\"2018-09-19T00:00:00-04:00\",\"2018-09-20T00:00:00-04:00\",\"2018-09-21T00:00:00-04:00\",\"2018-09-24T00:00:00-04:00\",\"2018-09-25T00:00:00-04:00\",\"2018-09-26T00:00:00-04:00\",\"2018-09-27T00:00:00-04:00\",\"2018-09-28T00:00:00-04:00\",\"2018-10-01T00:00:00-04:00\",\"2018-10-02T00:00:00-04:00\",\"2018-10-03T00:00:00-04:00\",\"2018-10-04T00:00:00-04:00\",\"2018-10-05T00:00:00-04:00\",\"2018-10-08T00:00:00-04:00\",\"2018-10-09T00:00:00-04:00\",\"2018-10-10T00:00:00-04:00\",\"2018-10-11T00:00:00-04:00\",\"2018-10-12T00:00:00-04:00\",\"2018-10-15T00:00:00-04:00\",\"2018-10-16T00:00:00-04:00\",\"2018-10-17T00:00:00-04:00\",\"2018-10-18T00:00:00-04:00\",\"2018-10-19T00:00:00-04:00\",\"2018-10-22T00:00:00-04:00\",\"2018-10-23T00:00:00-04:00\",\"2018-10-24T00:00:00-04:00\",\"2018-10-25T00:00:00-04:00\",\"2018-10-26T00:00:00-04:00\",\"2018-10-29T00:00:00-04:00\",\"2018-10-30T00:00:00-04:00\",\"2018-10-31T00:00:00-04:00\",\"2018-11-01T00:00:00-04:00\",\"2018-11-02T00:00:00-04:00\",\"2018-11-05T00:00:00-05:00\",\"2018-11-06T00:00:00-05:00\",\"2018-11-07T00:00:00-05:00\",\"2018-11-08T00:00:00-05:00\",\"2018-11-09T00:00:00-05:00\",\"2018-11-12T00:00:00-05:00\",\"2018-11-13T00:00:00-05:00\",\"2018-11-14T00:00:00-05:00\",\"2018-11-15T00:00:00-05:00\",\"2018-11-16T00:00:00-05:00\",\"2018-11-19T00:00:00-05:00\",\"2018-11-20T00:00:00-05:00\",\"2018-11-21T00:00:00-05:00\",\"2018-11-23T00:00:00-05:00\",\"2018-11-26T00:00:00-05:00\",\"2018-11-27T00:00:00-05:00\",\"2018-11-28T00:00:00-05:00\",\"2018-11-29T00:00:00-05:00\",\"2018-11-30T00:00:00-05:00\",\"2018-12-03T00:00:00-05:00\",\"2018-12-04T00:00:00-05:00\",\"2018-12-06T00:00:00-05:00\",\"2018-12-07T00:00:00-05:00\",\"2018-12-10T00:00:00-05:00\",\"2018-12-11T00:00:00-05:00\",\"2018-12-12T00:00:00-05:00\",\"2018-12-13T00:00:00-05:00\",\"2018-12-14T00:00:00-05:00\",\"2018-12-17T00:00:00-05:00\",\"2018-12-18T00:00:00-05:00\",\"2018-12-19T00:00:00-05:00\",\"2018-12-20T00:00:00-05:00\",\"2018-12-21T00:00:00-05:00\",\"2018-12-24T00:00:00-05:00\",\"2018-12-26T00:00:00-05:00\",\"2018-12-27T00:00:00-05:00\",\"2018-12-28T00:00:00-05:00\",\"2018-12-31T00:00:00-05:00\",\"2019-01-02T00:00:00-05:00\",\"2019-01-03T00:00:00-05:00\",\"2019-01-04T00:00:00-05:00\",\"2019-01-07T00:00:00-05:00\",\"2019-01-08T00:00:00-05:00\",\"2019-01-09T00:00:00-05:00\",\"2019-01-10T00:00:00-05:00\",\"2019-01-11T00:00:00-05:00\",\"2019-01-14T00:00:00-05:00\",\"2019-01-15T00:00:00-05:00\",\"2019-01-16T00:00:00-05:00\",\"2019-01-17T00:00:00-05:00\",\"2019-01-18T00:00:00-05:00\",\"2019-01-22T00:00:00-05:00\",\"2019-01-23T00:00:00-05:00\",\"2019-01-24T00:00:00-05:00\",\"2019-01-25T00:00:00-05:00\",\"2019-01-28T00:00:00-05:00\",\"2019-01-29T00:00:00-05:00\",\"2019-01-30T00:00:00-05:00\",\"2019-01-31T00:00:00-05:00\",\"2019-02-01T00:00:00-05:00\",\"2019-02-04T00:00:00-05:00\",\"2019-02-05T00:00:00-05:00\",\"2019-02-06T00:00:00-05:00\",\"2019-02-07T00:00:00-05:00\",\"2019-02-08T00:00:00-05:00\",\"2019-02-11T00:00:00-05:00\",\"2019-02-12T00:00:00-05:00\",\"2019-02-13T00:00:00-05:00\",\"2019-02-14T00:00:00-05:00\",\"2019-02-15T00:00:00-05:00\",\"2019-02-19T00:00:00-05:00\",\"2019-02-20T00:00:00-05:00\",\"2019-02-21T00:00:00-05:00\",\"2019-02-22T00:00:00-05:00\",\"2019-02-25T00:00:00-05:00\",\"2019-02-26T00:00:00-05:00\",\"2019-02-27T00:00:00-05:00\",\"2019-02-28T00:00:00-05:00\",\"2019-03-01T00:00:00-05:00\",\"2019-03-04T00:00:00-05:00\",\"2019-03-05T00:00:00-05:00\",\"2019-03-06T00:00:00-05:00\",\"2019-03-07T00:00:00-05:00\",\"2019-03-08T00:00:00-05:00\",\"2019-03-11T00:00:00-04:00\",\"2019-03-12T00:00:00-04:00\",\"2019-03-13T00:00:00-04:00\",\"2019-03-14T00:00:00-04:00\",\"2019-03-15T00:00:00-04:00\",\"2019-03-18T00:00:00-04:00\",\"2019-03-19T00:00:00-04:00\",\"2019-03-20T00:00:00-04:00\",\"2019-03-21T00:00:00-04:00\",\"2019-03-22T00:00:00-04:00\",\"2019-03-25T00:00:00-04:00\",\"2019-03-26T00:00:00-04:00\",\"2019-03-27T00:00:00-04:00\",\"2019-03-28T00:00:00-04:00\",\"2019-03-29T00:00:00-04:00\",\"2019-04-01T00:00:00-04:00\",\"2019-04-02T00:00:00-04:00\",\"2019-04-03T00:00:00-04:00\",\"2019-04-04T00:00:00-04:00\",\"2019-04-05T00:00:00-04:00\",\"2019-04-08T00:00:00-04:00\",\"2019-04-09T00:00:00-04:00\",\"2019-04-10T00:00:00-04:00\",\"2019-04-11T00:00:00-04:00\",\"2019-04-12T00:00:00-04:00\",\"2019-04-15T00:00:00-04:00\",\"2019-04-16T00:00:00-04:00\",\"2019-04-17T00:00:00-04:00\",\"2019-04-18T00:00:00-04:00\",\"2019-04-22T00:00:00-04:00\",\"2019-04-23T00:00:00-04:00\",\"2019-04-24T00:00:00-04:00\",\"2019-04-25T00:00:00-04:00\",\"2019-04-26T00:00:00-04:00\",\"2019-04-29T00:00:00-04:00\",\"2019-04-30T00:00:00-04:00\",\"2019-05-01T00:00:00-04:00\",\"2019-05-02T00:00:00-04:00\",\"2019-05-03T00:00:00-04:00\",\"2019-05-06T00:00:00-04:00\",\"2019-05-07T00:00:00-04:00\",\"2019-05-08T00:00:00-04:00\",\"2019-05-09T00:00:00-04:00\",\"2019-05-10T00:00:00-04:00\",\"2019-05-13T00:00:00-04:00\",\"2019-05-14T00:00:00-04:00\",\"2019-05-15T00:00:00-04:00\",\"2019-05-16T00:00:00-04:00\",\"2019-05-17T00:00:00-04:00\",\"2019-05-20T00:00:00-04:00\",\"2019-05-21T00:00:00-04:00\",\"2019-05-22T00:00:00-04:00\",\"2019-05-23T00:00:00-04:00\",\"2019-05-24T00:00:00-04:00\",\"2019-05-28T00:00:00-04:00\",\"2019-05-29T00:00:00-04:00\",\"2019-05-30T00:00:00-04:00\",\"2019-05-31T00:00:00-04:00\",\"2019-06-03T00:00:00-04:00\",\"2019-06-04T00:00:00-04:00\",\"2019-06-05T00:00:00-04:00\",\"2019-06-06T00:00:00-04:00\",\"2019-06-07T00:00:00-04:00\",\"2019-06-10T00:00:00-04:00\",\"2019-06-11T00:00:00-04:00\",\"2019-06-12T00:00:00-04:00\",\"2019-06-13T00:00:00-04:00\",\"2019-06-14T00:00:00-04:00\",\"2019-06-17T00:00:00-04:00\",\"2019-06-18T00:00:00-04:00\",\"2019-06-19T00:00:00-04:00\",\"2019-06-20T00:00:00-04:00\",\"2019-06-21T00:00:00-04:00\",\"2019-06-24T00:00:00-04:00\",\"2019-06-25T00:00:00-04:00\",\"2019-06-26T00:00:00-04:00\",\"2019-06-27T00:00:00-04:00\",\"2019-06-28T00:00:00-04:00\",\"2019-07-01T00:00:00-04:00\",\"2019-07-02T00:00:00-04:00\",\"2019-07-03T00:00:00-04:00\",\"2019-07-05T00:00:00-04:00\",\"2019-07-08T00:00:00-04:00\",\"2019-07-09T00:00:00-04:00\",\"2019-07-10T00:00:00-04:00\",\"2019-07-11T00:00:00-04:00\",\"2019-07-12T00:00:00-04:00\",\"2019-07-15T00:00:00-04:00\",\"2019-07-16T00:00:00-04:00\",\"2019-07-17T00:00:00-04:00\",\"2019-07-18T00:00:00-04:00\",\"2019-07-19T00:00:00-04:00\",\"2019-07-22T00:00:00-04:00\",\"2019-07-23T00:00:00-04:00\",\"2019-07-24T00:00:00-04:00\",\"2019-07-25T00:00:00-04:00\",\"2019-07-26T00:00:00-04:00\",\"2019-07-29T00:00:00-04:00\",\"2019-07-30T00:00:00-04:00\",\"2019-07-31T00:00:00-04:00\",\"2019-08-01T00:00:00-04:00\",\"2019-08-02T00:00:00-04:00\",\"2019-08-05T00:00:00-04:00\",\"2019-08-06T00:00:00-04:00\",\"2019-08-07T00:00:00-04:00\",\"2019-08-08T00:00:00-04:00\",\"2019-08-09T00:00:00-04:00\",\"2019-08-12T00:00:00-04:00\",\"2019-08-13T00:00:00-04:00\",\"2019-08-14T00:00:00-04:00\",\"2019-08-15T00:00:00-04:00\",\"2019-08-16T00:00:00-04:00\",\"2019-08-19T00:00:00-04:00\",\"2019-08-20T00:00:00-04:00\",\"2019-08-21T00:00:00-04:00\",\"2019-08-22T00:00:00-04:00\",\"2019-08-23T00:00:00-04:00\",\"2019-08-26T00:00:00-04:00\",\"2019-08-27T00:00:00-04:00\",\"2019-08-28T00:00:00-04:00\",\"2019-08-29T00:00:00-04:00\",\"2019-08-30T00:00:00-04:00\",\"2019-09-03T00:00:00-04:00\",\"2019-09-04T00:00:00-04:00\",\"2019-09-05T00:00:00-04:00\",\"2019-09-06T00:00:00-04:00\",\"2019-09-09T00:00:00-04:00\",\"2019-09-10T00:00:00-04:00\",\"2019-09-11T00:00:00-04:00\",\"2019-09-12T00:00:00-04:00\",\"2019-09-13T00:00:00-04:00\",\"2019-09-16T00:00:00-04:00\",\"2019-09-17T00:00:00-04:00\",\"2019-09-18T00:00:00-04:00\",\"2019-09-19T00:00:00-04:00\",\"2019-09-20T00:00:00-04:00\",\"2019-09-23T00:00:00-04:00\",\"2019-09-24T00:00:00-04:00\",\"2019-09-25T00:00:00-04:00\",\"2019-09-26T00:00:00-04:00\",\"2019-09-27T00:00:00-04:00\",\"2019-09-30T00:00:00-04:00\",\"2019-10-01T00:00:00-04:00\",\"2019-10-02T00:00:00-04:00\",\"2019-10-03T00:00:00-04:00\",\"2019-10-04T00:00:00-04:00\",\"2019-10-07T00:00:00-04:00\",\"2019-10-08T00:00:00-04:00\",\"2019-10-09T00:00:00-04:00\",\"2019-10-10T00:00:00-04:00\",\"2019-10-11T00:00:00-04:00\",\"2019-10-14T00:00:00-04:00\",\"2019-10-15T00:00:00-04:00\",\"2019-10-16T00:00:00-04:00\",\"2019-10-17T00:00:00-04:00\",\"2019-10-18T00:00:00-04:00\",\"2019-10-21T00:00:00-04:00\",\"2019-10-22T00:00:00-04:00\",\"2019-10-23T00:00:00-04:00\",\"2019-10-24T00:00:00-04:00\",\"2019-10-25T00:00:00-04:00\",\"2019-10-28T00:00:00-04:00\",\"2019-10-29T00:00:00-04:00\",\"2019-10-30T00:00:00-04:00\",\"2019-10-31T00:00:00-04:00\",\"2019-11-01T00:00:00-04:00\",\"2019-11-04T00:00:00-05:00\",\"2019-11-05T00:00:00-05:00\",\"2019-11-06T00:00:00-05:00\",\"2019-11-07T00:00:00-05:00\",\"2019-11-08T00:00:00-05:00\",\"2019-11-11T00:00:00-05:00\",\"2019-11-12T00:00:00-05:00\",\"2019-11-13T00:00:00-05:00\",\"2019-11-14T00:00:00-05:00\",\"2019-11-15T00:00:00-05:00\",\"2019-11-18T00:00:00-05:00\",\"2019-11-19T00:00:00-05:00\",\"2019-11-20T00:00:00-05:00\",\"2019-11-21T00:00:00-05:00\",\"2019-11-22T00:00:00-05:00\",\"2019-11-25T00:00:00-05:00\",\"2019-11-26T00:00:00-05:00\",\"2019-11-27T00:00:00-05:00\",\"2019-11-29T00:00:00-05:00\",\"2019-12-02T00:00:00-05:00\",\"2019-12-03T00:00:00-05:00\",\"2019-12-04T00:00:00-05:00\",\"2019-12-05T00:00:00-05:00\",\"2019-12-06T00:00:00-05:00\",\"2019-12-09T00:00:00-05:00\",\"2019-12-10T00:00:00-05:00\",\"2019-12-11T00:00:00-05:00\",\"2019-12-12T00:00:00-05:00\",\"2019-12-13T00:00:00-05:00\",\"2019-12-16T00:00:00-05:00\",\"2019-12-17T00:00:00-05:00\",\"2019-12-18T00:00:00-05:00\",\"2019-12-19T00:00:00-05:00\",\"2019-12-20T00:00:00-05:00\",\"2019-12-23T00:00:00-05:00\",\"2019-12-24T00:00:00-05:00\",\"2019-12-26T00:00:00-05:00\",\"2019-12-27T00:00:00-05:00\",\"2019-12-30T00:00:00-05:00\",\"2019-12-31T00:00:00-05:00\",\"2020-01-02T00:00:00-05:00\",\"2020-01-03T00:00:00-05:00\",\"2020-01-06T00:00:00-05:00\",\"2020-01-07T00:00:00-05:00\",\"2020-01-08T00:00:00-05:00\",\"2020-01-09T00:00:00-05:00\",\"2020-01-10T00:00:00-05:00\",\"2020-01-13T00:00:00-05:00\",\"2020-01-14T00:00:00-05:00\",\"2020-01-15T00:00:00-05:00\",\"2020-01-16T00:00:00-05:00\",\"2020-01-17T00:00:00-05:00\",\"2020-01-21T00:00:00-05:00\",\"2020-01-22T00:00:00-05:00\",\"2020-01-23T00:00:00-05:00\",\"2020-01-24T00:00:00-05:00\",\"2020-01-27T00:00:00-05:00\",\"2020-01-28T00:00:00-05:00\",\"2020-01-29T00:00:00-05:00\",\"2020-01-30T00:00:00-05:00\",\"2020-01-31T00:00:00-05:00\",\"2020-02-03T00:00:00-05:00\",\"2020-02-04T00:00:00-05:00\",\"2020-02-05T00:00:00-05:00\",\"2020-02-06T00:00:00-05:00\",\"2020-02-07T00:00:00-05:00\",\"2020-02-10T00:00:00-05:00\",\"2020-02-11T00:00:00-05:00\",\"2020-02-12T00:00:00-05:00\",\"2020-02-13T00:00:00-05:00\",\"2020-02-14T00:00:00-05:00\",\"2020-02-18T00:00:00-05:00\",\"2020-02-19T00:00:00-05:00\",\"2020-02-20T00:00:00-05:00\",\"2020-02-21T00:00:00-05:00\",\"2020-02-24T00:00:00-05:00\",\"2020-02-25T00:00:00-05:00\",\"2020-02-26T00:00:00-05:00\",\"2020-02-27T00:00:00-05:00\",\"2020-02-28T00:00:00-05:00\",\"2020-03-02T00:00:00-05:00\",\"2020-03-03T00:00:00-05:00\",\"2020-03-04T00:00:00-05:00\",\"2020-03-05T00:00:00-05:00\",\"2020-03-06T00:00:00-05:00\",\"2020-03-09T00:00:00-04:00\",\"2020-03-10T00:00:00-04:00\",\"2020-03-11T00:00:00-04:00\",\"2020-03-12T00:00:00-04:00\",\"2020-03-13T00:00:00-04:00\",\"2020-03-16T00:00:00-04:00\",\"2020-03-17T00:00:00-04:00\",\"2020-03-18T00:00:00-04:00\",\"2020-03-19T00:00:00-04:00\",\"2020-03-20T00:00:00-04:00\",\"2020-03-23T00:00:00-04:00\",\"2020-03-24T00:00:00-04:00\",\"2020-03-25T00:00:00-04:00\",\"2020-03-26T00:00:00-04:00\",\"2020-03-27T00:00:00-04:00\",\"2020-03-30T00:00:00-04:00\",\"2020-03-31T00:00:00-04:00\",\"2020-04-01T00:00:00-04:00\",\"2020-04-02T00:00:00-04:00\",\"2020-04-03T00:00:00-04:00\",\"2020-04-06T00:00:00-04:00\",\"2020-04-07T00:00:00-04:00\",\"2020-04-08T00:00:00-04:00\",\"2020-04-09T00:00:00-04:00\",\"2020-04-13T00:00:00-04:00\",\"2020-04-14T00:00:00-04:00\",\"2020-04-15T00:00:00-04:00\",\"2020-04-16T00:00:00-04:00\",\"2020-04-17T00:00:00-04:00\",\"2020-04-20T00:00:00-04:00\",\"2020-04-21T00:00:00-04:00\",\"2020-04-22T00:00:00-04:00\",\"2020-04-23T00:00:00-04:00\",\"2020-04-24T00:00:00-04:00\",\"2020-04-27T00:00:00-04:00\",\"2020-04-28T00:00:00-04:00\",\"2020-04-29T00:00:00-04:00\",\"2020-04-30T00:00:00-04:00\",\"2020-05-01T00:00:00-04:00\",\"2020-05-04T00:00:00-04:00\",\"2020-05-05T00:00:00-04:00\",\"2020-05-06T00:00:00-04:00\",\"2020-05-07T00:00:00-04:00\",\"2020-05-08T00:00:00-04:00\",\"2020-05-11T00:00:00-04:00\",\"2020-05-12T00:00:00-04:00\",\"2020-05-13T00:00:00-04:00\",\"2020-05-14T00:00:00-04:00\",\"2020-05-15T00:00:00-04:00\",\"2020-05-18T00:00:00-04:00\",\"2020-05-19T00:00:00-04:00\",\"2020-05-20T00:00:00-04:00\",\"2020-05-21T00:00:00-04:00\",\"2020-05-22T00:00:00-04:00\",\"2020-05-26T00:00:00-04:00\",\"2020-05-27T00:00:00-04:00\",\"2020-05-28T00:00:00-04:00\",\"2020-05-29T00:00:00-04:00\",\"2020-06-01T00:00:00-04:00\",\"2020-06-02T00:00:00-04:00\",\"2020-06-03T00:00:00-04:00\",\"2020-06-04T00:00:00-04:00\",\"2020-06-05T00:00:00-04:00\",\"2020-06-08T00:00:00-04:00\",\"2020-06-09T00:00:00-04:00\",\"2020-06-10T00:00:00-04:00\",\"2020-06-11T00:00:00-04:00\",\"2020-06-12T00:00:00-04:00\",\"2020-06-15T00:00:00-04:00\",\"2020-06-16T00:00:00-04:00\",\"2020-06-17T00:00:00-04:00\",\"2020-06-18T00:00:00-04:00\",\"2020-06-19T00:00:00-04:00\",\"2020-06-22T00:00:00-04:00\",\"2020-06-23T00:00:00-04:00\",\"2020-06-24T00:00:00-04:00\",\"2020-06-25T00:00:00-04:00\",\"2020-06-26T00:00:00-04:00\",\"2020-06-29T00:00:00-04:00\",\"2020-06-30T00:00:00-04:00\",\"2020-07-01T00:00:00-04:00\",\"2020-07-02T00:00:00-04:00\",\"2020-07-06T00:00:00-04:00\",\"2020-07-07T00:00:00-04:00\",\"2020-07-08T00:00:00-04:00\",\"2020-07-09T00:00:00-04:00\",\"2020-07-10T00:00:00-04:00\",\"2020-07-13T00:00:00-04:00\",\"2020-07-14T00:00:00-04:00\",\"2020-07-15T00:00:00-04:00\",\"2020-07-16T00:00:00-04:00\",\"2020-07-17T00:00:00-04:00\",\"2020-07-20T00:00:00-04:00\",\"2020-07-21T00:00:00-04:00\",\"2020-07-22T00:00:00-04:00\",\"2020-07-23T00:00:00-04:00\",\"2020-07-24T00:00:00-04:00\",\"2020-07-27T00:00:00-04:00\",\"2020-07-28T00:00:00-04:00\",\"2020-07-29T00:00:00-04:00\",\"2020-07-30T00:00:00-04:00\",\"2020-07-31T00:00:00-04:00\",\"2020-08-03T00:00:00-04:00\",\"2020-08-04T00:00:00-04:00\",\"2020-08-05T00:00:00-04:00\",\"2020-08-06T00:00:00-04:00\",\"2020-08-07T00:00:00-04:00\",\"2020-08-10T00:00:00-04:00\",\"2020-08-11T00:00:00-04:00\",\"2020-08-12T00:00:00-04:00\",\"2020-08-13T00:00:00-04:00\",\"2020-08-14T00:00:00-04:00\",\"2020-08-17T00:00:00-04:00\",\"2020-08-18T00:00:00-04:00\",\"2020-08-19T00:00:00-04:00\",\"2020-08-20T00:00:00-04:00\",\"2020-08-21T00:00:00-04:00\",\"2020-08-24T00:00:00-04:00\",\"2020-08-25T00:00:00-04:00\",\"2020-08-26T00:00:00-04:00\",\"2020-08-27T00:00:00-04:00\",\"2020-08-28T00:00:00-04:00\",\"2020-08-31T00:00:00-04:00\",\"2020-09-01T00:00:00-04:00\",\"2020-09-02T00:00:00-04:00\",\"2020-09-03T00:00:00-04:00\",\"2020-09-04T00:00:00-04:00\",\"2020-09-08T00:00:00-04:00\",\"2020-09-09T00:00:00-04:00\",\"2020-09-10T00:00:00-04:00\",\"2020-09-11T00:00:00-04:00\",\"2020-09-14T00:00:00-04:00\",\"2020-09-15T00:00:00-04:00\",\"2020-09-16T00:00:00-04:00\",\"2020-09-17T00:00:00-04:00\",\"2020-09-18T00:00:00-04:00\",\"2020-09-21T00:00:00-04:00\",\"2020-09-22T00:00:00-04:00\",\"2020-09-23T00:00:00-04:00\",\"2020-09-24T00:00:00-04:00\",\"2020-09-25T00:00:00-04:00\",\"2020-09-28T00:00:00-04:00\",\"2020-09-29T00:00:00-04:00\",\"2020-09-30T00:00:00-04:00\",\"2020-10-01T00:00:00-04:00\",\"2020-10-02T00:00:00-04:00\",\"2020-10-05T00:00:00-04:00\",\"2020-10-06T00:00:00-04:00\",\"2020-10-07T00:00:00-04:00\",\"2020-10-08T00:00:00-04:00\",\"2020-10-09T00:00:00-04:00\",\"2020-10-12T00:00:00-04:00\",\"2020-10-13T00:00:00-04:00\",\"2020-10-14T00:00:00-04:00\",\"2020-10-15T00:00:00-04:00\",\"2020-10-16T00:00:00-04:00\",\"2020-10-19T00:00:00-04:00\",\"2020-10-20T00:00:00-04:00\",\"2020-10-21T00:00:00-04:00\",\"2020-10-22T00:00:00-04:00\",\"2020-10-23T00:00:00-04:00\",\"2020-10-26T00:00:00-04:00\",\"2020-10-27T00:00:00-04:00\",\"2020-10-28T00:00:00-04:00\",\"2020-10-29T00:00:00-04:00\",\"2020-10-30T00:00:00-04:00\",\"2020-11-02T00:00:00-05:00\",\"2020-11-03T00:00:00-05:00\",\"2020-11-04T00:00:00-05:00\",\"2020-11-05T00:00:00-05:00\",\"2020-11-06T00:00:00-05:00\",\"2020-11-09T00:00:00-05:00\",\"2020-11-10T00:00:00-05:00\",\"2020-11-11T00:00:00-05:00\",\"2020-11-12T00:00:00-05:00\",\"2020-11-13T00:00:00-05:00\",\"2020-11-16T00:00:00-05:00\",\"2020-11-17T00:00:00-05:00\",\"2020-11-18T00:00:00-05:00\",\"2020-11-19T00:00:00-05:00\",\"2020-11-20T00:00:00-05:00\",\"2020-11-23T00:00:00-05:00\",\"2020-11-24T00:00:00-05:00\",\"2020-11-25T00:00:00-05:00\",\"2020-11-27T00:00:00-05:00\",\"2020-11-30T00:00:00-05:00\",\"2020-12-01T00:00:00-05:00\",\"2020-12-02T00:00:00-05:00\",\"2020-12-03T00:00:00-05:00\",\"2020-12-04T00:00:00-05:00\",\"2020-12-07T00:00:00-05:00\",\"2020-12-08T00:00:00-05:00\",\"2020-12-09T00:00:00-05:00\",\"2020-12-10T00:00:00-05:00\",\"2020-12-11T00:00:00-05:00\",\"2020-12-14T00:00:00-05:00\",\"2020-12-15T00:00:00-05:00\",\"2020-12-16T00:00:00-05:00\",\"2020-12-17T00:00:00-05:00\",\"2020-12-18T00:00:00-05:00\",\"2020-12-21T00:00:00-05:00\",\"2020-12-22T00:00:00-05:00\",\"2020-12-23T00:00:00-05:00\",\"2020-12-24T00:00:00-05:00\",\"2020-12-28T00:00:00-05:00\",\"2020-12-29T00:00:00-05:00\",\"2020-12-30T00:00:00-05:00\",\"2020-12-31T00:00:00-05:00\",\"2021-01-04T00:00:00-05:00\",\"2021-01-05T00:00:00-05:00\",\"2021-01-06T00:00:00-05:00\",\"2021-01-07T00:00:00-05:00\",\"2021-01-08T00:00:00-05:00\",\"2021-01-11T00:00:00-05:00\",\"2021-01-12T00:00:00-05:00\",\"2021-01-13T00:00:00-05:00\",\"2021-01-14T00:00:00-05:00\",\"2021-01-15T00:00:00-05:00\",\"2021-01-19T00:00:00-05:00\",\"2021-01-20T00:00:00-05:00\",\"2021-01-21T00:00:00-05:00\",\"2021-01-22T00:00:00-05:00\",\"2021-01-25T00:00:00-05:00\",\"2021-01-26T00:00:00-05:00\",\"2021-01-27T00:00:00-05:00\",\"2021-01-28T00:00:00-05:00\",\"2021-01-29T00:00:00-05:00\",\"2021-02-01T00:00:00-05:00\",\"2021-02-02T00:00:00-05:00\",\"2021-02-03T00:00:00-05:00\",\"2021-02-04T00:00:00-05:00\",\"2021-02-05T00:00:00-05:00\",\"2021-02-08T00:00:00-05:00\",\"2021-02-09T00:00:00-05:00\",\"2021-02-10T00:00:00-05:00\",\"2021-02-11T00:00:00-05:00\",\"2021-02-12T00:00:00-05:00\",\"2021-02-16T00:00:00-05:00\",\"2021-02-17T00:00:00-05:00\",\"2021-02-18T00:00:00-05:00\",\"2021-02-19T00:00:00-05:00\",\"2021-02-22T00:00:00-05:00\",\"2021-02-23T00:00:00-05:00\",\"2021-02-24T00:00:00-05:00\",\"2021-02-25T00:00:00-05:00\",\"2021-02-26T00:00:00-05:00\",\"2021-03-01T00:00:00-05:00\",\"2021-03-02T00:00:00-05:00\",\"2021-03-03T00:00:00-05:00\",\"2021-03-04T00:00:00-05:00\",\"2021-03-05T00:00:00-05:00\",\"2021-03-08T00:00:00-05:00\",\"2021-03-09T00:00:00-05:00\",\"2021-03-10T00:00:00-05:00\",\"2021-03-11T00:00:00-05:00\",\"2021-03-12T00:00:00-05:00\",\"2021-03-15T00:00:00-04:00\",\"2021-03-16T00:00:00-04:00\",\"2021-03-17T00:00:00-04:00\",\"2021-03-18T00:00:00-04:00\",\"2021-03-19T00:00:00-04:00\",\"2021-03-22T00:00:00-04:00\",\"2021-03-23T00:00:00-04:00\",\"2021-03-24T00:00:00-04:00\",\"2021-03-25T00:00:00-04:00\",\"2021-03-26T00:00:00-04:00\",\"2021-03-29T00:00:00-04:00\",\"2021-03-30T00:00:00-04:00\",\"2021-03-31T00:00:00-04:00\",\"2021-04-01T00:00:00-04:00\",\"2021-04-05T00:00:00-04:00\",\"2021-04-06T00:00:00-04:00\",\"2021-04-07T00:00:00-04:00\",\"2021-04-08T00:00:00-04:00\",\"2021-04-09T00:00:00-04:00\",\"2021-04-12T00:00:00-04:00\",\"2021-04-13T00:00:00-04:00\",\"2021-04-14T00:00:00-04:00\",\"2021-04-15T00:00:00-04:00\",\"2021-04-16T00:00:00-04:00\",\"2021-04-19T00:00:00-04:00\",\"2021-04-20T00:00:00-04:00\",\"2021-04-21T00:00:00-04:00\",\"2021-04-22T00:00:00-04:00\",\"2021-04-23T00:00:00-04:00\",\"2021-04-26T00:00:00-04:00\",\"2021-04-27T00:00:00-04:00\",\"2021-04-28T00:00:00-04:00\",\"2021-04-29T00:00:00-04:00\",\"2021-04-30T00:00:00-04:00\",\"2021-05-03T00:00:00-04:00\",\"2021-05-04T00:00:00-04:00\",\"2021-05-05T00:00:00-04:00\",\"2021-05-06T00:00:00-04:00\",\"2021-05-07T00:00:00-04:00\",\"2021-05-10T00:00:00-04:00\",\"2021-05-11T00:00:00-04:00\",\"2021-05-12T00:00:00-04:00\",\"2021-05-13T00:00:00-04:00\",\"2021-05-14T00:00:00-04:00\",\"2021-05-17T00:00:00-04:00\",\"2021-05-18T00:00:00-04:00\",\"2021-05-19T00:00:00-04:00\",\"2021-05-20T00:00:00-04:00\",\"2021-05-21T00:00:00-04:00\",\"2021-05-24T00:00:00-04:00\",\"2021-05-25T00:00:00-04:00\",\"2021-05-26T00:00:00-04:00\",\"2021-05-27T00:00:00-04:00\",\"2021-05-28T00:00:00-04:00\",\"2021-06-01T00:00:00-04:00\",\"2021-06-02T00:00:00-04:00\",\"2021-06-03T00:00:00-04:00\",\"2021-06-04T00:00:00-04:00\",\"2021-06-07T00:00:00-04:00\",\"2021-06-08T00:00:00-04:00\",\"2021-06-09T00:00:00-04:00\",\"2021-06-10T00:00:00-04:00\",\"2021-06-11T00:00:00-04:00\",\"2021-06-14T00:00:00-04:00\",\"2021-06-15T00:00:00-04:00\",\"2021-06-16T00:00:00-04:00\",\"2021-06-17T00:00:00-04:00\",\"2021-06-18T00:00:00-04:00\",\"2021-06-21T00:00:00-04:00\",\"2021-06-22T00:00:00-04:00\",\"2021-06-23T00:00:00-04:00\",\"2021-06-24T00:00:00-04:00\",\"2021-06-25T00:00:00-04:00\",\"2021-06-28T00:00:00-04:00\",\"2021-06-29T00:00:00-04:00\",\"2021-06-30T00:00:00-04:00\",\"2021-07-01T00:00:00-04:00\",\"2021-07-02T00:00:00-04:00\",\"2021-07-06T00:00:00-04:00\",\"2021-07-07T00:00:00-04:00\",\"2021-07-08T00:00:00-04:00\",\"2021-07-09T00:00:00-04:00\",\"2021-07-12T00:00:00-04:00\",\"2021-07-13T00:00:00-04:00\",\"2021-07-14T00:00:00-04:00\",\"2021-07-15T00:00:00-04:00\",\"2021-07-16T00:00:00-04:00\",\"2021-07-19T00:00:00-04:00\",\"2021-07-20T00:00:00-04:00\",\"2021-07-21T00:00:00-04:00\",\"2021-07-22T00:00:00-04:00\",\"2021-07-23T00:00:00-04:00\",\"2021-07-26T00:00:00-04:00\",\"2021-07-27T00:00:00-04:00\",\"2021-07-28T00:00:00-04:00\",\"2021-07-29T00:00:00-04:00\",\"2021-07-30T00:00:00-04:00\",\"2021-08-02T00:00:00-04:00\",\"2021-08-03T00:00:00-04:00\",\"2021-08-04T00:00:00-04:00\",\"2021-08-05T00:00:00-04:00\",\"2021-08-06T00:00:00-04:00\",\"2021-08-09T00:00:00-04:00\",\"2021-08-10T00:00:00-04:00\",\"2021-08-11T00:00:00-04:00\",\"2021-08-12T00:00:00-04:00\",\"2021-08-13T00:00:00-04:00\",\"2021-08-16T00:00:00-04:00\",\"2021-08-17T00:00:00-04:00\",\"2021-08-18T00:00:00-04:00\",\"2021-08-19T00:00:00-04:00\",\"2021-08-20T00:00:00-04:00\",\"2021-08-23T00:00:00-04:00\",\"2021-08-24T00:00:00-04:00\",\"2021-08-25T00:00:00-04:00\",\"2021-08-26T00:00:00-04:00\",\"2021-08-27T00:00:00-04:00\",\"2021-08-30T00:00:00-04:00\",\"2021-08-31T00:00:00-04:00\",\"2021-09-01T00:00:00-04:00\",\"2021-09-02T00:00:00-04:00\",\"2021-09-03T00:00:00-04:00\",\"2021-09-07T00:00:00-04:00\",\"2021-09-08T00:00:00-04:00\",\"2021-09-09T00:00:00-04:00\",\"2021-09-10T00:00:00-04:00\",\"2021-09-13T00:00:00-04:00\",\"2021-09-14T00:00:00-04:00\",\"2021-09-15T00:00:00-04:00\",\"2021-09-16T00:00:00-04:00\",\"2021-09-17T00:00:00-04:00\",\"2021-09-20T00:00:00-04:00\",\"2021-09-21T00:00:00-04:00\",\"2021-09-22T00:00:00-04:00\",\"2021-09-23T00:00:00-04:00\",\"2021-09-24T00:00:00-04:00\",\"2021-09-27T00:00:00-04:00\",\"2021-09-28T00:00:00-04:00\",\"2021-09-29T00:00:00-04:00\",\"2021-09-30T00:00:00-04:00\",\"2021-10-01T00:00:00-04:00\",\"2021-10-04T00:00:00-04:00\",\"2021-10-05T00:00:00-04:00\",\"2021-10-06T00:00:00-04:00\",\"2021-10-07T00:00:00-04:00\",\"2021-10-08T00:00:00-04:00\",\"2021-10-11T00:00:00-04:00\",\"2021-10-12T00:00:00-04:00\",\"2021-10-13T00:00:00-04:00\",\"2021-10-14T00:00:00-04:00\",\"2021-10-15T00:00:00-04:00\",\"2021-10-18T00:00:00-04:00\",\"2021-10-19T00:00:00-04:00\",\"2021-10-20T00:00:00-04:00\",\"2021-10-21T00:00:00-04:00\",\"2021-10-22T00:00:00-04:00\",\"2021-10-25T00:00:00-04:00\",\"2021-10-26T00:00:00-04:00\",\"2021-10-27T00:00:00-04:00\",\"2021-10-28T00:00:00-04:00\",\"2021-10-29T00:00:00-04:00\",\"2021-11-01T00:00:00-04:00\",\"2021-11-02T00:00:00-04:00\",\"2021-11-03T00:00:00-04:00\",\"2021-11-04T00:00:00-04:00\",\"2021-11-05T00:00:00-04:00\",\"2021-11-08T00:00:00-05:00\",\"2021-11-09T00:00:00-05:00\",\"2021-11-10T00:00:00-05:00\",\"2021-11-11T00:00:00-05:00\",\"2021-11-12T00:00:00-05:00\",\"2021-11-15T00:00:00-05:00\",\"2021-11-16T00:00:00-05:00\",\"2021-11-17T00:00:00-05:00\",\"2021-11-18T00:00:00-05:00\",\"2021-11-19T00:00:00-05:00\",\"2021-11-22T00:00:00-05:00\",\"2021-11-23T00:00:00-05:00\",\"2021-11-24T00:00:00-05:00\",\"2021-11-26T00:00:00-05:00\",\"2021-11-29T00:00:00-05:00\",\"2021-11-30T00:00:00-05:00\",\"2021-12-01T00:00:00-05:00\",\"2021-12-02T00:00:00-05:00\",\"2021-12-03T00:00:00-05:00\",\"2021-12-06T00:00:00-05:00\",\"2021-12-07T00:00:00-05:00\",\"2021-12-08T00:00:00-05:00\",\"2021-12-09T00:00:00-05:00\",\"2021-12-10T00:00:00-05:00\",\"2021-12-13T00:00:00-05:00\",\"2021-12-14T00:00:00-05:00\",\"2021-12-15T00:00:00-05:00\",\"2021-12-16T00:00:00-05:00\",\"2021-12-17T00:00:00-05:00\",\"2021-12-20T00:00:00-05:00\",\"2021-12-21T00:00:00-05:00\",\"2021-12-22T00:00:00-05:00\",\"2021-12-23T00:00:00-05:00\",\"2021-12-27T00:00:00-05:00\",\"2021-12-28T00:00:00-05:00\",\"2021-12-29T00:00:00-05:00\",\"2021-12-30T00:00:00-05:00\",\"2021-12-31T00:00:00-05:00\",\"2022-01-03T00:00:00-05:00\",\"2022-01-04T00:00:00-05:00\",\"2022-01-05T00:00:00-05:00\",\"2022-01-06T00:00:00-05:00\",\"2022-01-07T00:00:00-05:00\",\"2022-01-10T00:00:00-05:00\",\"2022-01-11T00:00:00-05:00\",\"2022-01-12T00:00:00-05:00\",\"2022-01-13T00:00:00-05:00\",\"2022-01-14T00:00:00-05:00\",\"2022-01-18T00:00:00-05:00\",\"2022-01-19T00:00:00-05:00\",\"2022-01-20T00:00:00-05:00\",\"2022-01-21T00:00:00-05:00\",\"2022-01-24T00:00:00-05:00\",\"2022-01-25T00:00:00-05:00\",\"2022-01-26T00:00:00-05:00\",\"2022-01-27T00:00:00-05:00\",\"2022-01-28T00:00:00-05:00\",\"2022-01-31T00:00:00-05:00\",\"2022-02-01T00:00:00-05:00\",\"2022-02-02T00:00:00-05:00\",\"2022-02-03T00:00:00-05:00\",\"2022-02-04T00:00:00-05:00\",\"2022-02-07T00:00:00-05:00\",\"2022-02-08T00:00:00-05:00\",\"2022-02-09T00:00:00-05:00\",\"2022-02-10T00:00:00-05:00\",\"2022-02-11T00:00:00-05:00\",\"2022-02-14T00:00:00-05:00\",\"2022-02-15T00:00:00-05:00\",\"2022-02-16T00:00:00-05:00\",\"2022-02-17T00:00:00-05:00\",\"2022-02-18T00:00:00-05:00\",\"2022-02-22T00:00:00-05:00\",\"2022-02-23T00:00:00-05:00\",\"2022-02-24T00:00:00-05:00\",\"2022-02-25T00:00:00-05:00\",\"2022-02-28T00:00:00-05:00\",\"2022-03-01T00:00:00-05:00\",\"2022-03-02T00:00:00-05:00\",\"2022-03-03T00:00:00-05:00\",\"2022-03-04T00:00:00-05:00\",\"2022-03-07T00:00:00-05:00\",\"2022-03-08T00:00:00-05:00\",\"2022-03-09T00:00:00-05:00\",\"2022-03-10T00:00:00-05:00\",\"2022-03-11T00:00:00-05:00\",\"2022-03-14T00:00:00-04:00\",\"2022-03-15T00:00:00-04:00\",\"2022-03-16T00:00:00-04:00\",\"2022-03-17T00:00:00-04:00\",\"2022-03-18T00:00:00-04:00\",\"2022-03-21T00:00:00-04:00\",\"2022-03-22T00:00:00-04:00\",\"2022-03-23T00:00:00-04:00\",\"2022-03-24T00:00:00-04:00\",\"2022-03-25T00:00:00-04:00\",\"2022-03-28T00:00:00-04:00\",\"2022-03-29T00:00:00-04:00\",\"2022-03-30T00:00:00-04:00\",\"2022-03-31T00:00:00-04:00\",\"2022-04-01T00:00:00-04:00\",\"2022-04-04T00:00:00-04:00\",\"2022-04-05T00:00:00-04:00\",\"2022-04-06T00:00:00-04:00\",\"2022-04-07T00:00:00-04:00\",\"2022-04-08T00:00:00-04:00\",\"2022-04-11T00:00:00-04:00\",\"2022-04-12T00:00:00-04:00\",\"2022-04-13T00:00:00-04:00\",\"2022-04-14T00:00:00-04:00\",\"2022-04-18T00:00:00-04:00\",\"2022-04-19T00:00:00-04:00\",\"2022-04-20T00:00:00-04:00\",\"2022-04-21T00:00:00-04:00\",\"2022-04-22T00:00:00-04:00\",\"2022-04-25T00:00:00-04:00\",\"2022-04-26T00:00:00-04:00\",\"2022-04-27T00:00:00-04:00\",\"2022-04-28T00:00:00-04:00\",\"2022-04-29T00:00:00-04:00\",\"2022-05-02T00:00:00-04:00\",\"2022-05-03T00:00:00-04:00\",\"2022-05-04T00:00:00-04:00\",\"2022-05-05T00:00:00-04:00\",\"2022-05-06T00:00:00-04:00\",\"2022-05-09T00:00:00-04:00\",\"2022-05-10T00:00:00-04:00\",\"2022-05-11T00:00:00-04:00\",\"2022-05-12T00:00:00-04:00\",\"2022-05-13T00:00:00-04:00\",\"2022-05-16T00:00:00-04:00\",\"2022-05-17T00:00:00-04:00\",\"2022-05-18T00:00:00-04:00\",\"2022-05-19T00:00:00-04:00\",\"2022-05-20T00:00:00-04:00\",\"2022-05-23T00:00:00-04:00\",\"2022-05-24T00:00:00-04:00\",\"2022-05-25T00:00:00-04:00\",\"2022-05-26T00:00:00-04:00\",\"2022-05-27T00:00:00-04:00\",\"2022-05-31T00:00:00-04:00\",\"2022-06-01T00:00:00-04:00\",\"2022-06-02T00:00:00-04:00\",\"2022-06-03T00:00:00-04:00\",\"2022-06-06T00:00:00-04:00\",\"2022-06-07T00:00:00-04:00\",\"2022-06-08T00:00:00-04:00\",\"2022-06-09T00:00:00-04:00\",\"2022-06-10T00:00:00-04:00\",\"2022-06-13T00:00:00-04:00\",\"2022-06-14T00:00:00-04:00\",\"2022-06-15T00:00:00-04:00\",\"2022-06-16T00:00:00-04:00\",\"2022-06-17T00:00:00-04:00\",\"2022-06-21T00:00:00-04:00\",\"2022-06-22T00:00:00-04:00\",\"2022-06-23T00:00:00-04:00\",\"2022-06-24T00:00:00-04:00\",\"2022-06-27T00:00:00-04:00\",\"2022-06-28T00:00:00-04:00\",\"2022-06-29T00:00:00-04:00\",\"2022-06-30T00:00:00-04:00\",\"2022-07-01T00:00:00-04:00\",\"2022-07-05T00:00:00-04:00\",\"2022-07-06T00:00:00-04:00\",\"2022-07-07T00:00:00-04:00\",\"2022-07-08T00:00:00-04:00\",\"2022-07-11T00:00:00-04:00\",\"2022-07-12T00:00:00-04:00\",\"2022-07-13T00:00:00-04:00\",\"2022-07-14T00:00:00-04:00\",\"2022-07-15T00:00:00-04:00\",\"2022-07-18T00:00:00-04:00\",\"2022-07-19T00:00:00-04:00\",\"2022-07-20T00:00:00-04:00\",\"2022-07-21T00:00:00-04:00\",\"2022-07-22T00:00:00-04:00\",\"2022-07-25T00:00:00-04:00\",\"2022-07-26T00:00:00-04:00\",\"2022-07-27T00:00:00-04:00\",\"2022-07-28T00:00:00-04:00\",\"2022-07-29T00:00:00-04:00\",\"2022-08-01T00:00:00-04:00\",\"2022-08-02T00:00:00-04:00\",\"2022-08-03T00:00:00-04:00\",\"2022-08-04T00:00:00-04:00\",\"2022-08-05T00:00:00-04:00\",\"2022-08-08T00:00:00-04:00\",\"2022-08-09T00:00:00-04:00\",\"2022-08-10T00:00:00-04:00\",\"2022-08-11T00:00:00-04:00\",\"2022-08-12T00:00:00-04:00\",\"2022-08-15T00:00:00-04:00\",\"2022-08-16T00:00:00-04:00\",\"2022-08-17T00:00:00-04:00\",\"2022-08-18T00:00:00-04:00\",\"2022-08-19T00:00:00-04:00\",\"2022-08-22T00:00:00-04:00\",\"2022-08-23T00:00:00-04:00\",\"2022-08-24T00:00:00-04:00\",\"2022-08-25T00:00:00-04:00\",\"2022-08-26T00:00:00-04:00\",\"2022-08-29T00:00:00-04:00\",\"2022-08-30T00:00:00-04:00\",\"2022-08-31T00:00:00-04:00\",\"2022-09-01T00:00:00-04:00\",\"2022-09-02T00:00:00-04:00\",\"2022-09-06T00:00:00-04:00\",\"2022-09-07T00:00:00-04:00\",\"2022-09-08T00:00:00-04:00\",\"2022-09-09T00:00:00-04:00\",\"2022-09-12T00:00:00-04:00\",\"2022-09-13T00:00:00-04:00\",\"2022-09-14T00:00:00-04:00\",\"2022-09-15T00:00:00-04:00\",\"2022-09-16T00:00:00-04:00\",\"2022-09-19T00:00:00-04:00\",\"2022-09-20T00:00:00-04:00\",\"2022-09-21T00:00:00-04:00\",\"2022-09-22T00:00:00-04:00\",\"2022-09-23T00:00:00-04:00\",\"2022-09-26T00:00:00-04:00\",\"2022-09-27T00:00:00-04:00\",\"2022-09-28T00:00:00-04:00\",\"2022-09-29T00:00:00-04:00\",\"2022-09-30T00:00:00-04:00\",\"2022-10-03T00:00:00-04:00\",\"2022-10-04T00:00:00-04:00\",\"2022-10-05T00:00:00-04:00\",\"2022-10-06T00:00:00-04:00\",\"2022-10-07T00:00:00-04:00\",\"2022-10-10T00:00:00-04:00\",\"2022-10-11T00:00:00-04:00\",\"2022-10-12T00:00:00-04:00\",\"2022-10-13T00:00:00-04:00\",\"2022-10-14T00:00:00-04:00\"],\"y\":[21.368667602539062,21.149999618530273,20.974666595458984,21.10533332824707,22.42733383178711,22.246000289916992,22.31999969482422,22.530000686645508,22.4146671295166,22.67066764831543,23.143999099731445,22.971332550048828,23.334667205810547,23.437332153320312,23.519332885742188,23.05933380126953,22.50933265686035,22.856666564941406,23.302000045776367,23.05466651916504,23.62066650390625,23.28333282470703,22.916667938232422,22.208667755126953,22.264667510986328,23.0,21.01533317565918,20.69466781616211,21.048667907714844,21.577333450317383,21.487333297729492,22.271333694458008,22.365999221801758,22.31800079345703,22.219999313354492,23.077999114990234,23.469999313354492,23.827999114990234,23.39933204650879,22.87066650390625,22.062000274658203,22.341333389282227,22.22333335876465,21.8799991607666,22.15333366394043,21.940000534057617,21.81133270263672,23.034000396728516,22.78933334350586,21.775333404541016,21.706666946411133,21.42333221435547,20.90399932861328,20.703332901000977,21.101999282836914,20.606666564941406,20.1026668548584,20.278667449951172,18.61199951171875,17.185333251953125,17.742000579833984,16.832000732421875,17.8353328704834,19.12933349609375,20.381332397460938,19.953332901000977,19.310667037963867,20.31333351135254,20.062000274658203,19.60533332824707,20.022666931152344,19.413999557495117,19.179332733154297,19.55666732788086,20.005332946777344,19.349332809448242,18.891332626342773,18.8973331451416,18.71266746520996,19.031999588012695,19.60533332824707,19.593332290649414,19.994667053222656,20.07666778564453,18.963333129882812,19.606000900268555,20.184667587280273,20.131332397460938,20.456666946411133,20.334667205810547,20.070667266845703,19.46466636657715,18.94533348083496,19.09866714477539,18.96933364868164,18.454666137695312,18.965999603271484,18.333999633789062,18.60466766357422,18.523332595825195,18.59000015258789,18.917333602905273,19.447999954223633,18.98200035095215,19.454666137695312,19.78266716003418,19.408666610717773,21.299999237060547,21.07266616821289,21.17733383178711,22.139999389648438,22.851333618164062,22.985332489013672,23.847999572753906,23.878000259399414,24.722000122070312,23.503332138061523,24.148000717163086,23.167333602905273,22.242000579833984,22.200666427612305,22.799999237060547,22.96666717529297,23.32866668701172,22.863332748413086,22.33799934387207,20.724000930786133,20.610666275024414,20.593332290649414,21.233999252319336,21.49799919128418,21.263999938964844,21.11400032043457,21.257999420166016,20.67333221435547,21.512666702270508,21.59000015258789,21.34866714477539,20.905332565307617,20.213333129882812,19.82866668701172,20.582666397094727,20.44333267211914,19.812000274658203,19.344667434692383,19.875999450683594,20.055999755859375,23.30266761779785,23.211332321166992,22.799333572387695,25.30466651916504,24.689332962036133,23.496667861938477,23.69933319091797,23.76066780090332,23.176000595092773,22.57933235168457,22.363332748413086,20.366666793823242,20.562667846679688,21.459999084472656,21.44266700744629,21.34000015258789,21.521333694458008,21.284666061401367,20.790666580200195,20.333999633789062,20.209999084472656,20.110666275024414,19.26333236694336,18.715999603271484,18.729999542236328,17.549333572387695,19.03333282470703,18.62933349609375,19.369333267211914,19.297332763671875,19.68000030517578,19.6560001373291,18.997333526611328,19.934667587280273,19.8886661529541,19.940000534057617,19.978666305541992,20.06599998474121,20.6386661529541,20.501333236694336,17.65133285522461,20.713333129882812,20.06800079345703,19.65333366394043,18.788667678833008,17.463333129882812,16.70400047302246,17.520000457763672,17.125333786010742,16.815332412719727,17.25200080871582,17.305999755859375,18.439332962036133,18.118667602539062,17.5939998626709,17.333332061767578,17.39666748046875,19.609333038330078,19.233333587646484,20.99066734313965,22.059999465942383,22.323333740234375,21.99333381652832,22.488000869750977,22.95199966430664,23.0939998626709,22.760000228881836,22.737333297729492,23.21066665649414,23.426666259765625,23.367332458496094,22.0853328704834,22.582000732421875,22.933332443237305,23.229333877563477,23.62066650390625,23.564666748046875,23.166000366210938,22.54599952697754,21.722000122070312,23.066667556762695,22.92799949645996,23.191333770751953,22.744667053222656,23.365333557128906,23.89933204650879,23.979999542236328,24.20400047302246,23.864667892456055,24.343332290649414,24.450666427612305,24.440000534057617,25.119333267211914,24.380666732788086,23.22800064086914,22.468666076660156,22.197999954223633,21.025333404541016,21.31800079345703,19.69266700744629,21.73933219909668,21.075332641601562,22.257999420166016,22.18666648864746,20.674667358398438,20.02400016784668,21.179332733154297,22.33066749572754,22.356666564941406,22.568666458129883,22.99799919128418,23.150667190551758,22.293333053588867,22.961999893188477,23.06999969482422,23.15399932861328,20.150667190551758,19.92799949645996,19.172666549682617,19.43400001525879,19.80266761779785,19.7586669921875,19.83066749572754,20.584667205810547,20.468000411987305,20.81399917602539,20.859333038330078,21.42333221435547,21.148000717163086,20.500667572021484,20.386667251586914,20.856000900268555,20.78733253479004,20.544666290283203,20.251333236694336,20.525333404541016,20.375999450683594,20.17066764831543,19.415332794189453,19.6473331451416,19.917999267578125,19.857332229614258,20.982667922973633,21.325332641601562,19.652666091918945,19.02400016784668,18.43600082397461,18.416000366210938,18.439332962036133,18.94266700744629,19.39466667175293,18.890666961669922,19.263999938964844,19.33066749572754,18.36199951171875,17.965999603271484,17.83133316040039,18.239999771118164,18.26799964904785,17.635332107543945,17.3613338470459,17.851333618164062,18.32200050354004,18.57466697692871,18.657333374023438,19.278667449951172,19.058666229248047,19.45400047302246,17.851999282836914,18.33066749572754,18.213333129882812,18.15399932861328,18.40399932861328,17.89466667175293,17.84666633605957,17.7586669921875,18.224000930786133,18.082000732421875,18.21733283996582,17.516666412353516,17.593332290649414,17.243999481201172,16.5086669921875,15.675999641418457,16.097999572753906,15.912667274475098,15.600666999816895,16.273332595825195,17.00200080871582,17.022666931152344,16.470666885375977,16.32266616821289,16.131999969482422,15.968000411987305,15.133999824523926,15.487333297729492,15.463333129882812,15.222000122070312,14.0686674118042,13.690667152404785,13.67199993133545,12.84866714477539,13.03266716003418,12.708666801452637,12.579999923706055,12.657333374023438,12.54800033569336,12.343999862670898,11.9313325881958,12.90666675567627,13.105999946594238,13.729999542236328,13.633333206176758,14.192000389099121,14.473333358764648,13.950667381286621,14.260666847229004,14.32800006866455,15.001999855041504,14.982666969299316,15.095333099365234,14.641332626342773,14.790666580200195,14.909333229064941,14.650667190551758,14.618000030517578,14.855999946594238,14.897333145141602,15.14466667175293,14.970000267028809,15.65999984741211,15.539999961853027,15.355999946594238,15.337332725524902,15.928000450134277,15.90666675567627,16.338666915893555,16.899999618530273,16.825332641601562,16.99066734313965,16.902666091918945,17.211999893188477,17.045333862304688,17.344667434692383,17.658666610717773,15.254667282104492,15.202667236328125,15.718000411987305,16.150667190551758,16.107332229614258,15.59000015258789,15.62266731262207,15.221332550048828,15.383333206176758,15.561332702636719,15.886667251586914,15.667332649230957,15.267333030700684,15.666666984558105,14.641332626342773,14.37600040435791,14.662667274475098,15.121999740600586,15.057332992553711,14.722000122070312,14.8100004196167,14.09333324432373,14.333333015441895,14.272000312805176,14.37266731262207,14.780667304992676,15.040666580200195,15.000666618347168,14.711999893188477,15.305333137512207,15.16333293914795,15.452667236328125,15.702667236328125,16.47333335876465,16.391332626342773,16.34666633605957,16.187332153320312,16.319332122802734,16.232667922973633,16.440000534057617,16.041332244873047,16.082000732421875,14.880666732788086,15.24666690826416,16.17066764831543,16.142000198364258,16.058000564575195,16.312667846679688,16.208667755126953,15.535332679748535,15.428667068481445,15.847999572753906,16.003332138061523,16.302000045776367,16.31599998474121,16.525999069213867,17.130666732788086,17.19266700744629,17.316667556762695,17.46466636657715,17.1299991607666,16.899999618530273,17.038667678833008,16.978666305541992,19.978666305541992,21.875333786010742,21.847333908081055,21.08133316040039,21.000667572021484,20.994667053222656,20.887332916259766,21.1646671295166,21.148000717163086,21.77199935913086,22.369333267211914,22.47599983215332,23.006000518798828,23.32866668701172,23.073999404907227,23.290000915527344,23.47800064086914,23.332666397094727,23.968000411987305,23.481332778930664,23.655332565307617,22.202667236328125,22.422666549682617,21.92799949645996,22.086000442504883,21.996000289916992,22.32466697692871,22.413333892822266,22.20199966430664,22.024667739868164,22.392667770385742,22.635332107543945,23.256000518798828,23.51333236694336,23.978666305541992,23.892667770385742,25.433332443237305,25.266000747680664,26.209999084472656,26.93600082397461,27.03933334350586,27.947999954223633,28.350000381469727,28.729333877563477,28.691999435424805,27.64666748046875,27.8886661529541,28.68400001525879,29.534000396728516,30.1026668548584,31.270666122436523,32.80933380126953,32.089332580566406,31.876667022705078,34.990665435791016,35.861331939697266,34.56666564941406,34.232666015625,34.03333282470703,36.47999954223633,37.97066879272461,38.14666748046875,37.654666900634766,37.201332092285156,37.793331146240234,38.732666015625,42.72066879272461,43.371334075927734,52.0,59.137332916259766,48.97999954223633,49.930667877197266,49.871334075927734,51.41866683959961,51.62533187866211,51.15266799926758,53.599998474121094,53.33533477783203,57.22666549682617,61.16133117675781,59.96066665649414,60.06666564941406,55.58599853515625,53.32733154296875,51.91999816894531,45.266666412353516,44.53266525268555,49.574668884277344,49.70066833496094,49.96666717529297,48.30266571044922,46.89866638183594,40.53333282470703,43.02199935913086,42.28200149536133,37.369998931884766,36.44133377075195,29.67133331298828,28.68000030517578,24.08133316040039,28.50933265686035,28.50200080871582,28.952667236328125,33.66666793823242,35.95000076293945,35.21066665649414,34.29066848754883,33.47533416748047,34.93333435058594,32.104000091552734,30.29800033569336,32.000667572021484,34.41600036621094,36.36333465576172,36.589332580566406,38.20000076293945,43.39666748046875,47.32600021362305,48.65533447265625,49.680667877197266,50.259334564208984,49.75733184814453,45.781333923339844,48.807334899902344,47.04199981689453,48.34333419799805,53.25,51.27466583251953,53.367332458496094,52.12533187866211,46.75466537475586,50.74599838256836,51.2140007019043,52.172000885009766,52.00266647338867,54.62799835205078,54.08599853515625,53.96066665649414,52.73066711425781,53.55533218383789,53.27799987792969,54.242000579833984,53.867332458496094,54.37066650390625,55.17333221435547,54.45866775512695,54.591331481933594,54.68199920654297,53.72066879272461,55.66666793823242,59.87333297729492,58.770668029785156,58.86399841308594,57.62533187866211,59.04399871826172,63.327999114990234,62.711334228515625,68.336669921875,64.85600280761719,62.35200119018555,66.05999755859375,65.47533416748047,66.11933135986328,66.9306640625,66.72666931152344,66.28800201416016,66.78533172607422,64.0566635131836,65.73200225830078,63.982666015625,67.29000091552734,71.98733520507812,74.64199829101562,80.57733154296875,91.43866729736328,92.65733337402344,91.05867004394531,92.9520034790039,102.97666931152344,99.80400085449219,101.12000274658203,103.06732940673828,100.04266357421875,100.05599975585938,109.53333282470703,104.55733489990234,106.15533447265625,100.87133026123047,94.46666717529297,102.63999938964844,98.43267059326172,99.94066619873047,99.16600036621094,95.38400268554688,99.0,99.13333129882812,99.00133514404297,99.30533599853516,96.84733581542969,94.57133483886719,91.6259994506836,103.65066528320312,108.06666564941406,110.04733276367188,122.3759994506836,125.80599975585938,125.23533630371094,133.45533752441406,136.6653289794922,134.27999877929688,134.8893280029297,143.54466247558594,149.25,147.55999755859375,166.10667419433594,158.35000610351562,149.1233367919922,135.6666717529297,139.44000244140625,110.06999969482422,122.09333038330078,123.77999877929688,124.23999786376953,139.8733367919922,149.9199981689453,147.25332641601562,141.14332580566406,147.38333129882812,149.79666137695312,141.41000366210938,126.78666687011719,129.26333618164062,135.77999877929688,140.39999389648438,139.69000244140625,143.00332641601562,149.3866729736328,138.3633270263672,141.89332580566406,137.9933319091797,141.76666259765625,141.97332763671875,144.6666717529297,147.43333435058594,148.88333129882812,153.76666259765625,149.6266632080078,146.55667114257812,143.61000061035156,140.64666748046875,140.8800048828125,141.92999267578125,140.2100067138672,140.0933380126953,141.55999755859375,135.33999633789062,136.94332885742188,129.34666442871094,133.50332641601562,141.3000030517578,140.32666015625,146.02999877929688,143.31666564941406,140.4199981689453,136.7866668701172,139.0433349609375,137.25332641601562,136.1666717529297,136.02999877929688,147.20333862304688,162.2133331298828,166.42333984375,163.20333862304688,173.9499969482422,185.1266632080078,191.3333282470703,195.25332641601562,189.1999969482422,194.9199981689453,189.60667419433594,197.7933349609375,199.67999267578125,213.9199981689453,216.6266632080078,201.4933319091797,209.02333068847656,203.3300018310547,213.27667236328125,211.0833282470703,207.58999633789062,218.63333129882812,231.6666717529297,216.6199951171875,213.44667053222656,215.32666015625,220.58999633789062,221.22999572753906,221.99667358398438,231.5933380126953,235.22332763671875,243.2566680908203,245.0366668701172,251.9933319091797,272.0133361816406,293.3399963378906,270.39666748046875,283.14666748046875,284.8033447265625,281.6666564941406,275.38665771484375,281.51666259765625,283.48333740234375,281.663330078125,282.21331787109375,293.6000061035156,294.36334228515625,288.0533447265625,278.4766540527344,264.510009765625,279.9366760253906,290.92999267578125,284.89666748046875,283.3299865722656,284.07666015625,287.8066711425781,283.1533203125,268.2733459472656,270.5533447265625,272.0400085449219,265.40667724609375,266.04998779296875,262.4599914550781,260.4333190917969,238.1666717529297,232.94667053222656,247.33999633789062,227.4066619873047,225.1666717529297,239.47666931152344,228.81333923339844,217.73333740234375,207.14666748046875,199.31666564941406,187.6666717529297,224.52667236328125,222.68666076660156,233.1999969482422,231.2433319091797,235.97999572753906,225.6266632080078,233.93666076660156,217.72000122070312,218.2899932861328,223.3333282470703,220.72000122070312,210.08999633789062,213.4633331298828,206.23666381835938,203.76333618164062,211.8733367919922,222.64332580566406,220.5833282470703,230.35000610351562,230.5399932861328,223.6566619873047,227.93333435058594,225.67333984375,233.9933319091797,254.10667419433594,244.07666015625,246.28334045410156,246.5933380126953,238.2100067138672,239.663330078125,248.0399932861328,239.89666748046875,243.13333129882812,246.06666564941406,234.913330078125,231.46665954589844,225.6666717529297,236.47999572753906,228.3000030517578,224.53334045410156,223.64666748046875,221.17999267578125,224.1233367919922,209.67999267578125,205.73333740234375,196.6300048828125,190.56333923339844,196.5800018310547,192.27667236328125,192.6233367919922,187.82000732421875,195.5933380126953,193.6266632080078,202.14666748046875,201.56333923339844,206.3766632080078,210.28334045410156,208.4066619873047,207.96665954589844,201.7066650390625,190.94667053222656,199.68333435058594,201.7100067138672,201.19667053222656,199.5933380126953,203.3733367919922,203.29666137695312,205.89666748046875,199.7866668701172,201.6233367919922,205.53334045410156,207.77000427246094,206.94332885742188,207.90333557128906,218.85667419433594,226.60667419433594,223.9566650390625,229.57333374023438,226.9199981689453,226.56666564941406,225.97332763671875,226.3000030517578,219.86000061035156,214.88333129882812,217.60333251953125,218.98333740234375,228.56666564941406,222.84666442871094,217.7933349609375,216.86666870117188,214.74000549316406,215.4066619873047,220.1666717529297,218.42999267578125,216.4199981689453,214.4600067138672,219.2066650390625,214.92666625976562,215.66000366210938,225.78334045410156,229.06666564941406,236.55667114257812,236.5800018310547,236.97332763671875,238.2100067138672,233.03334045410156,237.9199981689453,236.663330078125,235.94000244140625,240.75,239.05667114257812,228.72332763671875,221.90333557128906,229.663330078125,224.49000549316406,226.75332641601562,235.43333435058594,236.163330078125,237.06666564941406,233.72000122070312,237.30667114257812,243.6366729736328,245.24000549316406,244.69667053222656,244.1300048828125,244.52333068847656,250.97332763671875,251.2899932861328,251.6199951171875,245.42333984375,247.6666717529297,248.163330078125,251.94332885742188,252.3300018310547,253.163330078125,243.38999938964844,246.4600067138672,250.64666748046875,251.2133331298828,258.1300048828125,263.78668212890625,259.1866760253906,260.4366760253906,258.49334716796875,258.40667724609375,260.510009765625,260.1966552734375,260.9166564941406,264.53668212890625,261.8299865722656,263.9800109863281,268.5733337402344,270.3599853515625,272.7733459472656,281.010009765625,290.03668212890625,288.0899963378906,288.6000061035156,298.0,303.2266540527344,341.6199951171875,339.4766540527344,345.9533386230469,359.0133361816406,371.3333435058594,402.86334228515625,390.6666564941406,404.6199951171875,409.9700012207031,407.36334228515625,387.64666748046875,341.1666564941406,355.98333740234375,354.5033264160156,344.47332763671875,337.7966613769531,351.57666015625,363.0033264160156,365.4599914550781,379.0199890136719,385.6233215332031,369.6766662597656,372.0,360.6400146484375,378.9966735839844,381.586669921875,365.0,361.5333251953125,338.3233337402344,336.336669921875,350.5833435058594,356.32000732421875,334.6000061035156,339.010009765625,322.13665771484375,319.5033264160156,325.3299865722656,308.97332763671875,310.8566589355469,299.9800109863281,312.84332275390625,336.2900085449219,355.6666564941406,364.64666748046875,362.8233337402344,362.0633239746094,356.7799987792969,352.260009765625,399.9266662597656,383.1966552734375,362.7066650390625,354.8999938964844,342.32000732421875,352.7066650390625,354.79998779296875,368.739990234375,343.85333251953125,349.8699951171875,343.5033264160156,331.8833312988281,332.0899963378906,314.6333312988281,310.0,306.1333312988281,312.4700012207031,276.3666687011719,282.1166687011719,312.239990234375,310.4166564941406,301.88665771484375,297.0466613769531,307.7733459472656,302.4466552734375,307.3333435058594,310.6666564941406,301.51666259765625,286.6666564941406,291.9200134277344,307.4766540527344,307.7966613769531,292.1166687011719,285.6600036621094,273.84332275390625,254.67999267578125,266.92333984375,269.9566650390625,290.1433410644531,288.1233215332031,293.2966613769531,279.7633361816406,279.42999267578125,268.1933288574219,274.79998779296875,286.3233337402344,279.4333190917969,265.1166687011719,255.4566650390625,267.2966613769531,280.07666015625,290.5333251953125,301.7966613769531,307.0533447265625,331.32666015625,333.03668212890625,337.97332763671875,336.8800048828125,363.9466552734375,366.5233459472656,364.663330078125,359.20001220703125,361.5299987792969,381.8166809082031,363.7533264160156,348.586669921875,352.4200134277344,341.8299865722656,325.30999755859375,328.98333740234375,340.7900085449219,328.3333435058594,334.7633361816406,342.7166748046875,325.73333740234375,336.260009765625,335.01666259765625,332.67333984375,292.1400146484375,293.836669921875,292.5033264160156,290.2533264160156,300.9800109863281,303.0833435058594,317.5400085449219,291.09332275390625,288.54998779296875,262.3699951171875,266.67999267578125,244.6666717529297,242.6666717529297,256.5299987792969,241.4566650390625,253.8699951171875,236.60333251953125,236.47332763671875,221.3000030517578,224.96665954589844,209.3866729736328,219.60000610351562,235.91000366210938,253.2100067138672,252.75332641601562,246.7899932861328,258.3333435058594,234.51666259765625,238.27999877929688,238.8866729736328,241.86666870117188,239.7066650390625,232.22999572753906,215.73666381835938,220.88999938964844,233.0,213.10000610351562,216.75999450683594,237.0366668701172,236.086669921875,235.07000732421875,245.7066650390625,244.9199981689453,232.663330078125,228.49000549316406,224.47332763671875,227.26333618164062,233.06666564941406,231.73333740234375,244.5433349609375,250.76333618164062,234.3433380126953,233.07000732421875,237.0399932861328,238.31333923339844,240.06666564941406,240.54666137695312,245.52999877929688,247.5,271.7066650390625,272.24334716796875,268.4333190917969,258.8599853515625,274.82000732421875,280.8999938964844,297.1499938964844,297.27667236328125,300.586669921875,307.39666748046875,308.6333312988281,288.1700134277344,290.42333984375,283.3333435058594,294.3566589355469,286.6300048828125,300.0299987792969,309.32000732421875,306.5633239746094,303.9966735839844,302.8699951171875,296.6666564941406,289.913330078125,296.4533386230469,297.0966796875,296.07000732421875,288.0899963378906,284.82000732421875,277.70001220703125,275.6099853515625,277.1600036621094,270.2099914550781,274.4200134277344,283.70001220703125,289.260009765625,299.67999267578125,304.4200134277344,292.1300048828125,302.6099853515625,303.75,303.3500061035156,309.07000732421875,308.7300109863281,300.79998779296875,288.5899963378906,275.3299865722656,276.010009765625,282.94000244140625,287.80999755859375,268.2099914550781,265.25,242.39999389648438,249.44000244140625,240.80999755859375,238.1300048828125,223.07000732421875,222.9600067138672,216.5,217.24000549316406,221.72000122070312,204.99000549316406],\"type\":\"scatter\"}],                        {\"template\":{\"data\":{\"bar\":[{\"error_x\":{\"color\":\"#2a3f5f\"},\"error_y\":{\"color\":\"#2a3f5f\"},\"marker\":{\"line\":{\"color\":\"#E5ECF6\",\"width\":0.5},\"pattern\":{\"fillmode\":\"overlay\",\"size\":10,\"solidity\":0.2}},\"type\":\"bar\"}],\"barpolar\":[{\"marker\":{\"line\":{\"color\":\"#E5ECF6\",\"width\":0.5},\"pattern\":{\"fillmode\":\"overlay\",\"size\":10,\"solidity\":0.2}},\"type\":\"barpolar\"}],\"carpet\":[{\"aaxis\":{\"endlinecolor\":\"#2a3f5f\",\"gridcolor\":\"white\",\"linecolor\":\"white\",\"minorgridcolor\":\"white\",\"startlinecolor\":\"#2a3f5f\"},\"baxis\":{\"endlinecolor\":\"#2a3f5f\",\"gridcolor\":\"white\",\"linecolor\":\"white\",\"minorgridcolor\":\"white\",\"startlinecolor\":\"#2a3f5f\"},\"type\":\"carpet\"}],\"choropleth\":[{\"colorbar\":{\"outlinewidth\":0,\"ticks\":\"\"},\"type\":\"choropleth\"}],\"contour\":[{\"colorbar\":{\"outlinewidth\":0,\"ticks\":\"\"},\"colorscale\":[[0.0,\"#0d0887\"],[0.1111111111111111,\"#46039f\"],[0.2222222222222222,\"#7201a8\"],[0.3333333333333333,\"#9c179e\"],[0.4444444444444444,\"#bd3786\"],[0.5555555555555556,\"#d8576b\"],[0.6666666666666666,\"#ed7953\"],[0.7777777777777778,\"#fb9f3a\"],[0.8888888888888888,\"#fdca26\"],[1.0,\"#f0f921\"]],\"type\":\"contour\"}],\"contourcarpet\":[{\"colorbar\":{\"outlinewidth\":0,\"ticks\":\"\"},\"type\":\"contourcarpet\"}],\"heatmap\":[{\"colorbar\":{\"outlinewidth\":0,\"ticks\":\"\"},\"colorscale\":[[0.0,\"#0d0887\"],[0.1111111111111111,\"#46039f\"],[0.2222222222222222,\"#7201a8\"],[0.3333333333333333,\"#9c179e\"],[0.4444444444444444,\"#bd3786\"],[0.5555555555555556,\"#d8576b\"],[0.6666666666666666,\"#ed7953\"],[0.7777777777777778,\"#fb9f3a\"],[0.8888888888888888,\"#fdca26\"],[1.0,\"#f0f921\"]],\"type\":\"heatmap\"}],\"heatmapgl\":[{\"colorbar\":{\"outlinewidth\":0,\"ticks\":\"\"},\"colorscale\":[[0.0,\"#0d0887\"],[0.1111111111111111,\"#46039f\"],[0.2222222222222222,\"#7201a8\"],[0.3333333333333333,\"#9c179e\"],[0.4444444444444444,\"#bd3786\"],[0.5555555555555556,\"#d8576b\"],[0.6666666666666666,\"#ed7953\"],[0.7777777777777778,\"#fb9f3a\"],[0.8888888888888888,\"#fdca26\"],[1.0,\"#f0f921\"]],\"type\":\"heatmapgl\"}],\"histogram\":[{\"marker\":{\"pattern\":{\"fillmode\":\"overlay\",\"size\":10,\"solidity\":0.2}},\"type\":\"histogram\"}],\"histogram2d\":[{\"colorbar\":{\"outlinewidth\":0,\"ticks\":\"\"},\"colorscale\":[[0.0,\"#0d0887\"],[0.1111111111111111,\"#46039f\"],[0.2222222222222222,\"#7201a8\"],[0.3333333333333333,\"#9c179e\"],[0.4444444444444444,\"#bd3786\"],[0.5555555555555556,\"#d8576b\"],[0.6666666666666666,\"#ed7953\"],[0.7777777777777778,\"#fb9f3a\"],[0.8888888888888888,\"#fdca26\"],[1.0,\"#f0f921\"]],\"type\":\"histogram2d\"}],\"histogram2dcontour\":[{\"colorbar\":{\"outlinewidth\":0,\"ticks\":\"\"},\"colorscale\":[[0.0,\"#0d0887\"],[0.1111111111111111,\"#46039f\"],[0.2222222222222222,\"#7201a8\"],[0.3333333333333333,\"#9c179e\"],[0.4444444444444444,\"#bd3786\"],[0.5555555555555556,\"#d8576b\"],[0.6666666666666666,\"#ed7953\"],[0.7777777777777778,\"#fb9f3a\"],[0.8888888888888888,\"#fdca26\"],[1.0,\"#f0f921\"]],\"type\":\"histogram2dcontour\"}],\"mesh3d\":[{\"colorbar\":{\"outlinewidth\":0,\"ticks\":\"\"},\"type\":\"mesh3d\"}],\"parcoords\":[{\"line\":{\"colorbar\":{\"outlinewidth\":0,\"ticks\":\"\"}},\"type\":\"parcoords\"}],\"pie\":[{\"automargin\":true,\"type\":\"pie\"}],\"scatter\":[{\"marker\":{\"colorbar\":{\"outlinewidth\":0,\"ticks\":\"\"}},\"type\":\"scatter\"}],\"scatter3d\":[{\"line\":{\"colorbar\":{\"outlinewidth\":0,\"ticks\":\"\"}},\"marker\":{\"colorbar\":{\"outlinewidth\":0,\"ticks\":\"\"}},\"type\":\"scatter3d\"}],\"scattercarpet\":[{\"marker\":{\"colorbar\":{\"outlinewidth\":0,\"ticks\":\"\"}},\"type\":\"scattercarpet\"}],\"scattergeo\":[{\"marker\":{\"colorbar\":{\"outlinewidth\":0,\"ticks\":\"\"}},\"type\":\"scattergeo\"}],\"scattergl\":[{\"marker\":{\"colorbar\":{\"outlinewidth\":0,\"ticks\":\"\"}},\"type\":\"scattergl\"}],\"scattermapbox\":[{\"marker\":{\"colorbar\":{\"outlinewidth\":0,\"ticks\":\"\"}},\"type\":\"scattermapbox\"}],\"scatterpolar\":[{\"marker\":{\"colorbar\":{\"outlinewidth\":0,\"ticks\":\"\"}},\"type\":\"scatterpolar\"}],\"scatterpolargl\":[{\"marker\":{\"colorbar\":{\"outlinewidth\":0,\"ticks\":\"\"}},\"type\":\"scatterpolargl\"}],\"scatterternary\":[{\"marker\":{\"colorbar\":{\"outlinewidth\":0,\"ticks\":\"\"}},\"type\":\"scatterternary\"}],\"surface\":[{\"colorbar\":{\"outlinewidth\":0,\"ticks\":\"\"},\"colorscale\":[[0.0,\"#0d0887\"],[0.1111111111111111,\"#46039f\"],[0.2222222222222222,\"#7201a8\"],[0.3333333333333333,\"#9c179e\"],[0.4444444444444444,\"#bd3786\"],[0.5555555555555556,\"#d8576b\"],[0.6666666666666666,\"#ed7953\"],[0.7777777777777778,\"#fb9f3a\"],[0.8888888888888888,\"#fdca26\"],[1.0,\"#f0f921\"]],\"type\":\"surface\"}],\"table\":[{\"cells\":{\"fill\":{\"color\":\"#EBF0F8\"},\"line\":{\"color\":\"white\"}},\"header\":{\"fill\":{\"color\":\"#C8D4E3\"},\"line\":{\"color\":\"white\"}},\"type\":\"table\"}]},\"layout\":{\"annotationdefaults\":{\"arrowcolor\":\"#2a3f5f\",\"arrowhead\":0,\"arrowwidth\":1},\"autotypenumbers\":\"strict\",\"coloraxis\":{\"colorbar\":{\"outlinewidth\":0,\"ticks\":\"\"}},\"colorscale\":{\"diverging\":[[0,\"#8e0152\"],[0.1,\"#c51b7d\"],[0.2,\"#de77ae\"],[0.3,\"#f1b6da\"],[0.4,\"#fde0ef\"],[0.5,\"#f7f7f7\"],[0.6,\"#e6f5d0\"],[0.7,\"#b8e186\"],[0.8,\"#7fbc41\"],[0.9,\"#4d9221\"],[1,\"#276419\"]],\"sequential\":[[0.0,\"#0d0887\"],[0.1111111111111111,\"#46039f\"],[0.2222222222222222,\"#7201a8\"],[0.3333333333333333,\"#9c179e\"],[0.4444444444444444,\"#bd3786\"],[0.5555555555555556,\"#d8576b\"],[0.6666666666666666,\"#ed7953\"],[0.7777777777777778,\"#fb9f3a\"],[0.8888888888888888,\"#fdca26\"],[1.0,\"#f0f921\"]],\"sequentialminus\":[[0.0,\"#0d0887\"],[0.1111111111111111,\"#46039f\"],[0.2222222222222222,\"#7201a8\"],[0.3333333333333333,\"#9c179e\"],[0.4444444444444444,\"#bd3786\"],[0.5555555555555556,\"#d8576b\"],[0.6666666666666666,\"#ed7953\"],[0.7777777777777778,\"#fb9f3a\"],[0.8888888888888888,\"#fdca26\"],[1.0,\"#f0f921\"]]},\"colorway\":[\"#636efa\",\"#EF553B\",\"#00cc96\",\"#ab63fa\",\"#FFA15A\",\"#19d3f3\",\"#FF6692\",\"#B6E880\",\"#FF97FF\",\"#FECB52\"],\"font\":{\"color\":\"#2a3f5f\"},\"geo\":{\"bgcolor\":\"white\",\"lakecolor\":\"white\",\"landcolor\":\"#E5ECF6\",\"showlakes\":true,\"showland\":true,\"subunitcolor\":\"white\"},\"hoverlabel\":{\"align\":\"left\"},\"hovermode\":\"closest\",\"mapbox\":{\"style\":\"light\"},\"paper_bgcolor\":\"white\",\"plot_bgcolor\":\"#E5ECF6\",\"polar\":{\"angularaxis\":{\"gridcolor\":\"white\",\"linecolor\":\"white\",\"ticks\":\"\"},\"bgcolor\":\"#E5ECF6\",\"radialaxis\":{\"gridcolor\":\"white\",\"linecolor\":\"white\",\"ticks\":\"\"}},\"scene\":{\"xaxis\":{\"backgroundcolor\":\"#E5ECF6\",\"gridcolor\":\"white\",\"gridwidth\":2,\"linecolor\":\"white\",\"showbackground\":true,\"ticks\":\"\",\"zerolinecolor\":\"white\"},\"yaxis\":{\"backgroundcolor\":\"#E5ECF6\",\"gridcolor\":\"white\",\"gridwidth\":2,\"linecolor\":\"white\",\"showbackground\":true,\"ticks\":\"\",\"zerolinecolor\":\"white\"},\"zaxis\":{\"backgroundcolor\":\"#E5ECF6\",\"gridcolor\":\"white\",\"gridwidth\":2,\"linecolor\":\"white\",\"showbackground\":true,\"ticks\":\"\",\"zerolinecolor\":\"white\"}},\"shapedefaults\":{\"line\":{\"color\":\"#2a3f5f\"}},\"ternary\":{\"aaxis\":{\"gridcolor\":\"white\",\"linecolor\":\"white\",\"ticks\":\"\"},\"baxis\":{\"gridcolor\":\"white\",\"linecolor\":\"white\",\"ticks\":\"\"},\"bgcolor\":\"#E5ECF6\",\"caxis\":{\"gridcolor\":\"white\",\"linecolor\":\"white\",\"ticks\":\"\"}},\"title\":{\"x\":0.05},\"xaxis\":{\"automargin\":true,\"gridcolor\":\"white\",\"linecolor\":\"white\",\"ticks\":\"\",\"title\":{\"standoff\":15},\"zerolinecolor\":\"white\",\"zerolinewidth\":2},\"yaxis\":{\"automargin\":true,\"gridcolor\":\"white\",\"linecolor\":\"white\",\"ticks\":\"\",\"title\":{\"standoff\":15},\"zerolinecolor\":\"white\",\"zerolinewidth\":2}}},\"height\":500,\"width\":900,\"xaxis\":{\"title\":{\"text\":\"Date\"}},\"yaxis\":{\"title\":{\"text\":\"Close\"}}},                        {\"responsive\": true}                    ).then(function(){\n",
              "                            \n",
              "var gd = document.getElementById('b01d6f02-c1e7-4a08-b51d-7da63aba30aa');\n",
              "var x = new MutationObserver(function (mutations, observer) {{\n",
              "        var display = window.getComputedStyle(gd).display;\n",
              "        if (!display || display === 'none') {{\n",
              "            console.log([gd, 'removed!']);\n",
              "            Plotly.purge(gd);\n",
              "            observer.disconnect();\n",
              "        }}\n",
              "}});\n",
              "\n",
              "// Listen for the removal of the full notebook cells\n",
              "var notebookContainer = gd.closest('#notebook-container');\n",
              "if (notebookContainer) {{\n",
              "    x.observe(notebookContainer, {childList: true});\n",
              "}}\n",
              "\n",
              "// Listen for the clearing of the current output cell\n",
              "var outputEl = gd.closest('.output');\n",
              "if (outputEl) {{\n",
              "    x.observe(outputEl, {childList: true});\n",
              "}}\n",
              "\n",
              "                        })                };                            </script>        </div>\n",
              "</body>\n",
              "</html>"
            ]
          },
          "metadata": {}
        }
      ]
    },
    {
      "cell_type": "code",
      "metadata": {
        "colab": {
          "base_uri": "https://localhost:8080/",
          "height": 517
        },
        "id": "RJvErOktSbSf",
        "outputId": "da52bf7c-c5a3-4280-fddc-92acc000cb43"
      },
      "source": [
        "# Check the trend in Volume\n",
        "fig.add_trace(go.Scatter(x = data.index, y = data['Volume'], mode = 'lines'))\n",
        "fig.update_layout(height = 500, width = 900,\n",
        "                  xaxis_title = 'Date', yaxis_title = 'Volume')\n",
        "fig.show()"
      ],
      "execution_count": 74,
      "outputs": [
        {
          "output_type": "display_data",
          "data": {
            "text/html": [
              "<html>\n",
              "<head><meta charset=\"utf-8\" /></head>\n",
              "<body>\n",
              "    <div>            <script src=\"https://cdnjs.cloudflare.com/ajax/libs/mathjax/2.7.5/MathJax.js?config=TeX-AMS-MML_SVG\"></script><script type=\"text/javascript\">if (window.MathJax) {MathJax.Hub.Config({SVG: {font: \"STIX-Web\"}});}</script>                <script type=\"text/javascript\">window.PlotlyConfig = {MathJaxConfig: 'local'};</script>\n",
              "        <script src=\"https://cdn.plot.ly/plotly-2.8.3.min.js\"></script>                <div id=\"6e5f0291-1cb4-4305-9223-9436bc9621bf\" class=\"plotly-graph-div\" style=\"height:500px; width:900px;\"></div>            <script type=\"text/javascript\">                                    window.PLOTLYENV=window.PLOTLYENV || {};                                    if (document.getElementById(\"6e5f0291-1cb4-4305-9223-9436bc9621bf\")) {                    Plotly.newPlot(                        \"6e5f0291-1cb4-4305-9223-9436bc9621bf\",                        [{\"mode\":\"lines\",\"x\":[\"2018-01-02T00:00:00-05:00\",\"2018-01-03T00:00:00-05:00\",\"2018-01-04T00:00:00-05:00\",\"2018-01-05T00:00:00-05:00\",\"2018-01-08T00:00:00-05:00\",\"2018-01-09T00:00:00-05:00\",\"2018-01-10T00:00:00-05:00\",\"2018-01-11T00:00:00-05:00\",\"2018-01-12T00:00:00-05:00\",\"2018-01-16T00:00:00-05:00\",\"2018-01-17T00:00:00-05:00\",\"2018-01-18T00:00:00-05:00\",\"2018-01-19T00:00:00-05:00\",\"2018-01-22T00:00:00-05:00\",\"2018-01-23T00:00:00-05:00\",\"2018-01-24T00:00:00-05:00\",\"2018-01-25T00:00:00-05:00\",\"2018-01-26T00:00:00-05:00\",\"2018-01-29T00:00:00-05:00\",\"2018-01-30T00:00:00-05:00\",\"2018-01-31T00:00:00-05:00\",\"2018-02-01T00:00:00-05:00\",\"2018-02-02T00:00:00-05:00\",\"2018-02-05T00:00:00-05:00\",\"2018-02-06T00:00:00-05:00\",\"2018-02-07T00:00:00-05:00\",\"2018-02-08T00:00:00-05:00\",\"2018-02-09T00:00:00-05:00\",\"2018-02-12T00:00:00-05:00\",\"2018-02-13T00:00:00-05:00\",\"2018-02-14T00:00:00-05:00\",\"2018-02-15T00:00:00-05:00\",\"2018-02-16T00:00:00-05:00\",\"2018-02-20T00:00:00-05:00\",\"2018-02-21T00:00:00-05:00\",\"2018-02-22T00:00:00-05:00\",\"2018-02-23T00:00:00-05:00\",\"2018-02-26T00:00:00-05:00\",\"2018-02-27T00:00:00-05:00\",\"2018-02-28T00:00:00-05:00\",\"2018-03-01T00:00:00-05:00\",\"2018-03-02T00:00:00-05:00\",\"2018-03-05T00:00:00-05:00\",\"2018-03-06T00:00:00-05:00\",\"2018-03-07T00:00:00-05:00\",\"2018-03-08T00:00:00-05:00\",\"2018-03-09T00:00:00-05:00\",\"2018-03-12T00:00:00-04:00\",\"2018-03-13T00:00:00-04:00\",\"2018-03-14T00:00:00-04:00\",\"2018-03-15T00:00:00-04:00\",\"2018-03-16T00:00:00-04:00\",\"2018-03-19T00:00:00-04:00\",\"2018-03-20T00:00:00-04:00\",\"2018-03-21T00:00:00-04:00\",\"2018-03-22T00:00:00-04:00\",\"2018-03-23T00:00:00-04:00\",\"2018-03-26T00:00:00-04:00\",\"2018-03-27T00:00:00-04:00\",\"2018-03-28T00:00:00-04:00\",\"2018-03-29T00:00:00-04:00\",\"2018-04-02T00:00:00-04:00\",\"2018-04-03T00:00:00-04:00\",\"2018-04-04T00:00:00-04:00\",\"2018-04-05T00:00:00-04:00\",\"2018-04-06T00:00:00-04:00\",\"2018-04-09T00:00:00-04:00\",\"2018-04-10T00:00:00-04:00\",\"2018-04-11T00:00:00-04:00\",\"2018-04-12T00:00:00-04:00\",\"2018-04-13T00:00:00-04:00\",\"2018-04-16T00:00:00-04:00\",\"2018-04-17T00:00:00-04:00\",\"2018-04-18T00:00:00-04:00\",\"2018-04-19T00:00:00-04:00\",\"2018-04-20T00:00:00-04:00\",\"2018-04-23T00:00:00-04:00\",\"2018-04-24T00:00:00-04:00\",\"2018-04-25T00:00:00-04:00\",\"2018-04-26T00:00:00-04:00\",\"2018-04-27T00:00:00-04:00\",\"2018-04-30T00:00:00-04:00\",\"2018-05-01T00:00:00-04:00\",\"2018-05-02T00:00:00-04:00\",\"2018-05-03T00:00:00-04:00\",\"2018-05-04T00:00:00-04:00\",\"2018-05-07T00:00:00-04:00\",\"2018-05-08T00:00:00-04:00\",\"2018-05-09T00:00:00-04:00\",\"2018-05-10T00:00:00-04:00\",\"2018-05-11T00:00:00-04:00\",\"2018-05-14T00:00:00-04:00\",\"2018-05-15T00:00:00-04:00\",\"2018-05-16T00:00:00-04:00\",\"2018-05-17T00:00:00-04:00\",\"2018-05-18T00:00:00-04:00\",\"2018-05-21T00:00:00-04:00\",\"2018-05-22T00:00:00-04:00\",\"2018-05-23T00:00:00-04:00\",\"2018-05-24T00:00:00-04:00\",\"2018-05-25T00:00:00-04:00\",\"2018-05-29T00:00:00-04:00\",\"2018-05-30T00:00:00-04:00\",\"2018-05-31T00:00:00-04:00\",\"2018-06-01T00:00:00-04:00\",\"2018-06-04T00:00:00-04:00\",\"2018-06-05T00:00:00-04:00\",\"2018-06-06T00:00:00-04:00\",\"2018-06-07T00:00:00-04:00\",\"2018-06-08T00:00:00-04:00\",\"2018-06-11T00:00:00-04:00\",\"2018-06-12T00:00:00-04:00\",\"2018-06-13T00:00:00-04:00\",\"2018-06-14T00:00:00-04:00\",\"2018-06-15T00:00:00-04:00\",\"2018-06-18T00:00:00-04:00\",\"2018-06-19T00:00:00-04:00\",\"2018-06-20T00:00:00-04:00\",\"2018-06-21T00:00:00-04:00\",\"2018-06-22T00:00:00-04:00\",\"2018-06-25T00:00:00-04:00\",\"2018-06-26T00:00:00-04:00\",\"2018-06-27T00:00:00-04:00\",\"2018-06-28T00:00:00-04:00\",\"2018-06-29T00:00:00-04:00\",\"2018-07-02T00:00:00-04:00\",\"2018-07-03T00:00:00-04:00\",\"2018-07-05T00:00:00-04:00\",\"2018-07-06T00:00:00-04:00\",\"2018-07-09T00:00:00-04:00\",\"2018-07-10T00:00:00-04:00\",\"2018-07-11T00:00:00-04:00\",\"2018-07-12T00:00:00-04:00\",\"2018-07-13T00:00:00-04:00\",\"2018-07-16T00:00:00-04:00\",\"2018-07-17T00:00:00-04:00\",\"2018-07-18T00:00:00-04:00\",\"2018-07-19T00:00:00-04:00\",\"2018-07-20T00:00:00-04:00\",\"2018-07-23T00:00:00-04:00\",\"2018-07-24T00:00:00-04:00\",\"2018-07-25T00:00:00-04:00\",\"2018-07-26T00:00:00-04:00\",\"2018-07-27T00:00:00-04:00\",\"2018-07-30T00:00:00-04:00\",\"2018-07-31T00:00:00-04:00\",\"2018-08-01T00:00:00-04:00\",\"2018-08-02T00:00:00-04:00\",\"2018-08-03T00:00:00-04:00\",\"2018-08-06T00:00:00-04:00\",\"2018-08-07T00:00:00-04:00\",\"2018-08-08T00:00:00-04:00\",\"2018-08-09T00:00:00-04:00\",\"2018-08-10T00:00:00-04:00\",\"2018-08-13T00:00:00-04:00\",\"2018-08-14T00:00:00-04:00\",\"2018-08-15T00:00:00-04:00\",\"2018-08-16T00:00:00-04:00\",\"2018-08-17T00:00:00-04:00\",\"2018-08-20T00:00:00-04:00\",\"2018-08-21T00:00:00-04:00\",\"2018-08-22T00:00:00-04:00\",\"2018-08-23T00:00:00-04:00\",\"2018-08-24T00:00:00-04:00\",\"2018-08-27T00:00:00-04:00\",\"2018-08-28T00:00:00-04:00\",\"2018-08-29T00:00:00-04:00\",\"2018-08-30T00:00:00-04:00\",\"2018-08-31T00:00:00-04:00\",\"2018-09-04T00:00:00-04:00\",\"2018-09-05T00:00:00-04:00\",\"2018-09-06T00:00:00-04:00\",\"2018-09-07T00:00:00-04:00\",\"2018-09-10T00:00:00-04:00\",\"2018-09-11T00:00:00-04:00\",\"2018-09-12T00:00:00-04:00\",\"2018-09-13T00:00:00-04:00\",\"2018-09-14T00:00:00-04:00\",\"2018-09-17T00:00:00-04:00\",\"2018-09-18T00:00:00-04:00\",\"2018-09-19T00:00:00-04:00\",\"2018-09-20T00:00:00-04:00\",\"2018-09-21T00:00:00-04:00\",\"2018-09-24T00:00:00-04:00\",\"2018-09-25T00:00:00-04:00\",\"2018-09-26T00:00:00-04:00\",\"2018-09-27T00:00:00-04:00\",\"2018-09-28T00:00:00-04:00\",\"2018-10-01T00:00:00-04:00\",\"2018-10-02T00:00:00-04:00\",\"2018-10-03T00:00:00-04:00\",\"2018-10-04T00:00:00-04:00\",\"2018-10-05T00:00:00-04:00\",\"2018-10-08T00:00:00-04:00\",\"2018-10-09T00:00:00-04:00\",\"2018-10-10T00:00:00-04:00\",\"2018-10-11T00:00:00-04:00\",\"2018-10-12T00:00:00-04:00\",\"2018-10-15T00:00:00-04:00\",\"2018-10-16T00:00:00-04:00\",\"2018-10-17T00:00:00-04:00\",\"2018-10-18T00:00:00-04:00\",\"2018-10-19T00:00:00-04:00\",\"2018-10-22T00:00:00-04:00\",\"2018-10-23T00:00:00-04:00\",\"2018-10-24T00:00:00-04:00\",\"2018-10-25T00:00:00-04:00\",\"2018-10-26T00:00:00-04:00\",\"2018-10-29T00:00:00-04:00\",\"2018-10-30T00:00:00-04:00\",\"2018-10-31T00:00:00-04:00\",\"2018-11-01T00:00:00-04:00\",\"2018-11-02T00:00:00-04:00\",\"2018-11-05T00:00:00-05:00\",\"2018-11-06T00:00:00-05:00\",\"2018-11-07T00:00:00-05:00\",\"2018-11-08T00:00:00-05:00\",\"2018-11-09T00:00:00-05:00\",\"2018-11-12T00:00:00-05:00\",\"2018-11-13T00:00:00-05:00\",\"2018-11-14T00:00:00-05:00\",\"2018-11-15T00:00:00-05:00\",\"2018-11-16T00:00:00-05:00\",\"2018-11-19T00:00:00-05:00\",\"2018-11-20T00:00:00-05:00\",\"2018-11-21T00:00:00-05:00\",\"2018-11-23T00:00:00-05:00\",\"2018-11-26T00:00:00-05:00\",\"2018-11-27T00:00:00-05:00\",\"2018-11-28T00:00:00-05:00\",\"2018-11-29T00:00:00-05:00\",\"2018-11-30T00:00:00-05:00\",\"2018-12-03T00:00:00-05:00\",\"2018-12-04T00:00:00-05:00\",\"2018-12-06T00:00:00-05:00\",\"2018-12-07T00:00:00-05:00\",\"2018-12-10T00:00:00-05:00\",\"2018-12-11T00:00:00-05:00\",\"2018-12-12T00:00:00-05:00\",\"2018-12-13T00:00:00-05:00\",\"2018-12-14T00:00:00-05:00\",\"2018-12-17T00:00:00-05:00\",\"2018-12-18T00:00:00-05:00\",\"2018-12-19T00:00:00-05:00\",\"2018-12-20T00:00:00-05:00\",\"2018-12-21T00:00:00-05:00\",\"2018-12-24T00:00:00-05:00\",\"2018-12-26T00:00:00-05:00\",\"2018-12-27T00:00:00-05:00\",\"2018-12-28T00:00:00-05:00\",\"2018-12-31T00:00:00-05:00\",\"2019-01-02T00:00:00-05:00\",\"2019-01-03T00:00:00-05:00\",\"2019-01-04T00:00:00-05:00\",\"2019-01-07T00:00:00-05:00\",\"2019-01-08T00:00:00-05:00\",\"2019-01-09T00:00:00-05:00\",\"2019-01-10T00:00:00-05:00\",\"2019-01-11T00:00:00-05:00\",\"2019-01-14T00:00:00-05:00\",\"2019-01-15T00:00:00-05:00\",\"2019-01-16T00:00:00-05:00\",\"2019-01-17T00:00:00-05:00\",\"2019-01-18T00:00:00-05:00\",\"2019-01-22T00:00:00-05:00\",\"2019-01-23T00:00:00-05:00\",\"2019-01-24T00:00:00-05:00\",\"2019-01-25T00:00:00-05:00\",\"2019-01-28T00:00:00-05:00\",\"2019-01-29T00:00:00-05:00\",\"2019-01-30T00:00:00-05:00\",\"2019-01-31T00:00:00-05:00\",\"2019-02-01T00:00:00-05:00\",\"2019-02-04T00:00:00-05:00\",\"2019-02-05T00:00:00-05:00\",\"2019-02-06T00:00:00-05:00\",\"2019-02-07T00:00:00-05:00\",\"2019-02-08T00:00:00-05:00\",\"2019-02-11T00:00:00-05:00\",\"2019-02-12T00:00:00-05:00\",\"2019-02-13T00:00:00-05:00\",\"2019-02-14T00:00:00-05:00\",\"2019-02-15T00:00:00-05:00\",\"2019-02-19T00:00:00-05:00\",\"2019-02-20T00:00:00-05:00\",\"2019-02-21T00:00:00-05:00\",\"2019-02-22T00:00:00-05:00\",\"2019-02-25T00:00:00-05:00\",\"2019-02-26T00:00:00-05:00\",\"2019-02-27T00:00:00-05:00\",\"2019-02-28T00:00:00-05:00\",\"2019-03-01T00:00:00-05:00\",\"2019-03-04T00:00:00-05:00\",\"2019-03-05T00:00:00-05:00\",\"2019-03-06T00:00:00-05:00\",\"2019-03-07T00:00:00-05:00\",\"2019-03-08T00:00:00-05:00\",\"2019-03-11T00:00:00-04:00\",\"2019-03-12T00:00:00-04:00\",\"2019-03-13T00:00:00-04:00\",\"2019-03-14T00:00:00-04:00\",\"2019-03-15T00:00:00-04:00\",\"2019-03-18T00:00:00-04:00\",\"2019-03-19T00:00:00-04:00\",\"2019-03-20T00:00:00-04:00\",\"2019-03-21T00:00:00-04:00\",\"2019-03-22T00:00:00-04:00\",\"2019-03-25T00:00:00-04:00\",\"2019-03-26T00:00:00-04:00\",\"2019-03-27T00:00:00-04:00\",\"2019-03-28T00:00:00-04:00\",\"2019-03-29T00:00:00-04:00\",\"2019-04-01T00:00:00-04:00\",\"2019-04-02T00:00:00-04:00\",\"2019-04-03T00:00:00-04:00\",\"2019-04-04T00:00:00-04:00\",\"2019-04-05T00:00:00-04:00\",\"2019-04-08T00:00:00-04:00\",\"2019-04-09T00:00:00-04:00\",\"2019-04-10T00:00:00-04:00\",\"2019-04-11T00:00:00-04:00\",\"2019-04-12T00:00:00-04:00\",\"2019-04-15T00:00:00-04:00\",\"2019-04-16T00:00:00-04:00\",\"2019-04-17T00:00:00-04:00\",\"2019-04-18T00:00:00-04:00\",\"2019-04-22T00:00:00-04:00\",\"2019-04-23T00:00:00-04:00\",\"2019-04-24T00:00:00-04:00\",\"2019-04-25T00:00:00-04:00\",\"2019-04-26T00:00:00-04:00\",\"2019-04-29T00:00:00-04:00\",\"2019-04-30T00:00:00-04:00\",\"2019-05-01T00:00:00-04:00\",\"2019-05-02T00:00:00-04:00\",\"2019-05-03T00:00:00-04:00\",\"2019-05-06T00:00:00-04:00\",\"2019-05-07T00:00:00-04:00\",\"2019-05-08T00:00:00-04:00\",\"2019-05-09T00:00:00-04:00\",\"2019-05-10T00:00:00-04:00\",\"2019-05-13T00:00:00-04:00\",\"2019-05-14T00:00:00-04:00\",\"2019-05-15T00:00:00-04:00\",\"2019-05-16T00:00:00-04:00\",\"2019-05-17T00:00:00-04:00\",\"2019-05-20T00:00:00-04:00\",\"2019-05-21T00:00:00-04:00\",\"2019-05-22T00:00:00-04:00\",\"2019-05-23T00:00:00-04:00\",\"2019-05-24T00:00:00-04:00\",\"2019-05-28T00:00:00-04:00\",\"2019-05-29T00:00:00-04:00\",\"2019-05-30T00:00:00-04:00\",\"2019-05-31T00:00:00-04:00\",\"2019-06-03T00:00:00-04:00\",\"2019-06-04T00:00:00-04:00\",\"2019-06-05T00:00:00-04:00\",\"2019-06-06T00:00:00-04:00\",\"2019-06-07T00:00:00-04:00\",\"2019-06-10T00:00:00-04:00\",\"2019-06-11T00:00:00-04:00\",\"2019-06-12T00:00:00-04:00\",\"2019-06-13T00:00:00-04:00\",\"2019-06-14T00:00:00-04:00\",\"2019-06-17T00:00:00-04:00\",\"2019-06-18T00:00:00-04:00\",\"2019-06-19T00:00:00-04:00\",\"2019-06-20T00:00:00-04:00\",\"2019-06-21T00:00:00-04:00\",\"2019-06-24T00:00:00-04:00\",\"2019-06-25T00:00:00-04:00\",\"2019-06-26T00:00:00-04:00\",\"2019-06-27T00:00:00-04:00\",\"2019-06-28T00:00:00-04:00\",\"2019-07-01T00:00:00-04:00\",\"2019-07-02T00:00:00-04:00\",\"2019-07-03T00:00:00-04:00\",\"2019-07-05T00:00:00-04:00\",\"2019-07-08T00:00:00-04:00\",\"2019-07-09T00:00:00-04:00\",\"2019-07-10T00:00:00-04:00\",\"2019-07-11T00:00:00-04:00\",\"2019-07-12T00:00:00-04:00\",\"2019-07-15T00:00:00-04:00\",\"2019-07-16T00:00:00-04:00\",\"2019-07-17T00:00:00-04:00\",\"2019-07-18T00:00:00-04:00\",\"2019-07-19T00:00:00-04:00\",\"2019-07-22T00:00:00-04:00\",\"2019-07-23T00:00:00-04:00\",\"2019-07-24T00:00:00-04:00\",\"2019-07-25T00:00:00-04:00\",\"2019-07-26T00:00:00-04:00\",\"2019-07-29T00:00:00-04:00\",\"2019-07-30T00:00:00-04:00\",\"2019-07-31T00:00:00-04:00\",\"2019-08-01T00:00:00-04:00\",\"2019-08-02T00:00:00-04:00\",\"2019-08-05T00:00:00-04:00\",\"2019-08-06T00:00:00-04:00\",\"2019-08-07T00:00:00-04:00\",\"2019-08-08T00:00:00-04:00\",\"2019-08-09T00:00:00-04:00\",\"2019-08-12T00:00:00-04:00\",\"2019-08-13T00:00:00-04:00\",\"2019-08-14T00:00:00-04:00\",\"2019-08-15T00:00:00-04:00\",\"2019-08-16T00:00:00-04:00\",\"2019-08-19T00:00:00-04:00\",\"2019-08-20T00:00:00-04:00\",\"2019-08-21T00:00:00-04:00\",\"2019-08-22T00:00:00-04:00\",\"2019-08-23T00:00:00-04:00\",\"2019-08-26T00:00:00-04:00\",\"2019-08-27T00:00:00-04:00\",\"2019-08-28T00:00:00-04:00\",\"2019-08-29T00:00:00-04:00\",\"2019-08-30T00:00:00-04:00\",\"2019-09-03T00:00:00-04:00\",\"2019-09-04T00:00:00-04:00\",\"2019-09-05T00:00:00-04:00\",\"2019-09-06T00:00:00-04:00\",\"2019-09-09T00:00:00-04:00\",\"2019-09-10T00:00:00-04:00\",\"2019-09-11T00:00:00-04:00\",\"2019-09-12T00:00:00-04:00\",\"2019-09-13T00:00:00-04:00\",\"2019-09-16T00:00:00-04:00\",\"2019-09-17T00:00:00-04:00\",\"2019-09-18T00:00:00-04:00\",\"2019-09-19T00:00:00-04:00\",\"2019-09-20T00:00:00-04:00\",\"2019-09-23T00:00:00-04:00\",\"2019-09-24T00:00:00-04:00\",\"2019-09-25T00:00:00-04:00\",\"2019-09-26T00:00:00-04:00\",\"2019-09-27T00:00:00-04:00\",\"2019-09-30T00:00:00-04:00\",\"2019-10-01T00:00:00-04:00\",\"2019-10-02T00:00:00-04:00\",\"2019-10-03T00:00:00-04:00\",\"2019-10-04T00:00:00-04:00\",\"2019-10-07T00:00:00-04:00\",\"2019-10-08T00:00:00-04:00\",\"2019-10-09T00:00:00-04:00\",\"2019-10-10T00:00:00-04:00\",\"2019-10-11T00:00:00-04:00\",\"2019-10-14T00:00:00-04:00\",\"2019-10-15T00:00:00-04:00\",\"2019-10-16T00:00:00-04:00\",\"2019-10-17T00:00:00-04:00\",\"2019-10-18T00:00:00-04:00\",\"2019-10-21T00:00:00-04:00\",\"2019-10-22T00:00:00-04:00\",\"2019-10-23T00:00:00-04:00\",\"2019-10-24T00:00:00-04:00\",\"2019-10-25T00:00:00-04:00\",\"2019-10-28T00:00:00-04:00\",\"2019-10-29T00:00:00-04:00\",\"2019-10-30T00:00:00-04:00\",\"2019-10-31T00:00:00-04:00\",\"2019-11-01T00:00:00-04:00\",\"2019-11-04T00:00:00-05:00\",\"2019-11-05T00:00:00-05:00\",\"2019-11-06T00:00:00-05:00\",\"2019-11-07T00:00:00-05:00\",\"2019-11-08T00:00:00-05:00\",\"2019-11-11T00:00:00-05:00\",\"2019-11-12T00:00:00-05:00\",\"2019-11-13T00:00:00-05:00\",\"2019-11-14T00:00:00-05:00\",\"2019-11-15T00:00:00-05:00\",\"2019-11-18T00:00:00-05:00\",\"2019-11-19T00:00:00-05:00\",\"2019-11-20T00:00:00-05:00\",\"2019-11-21T00:00:00-05:00\",\"2019-11-22T00:00:00-05:00\",\"2019-11-25T00:00:00-05:00\",\"2019-11-26T00:00:00-05:00\",\"2019-11-27T00:00:00-05:00\",\"2019-11-29T00:00:00-05:00\",\"2019-12-02T00:00:00-05:00\",\"2019-12-03T00:00:00-05:00\",\"2019-12-04T00:00:00-05:00\",\"2019-12-05T00:00:00-05:00\",\"2019-12-06T00:00:00-05:00\",\"2019-12-09T00:00:00-05:00\",\"2019-12-10T00:00:00-05:00\",\"2019-12-11T00:00:00-05:00\",\"2019-12-12T00:00:00-05:00\",\"2019-12-13T00:00:00-05:00\",\"2019-12-16T00:00:00-05:00\",\"2019-12-17T00:00:00-05:00\",\"2019-12-18T00:00:00-05:00\",\"2019-12-19T00:00:00-05:00\",\"2019-12-20T00:00:00-05:00\",\"2019-12-23T00:00:00-05:00\",\"2019-12-24T00:00:00-05:00\",\"2019-12-26T00:00:00-05:00\",\"2019-12-27T00:00:00-05:00\",\"2019-12-30T00:00:00-05:00\",\"2019-12-31T00:00:00-05:00\",\"2020-01-02T00:00:00-05:00\",\"2020-01-03T00:00:00-05:00\",\"2020-01-06T00:00:00-05:00\",\"2020-01-07T00:00:00-05:00\",\"2020-01-08T00:00:00-05:00\",\"2020-01-09T00:00:00-05:00\",\"2020-01-10T00:00:00-05:00\",\"2020-01-13T00:00:00-05:00\",\"2020-01-14T00:00:00-05:00\",\"2020-01-15T00:00:00-05:00\",\"2020-01-16T00:00:00-05:00\",\"2020-01-17T00:00:00-05:00\",\"2020-01-21T00:00:00-05:00\",\"2020-01-22T00:00:00-05:00\",\"2020-01-23T00:00:00-05:00\",\"2020-01-24T00:00:00-05:00\",\"2020-01-27T00:00:00-05:00\",\"2020-01-28T00:00:00-05:00\",\"2020-01-29T00:00:00-05:00\",\"2020-01-30T00:00:00-05:00\",\"2020-01-31T00:00:00-05:00\",\"2020-02-03T00:00:00-05:00\",\"2020-02-04T00:00:00-05:00\",\"2020-02-05T00:00:00-05:00\",\"2020-02-06T00:00:00-05:00\",\"2020-02-07T00:00:00-05:00\",\"2020-02-10T00:00:00-05:00\",\"2020-02-11T00:00:00-05:00\",\"2020-02-12T00:00:00-05:00\",\"2020-02-13T00:00:00-05:00\",\"2020-02-14T00:00:00-05:00\",\"2020-02-18T00:00:00-05:00\",\"2020-02-19T00:00:00-05:00\",\"2020-02-20T00:00:00-05:00\",\"2020-02-21T00:00:00-05:00\",\"2020-02-24T00:00:00-05:00\",\"2020-02-25T00:00:00-05:00\",\"2020-02-26T00:00:00-05:00\",\"2020-02-27T00:00:00-05:00\",\"2020-02-28T00:00:00-05:00\",\"2020-03-02T00:00:00-05:00\",\"2020-03-03T00:00:00-05:00\",\"2020-03-04T00:00:00-05:00\",\"2020-03-05T00:00:00-05:00\",\"2020-03-06T00:00:00-05:00\",\"2020-03-09T00:00:00-04:00\",\"2020-03-10T00:00:00-04:00\",\"2020-03-11T00:00:00-04:00\",\"2020-03-12T00:00:00-04:00\",\"2020-03-13T00:00:00-04:00\",\"2020-03-16T00:00:00-04:00\",\"2020-03-17T00:00:00-04:00\",\"2020-03-18T00:00:00-04:00\",\"2020-03-19T00:00:00-04:00\",\"2020-03-20T00:00:00-04:00\",\"2020-03-23T00:00:00-04:00\",\"2020-03-24T00:00:00-04:00\",\"2020-03-25T00:00:00-04:00\",\"2020-03-26T00:00:00-04:00\",\"2020-03-27T00:00:00-04:00\",\"2020-03-30T00:00:00-04:00\",\"2020-03-31T00:00:00-04:00\",\"2020-04-01T00:00:00-04:00\",\"2020-04-02T00:00:00-04:00\",\"2020-04-03T00:00:00-04:00\",\"2020-04-06T00:00:00-04:00\",\"2020-04-07T00:00:00-04:00\",\"2020-04-08T00:00:00-04:00\",\"2020-04-09T00:00:00-04:00\",\"2020-04-13T00:00:00-04:00\",\"2020-04-14T00:00:00-04:00\",\"2020-04-15T00:00:00-04:00\",\"2020-04-16T00:00:00-04:00\",\"2020-04-17T00:00:00-04:00\",\"2020-04-20T00:00:00-04:00\",\"2020-04-21T00:00:00-04:00\",\"2020-04-22T00:00:00-04:00\",\"2020-04-23T00:00:00-04:00\",\"2020-04-24T00:00:00-04:00\",\"2020-04-27T00:00:00-04:00\",\"2020-04-28T00:00:00-04:00\",\"2020-04-29T00:00:00-04:00\",\"2020-04-30T00:00:00-04:00\",\"2020-05-01T00:00:00-04:00\",\"2020-05-04T00:00:00-04:00\",\"2020-05-05T00:00:00-04:00\",\"2020-05-06T00:00:00-04:00\",\"2020-05-07T00:00:00-04:00\",\"2020-05-08T00:00:00-04:00\",\"2020-05-11T00:00:00-04:00\",\"2020-05-12T00:00:00-04:00\",\"2020-05-13T00:00:00-04:00\",\"2020-05-14T00:00:00-04:00\",\"2020-05-15T00:00:00-04:00\",\"2020-05-18T00:00:00-04:00\",\"2020-05-19T00:00:00-04:00\",\"2020-05-20T00:00:00-04:00\",\"2020-05-21T00:00:00-04:00\",\"2020-05-22T00:00:00-04:00\",\"2020-05-26T00:00:00-04:00\",\"2020-05-27T00:00:00-04:00\",\"2020-05-28T00:00:00-04:00\",\"2020-05-29T00:00:00-04:00\",\"2020-06-01T00:00:00-04:00\",\"2020-06-02T00:00:00-04:00\",\"2020-06-03T00:00:00-04:00\",\"2020-06-04T00:00:00-04:00\",\"2020-06-05T00:00:00-04:00\",\"2020-06-08T00:00:00-04:00\",\"2020-06-09T00:00:00-04:00\",\"2020-06-10T00:00:00-04:00\",\"2020-06-11T00:00:00-04:00\",\"2020-06-12T00:00:00-04:00\",\"2020-06-15T00:00:00-04:00\",\"2020-06-16T00:00:00-04:00\",\"2020-06-17T00:00:00-04:00\",\"2020-06-18T00:00:00-04:00\",\"2020-06-19T00:00:00-04:00\",\"2020-06-22T00:00:00-04:00\",\"2020-06-23T00:00:00-04:00\",\"2020-06-24T00:00:00-04:00\",\"2020-06-25T00:00:00-04:00\",\"2020-06-26T00:00:00-04:00\",\"2020-06-29T00:00:00-04:00\",\"2020-06-30T00:00:00-04:00\",\"2020-07-01T00:00:00-04:00\",\"2020-07-02T00:00:00-04:00\",\"2020-07-06T00:00:00-04:00\",\"2020-07-07T00:00:00-04:00\",\"2020-07-08T00:00:00-04:00\",\"2020-07-09T00:00:00-04:00\",\"2020-07-10T00:00:00-04:00\",\"2020-07-13T00:00:00-04:00\",\"2020-07-14T00:00:00-04:00\",\"2020-07-15T00:00:00-04:00\",\"2020-07-16T00:00:00-04:00\",\"2020-07-17T00:00:00-04:00\",\"2020-07-20T00:00:00-04:00\",\"2020-07-21T00:00:00-04:00\",\"2020-07-22T00:00:00-04:00\",\"2020-07-23T00:00:00-04:00\",\"2020-07-24T00:00:00-04:00\",\"2020-07-27T00:00:00-04:00\",\"2020-07-28T00:00:00-04:00\",\"2020-07-29T00:00:00-04:00\",\"2020-07-30T00:00:00-04:00\",\"2020-07-31T00:00:00-04:00\",\"2020-08-03T00:00:00-04:00\",\"2020-08-04T00:00:00-04:00\",\"2020-08-05T00:00:00-04:00\",\"2020-08-06T00:00:00-04:00\",\"2020-08-07T00:00:00-04:00\",\"2020-08-10T00:00:00-04:00\",\"2020-08-11T00:00:00-04:00\",\"2020-08-12T00:00:00-04:00\",\"2020-08-13T00:00:00-04:00\",\"2020-08-14T00:00:00-04:00\",\"2020-08-17T00:00:00-04:00\",\"2020-08-18T00:00:00-04:00\",\"2020-08-19T00:00:00-04:00\",\"2020-08-20T00:00:00-04:00\",\"2020-08-21T00:00:00-04:00\",\"2020-08-24T00:00:00-04:00\",\"2020-08-25T00:00:00-04:00\",\"2020-08-26T00:00:00-04:00\",\"2020-08-27T00:00:00-04:00\",\"2020-08-28T00:00:00-04:00\",\"2020-08-31T00:00:00-04:00\",\"2020-09-01T00:00:00-04:00\",\"2020-09-02T00:00:00-04:00\",\"2020-09-03T00:00:00-04:00\",\"2020-09-04T00:00:00-04:00\",\"2020-09-08T00:00:00-04:00\",\"2020-09-09T00:00:00-04:00\",\"2020-09-10T00:00:00-04:00\",\"2020-09-11T00:00:00-04:00\",\"2020-09-14T00:00:00-04:00\",\"2020-09-15T00:00:00-04:00\",\"2020-09-16T00:00:00-04:00\",\"2020-09-17T00:00:00-04:00\",\"2020-09-18T00:00:00-04:00\",\"2020-09-21T00:00:00-04:00\",\"2020-09-22T00:00:00-04:00\",\"2020-09-23T00:00:00-04:00\",\"2020-09-24T00:00:00-04:00\",\"2020-09-25T00:00:00-04:00\",\"2020-09-28T00:00:00-04:00\",\"2020-09-29T00:00:00-04:00\",\"2020-09-30T00:00:00-04:00\",\"2020-10-01T00:00:00-04:00\",\"2020-10-02T00:00:00-04:00\",\"2020-10-05T00:00:00-04:00\",\"2020-10-06T00:00:00-04:00\",\"2020-10-07T00:00:00-04:00\",\"2020-10-08T00:00:00-04:00\",\"2020-10-09T00:00:00-04:00\",\"2020-10-12T00:00:00-04:00\",\"2020-10-13T00:00:00-04:00\",\"2020-10-14T00:00:00-04:00\",\"2020-10-15T00:00:00-04:00\",\"2020-10-16T00:00:00-04:00\",\"2020-10-19T00:00:00-04:00\",\"2020-10-20T00:00:00-04:00\",\"2020-10-21T00:00:00-04:00\",\"2020-10-22T00:00:00-04:00\",\"2020-10-23T00:00:00-04:00\",\"2020-10-26T00:00:00-04:00\",\"2020-10-27T00:00:00-04:00\",\"2020-10-28T00:00:00-04:00\",\"2020-10-29T00:00:00-04:00\",\"2020-10-30T00:00:00-04:00\",\"2020-11-02T00:00:00-05:00\",\"2020-11-03T00:00:00-05:00\",\"2020-11-04T00:00:00-05:00\",\"2020-11-05T00:00:00-05:00\",\"2020-11-06T00:00:00-05:00\",\"2020-11-09T00:00:00-05:00\",\"2020-11-10T00:00:00-05:00\",\"2020-11-11T00:00:00-05:00\",\"2020-11-12T00:00:00-05:00\",\"2020-11-13T00:00:00-05:00\",\"2020-11-16T00:00:00-05:00\",\"2020-11-17T00:00:00-05:00\",\"2020-11-18T00:00:00-05:00\",\"2020-11-19T00:00:00-05:00\",\"2020-11-20T00:00:00-05:00\",\"2020-11-23T00:00:00-05:00\",\"2020-11-24T00:00:00-05:00\",\"2020-11-25T00:00:00-05:00\",\"2020-11-27T00:00:00-05:00\",\"2020-11-30T00:00:00-05:00\",\"2020-12-01T00:00:00-05:00\",\"2020-12-02T00:00:00-05:00\",\"2020-12-03T00:00:00-05:00\",\"2020-12-04T00:00:00-05:00\",\"2020-12-07T00:00:00-05:00\",\"2020-12-08T00:00:00-05:00\",\"2020-12-09T00:00:00-05:00\",\"2020-12-10T00:00:00-05:00\",\"2020-12-11T00:00:00-05:00\",\"2020-12-14T00:00:00-05:00\",\"2020-12-15T00:00:00-05:00\",\"2020-12-16T00:00:00-05:00\",\"2020-12-17T00:00:00-05:00\",\"2020-12-18T00:00:00-05:00\",\"2020-12-21T00:00:00-05:00\",\"2020-12-22T00:00:00-05:00\",\"2020-12-23T00:00:00-05:00\",\"2020-12-24T00:00:00-05:00\",\"2020-12-28T00:00:00-05:00\",\"2020-12-29T00:00:00-05:00\",\"2020-12-30T00:00:00-05:00\",\"2020-12-31T00:00:00-05:00\",\"2021-01-04T00:00:00-05:00\",\"2021-01-05T00:00:00-05:00\",\"2021-01-06T00:00:00-05:00\",\"2021-01-07T00:00:00-05:00\",\"2021-01-08T00:00:00-05:00\",\"2021-01-11T00:00:00-05:00\",\"2021-01-12T00:00:00-05:00\",\"2021-01-13T00:00:00-05:00\",\"2021-01-14T00:00:00-05:00\",\"2021-01-15T00:00:00-05:00\",\"2021-01-19T00:00:00-05:00\",\"2021-01-20T00:00:00-05:00\",\"2021-01-21T00:00:00-05:00\",\"2021-01-22T00:00:00-05:00\",\"2021-01-25T00:00:00-05:00\",\"2021-01-26T00:00:00-05:00\",\"2021-01-27T00:00:00-05:00\",\"2021-01-28T00:00:00-05:00\",\"2021-01-29T00:00:00-05:00\",\"2021-02-01T00:00:00-05:00\",\"2021-02-02T00:00:00-05:00\",\"2021-02-03T00:00:00-05:00\",\"2021-02-04T00:00:00-05:00\",\"2021-02-05T00:00:00-05:00\",\"2021-02-08T00:00:00-05:00\",\"2021-02-09T00:00:00-05:00\",\"2021-02-10T00:00:00-05:00\",\"2021-02-11T00:00:00-05:00\",\"2021-02-12T00:00:00-05:00\",\"2021-02-16T00:00:00-05:00\",\"2021-02-17T00:00:00-05:00\",\"2021-02-18T00:00:00-05:00\",\"2021-02-19T00:00:00-05:00\",\"2021-02-22T00:00:00-05:00\",\"2021-02-23T00:00:00-05:00\",\"2021-02-24T00:00:00-05:00\",\"2021-02-25T00:00:00-05:00\",\"2021-02-26T00:00:00-05:00\",\"2021-03-01T00:00:00-05:00\",\"2021-03-02T00:00:00-05:00\",\"2021-03-03T00:00:00-05:00\",\"2021-03-04T00:00:00-05:00\",\"2021-03-05T00:00:00-05:00\",\"2021-03-08T00:00:00-05:00\",\"2021-03-09T00:00:00-05:00\",\"2021-03-10T00:00:00-05:00\",\"2021-03-11T00:00:00-05:00\",\"2021-03-12T00:00:00-05:00\",\"2021-03-15T00:00:00-04:00\",\"2021-03-16T00:00:00-04:00\",\"2021-03-17T00:00:00-04:00\",\"2021-03-18T00:00:00-04:00\",\"2021-03-19T00:00:00-04:00\",\"2021-03-22T00:00:00-04:00\",\"2021-03-23T00:00:00-04:00\",\"2021-03-24T00:00:00-04:00\",\"2021-03-25T00:00:00-04:00\",\"2021-03-26T00:00:00-04:00\",\"2021-03-29T00:00:00-04:00\",\"2021-03-30T00:00:00-04:00\",\"2021-03-31T00:00:00-04:00\",\"2021-04-01T00:00:00-04:00\",\"2021-04-05T00:00:00-04:00\",\"2021-04-06T00:00:00-04:00\",\"2021-04-07T00:00:00-04:00\",\"2021-04-08T00:00:00-04:00\",\"2021-04-09T00:00:00-04:00\",\"2021-04-12T00:00:00-04:00\",\"2021-04-13T00:00:00-04:00\",\"2021-04-14T00:00:00-04:00\",\"2021-04-15T00:00:00-04:00\",\"2021-04-16T00:00:00-04:00\",\"2021-04-19T00:00:00-04:00\",\"2021-04-20T00:00:00-04:00\",\"2021-04-21T00:00:00-04:00\",\"2021-04-22T00:00:00-04:00\",\"2021-04-23T00:00:00-04:00\",\"2021-04-26T00:00:00-04:00\",\"2021-04-27T00:00:00-04:00\",\"2021-04-28T00:00:00-04:00\",\"2021-04-29T00:00:00-04:00\",\"2021-04-30T00:00:00-04:00\",\"2021-05-03T00:00:00-04:00\",\"2021-05-04T00:00:00-04:00\",\"2021-05-05T00:00:00-04:00\",\"2021-05-06T00:00:00-04:00\",\"2021-05-07T00:00:00-04:00\",\"2021-05-10T00:00:00-04:00\",\"2021-05-11T00:00:00-04:00\",\"2021-05-12T00:00:00-04:00\",\"2021-05-13T00:00:00-04:00\",\"2021-05-14T00:00:00-04:00\",\"2021-05-17T00:00:00-04:00\",\"2021-05-18T00:00:00-04:00\",\"2021-05-19T00:00:00-04:00\",\"2021-05-20T00:00:00-04:00\",\"2021-05-21T00:00:00-04:00\",\"2021-05-24T00:00:00-04:00\",\"2021-05-25T00:00:00-04:00\",\"2021-05-26T00:00:00-04:00\",\"2021-05-27T00:00:00-04:00\",\"2021-05-28T00:00:00-04:00\",\"2021-06-01T00:00:00-04:00\",\"2021-06-02T00:00:00-04:00\",\"2021-06-03T00:00:00-04:00\",\"2021-06-04T00:00:00-04:00\",\"2021-06-07T00:00:00-04:00\",\"2021-06-08T00:00:00-04:00\",\"2021-06-09T00:00:00-04:00\",\"2021-06-10T00:00:00-04:00\",\"2021-06-11T00:00:00-04:00\",\"2021-06-14T00:00:00-04:00\",\"2021-06-15T00:00:00-04:00\",\"2021-06-16T00:00:00-04:00\",\"2021-06-17T00:00:00-04:00\",\"2021-06-18T00:00:00-04:00\",\"2021-06-21T00:00:00-04:00\",\"2021-06-22T00:00:00-04:00\",\"2021-06-23T00:00:00-04:00\",\"2021-06-24T00:00:00-04:00\",\"2021-06-25T00:00:00-04:00\",\"2021-06-28T00:00:00-04:00\",\"2021-06-29T00:00:00-04:00\",\"2021-06-30T00:00:00-04:00\",\"2021-07-01T00:00:00-04:00\",\"2021-07-02T00:00:00-04:00\",\"2021-07-06T00:00:00-04:00\",\"2021-07-07T00:00:00-04:00\",\"2021-07-08T00:00:00-04:00\",\"2021-07-09T00:00:00-04:00\",\"2021-07-12T00:00:00-04:00\",\"2021-07-13T00:00:00-04:00\",\"2021-07-14T00:00:00-04:00\",\"2021-07-15T00:00:00-04:00\",\"2021-07-16T00:00:00-04:00\",\"2021-07-19T00:00:00-04:00\",\"2021-07-20T00:00:00-04:00\",\"2021-07-21T00:00:00-04:00\",\"2021-07-22T00:00:00-04:00\",\"2021-07-23T00:00:00-04:00\",\"2021-07-26T00:00:00-04:00\",\"2021-07-27T00:00:00-04:00\",\"2021-07-28T00:00:00-04:00\",\"2021-07-29T00:00:00-04:00\",\"2021-07-30T00:00:00-04:00\",\"2021-08-02T00:00:00-04:00\",\"2021-08-03T00:00:00-04:00\",\"2021-08-04T00:00:00-04:00\",\"2021-08-05T00:00:00-04:00\",\"2021-08-06T00:00:00-04:00\",\"2021-08-09T00:00:00-04:00\",\"2021-08-10T00:00:00-04:00\",\"2021-08-11T00:00:00-04:00\",\"2021-08-12T00:00:00-04:00\",\"2021-08-13T00:00:00-04:00\",\"2021-08-16T00:00:00-04:00\",\"2021-08-17T00:00:00-04:00\",\"2021-08-18T00:00:00-04:00\",\"2021-08-19T00:00:00-04:00\",\"2021-08-20T00:00:00-04:00\",\"2021-08-23T00:00:00-04:00\",\"2021-08-24T00:00:00-04:00\",\"2021-08-25T00:00:00-04:00\",\"2021-08-26T00:00:00-04:00\",\"2021-08-27T00:00:00-04:00\",\"2021-08-30T00:00:00-04:00\",\"2021-08-31T00:00:00-04:00\",\"2021-09-01T00:00:00-04:00\",\"2021-09-02T00:00:00-04:00\",\"2021-09-03T00:00:00-04:00\",\"2021-09-07T00:00:00-04:00\",\"2021-09-08T00:00:00-04:00\",\"2021-09-09T00:00:00-04:00\",\"2021-09-10T00:00:00-04:00\",\"2021-09-13T00:00:00-04:00\",\"2021-09-14T00:00:00-04:00\",\"2021-09-15T00:00:00-04:00\",\"2021-09-16T00:00:00-04:00\",\"2021-09-17T00:00:00-04:00\",\"2021-09-20T00:00:00-04:00\",\"2021-09-21T00:00:00-04:00\",\"2021-09-22T00:00:00-04:00\",\"2021-09-23T00:00:00-04:00\",\"2021-09-24T00:00:00-04:00\",\"2021-09-27T00:00:00-04:00\",\"2021-09-28T00:00:00-04:00\",\"2021-09-29T00:00:00-04:00\",\"2021-09-30T00:00:00-04:00\",\"2021-10-01T00:00:00-04:00\",\"2021-10-04T00:00:00-04:00\",\"2021-10-05T00:00:00-04:00\",\"2021-10-06T00:00:00-04:00\",\"2021-10-07T00:00:00-04:00\",\"2021-10-08T00:00:00-04:00\",\"2021-10-11T00:00:00-04:00\",\"2021-10-12T00:00:00-04:00\",\"2021-10-13T00:00:00-04:00\",\"2021-10-14T00:00:00-04:00\",\"2021-10-15T00:00:00-04:00\",\"2021-10-18T00:00:00-04:00\",\"2021-10-19T00:00:00-04:00\",\"2021-10-20T00:00:00-04:00\",\"2021-10-21T00:00:00-04:00\",\"2021-10-22T00:00:00-04:00\",\"2021-10-25T00:00:00-04:00\",\"2021-10-26T00:00:00-04:00\",\"2021-10-27T00:00:00-04:00\",\"2021-10-28T00:00:00-04:00\",\"2021-10-29T00:00:00-04:00\",\"2021-11-01T00:00:00-04:00\",\"2021-11-02T00:00:00-04:00\",\"2021-11-03T00:00:00-04:00\",\"2021-11-04T00:00:00-04:00\",\"2021-11-05T00:00:00-04:00\",\"2021-11-08T00:00:00-05:00\",\"2021-11-09T00:00:00-05:00\",\"2021-11-10T00:00:00-05:00\",\"2021-11-11T00:00:00-05:00\",\"2021-11-12T00:00:00-05:00\",\"2021-11-15T00:00:00-05:00\",\"2021-11-16T00:00:00-05:00\",\"2021-11-17T00:00:00-05:00\",\"2021-11-18T00:00:00-05:00\",\"2021-11-19T00:00:00-05:00\",\"2021-11-22T00:00:00-05:00\",\"2021-11-23T00:00:00-05:00\",\"2021-11-24T00:00:00-05:00\",\"2021-11-26T00:00:00-05:00\",\"2021-11-29T00:00:00-05:00\",\"2021-11-30T00:00:00-05:00\",\"2021-12-01T00:00:00-05:00\",\"2021-12-02T00:00:00-05:00\",\"2021-12-03T00:00:00-05:00\",\"2021-12-06T00:00:00-05:00\",\"2021-12-07T00:00:00-05:00\",\"2021-12-08T00:00:00-05:00\",\"2021-12-09T00:00:00-05:00\",\"2021-12-10T00:00:00-05:00\",\"2021-12-13T00:00:00-05:00\",\"2021-12-14T00:00:00-05:00\",\"2021-12-15T00:00:00-05:00\",\"2021-12-16T00:00:00-05:00\",\"2021-12-17T00:00:00-05:00\",\"2021-12-20T00:00:00-05:00\",\"2021-12-21T00:00:00-05:00\",\"2021-12-22T00:00:00-05:00\",\"2021-12-23T00:00:00-05:00\",\"2021-12-27T00:00:00-05:00\",\"2021-12-28T00:00:00-05:00\",\"2021-12-29T00:00:00-05:00\",\"2021-12-30T00:00:00-05:00\",\"2021-12-31T00:00:00-05:00\",\"2022-01-03T00:00:00-05:00\",\"2022-01-04T00:00:00-05:00\",\"2022-01-05T00:00:00-05:00\",\"2022-01-06T00:00:00-05:00\",\"2022-01-07T00:00:00-05:00\",\"2022-01-10T00:00:00-05:00\",\"2022-01-11T00:00:00-05:00\",\"2022-01-12T00:00:00-05:00\",\"2022-01-13T00:00:00-05:00\",\"2022-01-14T00:00:00-05:00\",\"2022-01-18T00:00:00-05:00\",\"2022-01-19T00:00:00-05:00\",\"2022-01-20T00:00:00-05:00\",\"2022-01-21T00:00:00-05:00\",\"2022-01-24T00:00:00-05:00\",\"2022-01-25T00:00:00-05:00\",\"2022-01-26T00:00:00-05:00\",\"2022-01-27T00:00:00-05:00\",\"2022-01-28T00:00:00-05:00\",\"2022-01-31T00:00:00-05:00\",\"2022-02-01T00:00:00-05:00\",\"2022-02-02T00:00:00-05:00\",\"2022-02-03T00:00:00-05:00\",\"2022-02-04T00:00:00-05:00\",\"2022-02-07T00:00:00-05:00\",\"2022-02-08T00:00:00-05:00\",\"2022-02-09T00:00:00-05:00\",\"2022-02-10T00:00:00-05:00\",\"2022-02-11T00:00:00-05:00\",\"2022-02-14T00:00:00-05:00\",\"2022-02-15T00:00:00-05:00\",\"2022-02-16T00:00:00-05:00\",\"2022-02-17T00:00:00-05:00\",\"2022-02-18T00:00:00-05:00\",\"2022-02-22T00:00:00-05:00\",\"2022-02-23T00:00:00-05:00\",\"2022-02-24T00:00:00-05:00\",\"2022-02-25T00:00:00-05:00\",\"2022-02-28T00:00:00-05:00\",\"2022-03-01T00:00:00-05:00\",\"2022-03-02T00:00:00-05:00\",\"2022-03-03T00:00:00-05:00\",\"2022-03-04T00:00:00-05:00\",\"2022-03-07T00:00:00-05:00\",\"2022-03-08T00:00:00-05:00\",\"2022-03-09T00:00:00-05:00\",\"2022-03-10T00:00:00-05:00\",\"2022-03-11T00:00:00-05:00\",\"2022-03-14T00:00:00-04:00\",\"2022-03-15T00:00:00-04:00\",\"2022-03-16T00:00:00-04:00\",\"2022-03-17T00:00:00-04:00\",\"2022-03-18T00:00:00-04:00\",\"2022-03-21T00:00:00-04:00\",\"2022-03-22T00:00:00-04:00\",\"2022-03-23T00:00:00-04:00\",\"2022-03-24T00:00:00-04:00\",\"2022-03-25T00:00:00-04:00\",\"2022-03-28T00:00:00-04:00\",\"2022-03-29T00:00:00-04:00\",\"2022-03-30T00:00:00-04:00\",\"2022-03-31T00:00:00-04:00\",\"2022-04-01T00:00:00-04:00\",\"2022-04-04T00:00:00-04:00\",\"2022-04-05T00:00:00-04:00\",\"2022-04-06T00:00:00-04:00\",\"2022-04-07T00:00:00-04:00\",\"2022-04-08T00:00:00-04:00\",\"2022-04-11T00:00:00-04:00\",\"2022-04-12T00:00:00-04:00\",\"2022-04-13T00:00:00-04:00\",\"2022-04-14T00:00:00-04:00\",\"2022-04-18T00:00:00-04:00\",\"2022-04-19T00:00:00-04:00\",\"2022-04-20T00:00:00-04:00\",\"2022-04-21T00:00:00-04:00\",\"2022-04-22T00:00:00-04:00\",\"2022-04-25T00:00:00-04:00\",\"2022-04-26T00:00:00-04:00\",\"2022-04-27T00:00:00-04:00\",\"2022-04-28T00:00:00-04:00\",\"2022-04-29T00:00:00-04:00\",\"2022-05-02T00:00:00-04:00\",\"2022-05-03T00:00:00-04:00\",\"2022-05-04T00:00:00-04:00\",\"2022-05-05T00:00:00-04:00\",\"2022-05-06T00:00:00-04:00\",\"2022-05-09T00:00:00-04:00\",\"2022-05-10T00:00:00-04:00\",\"2022-05-11T00:00:00-04:00\",\"2022-05-12T00:00:00-04:00\",\"2022-05-13T00:00:00-04:00\",\"2022-05-16T00:00:00-04:00\",\"2022-05-17T00:00:00-04:00\",\"2022-05-18T00:00:00-04:00\",\"2022-05-19T00:00:00-04:00\",\"2022-05-20T00:00:00-04:00\",\"2022-05-23T00:00:00-04:00\",\"2022-05-24T00:00:00-04:00\",\"2022-05-25T00:00:00-04:00\",\"2022-05-26T00:00:00-04:00\",\"2022-05-27T00:00:00-04:00\",\"2022-05-31T00:00:00-04:00\",\"2022-06-01T00:00:00-04:00\",\"2022-06-02T00:00:00-04:00\",\"2022-06-03T00:00:00-04:00\",\"2022-06-06T00:00:00-04:00\",\"2022-06-07T00:00:00-04:00\",\"2022-06-08T00:00:00-04:00\",\"2022-06-09T00:00:00-04:00\",\"2022-06-10T00:00:00-04:00\",\"2022-06-13T00:00:00-04:00\",\"2022-06-14T00:00:00-04:00\",\"2022-06-15T00:00:00-04:00\",\"2022-06-16T00:00:00-04:00\",\"2022-06-17T00:00:00-04:00\",\"2022-06-21T00:00:00-04:00\",\"2022-06-22T00:00:00-04:00\",\"2022-06-23T00:00:00-04:00\",\"2022-06-24T00:00:00-04:00\",\"2022-06-27T00:00:00-04:00\",\"2022-06-28T00:00:00-04:00\",\"2022-06-29T00:00:00-04:00\",\"2022-06-30T00:00:00-04:00\",\"2022-07-01T00:00:00-04:00\",\"2022-07-05T00:00:00-04:00\",\"2022-07-06T00:00:00-04:00\",\"2022-07-07T00:00:00-04:00\",\"2022-07-08T00:00:00-04:00\",\"2022-07-11T00:00:00-04:00\",\"2022-07-12T00:00:00-04:00\",\"2022-07-13T00:00:00-04:00\",\"2022-07-14T00:00:00-04:00\",\"2022-07-15T00:00:00-04:00\",\"2022-07-18T00:00:00-04:00\",\"2022-07-19T00:00:00-04:00\",\"2022-07-20T00:00:00-04:00\",\"2022-07-21T00:00:00-04:00\",\"2022-07-22T00:00:00-04:00\",\"2022-07-25T00:00:00-04:00\",\"2022-07-26T00:00:00-04:00\",\"2022-07-27T00:00:00-04:00\",\"2022-07-28T00:00:00-04:00\",\"2022-07-29T00:00:00-04:00\",\"2022-08-01T00:00:00-04:00\",\"2022-08-02T00:00:00-04:00\",\"2022-08-03T00:00:00-04:00\",\"2022-08-04T00:00:00-04:00\",\"2022-08-05T00:00:00-04:00\",\"2022-08-08T00:00:00-04:00\",\"2022-08-09T00:00:00-04:00\",\"2022-08-10T00:00:00-04:00\",\"2022-08-11T00:00:00-04:00\",\"2022-08-12T00:00:00-04:00\",\"2022-08-15T00:00:00-04:00\",\"2022-08-16T00:00:00-04:00\",\"2022-08-17T00:00:00-04:00\",\"2022-08-18T00:00:00-04:00\",\"2022-08-19T00:00:00-04:00\",\"2022-08-22T00:00:00-04:00\",\"2022-08-23T00:00:00-04:00\",\"2022-08-24T00:00:00-04:00\",\"2022-08-25T00:00:00-04:00\",\"2022-08-26T00:00:00-04:00\",\"2022-08-29T00:00:00-04:00\",\"2022-08-30T00:00:00-04:00\",\"2022-08-31T00:00:00-04:00\",\"2022-09-01T00:00:00-04:00\",\"2022-09-02T00:00:00-04:00\",\"2022-09-06T00:00:00-04:00\",\"2022-09-07T00:00:00-04:00\",\"2022-09-08T00:00:00-04:00\",\"2022-09-09T00:00:00-04:00\",\"2022-09-12T00:00:00-04:00\",\"2022-09-13T00:00:00-04:00\",\"2022-09-14T00:00:00-04:00\",\"2022-09-15T00:00:00-04:00\",\"2022-09-16T00:00:00-04:00\",\"2022-09-19T00:00:00-04:00\",\"2022-09-20T00:00:00-04:00\",\"2022-09-21T00:00:00-04:00\",\"2022-09-22T00:00:00-04:00\",\"2022-09-23T00:00:00-04:00\",\"2022-09-26T00:00:00-04:00\",\"2022-09-27T00:00:00-04:00\",\"2022-09-28T00:00:00-04:00\",\"2022-09-29T00:00:00-04:00\",\"2022-09-30T00:00:00-04:00\",\"2022-10-03T00:00:00-04:00\",\"2022-10-04T00:00:00-04:00\",\"2022-10-05T00:00:00-04:00\",\"2022-10-06T00:00:00-04:00\",\"2022-10-07T00:00:00-04:00\",\"2022-10-10T00:00:00-04:00\",\"2022-10-11T00:00:00-04:00\",\"2022-10-12T00:00:00-04:00\",\"2022-10-13T00:00:00-04:00\",\"2022-10-14T00:00:00-04:00\"],\"y\":[21.368667602539062,21.149999618530273,20.974666595458984,21.10533332824707,22.42733383178711,22.246000289916992,22.31999969482422,22.530000686645508,22.4146671295166,22.67066764831543,23.143999099731445,22.971332550048828,23.334667205810547,23.437332153320312,23.519332885742188,23.05933380126953,22.50933265686035,22.856666564941406,23.302000045776367,23.05466651916504,23.62066650390625,23.28333282470703,22.916667938232422,22.208667755126953,22.264667510986328,23.0,21.01533317565918,20.69466781616211,21.048667907714844,21.577333450317383,21.487333297729492,22.271333694458008,22.365999221801758,22.31800079345703,22.219999313354492,23.077999114990234,23.469999313354492,23.827999114990234,23.39933204650879,22.87066650390625,22.062000274658203,22.341333389282227,22.22333335876465,21.8799991607666,22.15333366394043,21.940000534057617,21.81133270263672,23.034000396728516,22.78933334350586,21.775333404541016,21.706666946411133,21.42333221435547,20.90399932861328,20.703332901000977,21.101999282836914,20.606666564941406,20.1026668548584,20.278667449951172,18.61199951171875,17.185333251953125,17.742000579833984,16.832000732421875,17.8353328704834,19.12933349609375,20.381332397460938,19.953332901000977,19.310667037963867,20.31333351135254,20.062000274658203,19.60533332824707,20.022666931152344,19.413999557495117,19.179332733154297,19.55666732788086,20.005332946777344,19.349332809448242,18.891332626342773,18.8973331451416,18.71266746520996,19.031999588012695,19.60533332824707,19.593332290649414,19.994667053222656,20.07666778564453,18.963333129882812,19.606000900268555,20.184667587280273,20.131332397460938,20.456666946411133,20.334667205810547,20.070667266845703,19.46466636657715,18.94533348083496,19.09866714477539,18.96933364868164,18.454666137695312,18.965999603271484,18.333999633789062,18.60466766357422,18.523332595825195,18.59000015258789,18.917333602905273,19.447999954223633,18.98200035095215,19.454666137695312,19.78266716003418,19.408666610717773,21.299999237060547,21.07266616821289,21.17733383178711,22.139999389648438,22.851333618164062,22.985332489013672,23.847999572753906,23.878000259399414,24.722000122070312,23.503332138061523,24.148000717163086,23.167333602905273,22.242000579833984,22.200666427612305,22.799999237060547,22.96666717529297,23.32866668701172,22.863332748413086,22.33799934387207,20.724000930786133,20.610666275024414,20.593332290649414,21.233999252319336,21.49799919128418,21.263999938964844,21.11400032043457,21.257999420166016,20.67333221435547,21.512666702270508,21.59000015258789,21.34866714477539,20.905332565307617,20.213333129882812,19.82866668701172,20.582666397094727,20.44333267211914,19.812000274658203,19.344667434692383,19.875999450683594,20.055999755859375,23.30266761779785,23.211332321166992,22.799333572387695,25.30466651916504,24.689332962036133,23.496667861938477,23.69933319091797,23.76066780090332,23.176000595092773,22.57933235168457,22.363332748413086,20.366666793823242,20.562667846679688,21.459999084472656,21.44266700744629,21.34000015258789,21.521333694458008,21.284666061401367,20.790666580200195,20.333999633789062,20.209999084472656,20.110666275024414,19.26333236694336,18.715999603271484,18.729999542236328,17.549333572387695,19.03333282470703,18.62933349609375,19.369333267211914,19.297332763671875,19.68000030517578,19.6560001373291,18.997333526611328,19.934667587280273,19.8886661529541,19.940000534057617,19.978666305541992,20.06599998474121,20.6386661529541,20.501333236694336,17.65133285522461,20.713333129882812,20.06800079345703,19.65333366394043,18.788667678833008,17.463333129882812,16.70400047302246,17.520000457763672,17.125333786010742,16.815332412719727,17.25200080871582,17.305999755859375,18.439332962036133,18.118667602539062,17.5939998626709,17.333332061767578,17.39666748046875,19.609333038330078,19.233333587646484,20.99066734313965,22.059999465942383,22.323333740234375,21.99333381652832,22.488000869750977,22.95199966430664,23.0939998626709,22.760000228881836,22.737333297729492,23.21066665649414,23.426666259765625,23.367332458496094,22.0853328704834,22.582000732421875,22.933332443237305,23.229333877563477,23.62066650390625,23.564666748046875,23.166000366210938,22.54599952697754,21.722000122070312,23.066667556762695,22.92799949645996,23.191333770751953,22.744667053222656,23.365333557128906,23.89933204650879,23.979999542236328,24.20400047302246,23.864667892456055,24.343332290649414,24.450666427612305,24.440000534057617,25.119333267211914,24.380666732788086,23.22800064086914,22.468666076660156,22.197999954223633,21.025333404541016,21.31800079345703,19.69266700744629,21.73933219909668,21.075332641601562,22.257999420166016,22.18666648864746,20.674667358398438,20.02400016784668,21.179332733154297,22.33066749572754,22.356666564941406,22.568666458129883,22.99799919128418,23.150667190551758,22.293333053588867,22.961999893188477,23.06999969482422,23.15399932861328,20.150667190551758,19.92799949645996,19.172666549682617,19.43400001525879,19.80266761779785,19.7586669921875,19.83066749572754,20.584667205810547,20.468000411987305,20.81399917602539,20.859333038330078,21.42333221435547,21.148000717163086,20.500667572021484,20.386667251586914,20.856000900268555,20.78733253479004,20.544666290283203,20.251333236694336,20.525333404541016,20.375999450683594,20.17066764831543,19.415332794189453,19.6473331451416,19.917999267578125,19.857332229614258,20.982667922973633,21.325332641601562,19.652666091918945,19.02400016784668,18.43600082397461,18.416000366210938,18.439332962036133,18.94266700744629,19.39466667175293,18.890666961669922,19.263999938964844,19.33066749572754,18.36199951171875,17.965999603271484,17.83133316040039,18.239999771118164,18.26799964904785,17.635332107543945,17.3613338470459,17.851333618164062,18.32200050354004,18.57466697692871,18.657333374023438,19.278667449951172,19.058666229248047,19.45400047302246,17.851999282836914,18.33066749572754,18.213333129882812,18.15399932861328,18.40399932861328,17.89466667175293,17.84666633605957,17.7586669921875,18.224000930786133,18.082000732421875,18.21733283996582,17.516666412353516,17.593332290649414,17.243999481201172,16.5086669921875,15.675999641418457,16.097999572753906,15.912667274475098,15.600666999816895,16.273332595825195,17.00200080871582,17.022666931152344,16.470666885375977,16.32266616821289,16.131999969482422,15.968000411987305,15.133999824523926,15.487333297729492,15.463333129882812,15.222000122070312,14.0686674118042,13.690667152404785,13.67199993133545,12.84866714477539,13.03266716003418,12.708666801452637,12.579999923706055,12.657333374023438,12.54800033569336,12.343999862670898,11.9313325881958,12.90666675567627,13.105999946594238,13.729999542236328,13.633333206176758,14.192000389099121,14.473333358764648,13.950667381286621,14.260666847229004,14.32800006866455,15.001999855041504,14.982666969299316,15.095333099365234,14.641332626342773,14.790666580200195,14.909333229064941,14.650667190551758,14.618000030517578,14.855999946594238,14.897333145141602,15.14466667175293,14.970000267028809,15.65999984741211,15.539999961853027,15.355999946594238,15.337332725524902,15.928000450134277,15.90666675567627,16.338666915893555,16.899999618530273,16.825332641601562,16.99066734313965,16.902666091918945,17.211999893188477,17.045333862304688,17.344667434692383,17.658666610717773,15.254667282104492,15.202667236328125,15.718000411987305,16.150667190551758,16.107332229614258,15.59000015258789,15.62266731262207,15.221332550048828,15.383333206176758,15.561332702636719,15.886667251586914,15.667332649230957,15.267333030700684,15.666666984558105,14.641332626342773,14.37600040435791,14.662667274475098,15.121999740600586,15.057332992553711,14.722000122070312,14.8100004196167,14.09333324432373,14.333333015441895,14.272000312805176,14.37266731262207,14.780667304992676,15.040666580200195,15.000666618347168,14.711999893188477,15.305333137512207,15.16333293914795,15.452667236328125,15.702667236328125,16.47333335876465,16.391332626342773,16.34666633605957,16.187332153320312,16.319332122802734,16.232667922973633,16.440000534057617,16.041332244873047,16.082000732421875,14.880666732788086,15.24666690826416,16.17066764831543,16.142000198364258,16.058000564575195,16.312667846679688,16.208667755126953,15.535332679748535,15.428667068481445,15.847999572753906,16.003332138061523,16.302000045776367,16.31599998474121,16.525999069213867,17.130666732788086,17.19266700744629,17.316667556762695,17.46466636657715,17.1299991607666,16.899999618530273,17.038667678833008,16.978666305541992,19.978666305541992,21.875333786010742,21.847333908081055,21.08133316040039,21.000667572021484,20.994667053222656,20.887332916259766,21.1646671295166,21.148000717163086,21.77199935913086,22.369333267211914,22.47599983215332,23.006000518798828,23.32866668701172,23.073999404907227,23.290000915527344,23.47800064086914,23.332666397094727,23.968000411987305,23.481332778930664,23.655332565307617,22.202667236328125,22.422666549682617,21.92799949645996,22.086000442504883,21.996000289916992,22.32466697692871,22.413333892822266,22.20199966430664,22.024667739868164,22.392667770385742,22.635332107543945,23.256000518798828,23.51333236694336,23.978666305541992,23.892667770385742,25.433332443237305,25.266000747680664,26.209999084472656,26.93600082397461,27.03933334350586,27.947999954223633,28.350000381469727,28.729333877563477,28.691999435424805,27.64666748046875,27.8886661529541,28.68400001525879,29.534000396728516,30.1026668548584,31.270666122436523,32.80933380126953,32.089332580566406,31.876667022705078,34.990665435791016,35.861331939697266,34.56666564941406,34.232666015625,34.03333282470703,36.47999954223633,37.97066879272461,38.14666748046875,37.654666900634766,37.201332092285156,37.793331146240234,38.732666015625,42.72066879272461,43.371334075927734,52.0,59.137332916259766,48.97999954223633,49.930667877197266,49.871334075927734,51.41866683959961,51.62533187866211,51.15266799926758,53.599998474121094,53.33533477783203,57.22666549682617,61.16133117675781,59.96066665649414,60.06666564941406,55.58599853515625,53.32733154296875,51.91999816894531,45.266666412353516,44.53266525268555,49.574668884277344,49.70066833496094,49.96666717529297,48.30266571044922,46.89866638183594,40.53333282470703,43.02199935913086,42.28200149536133,37.369998931884766,36.44133377075195,29.67133331298828,28.68000030517578,24.08133316040039,28.50933265686035,28.50200080871582,28.952667236328125,33.66666793823242,35.95000076293945,35.21066665649414,34.29066848754883,33.47533416748047,34.93333435058594,32.104000091552734,30.29800033569336,32.000667572021484,34.41600036621094,36.36333465576172,36.589332580566406,38.20000076293945,43.39666748046875,47.32600021362305,48.65533447265625,49.680667877197266,50.259334564208984,49.75733184814453,45.781333923339844,48.807334899902344,47.04199981689453,48.34333419799805,53.25,51.27466583251953,53.367332458496094,52.12533187866211,46.75466537475586,50.74599838256836,51.2140007019043,52.172000885009766,52.00266647338867,54.62799835205078,54.08599853515625,53.96066665649414,52.73066711425781,53.55533218383789,53.27799987792969,54.242000579833984,53.867332458496094,54.37066650390625,55.17333221435547,54.45866775512695,54.591331481933594,54.68199920654297,53.72066879272461,55.66666793823242,59.87333297729492,58.770668029785156,58.86399841308594,57.62533187866211,59.04399871826172,63.327999114990234,62.711334228515625,68.336669921875,64.85600280761719,62.35200119018555,66.05999755859375,65.47533416748047,66.11933135986328,66.9306640625,66.72666931152344,66.28800201416016,66.78533172607422,64.0566635131836,65.73200225830078,63.982666015625,67.29000091552734,71.98733520507812,74.64199829101562,80.57733154296875,91.43866729736328,92.65733337402344,91.05867004394531,92.9520034790039,102.97666931152344,99.80400085449219,101.12000274658203,103.06732940673828,100.04266357421875,100.05599975585938,109.53333282470703,104.55733489990234,106.15533447265625,100.87133026123047,94.46666717529297,102.63999938964844,98.43267059326172,99.94066619873047,99.16600036621094,95.38400268554688,99.0,99.13333129882812,99.00133514404297,99.30533599853516,96.84733581542969,94.57133483886719,91.6259994506836,103.65066528320312,108.06666564941406,110.04733276367188,122.3759994506836,125.80599975585938,125.23533630371094,133.45533752441406,136.6653289794922,134.27999877929688,134.8893280029297,143.54466247558594,149.25,147.55999755859375,166.10667419433594,158.35000610351562,149.1233367919922,135.6666717529297,139.44000244140625,110.06999969482422,122.09333038330078,123.77999877929688,124.23999786376953,139.8733367919922,149.9199981689453,147.25332641601562,141.14332580566406,147.38333129882812,149.79666137695312,141.41000366210938,126.78666687011719,129.26333618164062,135.77999877929688,140.39999389648438,139.69000244140625,143.00332641601562,149.3866729736328,138.3633270263672,141.89332580566406,137.9933319091797,141.76666259765625,141.97332763671875,144.6666717529297,147.43333435058594,148.88333129882812,153.76666259765625,149.6266632080078,146.55667114257812,143.61000061035156,140.64666748046875,140.8800048828125,141.92999267578125,140.2100067138672,140.0933380126953,141.55999755859375,135.33999633789062,136.94332885742188,129.34666442871094,133.50332641601562,141.3000030517578,140.32666015625,146.02999877929688,143.31666564941406,140.4199981689453,136.7866668701172,139.0433349609375,137.25332641601562,136.1666717529297,136.02999877929688,147.20333862304688,162.2133331298828,166.42333984375,163.20333862304688,173.9499969482422,185.1266632080078,191.3333282470703,195.25332641601562,189.1999969482422,194.9199981689453,189.60667419433594,197.7933349609375,199.67999267578125,213.9199981689453,216.6266632080078,201.4933319091797,209.02333068847656,203.3300018310547,213.27667236328125,211.0833282470703,207.58999633789062,218.63333129882812,231.6666717529297,216.6199951171875,213.44667053222656,215.32666015625,220.58999633789062,221.22999572753906,221.99667358398438,231.5933380126953,235.22332763671875,243.2566680908203,245.0366668701172,251.9933319091797,272.0133361816406,293.3399963378906,270.39666748046875,283.14666748046875,284.8033447265625,281.6666564941406,275.38665771484375,281.51666259765625,283.48333740234375,281.663330078125,282.21331787109375,293.6000061035156,294.36334228515625,288.0533447265625,278.4766540527344,264.510009765625,279.9366760253906,290.92999267578125,284.89666748046875,283.3299865722656,284.07666015625,287.8066711425781,283.1533203125,268.2733459472656,270.5533447265625,272.0400085449219,265.40667724609375,266.04998779296875,262.4599914550781,260.4333190917969,238.1666717529297,232.94667053222656,247.33999633789062,227.4066619873047,225.1666717529297,239.47666931152344,228.81333923339844,217.73333740234375,207.14666748046875,199.31666564941406,187.6666717529297,224.52667236328125,222.68666076660156,233.1999969482422,231.2433319091797,235.97999572753906,225.6266632080078,233.93666076660156,217.72000122070312,218.2899932861328,223.3333282470703,220.72000122070312,210.08999633789062,213.4633331298828,206.23666381835938,203.76333618164062,211.8733367919922,222.64332580566406,220.5833282470703,230.35000610351562,230.5399932861328,223.6566619873047,227.93333435058594,225.67333984375,233.9933319091797,254.10667419433594,244.07666015625,246.28334045410156,246.5933380126953,238.2100067138672,239.663330078125,248.0399932861328,239.89666748046875,243.13333129882812,246.06666564941406,234.913330078125,231.46665954589844,225.6666717529297,236.47999572753906,228.3000030517578,224.53334045410156,223.64666748046875,221.17999267578125,224.1233367919922,209.67999267578125,205.73333740234375,196.6300048828125,190.56333923339844,196.5800018310547,192.27667236328125,192.6233367919922,187.82000732421875,195.5933380126953,193.6266632080078,202.14666748046875,201.56333923339844,206.3766632080078,210.28334045410156,208.4066619873047,207.96665954589844,201.7066650390625,190.94667053222656,199.68333435058594,201.7100067138672,201.19667053222656,199.5933380126953,203.3733367919922,203.29666137695312,205.89666748046875,199.7866668701172,201.6233367919922,205.53334045410156,207.77000427246094,206.94332885742188,207.90333557128906,218.85667419433594,226.60667419433594,223.9566650390625,229.57333374023438,226.9199981689453,226.56666564941406,225.97332763671875,226.3000030517578,219.86000061035156,214.88333129882812,217.60333251953125,218.98333740234375,228.56666564941406,222.84666442871094,217.7933349609375,216.86666870117188,214.74000549316406,215.4066619873047,220.1666717529297,218.42999267578125,216.4199981689453,214.4600067138672,219.2066650390625,214.92666625976562,215.66000366210938,225.78334045410156,229.06666564941406,236.55667114257812,236.5800018310547,236.97332763671875,238.2100067138672,233.03334045410156,237.9199981689453,236.663330078125,235.94000244140625,240.75,239.05667114257812,228.72332763671875,221.90333557128906,229.663330078125,224.49000549316406,226.75332641601562,235.43333435058594,236.163330078125,237.06666564941406,233.72000122070312,237.30667114257812,243.6366729736328,245.24000549316406,244.69667053222656,244.1300048828125,244.52333068847656,250.97332763671875,251.2899932861328,251.6199951171875,245.42333984375,247.6666717529297,248.163330078125,251.94332885742188,252.3300018310547,253.163330078125,243.38999938964844,246.4600067138672,250.64666748046875,251.2133331298828,258.1300048828125,263.78668212890625,259.1866760253906,260.4366760253906,258.49334716796875,258.40667724609375,260.510009765625,260.1966552734375,260.9166564941406,264.53668212890625,261.8299865722656,263.9800109863281,268.5733337402344,270.3599853515625,272.7733459472656,281.010009765625,290.03668212890625,288.0899963378906,288.6000061035156,298.0,303.2266540527344,341.6199951171875,339.4766540527344,345.9533386230469,359.0133361816406,371.3333435058594,402.86334228515625,390.6666564941406,404.6199951171875,409.9700012207031,407.36334228515625,387.64666748046875,341.1666564941406,355.98333740234375,354.5033264160156,344.47332763671875,337.7966613769531,351.57666015625,363.0033264160156,365.4599914550781,379.0199890136719,385.6233215332031,369.6766662597656,372.0,360.6400146484375,378.9966735839844,381.586669921875,365.0,361.5333251953125,338.3233337402344,336.336669921875,350.5833435058594,356.32000732421875,334.6000061035156,339.010009765625,322.13665771484375,319.5033264160156,325.3299865722656,308.97332763671875,310.8566589355469,299.9800109863281,312.84332275390625,336.2900085449219,355.6666564941406,364.64666748046875,362.8233337402344,362.0633239746094,356.7799987792969,352.260009765625,399.9266662597656,383.1966552734375,362.7066650390625,354.8999938964844,342.32000732421875,352.7066650390625,354.79998779296875,368.739990234375,343.85333251953125,349.8699951171875,343.5033264160156,331.8833312988281,332.0899963378906,314.6333312988281,310.0,306.1333312988281,312.4700012207031,276.3666687011719,282.1166687011719,312.239990234375,310.4166564941406,301.88665771484375,297.0466613769531,307.7733459472656,302.4466552734375,307.3333435058594,310.6666564941406,301.51666259765625,286.6666564941406,291.9200134277344,307.4766540527344,307.7966613769531,292.1166687011719,285.6600036621094,273.84332275390625,254.67999267578125,266.92333984375,269.9566650390625,290.1433410644531,288.1233215332031,293.2966613769531,279.7633361816406,279.42999267578125,268.1933288574219,274.79998779296875,286.3233337402344,279.4333190917969,265.1166687011719,255.4566650390625,267.2966613769531,280.07666015625,290.5333251953125,301.7966613769531,307.0533447265625,331.32666015625,333.03668212890625,337.97332763671875,336.8800048828125,363.9466552734375,366.5233459472656,364.663330078125,359.20001220703125,361.5299987792969,381.8166809082031,363.7533264160156,348.586669921875,352.4200134277344,341.8299865722656,325.30999755859375,328.98333740234375,340.7900085449219,328.3333435058594,334.7633361816406,342.7166748046875,325.73333740234375,336.260009765625,335.01666259765625,332.67333984375,292.1400146484375,293.836669921875,292.5033264160156,290.2533264160156,300.9800109863281,303.0833435058594,317.5400085449219,291.09332275390625,288.54998779296875,262.3699951171875,266.67999267578125,244.6666717529297,242.6666717529297,256.5299987792969,241.4566650390625,253.8699951171875,236.60333251953125,236.47332763671875,221.3000030517578,224.96665954589844,209.3866729736328,219.60000610351562,235.91000366210938,253.2100067138672,252.75332641601562,246.7899932861328,258.3333435058594,234.51666259765625,238.27999877929688,238.8866729736328,241.86666870117188,239.7066650390625,232.22999572753906,215.73666381835938,220.88999938964844,233.0,213.10000610351562,216.75999450683594,237.0366668701172,236.086669921875,235.07000732421875,245.7066650390625,244.9199981689453,232.663330078125,228.49000549316406,224.47332763671875,227.26333618164062,233.06666564941406,231.73333740234375,244.5433349609375,250.76333618164062,234.3433380126953,233.07000732421875,237.0399932861328,238.31333923339844,240.06666564941406,240.54666137695312,245.52999877929688,247.5,271.7066650390625,272.24334716796875,268.4333190917969,258.8599853515625,274.82000732421875,280.8999938964844,297.1499938964844,297.27667236328125,300.586669921875,307.39666748046875,308.6333312988281,288.1700134277344,290.42333984375,283.3333435058594,294.3566589355469,286.6300048828125,300.0299987792969,309.32000732421875,306.5633239746094,303.9966735839844,302.8699951171875,296.6666564941406,289.913330078125,296.4533386230469,297.0966796875,296.07000732421875,288.0899963378906,284.82000732421875,277.70001220703125,275.6099853515625,277.1600036621094,270.2099914550781,274.4200134277344,283.70001220703125,289.260009765625,299.67999267578125,304.4200134277344,292.1300048828125,302.6099853515625,303.75,303.3500061035156,309.07000732421875,308.7300109863281,300.79998779296875,288.5899963378906,275.3299865722656,276.010009765625,282.94000244140625,287.80999755859375,268.2099914550781,265.25,242.39999389648438,249.44000244140625,240.80999755859375,238.1300048828125,223.07000732421875,222.9600067138672,216.5,217.24000549316406,221.72000122070312,204.99000549316406],\"type\":\"scatter\"},{\"mode\":\"lines\",\"x\":[\"2018-01-02T00:00:00-05:00\",\"2018-01-03T00:00:00-05:00\",\"2018-01-04T00:00:00-05:00\",\"2018-01-05T00:00:00-05:00\",\"2018-01-08T00:00:00-05:00\",\"2018-01-09T00:00:00-05:00\",\"2018-01-10T00:00:00-05:00\",\"2018-01-11T00:00:00-05:00\",\"2018-01-12T00:00:00-05:00\",\"2018-01-16T00:00:00-05:00\",\"2018-01-17T00:00:00-05:00\",\"2018-01-18T00:00:00-05:00\",\"2018-01-19T00:00:00-05:00\",\"2018-01-22T00:00:00-05:00\",\"2018-01-23T00:00:00-05:00\",\"2018-01-24T00:00:00-05:00\",\"2018-01-25T00:00:00-05:00\",\"2018-01-26T00:00:00-05:00\",\"2018-01-29T00:00:00-05:00\",\"2018-01-30T00:00:00-05:00\",\"2018-01-31T00:00:00-05:00\",\"2018-02-01T00:00:00-05:00\",\"2018-02-02T00:00:00-05:00\",\"2018-02-05T00:00:00-05:00\",\"2018-02-06T00:00:00-05:00\",\"2018-02-07T00:00:00-05:00\",\"2018-02-08T00:00:00-05:00\",\"2018-02-09T00:00:00-05:00\",\"2018-02-12T00:00:00-05:00\",\"2018-02-13T00:00:00-05:00\",\"2018-02-14T00:00:00-05:00\",\"2018-02-15T00:00:00-05:00\",\"2018-02-16T00:00:00-05:00\",\"2018-02-20T00:00:00-05:00\",\"2018-02-21T00:00:00-05:00\",\"2018-02-22T00:00:00-05:00\",\"2018-02-23T00:00:00-05:00\",\"2018-02-26T00:00:00-05:00\",\"2018-02-27T00:00:00-05:00\",\"2018-02-28T00:00:00-05:00\",\"2018-03-01T00:00:00-05:00\",\"2018-03-02T00:00:00-05:00\",\"2018-03-05T00:00:00-05:00\",\"2018-03-06T00:00:00-05:00\",\"2018-03-07T00:00:00-05:00\",\"2018-03-08T00:00:00-05:00\",\"2018-03-09T00:00:00-05:00\",\"2018-03-12T00:00:00-04:00\",\"2018-03-13T00:00:00-04:00\",\"2018-03-14T00:00:00-04:00\",\"2018-03-15T00:00:00-04:00\",\"2018-03-16T00:00:00-04:00\",\"2018-03-19T00:00:00-04:00\",\"2018-03-20T00:00:00-04:00\",\"2018-03-21T00:00:00-04:00\",\"2018-03-22T00:00:00-04:00\",\"2018-03-23T00:00:00-04:00\",\"2018-03-26T00:00:00-04:00\",\"2018-03-27T00:00:00-04:00\",\"2018-03-28T00:00:00-04:00\",\"2018-03-29T00:00:00-04:00\",\"2018-04-02T00:00:00-04:00\",\"2018-04-03T00:00:00-04:00\",\"2018-04-04T00:00:00-04:00\",\"2018-04-05T00:00:00-04:00\",\"2018-04-06T00:00:00-04:00\",\"2018-04-09T00:00:00-04:00\",\"2018-04-10T00:00:00-04:00\",\"2018-04-11T00:00:00-04:00\",\"2018-04-12T00:00:00-04:00\",\"2018-04-13T00:00:00-04:00\",\"2018-04-16T00:00:00-04:00\",\"2018-04-17T00:00:00-04:00\",\"2018-04-18T00:00:00-04:00\",\"2018-04-19T00:00:00-04:00\",\"2018-04-20T00:00:00-04:00\",\"2018-04-23T00:00:00-04:00\",\"2018-04-24T00:00:00-04:00\",\"2018-04-25T00:00:00-04:00\",\"2018-04-26T00:00:00-04:00\",\"2018-04-27T00:00:00-04:00\",\"2018-04-30T00:00:00-04:00\",\"2018-05-01T00:00:00-04:00\",\"2018-05-02T00:00:00-04:00\",\"2018-05-03T00:00:00-04:00\",\"2018-05-04T00:00:00-04:00\",\"2018-05-07T00:00:00-04:00\",\"2018-05-08T00:00:00-04:00\",\"2018-05-09T00:00:00-04:00\",\"2018-05-10T00:00:00-04:00\",\"2018-05-11T00:00:00-04:00\",\"2018-05-14T00:00:00-04:00\",\"2018-05-15T00:00:00-04:00\",\"2018-05-16T00:00:00-04:00\",\"2018-05-17T00:00:00-04:00\",\"2018-05-18T00:00:00-04:00\",\"2018-05-21T00:00:00-04:00\",\"2018-05-22T00:00:00-04:00\",\"2018-05-23T00:00:00-04:00\",\"2018-05-24T00:00:00-04:00\",\"2018-05-25T00:00:00-04:00\",\"2018-05-29T00:00:00-04:00\",\"2018-05-30T00:00:00-04:00\",\"2018-05-31T00:00:00-04:00\",\"2018-06-01T00:00:00-04:00\",\"2018-06-04T00:00:00-04:00\",\"2018-06-05T00:00:00-04:00\",\"2018-06-06T00:00:00-04:00\",\"2018-06-07T00:00:00-04:00\",\"2018-06-08T00:00:00-04:00\",\"2018-06-11T00:00:00-04:00\",\"2018-06-12T00:00:00-04:00\",\"2018-06-13T00:00:00-04:00\",\"2018-06-14T00:00:00-04:00\",\"2018-06-15T00:00:00-04:00\",\"2018-06-18T00:00:00-04:00\",\"2018-06-19T00:00:00-04:00\",\"2018-06-20T00:00:00-04:00\",\"2018-06-21T00:00:00-04:00\",\"2018-06-22T00:00:00-04:00\",\"2018-06-25T00:00:00-04:00\",\"2018-06-26T00:00:00-04:00\",\"2018-06-27T00:00:00-04:00\",\"2018-06-28T00:00:00-04:00\",\"2018-06-29T00:00:00-04:00\",\"2018-07-02T00:00:00-04:00\",\"2018-07-03T00:00:00-04:00\",\"2018-07-05T00:00:00-04:00\",\"2018-07-06T00:00:00-04:00\",\"2018-07-09T00:00:00-04:00\",\"2018-07-10T00:00:00-04:00\",\"2018-07-11T00:00:00-04:00\",\"2018-07-12T00:00:00-04:00\",\"2018-07-13T00:00:00-04:00\",\"2018-07-16T00:00:00-04:00\",\"2018-07-17T00:00:00-04:00\",\"2018-07-18T00:00:00-04:00\",\"2018-07-19T00:00:00-04:00\",\"2018-07-20T00:00:00-04:00\",\"2018-07-23T00:00:00-04:00\",\"2018-07-24T00:00:00-04:00\",\"2018-07-25T00:00:00-04:00\",\"2018-07-26T00:00:00-04:00\",\"2018-07-27T00:00:00-04:00\",\"2018-07-30T00:00:00-04:00\",\"2018-07-31T00:00:00-04:00\",\"2018-08-01T00:00:00-04:00\",\"2018-08-02T00:00:00-04:00\",\"2018-08-03T00:00:00-04:00\",\"2018-08-06T00:00:00-04:00\",\"2018-08-07T00:00:00-04:00\",\"2018-08-08T00:00:00-04:00\",\"2018-08-09T00:00:00-04:00\",\"2018-08-10T00:00:00-04:00\",\"2018-08-13T00:00:00-04:00\",\"2018-08-14T00:00:00-04:00\",\"2018-08-15T00:00:00-04:00\",\"2018-08-16T00:00:00-04:00\",\"2018-08-17T00:00:00-04:00\",\"2018-08-20T00:00:00-04:00\",\"2018-08-21T00:00:00-04:00\",\"2018-08-22T00:00:00-04:00\",\"2018-08-23T00:00:00-04:00\",\"2018-08-24T00:00:00-04:00\",\"2018-08-27T00:00:00-04:00\",\"2018-08-28T00:00:00-04:00\",\"2018-08-29T00:00:00-04:00\",\"2018-08-30T00:00:00-04:00\",\"2018-08-31T00:00:00-04:00\",\"2018-09-04T00:00:00-04:00\",\"2018-09-05T00:00:00-04:00\",\"2018-09-06T00:00:00-04:00\",\"2018-09-07T00:00:00-04:00\",\"2018-09-10T00:00:00-04:00\",\"2018-09-11T00:00:00-04:00\",\"2018-09-12T00:00:00-04:00\",\"2018-09-13T00:00:00-04:00\",\"2018-09-14T00:00:00-04:00\",\"2018-09-17T00:00:00-04:00\",\"2018-09-18T00:00:00-04:00\",\"2018-09-19T00:00:00-04:00\",\"2018-09-20T00:00:00-04:00\",\"2018-09-21T00:00:00-04:00\",\"2018-09-24T00:00:00-04:00\",\"2018-09-25T00:00:00-04:00\",\"2018-09-26T00:00:00-04:00\",\"2018-09-27T00:00:00-04:00\",\"2018-09-28T00:00:00-04:00\",\"2018-10-01T00:00:00-04:00\",\"2018-10-02T00:00:00-04:00\",\"2018-10-03T00:00:00-04:00\",\"2018-10-04T00:00:00-04:00\",\"2018-10-05T00:00:00-04:00\",\"2018-10-08T00:00:00-04:00\",\"2018-10-09T00:00:00-04:00\",\"2018-10-10T00:00:00-04:00\",\"2018-10-11T00:00:00-04:00\",\"2018-10-12T00:00:00-04:00\",\"2018-10-15T00:00:00-04:00\",\"2018-10-16T00:00:00-04:00\",\"2018-10-17T00:00:00-04:00\",\"2018-10-18T00:00:00-04:00\",\"2018-10-19T00:00:00-04:00\",\"2018-10-22T00:00:00-04:00\",\"2018-10-23T00:00:00-04:00\",\"2018-10-24T00:00:00-04:00\",\"2018-10-25T00:00:00-04:00\",\"2018-10-26T00:00:00-04:00\",\"2018-10-29T00:00:00-04:00\",\"2018-10-30T00:00:00-04:00\",\"2018-10-31T00:00:00-04:00\",\"2018-11-01T00:00:00-04:00\",\"2018-11-02T00:00:00-04:00\",\"2018-11-05T00:00:00-05:00\",\"2018-11-06T00:00:00-05:00\",\"2018-11-07T00:00:00-05:00\",\"2018-11-08T00:00:00-05:00\",\"2018-11-09T00:00:00-05:00\",\"2018-11-12T00:00:00-05:00\",\"2018-11-13T00:00:00-05:00\",\"2018-11-14T00:00:00-05:00\",\"2018-11-15T00:00:00-05:00\",\"2018-11-16T00:00:00-05:00\",\"2018-11-19T00:00:00-05:00\",\"2018-11-20T00:00:00-05:00\",\"2018-11-21T00:00:00-05:00\",\"2018-11-23T00:00:00-05:00\",\"2018-11-26T00:00:00-05:00\",\"2018-11-27T00:00:00-05:00\",\"2018-11-28T00:00:00-05:00\",\"2018-11-29T00:00:00-05:00\",\"2018-11-30T00:00:00-05:00\",\"2018-12-03T00:00:00-05:00\",\"2018-12-04T00:00:00-05:00\",\"2018-12-06T00:00:00-05:00\",\"2018-12-07T00:00:00-05:00\",\"2018-12-10T00:00:00-05:00\",\"2018-12-11T00:00:00-05:00\",\"2018-12-12T00:00:00-05:00\",\"2018-12-13T00:00:00-05:00\",\"2018-12-14T00:00:00-05:00\",\"2018-12-17T00:00:00-05:00\",\"2018-12-18T00:00:00-05:00\",\"2018-12-19T00:00:00-05:00\",\"2018-12-20T00:00:00-05:00\",\"2018-12-21T00:00:00-05:00\",\"2018-12-24T00:00:00-05:00\",\"2018-12-26T00:00:00-05:00\",\"2018-12-27T00:00:00-05:00\",\"2018-12-28T00:00:00-05:00\",\"2018-12-31T00:00:00-05:00\",\"2019-01-02T00:00:00-05:00\",\"2019-01-03T00:00:00-05:00\",\"2019-01-04T00:00:00-05:00\",\"2019-01-07T00:00:00-05:00\",\"2019-01-08T00:00:00-05:00\",\"2019-01-09T00:00:00-05:00\",\"2019-01-10T00:00:00-05:00\",\"2019-01-11T00:00:00-05:00\",\"2019-01-14T00:00:00-05:00\",\"2019-01-15T00:00:00-05:00\",\"2019-01-16T00:00:00-05:00\",\"2019-01-17T00:00:00-05:00\",\"2019-01-18T00:00:00-05:00\",\"2019-01-22T00:00:00-05:00\",\"2019-01-23T00:00:00-05:00\",\"2019-01-24T00:00:00-05:00\",\"2019-01-25T00:00:00-05:00\",\"2019-01-28T00:00:00-05:00\",\"2019-01-29T00:00:00-05:00\",\"2019-01-30T00:00:00-05:00\",\"2019-01-31T00:00:00-05:00\",\"2019-02-01T00:00:00-05:00\",\"2019-02-04T00:00:00-05:00\",\"2019-02-05T00:00:00-05:00\",\"2019-02-06T00:00:00-05:00\",\"2019-02-07T00:00:00-05:00\",\"2019-02-08T00:00:00-05:00\",\"2019-02-11T00:00:00-05:00\",\"2019-02-12T00:00:00-05:00\",\"2019-02-13T00:00:00-05:00\",\"2019-02-14T00:00:00-05:00\",\"2019-02-15T00:00:00-05:00\",\"2019-02-19T00:00:00-05:00\",\"2019-02-20T00:00:00-05:00\",\"2019-02-21T00:00:00-05:00\",\"2019-02-22T00:00:00-05:00\",\"2019-02-25T00:00:00-05:00\",\"2019-02-26T00:00:00-05:00\",\"2019-02-27T00:00:00-05:00\",\"2019-02-28T00:00:00-05:00\",\"2019-03-01T00:00:00-05:00\",\"2019-03-04T00:00:00-05:00\",\"2019-03-05T00:00:00-05:00\",\"2019-03-06T00:00:00-05:00\",\"2019-03-07T00:00:00-05:00\",\"2019-03-08T00:00:00-05:00\",\"2019-03-11T00:00:00-04:00\",\"2019-03-12T00:00:00-04:00\",\"2019-03-13T00:00:00-04:00\",\"2019-03-14T00:00:00-04:00\",\"2019-03-15T00:00:00-04:00\",\"2019-03-18T00:00:00-04:00\",\"2019-03-19T00:00:00-04:00\",\"2019-03-20T00:00:00-04:00\",\"2019-03-21T00:00:00-04:00\",\"2019-03-22T00:00:00-04:00\",\"2019-03-25T00:00:00-04:00\",\"2019-03-26T00:00:00-04:00\",\"2019-03-27T00:00:00-04:00\",\"2019-03-28T00:00:00-04:00\",\"2019-03-29T00:00:00-04:00\",\"2019-04-01T00:00:00-04:00\",\"2019-04-02T00:00:00-04:00\",\"2019-04-03T00:00:00-04:00\",\"2019-04-04T00:00:00-04:00\",\"2019-04-05T00:00:00-04:00\",\"2019-04-08T00:00:00-04:00\",\"2019-04-09T00:00:00-04:00\",\"2019-04-10T00:00:00-04:00\",\"2019-04-11T00:00:00-04:00\",\"2019-04-12T00:00:00-04:00\",\"2019-04-15T00:00:00-04:00\",\"2019-04-16T00:00:00-04:00\",\"2019-04-17T00:00:00-04:00\",\"2019-04-18T00:00:00-04:00\",\"2019-04-22T00:00:00-04:00\",\"2019-04-23T00:00:00-04:00\",\"2019-04-24T00:00:00-04:00\",\"2019-04-25T00:00:00-04:00\",\"2019-04-26T00:00:00-04:00\",\"2019-04-29T00:00:00-04:00\",\"2019-04-30T00:00:00-04:00\",\"2019-05-01T00:00:00-04:00\",\"2019-05-02T00:00:00-04:00\",\"2019-05-03T00:00:00-04:00\",\"2019-05-06T00:00:00-04:00\",\"2019-05-07T00:00:00-04:00\",\"2019-05-08T00:00:00-04:00\",\"2019-05-09T00:00:00-04:00\",\"2019-05-10T00:00:00-04:00\",\"2019-05-13T00:00:00-04:00\",\"2019-05-14T00:00:00-04:00\",\"2019-05-15T00:00:00-04:00\",\"2019-05-16T00:00:00-04:00\",\"2019-05-17T00:00:00-04:00\",\"2019-05-20T00:00:00-04:00\",\"2019-05-21T00:00:00-04:00\",\"2019-05-22T00:00:00-04:00\",\"2019-05-23T00:00:00-04:00\",\"2019-05-24T00:00:00-04:00\",\"2019-05-28T00:00:00-04:00\",\"2019-05-29T00:00:00-04:00\",\"2019-05-30T00:00:00-04:00\",\"2019-05-31T00:00:00-04:00\",\"2019-06-03T00:00:00-04:00\",\"2019-06-04T00:00:00-04:00\",\"2019-06-05T00:00:00-04:00\",\"2019-06-06T00:00:00-04:00\",\"2019-06-07T00:00:00-04:00\",\"2019-06-10T00:00:00-04:00\",\"2019-06-11T00:00:00-04:00\",\"2019-06-12T00:00:00-04:00\",\"2019-06-13T00:00:00-04:00\",\"2019-06-14T00:00:00-04:00\",\"2019-06-17T00:00:00-04:00\",\"2019-06-18T00:00:00-04:00\",\"2019-06-19T00:00:00-04:00\",\"2019-06-20T00:00:00-04:00\",\"2019-06-21T00:00:00-04:00\",\"2019-06-24T00:00:00-04:00\",\"2019-06-25T00:00:00-04:00\",\"2019-06-26T00:00:00-04:00\",\"2019-06-27T00:00:00-04:00\",\"2019-06-28T00:00:00-04:00\",\"2019-07-01T00:00:00-04:00\",\"2019-07-02T00:00:00-04:00\",\"2019-07-03T00:00:00-04:00\",\"2019-07-05T00:00:00-04:00\",\"2019-07-08T00:00:00-04:00\",\"2019-07-09T00:00:00-04:00\",\"2019-07-10T00:00:00-04:00\",\"2019-07-11T00:00:00-04:00\",\"2019-07-12T00:00:00-04:00\",\"2019-07-15T00:00:00-04:00\",\"2019-07-16T00:00:00-04:00\",\"2019-07-17T00:00:00-04:00\",\"2019-07-18T00:00:00-04:00\",\"2019-07-19T00:00:00-04:00\",\"2019-07-22T00:00:00-04:00\",\"2019-07-23T00:00:00-04:00\",\"2019-07-24T00:00:00-04:00\",\"2019-07-25T00:00:00-04:00\",\"2019-07-26T00:00:00-04:00\",\"2019-07-29T00:00:00-04:00\",\"2019-07-30T00:00:00-04:00\",\"2019-07-31T00:00:00-04:00\",\"2019-08-01T00:00:00-04:00\",\"2019-08-02T00:00:00-04:00\",\"2019-08-05T00:00:00-04:00\",\"2019-08-06T00:00:00-04:00\",\"2019-08-07T00:00:00-04:00\",\"2019-08-08T00:00:00-04:00\",\"2019-08-09T00:00:00-04:00\",\"2019-08-12T00:00:00-04:00\",\"2019-08-13T00:00:00-04:00\",\"2019-08-14T00:00:00-04:00\",\"2019-08-15T00:00:00-04:00\",\"2019-08-16T00:00:00-04:00\",\"2019-08-19T00:00:00-04:00\",\"2019-08-20T00:00:00-04:00\",\"2019-08-21T00:00:00-04:00\",\"2019-08-22T00:00:00-04:00\",\"2019-08-23T00:00:00-04:00\",\"2019-08-26T00:00:00-04:00\",\"2019-08-27T00:00:00-04:00\",\"2019-08-28T00:00:00-04:00\",\"2019-08-29T00:00:00-04:00\",\"2019-08-30T00:00:00-04:00\",\"2019-09-03T00:00:00-04:00\",\"2019-09-04T00:00:00-04:00\",\"2019-09-05T00:00:00-04:00\",\"2019-09-06T00:00:00-04:00\",\"2019-09-09T00:00:00-04:00\",\"2019-09-10T00:00:00-04:00\",\"2019-09-11T00:00:00-04:00\",\"2019-09-12T00:00:00-04:00\",\"2019-09-13T00:00:00-04:00\",\"2019-09-16T00:00:00-04:00\",\"2019-09-17T00:00:00-04:00\",\"2019-09-18T00:00:00-04:00\",\"2019-09-19T00:00:00-04:00\",\"2019-09-20T00:00:00-04:00\",\"2019-09-23T00:00:00-04:00\",\"2019-09-24T00:00:00-04:00\",\"2019-09-25T00:00:00-04:00\",\"2019-09-26T00:00:00-04:00\",\"2019-09-27T00:00:00-04:00\",\"2019-09-30T00:00:00-04:00\",\"2019-10-01T00:00:00-04:00\",\"2019-10-02T00:00:00-04:00\",\"2019-10-03T00:00:00-04:00\",\"2019-10-04T00:00:00-04:00\",\"2019-10-07T00:00:00-04:00\",\"2019-10-08T00:00:00-04:00\",\"2019-10-09T00:00:00-04:00\",\"2019-10-10T00:00:00-04:00\",\"2019-10-11T00:00:00-04:00\",\"2019-10-14T00:00:00-04:00\",\"2019-10-15T00:00:00-04:00\",\"2019-10-16T00:00:00-04:00\",\"2019-10-17T00:00:00-04:00\",\"2019-10-18T00:00:00-04:00\",\"2019-10-21T00:00:00-04:00\",\"2019-10-22T00:00:00-04:00\",\"2019-10-23T00:00:00-04:00\",\"2019-10-24T00:00:00-04:00\",\"2019-10-25T00:00:00-04:00\",\"2019-10-28T00:00:00-04:00\",\"2019-10-29T00:00:00-04:00\",\"2019-10-30T00:00:00-04:00\",\"2019-10-31T00:00:00-04:00\",\"2019-11-01T00:00:00-04:00\",\"2019-11-04T00:00:00-05:00\",\"2019-11-05T00:00:00-05:00\",\"2019-11-06T00:00:00-05:00\",\"2019-11-07T00:00:00-05:00\",\"2019-11-08T00:00:00-05:00\",\"2019-11-11T00:00:00-05:00\",\"2019-11-12T00:00:00-05:00\",\"2019-11-13T00:00:00-05:00\",\"2019-11-14T00:00:00-05:00\",\"2019-11-15T00:00:00-05:00\",\"2019-11-18T00:00:00-05:00\",\"2019-11-19T00:00:00-05:00\",\"2019-11-20T00:00:00-05:00\",\"2019-11-21T00:00:00-05:00\",\"2019-11-22T00:00:00-05:00\",\"2019-11-25T00:00:00-05:00\",\"2019-11-26T00:00:00-05:00\",\"2019-11-27T00:00:00-05:00\",\"2019-11-29T00:00:00-05:00\",\"2019-12-02T00:00:00-05:00\",\"2019-12-03T00:00:00-05:00\",\"2019-12-04T00:00:00-05:00\",\"2019-12-05T00:00:00-05:00\",\"2019-12-06T00:00:00-05:00\",\"2019-12-09T00:00:00-05:00\",\"2019-12-10T00:00:00-05:00\",\"2019-12-11T00:00:00-05:00\",\"2019-12-12T00:00:00-05:00\",\"2019-12-13T00:00:00-05:00\",\"2019-12-16T00:00:00-05:00\",\"2019-12-17T00:00:00-05:00\",\"2019-12-18T00:00:00-05:00\",\"2019-12-19T00:00:00-05:00\",\"2019-12-20T00:00:00-05:00\",\"2019-12-23T00:00:00-05:00\",\"2019-12-24T00:00:00-05:00\",\"2019-12-26T00:00:00-05:00\",\"2019-12-27T00:00:00-05:00\",\"2019-12-30T00:00:00-05:00\",\"2019-12-31T00:00:00-05:00\",\"2020-01-02T00:00:00-05:00\",\"2020-01-03T00:00:00-05:00\",\"2020-01-06T00:00:00-05:00\",\"2020-01-07T00:00:00-05:00\",\"2020-01-08T00:00:00-05:00\",\"2020-01-09T00:00:00-05:00\",\"2020-01-10T00:00:00-05:00\",\"2020-01-13T00:00:00-05:00\",\"2020-01-14T00:00:00-05:00\",\"2020-01-15T00:00:00-05:00\",\"2020-01-16T00:00:00-05:00\",\"2020-01-17T00:00:00-05:00\",\"2020-01-21T00:00:00-05:00\",\"2020-01-22T00:00:00-05:00\",\"2020-01-23T00:00:00-05:00\",\"2020-01-24T00:00:00-05:00\",\"2020-01-27T00:00:00-05:00\",\"2020-01-28T00:00:00-05:00\",\"2020-01-29T00:00:00-05:00\",\"2020-01-30T00:00:00-05:00\",\"2020-01-31T00:00:00-05:00\",\"2020-02-03T00:00:00-05:00\",\"2020-02-04T00:00:00-05:00\",\"2020-02-05T00:00:00-05:00\",\"2020-02-06T00:00:00-05:00\",\"2020-02-07T00:00:00-05:00\",\"2020-02-10T00:00:00-05:00\",\"2020-02-11T00:00:00-05:00\",\"2020-02-12T00:00:00-05:00\",\"2020-02-13T00:00:00-05:00\",\"2020-02-14T00:00:00-05:00\",\"2020-02-18T00:00:00-05:00\",\"2020-02-19T00:00:00-05:00\",\"2020-02-20T00:00:00-05:00\",\"2020-02-21T00:00:00-05:00\",\"2020-02-24T00:00:00-05:00\",\"2020-02-25T00:00:00-05:00\",\"2020-02-26T00:00:00-05:00\",\"2020-02-27T00:00:00-05:00\",\"2020-02-28T00:00:00-05:00\",\"2020-03-02T00:00:00-05:00\",\"2020-03-03T00:00:00-05:00\",\"2020-03-04T00:00:00-05:00\",\"2020-03-05T00:00:00-05:00\",\"2020-03-06T00:00:00-05:00\",\"2020-03-09T00:00:00-04:00\",\"2020-03-10T00:00:00-04:00\",\"2020-03-11T00:00:00-04:00\",\"2020-03-12T00:00:00-04:00\",\"2020-03-13T00:00:00-04:00\",\"2020-03-16T00:00:00-04:00\",\"2020-03-17T00:00:00-04:00\",\"2020-03-18T00:00:00-04:00\",\"2020-03-19T00:00:00-04:00\",\"2020-03-20T00:00:00-04:00\",\"2020-03-23T00:00:00-04:00\",\"2020-03-24T00:00:00-04:00\",\"2020-03-25T00:00:00-04:00\",\"2020-03-26T00:00:00-04:00\",\"2020-03-27T00:00:00-04:00\",\"2020-03-30T00:00:00-04:00\",\"2020-03-31T00:00:00-04:00\",\"2020-04-01T00:00:00-04:00\",\"2020-04-02T00:00:00-04:00\",\"2020-04-03T00:00:00-04:00\",\"2020-04-06T00:00:00-04:00\",\"2020-04-07T00:00:00-04:00\",\"2020-04-08T00:00:00-04:00\",\"2020-04-09T00:00:00-04:00\",\"2020-04-13T00:00:00-04:00\",\"2020-04-14T00:00:00-04:00\",\"2020-04-15T00:00:00-04:00\",\"2020-04-16T00:00:00-04:00\",\"2020-04-17T00:00:00-04:00\",\"2020-04-20T00:00:00-04:00\",\"2020-04-21T00:00:00-04:00\",\"2020-04-22T00:00:00-04:00\",\"2020-04-23T00:00:00-04:00\",\"2020-04-24T00:00:00-04:00\",\"2020-04-27T00:00:00-04:00\",\"2020-04-28T00:00:00-04:00\",\"2020-04-29T00:00:00-04:00\",\"2020-04-30T00:00:00-04:00\",\"2020-05-01T00:00:00-04:00\",\"2020-05-04T00:00:00-04:00\",\"2020-05-05T00:00:00-04:00\",\"2020-05-06T00:00:00-04:00\",\"2020-05-07T00:00:00-04:00\",\"2020-05-08T00:00:00-04:00\",\"2020-05-11T00:00:00-04:00\",\"2020-05-12T00:00:00-04:00\",\"2020-05-13T00:00:00-04:00\",\"2020-05-14T00:00:00-04:00\",\"2020-05-15T00:00:00-04:00\",\"2020-05-18T00:00:00-04:00\",\"2020-05-19T00:00:00-04:00\",\"2020-05-20T00:00:00-04:00\",\"2020-05-21T00:00:00-04:00\",\"2020-05-22T00:00:00-04:00\",\"2020-05-26T00:00:00-04:00\",\"2020-05-27T00:00:00-04:00\",\"2020-05-28T00:00:00-04:00\",\"2020-05-29T00:00:00-04:00\",\"2020-06-01T00:00:00-04:00\",\"2020-06-02T00:00:00-04:00\",\"2020-06-03T00:00:00-04:00\",\"2020-06-04T00:00:00-04:00\",\"2020-06-05T00:00:00-04:00\",\"2020-06-08T00:00:00-04:00\",\"2020-06-09T00:00:00-04:00\",\"2020-06-10T00:00:00-04:00\",\"2020-06-11T00:00:00-04:00\",\"2020-06-12T00:00:00-04:00\",\"2020-06-15T00:00:00-04:00\",\"2020-06-16T00:00:00-04:00\",\"2020-06-17T00:00:00-04:00\",\"2020-06-18T00:00:00-04:00\",\"2020-06-19T00:00:00-04:00\",\"2020-06-22T00:00:00-04:00\",\"2020-06-23T00:00:00-04:00\",\"2020-06-24T00:00:00-04:00\",\"2020-06-25T00:00:00-04:00\",\"2020-06-26T00:00:00-04:00\",\"2020-06-29T00:00:00-04:00\",\"2020-06-30T00:00:00-04:00\",\"2020-07-01T00:00:00-04:00\",\"2020-07-02T00:00:00-04:00\",\"2020-07-06T00:00:00-04:00\",\"2020-07-07T00:00:00-04:00\",\"2020-07-08T00:00:00-04:00\",\"2020-07-09T00:00:00-04:00\",\"2020-07-10T00:00:00-04:00\",\"2020-07-13T00:00:00-04:00\",\"2020-07-14T00:00:00-04:00\",\"2020-07-15T00:00:00-04:00\",\"2020-07-16T00:00:00-04:00\",\"2020-07-17T00:00:00-04:00\",\"2020-07-20T00:00:00-04:00\",\"2020-07-21T00:00:00-04:00\",\"2020-07-22T00:00:00-04:00\",\"2020-07-23T00:00:00-04:00\",\"2020-07-24T00:00:00-04:00\",\"2020-07-27T00:00:00-04:00\",\"2020-07-28T00:00:00-04:00\",\"2020-07-29T00:00:00-04:00\",\"2020-07-30T00:00:00-04:00\",\"2020-07-31T00:00:00-04:00\",\"2020-08-03T00:00:00-04:00\",\"2020-08-04T00:00:00-04:00\",\"2020-08-05T00:00:00-04:00\",\"2020-08-06T00:00:00-04:00\",\"2020-08-07T00:00:00-04:00\",\"2020-08-10T00:00:00-04:00\",\"2020-08-11T00:00:00-04:00\",\"2020-08-12T00:00:00-04:00\",\"2020-08-13T00:00:00-04:00\",\"2020-08-14T00:00:00-04:00\",\"2020-08-17T00:00:00-04:00\",\"2020-08-18T00:00:00-04:00\",\"2020-08-19T00:00:00-04:00\",\"2020-08-20T00:00:00-04:00\",\"2020-08-21T00:00:00-04:00\",\"2020-08-24T00:00:00-04:00\",\"2020-08-25T00:00:00-04:00\",\"2020-08-26T00:00:00-04:00\",\"2020-08-27T00:00:00-04:00\",\"2020-08-28T00:00:00-04:00\",\"2020-08-31T00:00:00-04:00\",\"2020-09-01T00:00:00-04:00\",\"2020-09-02T00:00:00-04:00\",\"2020-09-03T00:00:00-04:00\",\"2020-09-04T00:00:00-04:00\",\"2020-09-08T00:00:00-04:00\",\"2020-09-09T00:00:00-04:00\",\"2020-09-10T00:00:00-04:00\",\"2020-09-11T00:00:00-04:00\",\"2020-09-14T00:00:00-04:00\",\"2020-09-15T00:00:00-04:00\",\"2020-09-16T00:00:00-04:00\",\"2020-09-17T00:00:00-04:00\",\"2020-09-18T00:00:00-04:00\",\"2020-09-21T00:00:00-04:00\",\"2020-09-22T00:00:00-04:00\",\"2020-09-23T00:00:00-04:00\",\"2020-09-24T00:00:00-04:00\",\"2020-09-25T00:00:00-04:00\",\"2020-09-28T00:00:00-04:00\",\"2020-09-29T00:00:00-04:00\",\"2020-09-30T00:00:00-04:00\",\"2020-10-01T00:00:00-04:00\",\"2020-10-02T00:00:00-04:00\",\"2020-10-05T00:00:00-04:00\",\"2020-10-06T00:00:00-04:00\",\"2020-10-07T00:00:00-04:00\",\"2020-10-08T00:00:00-04:00\",\"2020-10-09T00:00:00-04:00\",\"2020-10-12T00:00:00-04:00\",\"2020-10-13T00:00:00-04:00\",\"2020-10-14T00:00:00-04:00\",\"2020-10-15T00:00:00-04:00\",\"2020-10-16T00:00:00-04:00\",\"2020-10-19T00:00:00-04:00\",\"2020-10-20T00:00:00-04:00\",\"2020-10-21T00:00:00-04:00\",\"2020-10-22T00:00:00-04:00\",\"2020-10-23T00:00:00-04:00\",\"2020-10-26T00:00:00-04:00\",\"2020-10-27T00:00:00-04:00\",\"2020-10-28T00:00:00-04:00\",\"2020-10-29T00:00:00-04:00\",\"2020-10-30T00:00:00-04:00\",\"2020-11-02T00:00:00-05:00\",\"2020-11-03T00:00:00-05:00\",\"2020-11-04T00:00:00-05:00\",\"2020-11-05T00:00:00-05:00\",\"2020-11-06T00:00:00-05:00\",\"2020-11-09T00:00:00-05:00\",\"2020-11-10T00:00:00-05:00\",\"2020-11-11T00:00:00-05:00\",\"2020-11-12T00:00:00-05:00\",\"2020-11-13T00:00:00-05:00\",\"2020-11-16T00:00:00-05:00\",\"2020-11-17T00:00:00-05:00\",\"2020-11-18T00:00:00-05:00\",\"2020-11-19T00:00:00-05:00\",\"2020-11-20T00:00:00-05:00\",\"2020-11-23T00:00:00-05:00\",\"2020-11-24T00:00:00-05:00\",\"2020-11-25T00:00:00-05:00\",\"2020-11-27T00:00:00-05:00\",\"2020-11-30T00:00:00-05:00\",\"2020-12-01T00:00:00-05:00\",\"2020-12-02T00:00:00-05:00\",\"2020-12-03T00:00:00-05:00\",\"2020-12-04T00:00:00-05:00\",\"2020-12-07T00:00:00-05:00\",\"2020-12-08T00:00:00-05:00\",\"2020-12-09T00:00:00-05:00\",\"2020-12-10T00:00:00-05:00\",\"2020-12-11T00:00:00-05:00\",\"2020-12-14T00:00:00-05:00\",\"2020-12-15T00:00:00-05:00\",\"2020-12-16T00:00:00-05:00\",\"2020-12-17T00:00:00-05:00\",\"2020-12-18T00:00:00-05:00\",\"2020-12-21T00:00:00-05:00\",\"2020-12-22T00:00:00-05:00\",\"2020-12-23T00:00:00-05:00\",\"2020-12-24T00:00:00-05:00\",\"2020-12-28T00:00:00-05:00\",\"2020-12-29T00:00:00-05:00\",\"2020-12-30T00:00:00-05:00\",\"2020-12-31T00:00:00-05:00\",\"2021-01-04T00:00:00-05:00\",\"2021-01-05T00:00:00-05:00\",\"2021-01-06T00:00:00-05:00\",\"2021-01-07T00:00:00-05:00\",\"2021-01-08T00:00:00-05:00\",\"2021-01-11T00:00:00-05:00\",\"2021-01-12T00:00:00-05:00\",\"2021-01-13T00:00:00-05:00\",\"2021-01-14T00:00:00-05:00\",\"2021-01-15T00:00:00-05:00\",\"2021-01-19T00:00:00-05:00\",\"2021-01-20T00:00:00-05:00\",\"2021-01-21T00:00:00-05:00\",\"2021-01-22T00:00:00-05:00\",\"2021-01-25T00:00:00-05:00\",\"2021-01-26T00:00:00-05:00\",\"2021-01-27T00:00:00-05:00\",\"2021-01-28T00:00:00-05:00\",\"2021-01-29T00:00:00-05:00\",\"2021-02-01T00:00:00-05:00\",\"2021-02-02T00:00:00-05:00\",\"2021-02-03T00:00:00-05:00\",\"2021-02-04T00:00:00-05:00\",\"2021-02-05T00:00:00-05:00\",\"2021-02-08T00:00:00-05:00\",\"2021-02-09T00:00:00-05:00\",\"2021-02-10T00:00:00-05:00\",\"2021-02-11T00:00:00-05:00\",\"2021-02-12T00:00:00-05:00\",\"2021-02-16T00:00:00-05:00\",\"2021-02-17T00:00:00-05:00\",\"2021-02-18T00:00:00-05:00\",\"2021-02-19T00:00:00-05:00\",\"2021-02-22T00:00:00-05:00\",\"2021-02-23T00:00:00-05:00\",\"2021-02-24T00:00:00-05:00\",\"2021-02-25T00:00:00-05:00\",\"2021-02-26T00:00:00-05:00\",\"2021-03-01T00:00:00-05:00\",\"2021-03-02T00:00:00-05:00\",\"2021-03-03T00:00:00-05:00\",\"2021-03-04T00:00:00-05:00\",\"2021-03-05T00:00:00-05:00\",\"2021-03-08T00:00:00-05:00\",\"2021-03-09T00:00:00-05:00\",\"2021-03-10T00:00:00-05:00\",\"2021-03-11T00:00:00-05:00\",\"2021-03-12T00:00:00-05:00\",\"2021-03-15T00:00:00-04:00\",\"2021-03-16T00:00:00-04:00\",\"2021-03-17T00:00:00-04:00\",\"2021-03-18T00:00:00-04:00\",\"2021-03-19T00:00:00-04:00\",\"2021-03-22T00:00:00-04:00\",\"2021-03-23T00:00:00-04:00\",\"2021-03-24T00:00:00-04:00\",\"2021-03-25T00:00:00-04:00\",\"2021-03-26T00:00:00-04:00\",\"2021-03-29T00:00:00-04:00\",\"2021-03-30T00:00:00-04:00\",\"2021-03-31T00:00:00-04:00\",\"2021-04-01T00:00:00-04:00\",\"2021-04-05T00:00:00-04:00\",\"2021-04-06T00:00:00-04:00\",\"2021-04-07T00:00:00-04:00\",\"2021-04-08T00:00:00-04:00\",\"2021-04-09T00:00:00-04:00\",\"2021-04-12T00:00:00-04:00\",\"2021-04-13T00:00:00-04:00\",\"2021-04-14T00:00:00-04:00\",\"2021-04-15T00:00:00-04:00\",\"2021-04-16T00:00:00-04:00\",\"2021-04-19T00:00:00-04:00\",\"2021-04-20T00:00:00-04:00\",\"2021-04-21T00:00:00-04:00\",\"2021-04-22T00:00:00-04:00\",\"2021-04-23T00:00:00-04:00\",\"2021-04-26T00:00:00-04:00\",\"2021-04-27T00:00:00-04:00\",\"2021-04-28T00:00:00-04:00\",\"2021-04-29T00:00:00-04:00\",\"2021-04-30T00:00:00-04:00\",\"2021-05-03T00:00:00-04:00\",\"2021-05-04T00:00:00-04:00\",\"2021-05-05T00:00:00-04:00\",\"2021-05-06T00:00:00-04:00\",\"2021-05-07T00:00:00-04:00\",\"2021-05-10T00:00:00-04:00\",\"2021-05-11T00:00:00-04:00\",\"2021-05-12T00:00:00-04:00\",\"2021-05-13T00:00:00-04:00\",\"2021-05-14T00:00:00-04:00\",\"2021-05-17T00:00:00-04:00\",\"2021-05-18T00:00:00-04:00\",\"2021-05-19T00:00:00-04:00\",\"2021-05-20T00:00:00-04:00\",\"2021-05-21T00:00:00-04:00\",\"2021-05-24T00:00:00-04:00\",\"2021-05-25T00:00:00-04:00\",\"2021-05-26T00:00:00-04:00\",\"2021-05-27T00:00:00-04:00\",\"2021-05-28T00:00:00-04:00\",\"2021-06-01T00:00:00-04:00\",\"2021-06-02T00:00:00-04:00\",\"2021-06-03T00:00:00-04:00\",\"2021-06-04T00:00:00-04:00\",\"2021-06-07T00:00:00-04:00\",\"2021-06-08T00:00:00-04:00\",\"2021-06-09T00:00:00-04:00\",\"2021-06-10T00:00:00-04:00\",\"2021-06-11T00:00:00-04:00\",\"2021-06-14T00:00:00-04:00\",\"2021-06-15T00:00:00-04:00\",\"2021-06-16T00:00:00-04:00\",\"2021-06-17T00:00:00-04:00\",\"2021-06-18T00:00:00-04:00\",\"2021-06-21T00:00:00-04:00\",\"2021-06-22T00:00:00-04:00\",\"2021-06-23T00:00:00-04:00\",\"2021-06-24T00:00:00-04:00\",\"2021-06-25T00:00:00-04:00\",\"2021-06-28T00:00:00-04:00\",\"2021-06-29T00:00:00-04:00\",\"2021-06-30T00:00:00-04:00\",\"2021-07-01T00:00:00-04:00\",\"2021-07-02T00:00:00-04:00\",\"2021-07-06T00:00:00-04:00\",\"2021-07-07T00:00:00-04:00\",\"2021-07-08T00:00:00-04:00\",\"2021-07-09T00:00:00-04:00\",\"2021-07-12T00:00:00-04:00\",\"2021-07-13T00:00:00-04:00\",\"2021-07-14T00:00:00-04:00\",\"2021-07-15T00:00:00-04:00\",\"2021-07-16T00:00:00-04:00\",\"2021-07-19T00:00:00-04:00\",\"2021-07-20T00:00:00-04:00\",\"2021-07-21T00:00:00-04:00\",\"2021-07-22T00:00:00-04:00\",\"2021-07-23T00:00:00-04:00\",\"2021-07-26T00:00:00-04:00\",\"2021-07-27T00:00:00-04:00\",\"2021-07-28T00:00:00-04:00\",\"2021-07-29T00:00:00-04:00\",\"2021-07-30T00:00:00-04:00\",\"2021-08-02T00:00:00-04:00\",\"2021-08-03T00:00:00-04:00\",\"2021-08-04T00:00:00-04:00\",\"2021-08-05T00:00:00-04:00\",\"2021-08-06T00:00:00-04:00\",\"2021-08-09T00:00:00-04:00\",\"2021-08-10T00:00:00-04:00\",\"2021-08-11T00:00:00-04:00\",\"2021-08-12T00:00:00-04:00\",\"2021-08-13T00:00:00-04:00\",\"2021-08-16T00:00:00-04:00\",\"2021-08-17T00:00:00-04:00\",\"2021-08-18T00:00:00-04:00\",\"2021-08-19T00:00:00-04:00\",\"2021-08-20T00:00:00-04:00\",\"2021-08-23T00:00:00-04:00\",\"2021-08-24T00:00:00-04:00\",\"2021-08-25T00:00:00-04:00\",\"2021-08-26T00:00:00-04:00\",\"2021-08-27T00:00:00-04:00\",\"2021-08-30T00:00:00-04:00\",\"2021-08-31T00:00:00-04:00\",\"2021-09-01T00:00:00-04:00\",\"2021-09-02T00:00:00-04:00\",\"2021-09-03T00:00:00-04:00\",\"2021-09-07T00:00:00-04:00\",\"2021-09-08T00:00:00-04:00\",\"2021-09-09T00:00:00-04:00\",\"2021-09-10T00:00:00-04:00\",\"2021-09-13T00:00:00-04:00\",\"2021-09-14T00:00:00-04:00\",\"2021-09-15T00:00:00-04:00\",\"2021-09-16T00:00:00-04:00\",\"2021-09-17T00:00:00-04:00\",\"2021-09-20T00:00:00-04:00\",\"2021-09-21T00:00:00-04:00\",\"2021-09-22T00:00:00-04:00\",\"2021-09-23T00:00:00-04:00\",\"2021-09-24T00:00:00-04:00\",\"2021-09-27T00:00:00-04:00\",\"2021-09-28T00:00:00-04:00\",\"2021-09-29T00:00:00-04:00\",\"2021-09-30T00:00:00-04:00\",\"2021-10-01T00:00:00-04:00\",\"2021-10-04T00:00:00-04:00\",\"2021-10-05T00:00:00-04:00\",\"2021-10-06T00:00:00-04:00\",\"2021-10-07T00:00:00-04:00\",\"2021-10-08T00:00:00-04:00\",\"2021-10-11T00:00:00-04:00\",\"2021-10-12T00:00:00-04:00\",\"2021-10-13T00:00:00-04:00\",\"2021-10-14T00:00:00-04:00\",\"2021-10-15T00:00:00-04:00\",\"2021-10-18T00:00:00-04:00\",\"2021-10-19T00:00:00-04:00\",\"2021-10-20T00:00:00-04:00\",\"2021-10-21T00:00:00-04:00\",\"2021-10-22T00:00:00-04:00\",\"2021-10-25T00:00:00-04:00\",\"2021-10-26T00:00:00-04:00\",\"2021-10-27T00:00:00-04:00\",\"2021-10-28T00:00:00-04:00\",\"2021-10-29T00:00:00-04:00\",\"2021-11-01T00:00:00-04:00\",\"2021-11-02T00:00:00-04:00\",\"2021-11-03T00:00:00-04:00\",\"2021-11-04T00:00:00-04:00\",\"2021-11-05T00:00:00-04:00\",\"2021-11-08T00:00:00-05:00\",\"2021-11-09T00:00:00-05:00\",\"2021-11-10T00:00:00-05:00\",\"2021-11-11T00:00:00-05:00\",\"2021-11-12T00:00:00-05:00\",\"2021-11-15T00:00:00-05:00\",\"2021-11-16T00:00:00-05:00\",\"2021-11-17T00:00:00-05:00\",\"2021-11-18T00:00:00-05:00\",\"2021-11-19T00:00:00-05:00\",\"2021-11-22T00:00:00-05:00\",\"2021-11-23T00:00:00-05:00\",\"2021-11-24T00:00:00-05:00\",\"2021-11-26T00:00:00-05:00\",\"2021-11-29T00:00:00-05:00\",\"2021-11-30T00:00:00-05:00\",\"2021-12-01T00:00:00-05:00\",\"2021-12-02T00:00:00-05:00\",\"2021-12-03T00:00:00-05:00\",\"2021-12-06T00:00:00-05:00\",\"2021-12-07T00:00:00-05:00\",\"2021-12-08T00:00:00-05:00\",\"2021-12-09T00:00:00-05:00\",\"2021-12-10T00:00:00-05:00\",\"2021-12-13T00:00:00-05:00\",\"2021-12-14T00:00:00-05:00\",\"2021-12-15T00:00:00-05:00\",\"2021-12-16T00:00:00-05:00\",\"2021-12-17T00:00:00-05:00\",\"2021-12-20T00:00:00-05:00\",\"2021-12-21T00:00:00-05:00\",\"2021-12-22T00:00:00-05:00\",\"2021-12-23T00:00:00-05:00\",\"2021-12-27T00:00:00-05:00\",\"2021-12-28T00:00:00-05:00\",\"2021-12-29T00:00:00-05:00\",\"2021-12-30T00:00:00-05:00\",\"2021-12-31T00:00:00-05:00\",\"2022-01-03T00:00:00-05:00\",\"2022-01-04T00:00:00-05:00\",\"2022-01-05T00:00:00-05:00\",\"2022-01-06T00:00:00-05:00\",\"2022-01-07T00:00:00-05:00\",\"2022-01-10T00:00:00-05:00\",\"2022-01-11T00:00:00-05:00\",\"2022-01-12T00:00:00-05:00\",\"2022-01-13T00:00:00-05:00\",\"2022-01-14T00:00:00-05:00\",\"2022-01-18T00:00:00-05:00\",\"2022-01-19T00:00:00-05:00\",\"2022-01-20T00:00:00-05:00\",\"2022-01-21T00:00:00-05:00\",\"2022-01-24T00:00:00-05:00\",\"2022-01-25T00:00:00-05:00\",\"2022-01-26T00:00:00-05:00\",\"2022-01-27T00:00:00-05:00\",\"2022-01-28T00:00:00-05:00\",\"2022-01-31T00:00:00-05:00\",\"2022-02-01T00:00:00-05:00\",\"2022-02-02T00:00:00-05:00\",\"2022-02-03T00:00:00-05:00\",\"2022-02-04T00:00:00-05:00\",\"2022-02-07T00:00:00-05:00\",\"2022-02-08T00:00:00-05:00\",\"2022-02-09T00:00:00-05:00\",\"2022-02-10T00:00:00-05:00\",\"2022-02-11T00:00:00-05:00\",\"2022-02-14T00:00:00-05:00\",\"2022-02-15T00:00:00-05:00\",\"2022-02-16T00:00:00-05:00\",\"2022-02-17T00:00:00-05:00\",\"2022-02-18T00:00:00-05:00\",\"2022-02-22T00:00:00-05:00\",\"2022-02-23T00:00:00-05:00\",\"2022-02-24T00:00:00-05:00\",\"2022-02-25T00:00:00-05:00\",\"2022-02-28T00:00:00-05:00\",\"2022-03-01T00:00:00-05:00\",\"2022-03-02T00:00:00-05:00\",\"2022-03-03T00:00:00-05:00\",\"2022-03-04T00:00:00-05:00\",\"2022-03-07T00:00:00-05:00\",\"2022-03-08T00:00:00-05:00\",\"2022-03-09T00:00:00-05:00\",\"2022-03-10T00:00:00-05:00\",\"2022-03-11T00:00:00-05:00\",\"2022-03-14T00:00:00-04:00\",\"2022-03-15T00:00:00-04:00\",\"2022-03-16T00:00:00-04:00\",\"2022-03-17T00:00:00-04:00\",\"2022-03-18T00:00:00-04:00\",\"2022-03-21T00:00:00-04:00\",\"2022-03-22T00:00:00-04:00\",\"2022-03-23T00:00:00-04:00\",\"2022-03-24T00:00:00-04:00\",\"2022-03-25T00:00:00-04:00\",\"2022-03-28T00:00:00-04:00\",\"2022-03-29T00:00:00-04:00\",\"2022-03-30T00:00:00-04:00\",\"2022-03-31T00:00:00-04:00\",\"2022-04-01T00:00:00-04:00\",\"2022-04-04T00:00:00-04:00\",\"2022-04-05T00:00:00-04:00\",\"2022-04-06T00:00:00-04:00\",\"2022-04-07T00:00:00-04:00\",\"2022-04-08T00:00:00-04:00\",\"2022-04-11T00:00:00-04:00\",\"2022-04-12T00:00:00-04:00\",\"2022-04-13T00:00:00-04:00\",\"2022-04-14T00:00:00-04:00\",\"2022-04-18T00:00:00-04:00\",\"2022-04-19T00:00:00-04:00\",\"2022-04-20T00:00:00-04:00\",\"2022-04-21T00:00:00-04:00\",\"2022-04-22T00:00:00-04:00\",\"2022-04-25T00:00:00-04:00\",\"2022-04-26T00:00:00-04:00\",\"2022-04-27T00:00:00-04:00\",\"2022-04-28T00:00:00-04:00\",\"2022-04-29T00:00:00-04:00\",\"2022-05-02T00:00:00-04:00\",\"2022-05-03T00:00:00-04:00\",\"2022-05-04T00:00:00-04:00\",\"2022-05-05T00:00:00-04:00\",\"2022-05-06T00:00:00-04:00\",\"2022-05-09T00:00:00-04:00\",\"2022-05-10T00:00:00-04:00\",\"2022-05-11T00:00:00-04:00\",\"2022-05-12T00:00:00-04:00\",\"2022-05-13T00:00:00-04:00\",\"2022-05-16T00:00:00-04:00\",\"2022-05-17T00:00:00-04:00\",\"2022-05-18T00:00:00-04:00\",\"2022-05-19T00:00:00-04:00\",\"2022-05-20T00:00:00-04:00\",\"2022-05-23T00:00:00-04:00\",\"2022-05-24T00:00:00-04:00\",\"2022-05-25T00:00:00-04:00\",\"2022-05-26T00:00:00-04:00\",\"2022-05-27T00:00:00-04:00\",\"2022-05-31T00:00:00-04:00\",\"2022-06-01T00:00:00-04:00\",\"2022-06-02T00:00:00-04:00\",\"2022-06-03T00:00:00-04:00\",\"2022-06-06T00:00:00-04:00\",\"2022-06-07T00:00:00-04:00\",\"2022-06-08T00:00:00-04:00\",\"2022-06-09T00:00:00-04:00\",\"2022-06-10T00:00:00-04:00\",\"2022-06-13T00:00:00-04:00\",\"2022-06-14T00:00:00-04:00\",\"2022-06-15T00:00:00-04:00\",\"2022-06-16T00:00:00-04:00\",\"2022-06-17T00:00:00-04:00\",\"2022-06-21T00:00:00-04:00\",\"2022-06-22T00:00:00-04:00\",\"2022-06-23T00:00:00-04:00\",\"2022-06-24T00:00:00-04:00\",\"2022-06-27T00:00:00-04:00\",\"2022-06-28T00:00:00-04:00\",\"2022-06-29T00:00:00-04:00\",\"2022-06-30T00:00:00-04:00\",\"2022-07-01T00:00:00-04:00\",\"2022-07-05T00:00:00-04:00\",\"2022-07-06T00:00:00-04:00\",\"2022-07-07T00:00:00-04:00\",\"2022-07-08T00:00:00-04:00\",\"2022-07-11T00:00:00-04:00\",\"2022-07-12T00:00:00-04:00\",\"2022-07-13T00:00:00-04:00\",\"2022-07-14T00:00:00-04:00\",\"2022-07-15T00:00:00-04:00\",\"2022-07-18T00:00:00-04:00\",\"2022-07-19T00:00:00-04:00\",\"2022-07-20T00:00:00-04:00\",\"2022-07-21T00:00:00-04:00\",\"2022-07-22T00:00:00-04:00\",\"2022-07-25T00:00:00-04:00\",\"2022-07-26T00:00:00-04:00\",\"2022-07-27T00:00:00-04:00\",\"2022-07-28T00:00:00-04:00\",\"2022-07-29T00:00:00-04:00\",\"2022-08-01T00:00:00-04:00\",\"2022-08-02T00:00:00-04:00\",\"2022-08-03T00:00:00-04:00\",\"2022-08-04T00:00:00-04:00\",\"2022-08-05T00:00:00-04:00\",\"2022-08-08T00:00:00-04:00\",\"2022-08-09T00:00:00-04:00\",\"2022-08-10T00:00:00-04:00\",\"2022-08-11T00:00:00-04:00\",\"2022-08-12T00:00:00-04:00\",\"2022-08-15T00:00:00-04:00\",\"2022-08-16T00:00:00-04:00\",\"2022-08-17T00:00:00-04:00\",\"2022-08-18T00:00:00-04:00\",\"2022-08-19T00:00:00-04:00\",\"2022-08-22T00:00:00-04:00\",\"2022-08-23T00:00:00-04:00\",\"2022-08-24T00:00:00-04:00\",\"2022-08-25T00:00:00-04:00\",\"2022-08-26T00:00:00-04:00\",\"2022-08-29T00:00:00-04:00\",\"2022-08-30T00:00:00-04:00\",\"2022-08-31T00:00:00-04:00\",\"2022-09-01T00:00:00-04:00\",\"2022-09-02T00:00:00-04:00\",\"2022-09-06T00:00:00-04:00\",\"2022-09-07T00:00:00-04:00\",\"2022-09-08T00:00:00-04:00\",\"2022-09-09T00:00:00-04:00\",\"2022-09-12T00:00:00-04:00\",\"2022-09-13T00:00:00-04:00\",\"2022-09-14T00:00:00-04:00\",\"2022-09-15T00:00:00-04:00\",\"2022-09-16T00:00:00-04:00\",\"2022-09-19T00:00:00-04:00\",\"2022-09-20T00:00:00-04:00\",\"2022-09-21T00:00:00-04:00\",\"2022-09-22T00:00:00-04:00\",\"2022-09-23T00:00:00-04:00\",\"2022-09-26T00:00:00-04:00\",\"2022-09-27T00:00:00-04:00\",\"2022-09-28T00:00:00-04:00\",\"2022-09-29T00:00:00-04:00\",\"2022-09-30T00:00:00-04:00\",\"2022-10-03T00:00:00-04:00\",\"2022-10-04T00:00:00-04:00\",\"2022-10-05T00:00:00-04:00\",\"2022-10-06T00:00:00-04:00\",\"2022-10-07T00:00:00-04:00\",\"2022-10-10T00:00:00-04:00\",\"2022-10-11T00:00:00-04:00\",\"2022-10-12T00:00:00-04:00\",\"2022-10-13T00:00:00-04:00\",\"2022-10-14T00:00:00-04:00\"],\"y\":[65283000,67822500,149194500,68868000,147891000,107199000,64648500,99682500,72376500,97114500,106552500,85287000,73324500,93156000,81981000,79312500,101104500,68091000,71206500,70765500,93211500,62965500,55572000,66961500,76326000,104538000,154719000,194005500,93417000,68403000,59260500,88693500,84639000,60141000,48294000,104547000,87261000,65100000,71961000,91045500,103284000,76392000,57357000,64285500,75109500,53493000,82602000,123960000,89487000,119511000,98472000,91759500,112264500,71464500,89376000,74097000,99823500,125628000,208080000,315021000,227560500,241710000,282666000,298450500,286816500,202804500,153747000,164847000,112243500,114132000,109908000,95077500,105000000,98365500,91359000,84418500,73401000,85279500,60204000,65340000,65469000,63423000,69384000,134556000,260281500,128541000,130173000,88950000,85911000,84774000,70194000,109302000,142788000,85110000,66309000,108778500,137739000,134187000,89776500,62650500,58126500,84999000,112345500,88795500,81366000,71967000,89928000,281509500,215179500,123078000,197752500,335211000,142047000,164715000,162724500,181098000,191428500,125755500,119506500,153991500,103969500,111787500,125005500,125970000,97386000,281397000,184239000,262146000,132982500,113952000,142072500,73261500,85818000,88047000,117280500,104943000,84363000,88729500,77433000,164893500,143862000,106131000,69457500,85549500,102211500,76153500,151941000,348225000,204847500,128464500,463137000,368568000,257757000,173280000,156958500,104796000,136519500,90960000,284379000,261034500,197583000,89190000,77209500,54039000,196189500,114736500,111711000,108250500,80626500,125257500,115812000,112212000,337378500,214252500,137550000,150231000,95104500,101484000,103314000,248212500,124423500,110241000,75757500,72645000,67225500,117648000,127636500,504745500,326664000,176152500,119925000,147213000,269167500,202090500,180909000,192229500,122515500,108021000,93000000,142896000,129832500,81318000,140632500,84004500,285417000,300874500,312610500,411382500,217290000,136900500,114364500,120001500,117120000,117465000,101443500,110617500,106360500,76482000,104122500,81729000,75604500,69385500,108093000,145633500,120070500,70302000,63039000,119881500,95374500,61914000,46210500,84436500,124597500,126928500,117637500,172668000,99202500,94632000,75405000,110488500,95064000,115110000,106500000,124113000,136078500,120252000,83398500,122446500,128626500,149085000,94534500,174879000,104478000,110911500,113268000,105127500,81493500,90846000,75586500,78709500,90849000,70375500,55150500,362262000,181000500,187950000,120183000,108744000,96349500,69325500,168754500,188538000,109251000,110281500,101142000,75577500,97809000,87663000,106945500,82764000,77124000,78012000,58573500,62526000,107131500,133638000,86109000,99397500,128737500,167758500,157810500,343671000,256452000,281470500,155032500,141637500,132294000,110884500,112561500,102670500,106551000,221782500,154215000,177009000,103623000,89206500,131184000,153225000,110263500,131688000,101611500,89869500,121656000,82183500,118791000,355810500,195574500,156156000,88560000,105919500,147538500,101190000,150579000,109093500,76897500,88144500,182206500,164158500,160912500,327741000,335410500,250717500,141969000,160566000,272389500,355602000,162508500,151971000,92646000,100671000,105124500,162522000,108786000,109440000,112249500,266800500,307893000,270058500,280278000,398206500,212049000,154693500,179529000,118897500,156100500,195966000,207112500,202662000,303633000,240052500,158775000,174802500,227962500,122524500,111501000,184752000,190737000,98626500,177952500,123031500,86262000,92731500,127608000,95095500,102771000,123201000,138885000,213016500,105985500,88207500,92862000,137185500,112716000,138007500,165001500,122235000,146470500,71379000,105726000,102636000,75346500,166092000,336274500,150415500,139099500,121635000,137673000,123892500,92047500,105424500,83463000,71647500,79114500,58473000,69958500,72721500,143439000,122394000,76477500,79644000,61878000,116914500,98385000,128079000,75778500,81243000,48382500,77692500,139809000,80311500,86415000,110929500,62841000,72040500,73255500,150642000,128718000,79696500,70921500,57981000,62553000,71937000,95295000,65103000,193372500,141406500,178267500,166746000,88197000,92439000,84471000,226267500,119925000,120963000,130173000,103416000,94249500,127131000,153075000,96492000,100261500,71539500,86247000,75304500,69012000,78916500,445813500,450091500,283054500,190264500,144627000,76005000,95758500,131805000,104151000,119113500,217009500,91038000,149800500,110391000,126301500,96973500,72135000,66006000,115872000,100876500,91650000,253059000,185092500,119211000,83334000,36984000,91117500,98605500,82995000,55869000,114186000,135346500,132424500,103467000,116458500,98563500,272613000,127452000,211815000,271606500,221290500,199794000,120820500,159508500,149185500,188796000,154285500,142981500,266677500,151995000,268231500,467164500,426606000,194392500,397764000,434943000,260532000,326050500,204436500,267052500,470535000,294765000,215304000,204121500,176827500,267022500,435085500,235789500,705975000,914082000,726357000,598212000,255952500,370338000,175462500,180337500,394339500,235405500,245725500,381345000,264523500,214722000,227883000,259357500,211282500,364158000,363343500,302925000,386760000,225735000,162790500,189943500,256105500,233916000,199837500,283636500,339604500,307342500,359919000,356793000,452932500,424282500,246817500,343428000,318340500,260710500,215661000,179971500,266572500,200298000,297876000,338431500,223527000,268797000,189840000,204750000,337131000,458647500,353655000,309868500,196923000,221199000,303136500,212482500,198550500,198180000,310221000,228330000,243240000,427078500,487977000,288556500,254875500,166848000,172915500,241297500,247794000,238603500,285982500,205233000,157776000,174987000,144547500,109639500,183819000,149812500,121345500,173242500,108834000,176467500,224092500,203484000,119242500,133315500,117178500,212620500,170823000,278451000,238747500,251451000,235458000,210766500,148362000,146278500,130195500,95436000,95479500,164394000,138817500,132823500,135396000,253777500,199903500,258751500,308548500,322345500,244669500,175764000,350064000,584781000,351271500,245517000,214512000,139950000,256821000,241608000,212416500,364927500,290949000,240730500,237130500,141403500,114315000,183123000,132139500,126225000,74217000,89884500,133446000,112834500,129387000,327441000,306379500,188664000,303634500,247117500,183079500,309177000,322344000,300954000,159883500,213591000,355395000,301218000,355123200,269523300,288528300,262788300,330965700,346397100,238397400,254791800,182152500,249061800,291894600,216837900,230337600,259220400,328430400,238742400,285222600,289683300,201625500,149158800,150657900,144436800,152224500,214290000,134168400,147438900,129383100,121263300,86777100,116373300,103391100,143639100,107017200,98327700,108863400,94968900,97111500,119979600,101151000,84717600,68059500,76354200,67965900,127533900,87063300,103055100,96429300,85243500,65118000,104499000,90852600,52073100,59565300,59313300,80515800,183564900,234132000,187425900,98735700,150780900,160945500,146790600,112683300,189009300,120310500,143327100,127656000,88203900,168929100,192795000,213873600,201249600,139425000,156121800,135214500,126287400,168810300,666378600,174135900,155148000,99519000,68596800,96835800,68732400,128538000,148949700,145914600,96735600,134100000,154496700,225166500,177904800,138812100,99937500,93798900,116332800,76101000,76997700,61563300,60199500,123520200,69394800,82002000,79134000,104972400,76174200,73038600,55030500,47438100,55699800,60485100,45473100,108648300,64868400,71304900,59406900,77989500,53871300,56874900,111809100,199820700,110301000,117071700,123267600,81408600,71196600,90624000,197758500,268189500,155361000,202569900,181817100,108761700,100751400,88006800,96587100,121117500,99674400,128682000,118536600,91475700,101385600,117674700,101558400,85911000,118297200,100011900,105895200,125528400,84815400,78928200,71772900,64311300,87407100,133958400,147052200,83546700,83938500,119058600,106827000,93646500,106770900,85110000,93115500,88311000,66813000,86536200,122276100,81129300,89217900,65705700,83353800,70407600,94177200,139511700,101470800,132554700,100112700,97171200,110491800,118735200,92463300,78091800,103674300,84017700,85917900,79111800,68211000,54254700,69908400,90335700,72110700,67631100,78160200,49753800,71758800,48615900,61272000,53292300,66432300,68104200,73682700,74438100,57476700,93297600,137947200,97490100,64884600,52143900,56774700,55903500,81163500,69853500,56376000,68319900,54421500,77781000,62898300,64923600,60628800,49113000,63891300,46461300,41859900,45317100,43814700,76009800,98439900,48019800,91183800,88969200,100847400,64860900,51007800,38758800,46869000,44145900,40296900,29401800,52377300,50194500,68032200,71163900,61048200,42940500,44525700,60794700,39249300,37936800,39642900,41501400,55812600,62566200,39612900,38331900,45738300,60119400,56379000,42233100,45552600,68857500,55574700,46073100,41770200,84612600,74273100,48992100,45378900,35842500,64119000,84212100,76144200,62828700,53868000,51094200,91449900,55297800,43898400,57587400,50215800,42600900,66060000,42360300,36741600,56773800,72621600,52143300,42096300,94444500,68642400,188556300,187245000,115579500,81639600,89755200,168146100,128213400,103885500,76192200,64886400,100337100,177317400,128408100,67189800,76719300,104326800,79627200,94336200,62696700,64926900,99217500,108515100,67680600,35042700,58393500,81276000,68450400,73114800,92322000,81663000,56084700,41906400,59438400,59664300,78595500,70806300,75169200,82771500,100437300,56480100,71517900,93634200,92713200,71145900,60324000,56154000,47040900,40733700,103931400,100248300,80119800,90336600,84164700,91815000,66063300,83739000,97209900,72924300,66743400,75442500,70488600,103416000,151565700,86595900,104867400,147109500,134789100,104436000,73138200,66792900,78855600,73625400,60994500,50729100,52259400,66126900,79645800,67756500,57286200,51294300,55178400,68501700,83288100,95256900,135322200,76067700,99006900,74766900,74643300,61623600,66999600,72494100,80399100,59184000,58648500,67037100,71152200,66841200,84028800,66582900,100414200,81981600,105868500,120676200,68920800,62031600,102506100,73614900,59865000,48992700,54263100,82035900,80075100,89348400,79447200,55013700,59357100,65976000,55121100,58422300,51715200,49847700,70711200,105416400,69696600,68341200,136133700,76956300,124948500,88133100,75781500,63709500,81643800,92519100,72903000,90810300,84401700,97224600,140313000,92150700,86098500,80236200,87811800,90296700,144973200,88903500,89092500,92139300,106003200,89295000,101914500,77247900,93473100,112393800,84204600,72808500,76210500,96491400,97536600,102767400,97988700,119131800,107390700,92641800,122793000,101107500,104202600,95770800,89178300,90391200,82897200,94600500,74460300,84581100,71853600,81930600,101854200,99241200,87930900,97954500,78557400,69683100,82537500,80890200,88864200,142032300,103472700,64073400,66820800,88110000,84723000,95313000,117042900,95577600,80091000,72256200,113172900,98994000,86244600,94918800,70155000,79657200,89359200,88136400,68766000,47500500,61395300,55843200,63984900,57259800,53230000,57163900,41864700,50541800,52107300,54287000,50752200,55860000,50028900,53713100,54338100,48674600,68229600,72628700,64795500,86949500,60231200,61642800,62555700,70545400,63615400,58076900,61925200,54664800,77620600,67517800,98363500,109578500,86982700,69298400,83592300,67925000,77013200,66860700,91483000,93898700],\"type\":\"scatter\"}],                        {\"template\":{\"data\":{\"bar\":[{\"error_x\":{\"color\":\"#2a3f5f\"},\"error_y\":{\"color\":\"#2a3f5f\"},\"marker\":{\"line\":{\"color\":\"#E5ECF6\",\"width\":0.5},\"pattern\":{\"fillmode\":\"overlay\",\"size\":10,\"solidity\":0.2}},\"type\":\"bar\"}],\"barpolar\":[{\"marker\":{\"line\":{\"color\":\"#E5ECF6\",\"width\":0.5},\"pattern\":{\"fillmode\":\"overlay\",\"size\":10,\"solidity\":0.2}},\"type\":\"barpolar\"}],\"carpet\":[{\"aaxis\":{\"endlinecolor\":\"#2a3f5f\",\"gridcolor\":\"white\",\"linecolor\":\"white\",\"minorgridcolor\":\"white\",\"startlinecolor\":\"#2a3f5f\"},\"baxis\":{\"endlinecolor\":\"#2a3f5f\",\"gridcolor\":\"white\",\"linecolor\":\"white\",\"minorgridcolor\":\"white\",\"startlinecolor\":\"#2a3f5f\"},\"type\":\"carpet\"}],\"choropleth\":[{\"colorbar\":{\"outlinewidth\":0,\"ticks\":\"\"},\"type\":\"choropleth\"}],\"contour\":[{\"colorbar\":{\"outlinewidth\":0,\"ticks\":\"\"},\"colorscale\":[[0.0,\"#0d0887\"],[0.1111111111111111,\"#46039f\"],[0.2222222222222222,\"#7201a8\"],[0.3333333333333333,\"#9c179e\"],[0.4444444444444444,\"#bd3786\"],[0.5555555555555556,\"#d8576b\"],[0.6666666666666666,\"#ed7953\"],[0.7777777777777778,\"#fb9f3a\"],[0.8888888888888888,\"#fdca26\"],[1.0,\"#f0f921\"]],\"type\":\"contour\"}],\"contourcarpet\":[{\"colorbar\":{\"outlinewidth\":0,\"ticks\":\"\"},\"type\":\"contourcarpet\"}],\"heatmap\":[{\"colorbar\":{\"outlinewidth\":0,\"ticks\":\"\"},\"colorscale\":[[0.0,\"#0d0887\"],[0.1111111111111111,\"#46039f\"],[0.2222222222222222,\"#7201a8\"],[0.3333333333333333,\"#9c179e\"],[0.4444444444444444,\"#bd3786\"],[0.5555555555555556,\"#d8576b\"],[0.6666666666666666,\"#ed7953\"],[0.7777777777777778,\"#fb9f3a\"],[0.8888888888888888,\"#fdca26\"],[1.0,\"#f0f921\"]],\"type\":\"heatmap\"}],\"heatmapgl\":[{\"colorbar\":{\"outlinewidth\":0,\"ticks\":\"\"},\"colorscale\":[[0.0,\"#0d0887\"],[0.1111111111111111,\"#46039f\"],[0.2222222222222222,\"#7201a8\"],[0.3333333333333333,\"#9c179e\"],[0.4444444444444444,\"#bd3786\"],[0.5555555555555556,\"#d8576b\"],[0.6666666666666666,\"#ed7953\"],[0.7777777777777778,\"#fb9f3a\"],[0.8888888888888888,\"#fdca26\"],[1.0,\"#f0f921\"]],\"type\":\"heatmapgl\"}],\"histogram\":[{\"marker\":{\"pattern\":{\"fillmode\":\"overlay\",\"size\":10,\"solidity\":0.2}},\"type\":\"histogram\"}],\"histogram2d\":[{\"colorbar\":{\"outlinewidth\":0,\"ticks\":\"\"},\"colorscale\":[[0.0,\"#0d0887\"],[0.1111111111111111,\"#46039f\"],[0.2222222222222222,\"#7201a8\"],[0.3333333333333333,\"#9c179e\"],[0.4444444444444444,\"#bd3786\"],[0.5555555555555556,\"#d8576b\"],[0.6666666666666666,\"#ed7953\"],[0.7777777777777778,\"#fb9f3a\"],[0.8888888888888888,\"#fdca26\"],[1.0,\"#f0f921\"]],\"type\":\"histogram2d\"}],\"histogram2dcontour\":[{\"colorbar\":{\"outlinewidth\":0,\"ticks\":\"\"},\"colorscale\":[[0.0,\"#0d0887\"],[0.1111111111111111,\"#46039f\"],[0.2222222222222222,\"#7201a8\"],[0.3333333333333333,\"#9c179e\"],[0.4444444444444444,\"#bd3786\"],[0.5555555555555556,\"#d8576b\"],[0.6666666666666666,\"#ed7953\"],[0.7777777777777778,\"#fb9f3a\"],[0.8888888888888888,\"#fdca26\"],[1.0,\"#f0f921\"]],\"type\":\"histogram2dcontour\"}],\"mesh3d\":[{\"colorbar\":{\"outlinewidth\":0,\"ticks\":\"\"},\"type\":\"mesh3d\"}],\"parcoords\":[{\"line\":{\"colorbar\":{\"outlinewidth\":0,\"ticks\":\"\"}},\"type\":\"parcoords\"}],\"pie\":[{\"automargin\":true,\"type\":\"pie\"}],\"scatter\":[{\"marker\":{\"colorbar\":{\"outlinewidth\":0,\"ticks\":\"\"}},\"type\":\"scatter\"}],\"scatter3d\":[{\"line\":{\"colorbar\":{\"outlinewidth\":0,\"ticks\":\"\"}},\"marker\":{\"colorbar\":{\"outlinewidth\":0,\"ticks\":\"\"}},\"type\":\"scatter3d\"}],\"scattercarpet\":[{\"marker\":{\"colorbar\":{\"outlinewidth\":0,\"ticks\":\"\"}},\"type\":\"scattercarpet\"}],\"scattergeo\":[{\"marker\":{\"colorbar\":{\"outlinewidth\":0,\"ticks\":\"\"}},\"type\":\"scattergeo\"}],\"scattergl\":[{\"marker\":{\"colorbar\":{\"outlinewidth\":0,\"ticks\":\"\"}},\"type\":\"scattergl\"}],\"scattermapbox\":[{\"marker\":{\"colorbar\":{\"outlinewidth\":0,\"ticks\":\"\"}},\"type\":\"scattermapbox\"}],\"scatterpolar\":[{\"marker\":{\"colorbar\":{\"outlinewidth\":0,\"ticks\":\"\"}},\"type\":\"scatterpolar\"}],\"scatterpolargl\":[{\"marker\":{\"colorbar\":{\"outlinewidth\":0,\"ticks\":\"\"}},\"type\":\"scatterpolargl\"}],\"scatterternary\":[{\"marker\":{\"colorbar\":{\"outlinewidth\":0,\"ticks\":\"\"}},\"type\":\"scatterternary\"}],\"surface\":[{\"colorbar\":{\"outlinewidth\":0,\"ticks\":\"\"},\"colorscale\":[[0.0,\"#0d0887\"],[0.1111111111111111,\"#46039f\"],[0.2222222222222222,\"#7201a8\"],[0.3333333333333333,\"#9c179e\"],[0.4444444444444444,\"#bd3786\"],[0.5555555555555556,\"#d8576b\"],[0.6666666666666666,\"#ed7953\"],[0.7777777777777778,\"#fb9f3a\"],[0.8888888888888888,\"#fdca26\"],[1.0,\"#f0f921\"]],\"type\":\"surface\"}],\"table\":[{\"cells\":{\"fill\":{\"color\":\"#EBF0F8\"},\"line\":{\"color\":\"white\"}},\"header\":{\"fill\":{\"color\":\"#C8D4E3\"},\"line\":{\"color\":\"white\"}},\"type\":\"table\"}]},\"layout\":{\"annotationdefaults\":{\"arrowcolor\":\"#2a3f5f\",\"arrowhead\":0,\"arrowwidth\":1},\"autotypenumbers\":\"strict\",\"coloraxis\":{\"colorbar\":{\"outlinewidth\":0,\"ticks\":\"\"}},\"colorscale\":{\"diverging\":[[0,\"#8e0152\"],[0.1,\"#c51b7d\"],[0.2,\"#de77ae\"],[0.3,\"#f1b6da\"],[0.4,\"#fde0ef\"],[0.5,\"#f7f7f7\"],[0.6,\"#e6f5d0\"],[0.7,\"#b8e186\"],[0.8,\"#7fbc41\"],[0.9,\"#4d9221\"],[1,\"#276419\"]],\"sequential\":[[0.0,\"#0d0887\"],[0.1111111111111111,\"#46039f\"],[0.2222222222222222,\"#7201a8\"],[0.3333333333333333,\"#9c179e\"],[0.4444444444444444,\"#bd3786\"],[0.5555555555555556,\"#d8576b\"],[0.6666666666666666,\"#ed7953\"],[0.7777777777777778,\"#fb9f3a\"],[0.8888888888888888,\"#fdca26\"],[1.0,\"#f0f921\"]],\"sequentialminus\":[[0.0,\"#0d0887\"],[0.1111111111111111,\"#46039f\"],[0.2222222222222222,\"#7201a8\"],[0.3333333333333333,\"#9c179e\"],[0.4444444444444444,\"#bd3786\"],[0.5555555555555556,\"#d8576b\"],[0.6666666666666666,\"#ed7953\"],[0.7777777777777778,\"#fb9f3a\"],[0.8888888888888888,\"#fdca26\"],[1.0,\"#f0f921\"]]},\"colorway\":[\"#636efa\",\"#EF553B\",\"#00cc96\",\"#ab63fa\",\"#FFA15A\",\"#19d3f3\",\"#FF6692\",\"#B6E880\",\"#FF97FF\",\"#FECB52\"],\"font\":{\"color\":\"#2a3f5f\"},\"geo\":{\"bgcolor\":\"white\",\"lakecolor\":\"white\",\"landcolor\":\"#E5ECF6\",\"showlakes\":true,\"showland\":true,\"subunitcolor\":\"white\"},\"hoverlabel\":{\"align\":\"left\"},\"hovermode\":\"closest\",\"mapbox\":{\"style\":\"light\"},\"paper_bgcolor\":\"white\",\"plot_bgcolor\":\"#E5ECF6\",\"polar\":{\"angularaxis\":{\"gridcolor\":\"white\",\"linecolor\":\"white\",\"ticks\":\"\"},\"bgcolor\":\"#E5ECF6\",\"radialaxis\":{\"gridcolor\":\"white\",\"linecolor\":\"white\",\"ticks\":\"\"}},\"scene\":{\"xaxis\":{\"backgroundcolor\":\"#E5ECF6\",\"gridcolor\":\"white\",\"gridwidth\":2,\"linecolor\":\"white\",\"showbackground\":true,\"ticks\":\"\",\"zerolinecolor\":\"white\"},\"yaxis\":{\"backgroundcolor\":\"#E5ECF6\",\"gridcolor\":\"white\",\"gridwidth\":2,\"linecolor\":\"white\",\"showbackground\":true,\"ticks\":\"\",\"zerolinecolor\":\"white\"},\"zaxis\":{\"backgroundcolor\":\"#E5ECF6\",\"gridcolor\":\"white\",\"gridwidth\":2,\"linecolor\":\"white\",\"showbackground\":true,\"ticks\":\"\",\"zerolinecolor\":\"white\"}},\"shapedefaults\":{\"line\":{\"color\":\"#2a3f5f\"}},\"ternary\":{\"aaxis\":{\"gridcolor\":\"white\",\"linecolor\":\"white\",\"ticks\":\"\"},\"baxis\":{\"gridcolor\":\"white\",\"linecolor\":\"white\",\"ticks\":\"\"},\"bgcolor\":\"#E5ECF6\",\"caxis\":{\"gridcolor\":\"white\",\"linecolor\":\"white\",\"ticks\":\"\"}},\"title\":{\"x\":0.05},\"xaxis\":{\"automargin\":true,\"gridcolor\":\"white\",\"linecolor\":\"white\",\"ticks\":\"\",\"title\":{\"standoff\":15},\"zerolinecolor\":\"white\",\"zerolinewidth\":2},\"yaxis\":{\"automargin\":true,\"gridcolor\":\"white\",\"linecolor\":\"white\",\"ticks\":\"\",\"title\":{\"standoff\":15},\"zerolinecolor\":\"white\",\"zerolinewidth\":2}}},\"height\":500,\"width\":900,\"xaxis\":{\"title\":{\"text\":\"Date\"}},\"yaxis\":{\"title\":{\"text\":\"Volume\"}}},                        {\"responsive\": true}                    ).then(function(){\n",
              "                            \n",
              "var gd = document.getElementById('6e5f0291-1cb4-4305-9223-9436bc9621bf');\n",
              "var x = new MutationObserver(function (mutations, observer) {{\n",
              "        var display = window.getComputedStyle(gd).display;\n",
              "        if (!display || display === 'none') {{\n",
              "            console.log([gd, 'removed!']);\n",
              "            Plotly.purge(gd);\n",
              "            observer.disconnect();\n",
              "        }}\n",
              "}});\n",
              "\n",
              "// Listen for the removal of the full notebook cells\n",
              "var notebookContainer = gd.closest('#notebook-container');\n",
              "if (notebookContainer) {{\n",
              "    x.observe(notebookContainer, {childList: true});\n",
              "}}\n",
              "\n",
              "// Listen for the clearing of the current output cell\n",
              "var outputEl = gd.closest('.output');\n",
              "if (outputEl) {{\n",
              "    x.observe(outputEl, {childList: true});\n",
              "}}\n",
              "\n",
              "                        })                };                            </script>        </div>\n",
              "</body>\n",
              "</html>"
            ]
          },
          "metadata": {}
        }
      ]
    },
    {
      "cell_type": "markdown",
      "metadata": {
        "id": "w-rPoE6NTLGY"
      },
      "source": [
        "## Data Preparation"
      ]
    },
    {
      "cell_type": "code",
      "metadata": {
        "id": "LbPevPrhTN_u"
      },
      "source": [
        "from sklearn.preprocessing import MinMaxScaler\n",
        "import pickle # See and retrieve any python objects\n",
        "from tqdm.notebook import tnrange # Grafic progress bar to see the loading process"
      ],
      "execution_count": 75,
      "outputs": []
    },
    {
      "cell_type": "code",
      "metadata": {
        "colab": {
          "base_uri": "https://localhost:8080/",
          "height": 175
        },
        "id": "Wv0Hw2BkTvQt",
        "outputId": "0e557d55-0212-48d7-9cb4-df4a81c9af54"
      },
      "source": [
        "# Filter only required data\n",
        "data = data[['Close', 'Volume']]\n",
        "data.head(3)"
      ],
      "execution_count": 76,
      "outputs": [
        {
          "output_type": "execute_result",
          "data": {
            "text/plain": [
              "                               Close     Volume\n",
              "Date                                           \n",
              "2018-01-02 00:00:00-05:00  21.368668   65283000\n",
              "2018-01-03 00:00:00-05:00  21.150000   67822500\n",
              "2018-01-04 00:00:00-05:00  20.974667  149194500"
            ],
            "text/html": [
              "\n",
              "  <div id=\"df-f4b70799-8e5e-476d-95da-2e6ac544b3a5\">\n",
              "    <div class=\"colab-df-container\">\n",
              "      <div>\n",
              "<style scoped>\n",
              "    .dataframe tbody tr th:only-of-type {\n",
              "        vertical-align: middle;\n",
              "    }\n",
              "\n",
              "    .dataframe tbody tr th {\n",
              "        vertical-align: top;\n",
              "    }\n",
              "\n",
              "    .dataframe thead th {\n",
              "        text-align: right;\n",
              "    }\n",
              "</style>\n",
              "<table border=\"1\" class=\"dataframe\">\n",
              "  <thead>\n",
              "    <tr style=\"text-align: right;\">\n",
              "      <th></th>\n",
              "      <th>Close</th>\n",
              "      <th>Volume</th>\n",
              "    </tr>\n",
              "    <tr>\n",
              "      <th>Date</th>\n",
              "      <th></th>\n",
              "      <th></th>\n",
              "    </tr>\n",
              "  </thead>\n",
              "  <tbody>\n",
              "    <tr>\n",
              "      <th>2018-01-02 00:00:00-05:00</th>\n",
              "      <td>21.368668</td>\n",
              "      <td>65283000</td>\n",
              "    </tr>\n",
              "    <tr>\n",
              "      <th>2018-01-03 00:00:00-05:00</th>\n",
              "      <td>21.150000</td>\n",
              "      <td>67822500</td>\n",
              "    </tr>\n",
              "    <tr>\n",
              "      <th>2018-01-04 00:00:00-05:00</th>\n",
              "      <td>20.974667</td>\n",
              "      <td>149194500</td>\n",
              "    </tr>\n",
              "  </tbody>\n",
              "</table>\n",
              "</div>\n",
              "      <button class=\"colab-df-convert\" onclick=\"convertToInteractive('df-f4b70799-8e5e-476d-95da-2e6ac544b3a5')\"\n",
              "              title=\"Convert this dataframe to an interactive table.\"\n",
              "              style=\"display:none;\">\n",
              "        \n",
              "  <svg xmlns=\"http://www.w3.org/2000/svg\" height=\"24px\"viewBox=\"0 0 24 24\"\n",
              "       width=\"24px\">\n",
              "    <path d=\"M0 0h24v24H0V0z\" fill=\"none\"/>\n",
              "    <path d=\"M18.56 5.44l.94 2.06.94-2.06 2.06-.94-2.06-.94-.94-2.06-.94 2.06-2.06.94zm-11 1L8.5 8.5l.94-2.06 2.06-.94-2.06-.94L8.5 2.5l-.94 2.06-2.06.94zm10 10l.94 2.06.94-2.06 2.06-.94-2.06-.94-.94-2.06-.94 2.06-2.06.94z\"/><path d=\"M17.41 7.96l-1.37-1.37c-.4-.4-.92-.59-1.43-.59-.52 0-1.04.2-1.43.59L10.3 9.45l-7.72 7.72c-.78.78-.78 2.05 0 2.83L4 21.41c.39.39.9.59 1.41.59.51 0 1.02-.2 1.41-.59l7.78-7.78 2.81-2.81c.8-.78.8-2.07 0-2.86zM5.41 20L4 18.59l7.72-7.72 1.47 1.35L5.41 20z\"/>\n",
              "  </svg>\n",
              "      </button>\n",
              "      \n",
              "  <style>\n",
              "    .colab-df-container {\n",
              "      display:flex;\n",
              "      flex-wrap:wrap;\n",
              "      gap: 12px;\n",
              "    }\n",
              "\n",
              "    .colab-df-convert {\n",
              "      background-color: #E8F0FE;\n",
              "      border: none;\n",
              "      border-radius: 50%;\n",
              "      cursor: pointer;\n",
              "      display: none;\n",
              "      fill: #1967D2;\n",
              "      height: 32px;\n",
              "      padding: 0 0 0 0;\n",
              "      width: 32px;\n",
              "    }\n",
              "\n",
              "    .colab-df-convert:hover {\n",
              "      background-color: #E2EBFA;\n",
              "      box-shadow: 0px 1px 2px rgba(60, 64, 67, 0.3), 0px 1px 3px 1px rgba(60, 64, 67, 0.15);\n",
              "      fill: #174EA6;\n",
              "    }\n",
              "\n",
              "    [theme=dark] .colab-df-convert {\n",
              "      background-color: #3B4455;\n",
              "      fill: #D2E3FC;\n",
              "    }\n",
              "\n",
              "    [theme=dark] .colab-df-convert:hover {\n",
              "      background-color: #434B5C;\n",
              "      box-shadow: 0px 1px 3px 1px rgba(0, 0, 0, 0.15);\n",
              "      filter: drop-shadow(0px 1px 2px rgba(0, 0, 0, 0.3));\n",
              "      fill: #FFFFFF;\n",
              "    }\n",
              "  </style>\n",
              "\n",
              "      <script>\n",
              "        const buttonEl =\n",
              "          document.querySelector('#df-f4b70799-8e5e-476d-95da-2e6ac544b3a5 button.colab-df-convert');\n",
              "        buttonEl.style.display =\n",
              "          google.colab.kernel.accessAllowed ? 'block' : 'none';\n",
              "\n",
              "        async function convertToInteractive(key) {\n",
              "          const element = document.querySelector('#df-f4b70799-8e5e-476d-95da-2e6ac544b3a5');\n",
              "          const dataTable =\n",
              "            await google.colab.kernel.invokeFunction('convertToInteractive',\n",
              "                                                     [key], {});\n",
              "          if (!dataTable) return;\n",
              "\n",
              "          const docLinkHtml = 'Like what you see? Visit the ' +\n",
              "            '<a target=\"_blank\" href=https://colab.research.google.com/notebooks/data_table.ipynb>data table notebook</a>'\n",
              "            + ' to learn more about interactive tables.';\n",
              "          element.innerHTML = '';\n",
              "          dataTable['output_type'] = 'display_data';\n",
              "          await google.colab.output.renderOutput(dataTable, element);\n",
              "          const docLink = document.createElement('div');\n",
              "          docLink.innerHTML = docLinkHtml;\n",
              "          element.appendChild(docLink);\n",
              "        }\n",
              "      </script>\n",
              "    </div>\n",
              "  </div>\n",
              "  "
            ]
          },
          "metadata": {},
          "execution_count": 76
        }
      ]
    },
    {
      "cell_type": "code",
      "metadata": {
        "id": "QjwXIw9fUoV3",
        "colab": {
          "base_uri": "https://localhost:8080/"
        },
        "outputId": "7bb0ad84-9417-4edb-9df5-45d444d03b7b"
      },
      "source": [
        " # Confirm the testing Set Length\n",
        "test_length = data[(data.index >= '2021-06-01')].shape[0]\n",
        "print('Dataset shape is: {}'.format(data.shape[0]))\n",
        "print('Test data shape is: {}'.format(test_length))"
      ],
      "execution_count": 85,
      "outputs": [
        {
          "output_type": "stream",
          "name": "stdout",
          "text": [
            "Dataset shape is: 1206\n",
            "Test data shape is: 348\n"
          ]
        }
      ]
    },
    {
      "cell_type": "code",
      "metadata": {
        "id": "UiaHO9atX9xe"
      },
      "source": [
        "def CreateFeatures_and_Targets(data, feature_length):\n",
        "    X = []\n",
        "    Y = []\n",
        "\n",
        "    for i in tnrange(len(data) - feature_length): \n",
        "        X.append(data.iloc[i : i + feature_length,:].values)\n",
        "        Y.append(data[\"Close\"].values[i+feature_length])\n",
        "\n",
        "    X = np.array(X)\n",
        "    Y = np.array(Y)\n",
        "    return X , Y"
      ],
      "execution_count": 86,
      "outputs": []
    },
    {
      "cell_type": "code",
      "metadata": {
        "colab": {
          "base_uri": "https://localhost:8080/",
          "height": 49,
          "referenced_widgets": [
            "76b8eb3773ab4c2ea9eec068a232a8d4",
            "f60726898d4e41998ac9635fb811a79c",
            "b4433e7ddfc84e658a408262090c19a6",
            "0509ff2edfdc4d65b9d2e9086689b1d3",
            "2d6abee958f04c8eada32eb0722c3ff2",
            "769373400bc54ceb9b5a49246c6aaacd",
            "45bfcaecdd36477fab7ed403043a5905",
            "134e027d4240436f95a431c822691f51",
            "5b7127fcab624c978330e771924a5bc8",
            "f3a4f33304c84a1896079aa56656f579",
            "95f105dc04924064a513d34e7eae4091"
          ]
        },
        "id": "sF_yMvp1ZLZd",
        "outputId": "9d6261d9-907f-445a-c263-142aff73ba6f"
      },
      "source": [
        "X , Y = CreateFeatures_and_Targets(data , 32)"
      ],
      "execution_count": 87,
      "outputs": [
        {
          "output_type": "display_data",
          "data": {
            "text/plain": [
              "  0%|          | 0/1174 [00:00<?, ?it/s]"
            ],
            "application/vnd.jupyter.widget-view+json": {
              "version_major": 2,
              "version_minor": 0,
              "model_id": "76b8eb3773ab4c2ea9eec068a232a8d4"
            }
          },
          "metadata": {}
        }
      ]
    },
    {
      "cell_type": "code",
      "metadata": {
        "colab": {
          "base_uri": "https://localhost:8080/"
        },
        "id": "JOvjXc9eZbea",
        "outputId": "fbcd5443-784c-4d03-ae1e-77c828d68f58"
      },
      "source": [
        "# Print the Shape\n",
        "X.shape, Y.shape"
      ],
      "execution_count": 88,
      "outputs": [
        {
          "output_type": "execute_result",
          "data": {
            "text/plain": [
              "((1174, 32, 2), (1174,))"
            ]
          },
          "metadata": {},
          "execution_count": 88
        }
      ]
    },
    {
      "cell_type": "code",
      "metadata": {
        "id": "9JrdgPChZunZ"
      },
      "source": [
        "# Train Test Split\n",
        "Xtrain , Xtest , Ytrain , Ytest = X[:-test_length] , X[-test_length:] , Y[:-test_length] , Y[-test_length:]"
      ],
      "execution_count": 89,
      "outputs": []
    },
    {
      "cell_type": "code",
      "metadata": {
        "colab": {
          "base_uri": "https://localhost:8080/"
        },
        "id": "eXhMyNcHaOJy",
        "outputId": "bda49510-8b3f-4267-d7d8-501574a7bf96"
      },
      "source": [
        "# Check Train Shape\n",
        "Xtrain.shape, Ytrain.shape"
      ],
      "execution_count": 90,
      "outputs": [
        {
          "output_type": "execute_result",
          "data": {
            "text/plain": [
              "((826, 32, 2), (826,))"
            ]
          },
          "metadata": {},
          "execution_count": 90
        }
      ]
    },
    {
      "cell_type": "code",
      "metadata": {
        "colab": {
          "base_uri": "https://localhost:8080/"
        },
        "id": "LZhSS_JSaZfo",
        "outputId": "2b7a1662-3824-4c64-9fd1-dfacf911a52b"
      },
      "source": [
        "# Check Test Shape\n",
        "Xtest.shape, Ytest.shape"
      ],
      "execution_count": 91,
      "outputs": [
        {
          "output_type": "execute_result",
          "data": {
            "text/plain": [
              "((348, 32, 2), (348,))"
            ]
          },
          "metadata": {},
          "execution_count": 91
        }
      ]
    },
    {
      "cell_type": "markdown",
      "metadata": {
        "id": "AYWDjBuqfIKs"
      },
      "source": [
        "Create a Scaler to scale Vectors"
      ]
    },
    {
      "cell_type": "code",
      "metadata": {
        "id": "ETK-tnO-fPQZ"
      },
      "source": [
        "class MultiDimesionalScaler():\n",
        "  def __init__(self):\n",
        "    self.scalers = []\n",
        "\n",
        "  def fit_transform(self, X):\n",
        "    total_dims = X.shape[2]\n",
        "    for i in range(total_dims):\n",
        "      Scaler = MinMaxScaler()\n",
        "      X[:, :, i] = Scaler.fit_transform(X[:, :, i])\n",
        "      self.scalers.append(Scaler)\n",
        "    return X\n",
        "    \n",
        "  def transform(self, X):\n",
        "    for i in range(X.shape[2]):\n",
        "      X[:, :, i] = self.scalers[i].transform(X[:, :, i])\n",
        "    return X"
      ],
      "execution_count": 92,
      "outputs": []
    },
    {
      "cell_type": "code",
      "metadata": {
        "id": "8mluwtH6gx7C"
      },
      "source": [
        "# Scale the features based on created MultiDimesionalScaler class\n",
        "Feature_Scaler = MultiDimesionalScaler()\n",
        "Xtrain = Feature_Scaler.fit_transform(Xtrain)\n",
        "Xtest = Feature_Scaler.transform(Xtest)"
      ],
      "execution_count": 93,
      "outputs": []
    },
    {
      "cell_type": "code",
      "metadata": {
        "id": "2gxWerXzheJu"
      },
      "source": [
        "# Scale the target based on MinMaxScale function\n",
        "Target_Scaler = MinMaxScaler()\n",
        "Ytrain = Target_Scaler.fit_transform(Ytrain.reshape(-1,1))\n",
        "Ytest = Target_Scaler.transform(Ytest.reshape(-1,1))"
      ],
      "execution_count": 94,
      "outputs": []
    },
    {
      "cell_type": "code",
      "metadata": {
        "id": "wDCliErxiNyl"
      },
      "source": [
        "# Python pickle module is used for serializing and de-serializing python object structures.\n",
        "def save_object(obj, name : str):\n",
        "  pickle_out = open(f'{name}.pck', 'wb')\n",
        "  pickle.dump(obj, pickle_out)\n",
        "  pickle_out.close()\n",
        "\n",
        "def load_object(name: str):\n",
        "  pickle_in = open(f'{name}.pck', 'rb')\n",
        "  data = pickle.load(pickle_in)\n",
        "  return data  "
      ],
      "execution_count": 95,
      "outputs": []
    },
    {
      "cell_type": "code",
      "metadata": {
        "id": "PEzG8PDjjX4t"
      },
      "source": [
        "# Save your objects for future purposes\n",
        "save_object(Feature_Scaler, \"Feature_Scaler\")\n",
        "save_object(Target_Scaler, \"Target_Scaler\")"
      ],
      "execution_count": 96,
      "outputs": []
    },
    {
      "cell_type": "markdown",
      "metadata": {
        "id": "a7jOLNdAkjGW"
      },
      "source": [
        "## Model Buiding"
      ]
    },
    {
      "cell_type": "code",
      "metadata": {
        "id": "1LLp4IvIklvW"
      },
      "source": [
        "# Define Callbacks\n",
        "from tensorflow.keras.callbacks import ModelCheckpoint, ReduceLROnPlateau\n",
        "\n",
        "\"\"\"\n",
        "ModelCheckpoint: Callback to save the Keras model or model weights at some frequency\n",
        "ReduceLROnPlateau: Reduce learning rate when a metric has stopped improving\n",
        "\"\"\"\n",
        "\n",
        "save_best = ModelCheckpoint(\n",
        "    \"best_weights.h5\",\n",
        "     monitor='val_loss',\n",
        "     save_best_only=True,\n",
        "     save_weights_only=True\n",
        "     )\n",
        "\n",
        "reduce_lr = ReduceLROnPlateau(    \n",
        "    monitor='val_loss',\n",
        "    factor=0.25,\n",
        "    patience=5,\n",
        "    min_lr=0.00001,\n",
        "    verbose = 1\n",
        "    )       "
      ],
      "execution_count": 97,
      "outputs": []
    },
    {
      "cell_type": "code",
      "metadata": {
        "colab": {
          "base_uri": "https://localhost:8080/"
        },
        "id": "8IIf9w5Sm693",
        "outputId": "d5af4b0e-a67a-40d7-e3dc-e21ec612598f"
      },
      "source": [
        "# Define a Sequential Model\n",
        "from tensorflow.keras.models import Sequential\n",
        "from tensorflow.keras.layers import Dense, Dropout, LSTM, Bidirectional\n",
        "\n",
        "model = Sequential()\n",
        "model.add(Bidirectional(LSTM(\n",
        "    512,\n",
        "    return_sequences=True,\n",
        "    recurrent_dropout=0.1,\n",
        "    input_shape=(32,2)))\n",
        "    )\n",
        "model.add(LSTM(256, recurrent_dropout=0.1))\n",
        "model.add(Dropout(0.3))\n",
        "model.add(Dense(64, activation='elu'))\n",
        "model.add(Dropout(0.3))\n",
        "model.add(Dense(32, activation='elu'))\n",
        "model.add(Dense(1, activation='linear'))#Final Layer"
      ],
      "execution_count": 110,
      "outputs": [
        {
          "output_type": "stream",
          "name": "stderr",
          "text": [
            "WARNING:tensorflow:Layer lstm_10 will not use cuDNN kernels since it doesn't meet the criteria. It will use a generic GPU kernel as fallback when running on GPU.\n",
            "WARNING:tensorflow:Layer lstm_10 will not use cuDNN kernels since it doesn't meet the criteria. It will use a generic GPU kernel as fallback when running on GPU.\n",
            "WARNING:tensorflow:Layer lstm_10 will not use cuDNN kernels since it doesn't meet the criteria. It will use a generic GPU kernel as fallback when running on GPU.\n",
            "WARNING:tensorflow:Layer lstm_11 will not use cuDNN kernels since it doesn't meet the criteria. It will use a generic GPU kernel as fallback when running on GPU.\n"
          ]
        }
      ]
    },
    {
      "cell_type": "code",
      "metadata": {
        "id": "KGzYWD20qU76"
      },
      "source": [
        "# Define the Optimizer and Compile\n",
        "optimizer = tf.keras.optimizers.SGD(learning_rate = 0.002)\n",
        "model.compile(loss='mse', optimizer=optimizer)"
      ],
      "execution_count": 111,
      "outputs": []
    },
    {
      "cell_type": "code",
      "metadata": {
        "colab": {
          "base_uri": "https://localhost:8080/"
        },
        "id": "2741vREtrV8J",
        "outputId": "27717b5a-e39d-4460-e7f1-a1d2c0d82f72"
      },
      "source": [
        "# Fit the data into the Sequantial Model\n",
        "history = model.fit(Xtrain, Ytrain,\n",
        "                    epochs=10,\n",
        "                    batch_size=1,\n",
        "                    verbose=1,\n",
        "                    shuffle=False,\n",
        "                    validation_data=(Xtest, Ytest),\n",
        "                    callbacks=[reduce_lr, save_best])"
      ],
      "execution_count": 112,
      "outputs": [
        {
          "output_type": "stream",
          "name": "stdout",
          "text": [
            "Epoch 1/10\n",
            "826/826 [==============================] - 129s 151ms/step - loss: 0.0036 - val_loss: 0.0617 - lr: 0.0020\n",
            "Epoch 2/10\n",
            "826/826 [==============================] - 123s 149ms/step - loss: 0.0066 - val_loss: 0.0494 - lr: 0.0020\n",
            "Epoch 3/10\n",
            "826/826 [==============================] - 123s 149ms/step - loss: 0.0060 - val_loss: 0.0597 - lr: 0.0020\n",
            "Epoch 4/10\n",
            "826/826 [==============================] - 122s 148ms/step - loss: 0.0048 - val_loss: 0.0489 - lr: 0.0020\n",
            "Epoch 5/10\n",
            "826/826 [==============================] - 123s 149ms/step - loss: 0.0042 - val_loss: 0.0361 - lr: 0.0020\n",
            "Epoch 6/10\n",
            "826/826 [==============================] - 123s 149ms/step - loss: 0.0035 - val_loss: 0.0257 - lr: 0.0020\n",
            "Epoch 7/10\n",
            "826/826 [==============================] - 123s 148ms/step - loss: 0.0031 - val_loss: 0.0372 - lr: 0.0020\n",
            "Epoch 8/10\n",
            "826/826 [==============================] - 123s 149ms/step - loss: 0.0034 - val_loss: 0.0257 - lr: 0.0020\n",
            "Epoch 9/10\n",
            "826/826 [==============================] - 123s 148ms/step - loss: 0.0033 - val_loss: 0.0328 - lr: 0.0020\n",
            "Epoch 10/10\n",
            "826/826 [==============================] - 122s 148ms/step - loss: 0.0030 - val_loss: 0.0249 - lr: 0.0020\n"
          ]
        }
      ]
    },
    {
      "cell_type": "code",
      "metadata": {
        "colab": {
          "base_uri": "https://localhost:8080/"
        },
        "id": "d8P729MXAfmM",
        "outputId": "70f0cdea-651d-4c28-b8e4-64981df85257"
      },
      "source": [
        "# Checking the model Structure \n",
        "model.summary()"
      ],
      "execution_count": 113,
      "outputs": [
        {
          "output_type": "stream",
          "name": "stdout",
          "text": [
            "Model: \"sequential_5\"\n",
            "_________________________________________________________________\n",
            " Layer (type)                Output Shape              Param #   \n",
            "=================================================================\n",
            " bidirectional_5 (Bidirectio  (1, 32, 1024)            2109440   \n",
            " nal)                                                            \n",
            "                                                                 \n",
            " lstm_11 (LSTM)              (1, 256)                  1311744   \n",
            "                                                                 \n",
            " dropout_10 (Dropout)        (1, 256)                  0         \n",
            "                                                                 \n",
            " dense_15 (Dense)            (1, 64)                   16448     \n",
            "                                                                 \n",
            " dropout_11 (Dropout)        (1, 64)                   0         \n",
            "                                                                 \n",
            " dense_16 (Dense)            (1, 32)                   2080      \n",
            "                                                                 \n",
            " dense_17 (Dense)            (1, 1)                    33        \n",
            "                                                                 \n",
            "=================================================================\n",
            "Total params: 3,439,745\n",
            "Trainable params: 3,439,745\n",
            "Non-trainable params: 0\n",
            "_________________________________________________________________\n"
          ]
        }
      ]
    },
    {
      "cell_type": "code",
      "metadata": {
        "id": "EoWAWOazvMMX"
      },
      "source": [
        "# Load the best weights\n",
        "model.load_weights(\"best_weights.h5\")"
      ],
      "execution_count": 114,
      "outputs": []
    },
    {
      "cell_type": "code",
      "metadata": {
        "id": "qYZBBCQFvX0x",
        "colab": {
          "base_uri": "https://localhost:8080/"
        },
        "outputId": "566cb586-82c5-4852-e142-d0f17890293d"
      },
      "source": [
        "Predictions = model.predict(Xtest)"
      ],
      "execution_count": 115,
      "outputs": [
        {
          "output_type": "stream",
          "name": "stdout",
          "text": [
            "11/11 [==============================] - 2s 63ms/step\n"
          ]
        }
      ]
    },
    {
      "cell_type": "code",
      "metadata": {
        "id": "x-eCL6KpvcQP"
      },
      "source": [
        "Predictions = Target_Scaler.inverse_transform(Predictions)\n",
        "Actual = Target_Scaler.inverse_transform(Ytest)"
      ],
      "execution_count": 116,
      "outputs": []
    },
    {
      "cell_type": "code",
      "metadata": {
        "colab": {
          "base_uri": "https://localhost:8080/"
        },
        "id": "bo5Gz67mvscI",
        "outputId": "292077a1-1f40-4e29-971d-4b919adc6e68"
      },
      "source": [
        "Predictions.shape"
      ],
      "execution_count": 117,
      "outputs": [
        {
          "output_type": "execute_result",
          "data": {
            "text/plain": [
              "(348, 1)"
            ]
          },
          "metadata": {},
          "execution_count": 117
        }
      ]
    },
    {
      "cell_type": "code",
      "metadata": {
        "id": "pRLgsawbvyzL"
      },
      "source": [
        "Predictions = np.squeeze(Predictions, axis = 1)\n",
        "Actual = np.squeeze(Actual, axis=1)"
      ],
      "execution_count": 118,
      "outputs": []
    },
    {
      "cell_type": "code",
      "source": [
        "# Check the performance with Root Mean Squared Error - RMSE\n",
        "rmse = np.sqrt(np.mean(Predictions - Ytest)**2)\n",
        "rmse"
      ],
      "metadata": {
        "colab": {
          "base_uri": "https://localhost:8080/"
        },
        "id": "EwxiyvGBS-_v",
        "outputId": "6ac98154-50de-4f05-f895-c7e8593b5dc0"
      },
      "execution_count": 119,
      "outputs": [
        {
          "output_type": "execute_result",
          "data": {
            "text/plain": [
              "244.57095418882324"
            ]
          },
          "metadata": {},
          "execution_count": 119
        }
      ]
    },
    {
      "cell_type": "code",
      "metadata": {
        "colab": {
          "base_uri": "https://localhost:8080/",
          "height": 542
        },
        "id": "lmBiZeDfv-AW",
        "outputId": "5a598be3-60fb-4c37-b124-4b4ae57eb115"
      },
      "source": [
        "# Check the Predictions vs Actual\n",
        "fig = go.Figure()\n",
        "\n",
        "fig.add_trace(go.Scatter(x = data.index[-test_length:], y = Actual, mode = 'lines', name = 'Actual'))\n",
        "fig.add_trace(go.Scatter(x = data.index[-test_length:], y = Predictions, mode = 'lines', name = 'Predicted'))\n",
        "fig.show()"
      ],
      "execution_count": 120,
      "outputs": [
        {
          "output_type": "display_data",
          "data": {
            "text/html": [
              "<html>\n",
              "<head><meta charset=\"utf-8\" /></head>\n",
              "<body>\n",
              "    <div>            <script src=\"https://cdnjs.cloudflare.com/ajax/libs/mathjax/2.7.5/MathJax.js?config=TeX-AMS-MML_SVG\"></script><script type=\"text/javascript\">if (window.MathJax) {MathJax.Hub.Config({SVG: {font: \"STIX-Web\"}});}</script>                <script type=\"text/javascript\">window.PlotlyConfig = {MathJaxConfig: 'local'};</script>\n",
              "        <script src=\"https://cdn.plot.ly/plotly-2.8.3.min.js\"></script>                <div id=\"2961a448-0b16-4dfa-b13f-2babb341ae61\" class=\"plotly-graph-div\" style=\"height:525px; width:100%;\"></div>            <script type=\"text/javascript\">                                    window.PLOTLYENV=window.PLOTLYENV || {};                                    if (document.getElementById(\"2961a448-0b16-4dfa-b13f-2babb341ae61\")) {                    Plotly.newPlot(                        \"2961a448-0b16-4dfa-b13f-2babb341ae61\",                        [{\"mode\":\"lines\",\"name\":\"Actual\",\"x\":[\"2021-06-01T00:00:00-04:00\",\"2021-06-02T00:00:00-04:00\",\"2021-06-03T00:00:00-04:00\",\"2021-06-04T00:00:00-04:00\",\"2021-06-07T00:00:00-04:00\",\"2021-06-08T00:00:00-04:00\",\"2021-06-09T00:00:00-04:00\",\"2021-06-10T00:00:00-04:00\",\"2021-06-11T00:00:00-04:00\",\"2021-06-14T00:00:00-04:00\",\"2021-06-15T00:00:00-04:00\",\"2021-06-16T00:00:00-04:00\",\"2021-06-17T00:00:00-04:00\",\"2021-06-18T00:00:00-04:00\",\"2021-06-21T00:00:00-04:00\",\"2021-06-22T00:00:00-04:00\",\"2021-06-23T00:00:00-04:00\",\"2021-06-24T00:00:00-04:00\",\"2021-06-25T00:00:00-04:00\",\"2021-06-28T00:00:00-04:00\",\"2021-06-29T00:00:00-04:00\",\"2021-06-30T00:00:00-04:00\",\"2021-07-01T00:00:00-04:00\",\"2021-07-02T00:00:00-04:00\",\"2021-07-06T00:00:00-04:00\",\"2021-07-07T00:00:00-04:00\",\"2021-07-08T00:00:00-04:00\",\"2021-07-09T00:00:00-04:00\",\"2021-07-12T00:00:00-04:00\",\"2021-07-13T00:00:00-04:00\",\"2021-07-14T00:00:00-04:00\",\"2021-07-15T00:00:00-04:00\",\"2021-07-16T00:00:00-04:00\",\"2021-07-19T00:00:00-04:00\",\"2021-07-20T00:00:00-04:00\",\"2021-07-21T00:00:00-04:00\",\"2021-07-22T00:00:00-04:00\",\"2021-07-23T00:00:00-04:00\",\"2021-07-26T00:00:00-04:00\",\"2021-07-27T00:00:00-04:00\",\"2021-07-28T00:00:00-04:00\",\"2021-07-29T00:00:00-04:00\",\"2021-07-30T00:00:00-04:00\",\"2021-08-02T00:00:00-04:00\",\"2021-08-03T00:00:00-04:00\",\"2021-08-04T00:00:00-04:00\",\"2021-08-05T00:00:00-04:00\",\"2021-08-06T00:00:00-04:00\",\"2021-08-09T00:00:00-04:00\",\"2021-08-10T00:00:00-04:00\",\"2021-08-11T00:00:00-04:00\",\"2021-08-12T00:00:00-04:00\",\"2021-08-13T00:00:00-04:00\",\"2021-08-16T00:00:00-04:00\",\"2021-08-17T00:00:00-04:00\",\"2021-08-18T00:00:00-04:00\",\"2021-08-19T00:00:00-04:00\",\"2021-08-20T00:00:00-04:00\",\"2021-08-23T00:00:00-04:00\",\"2021-08-24T00:00:00-04:00\",\"2021-08-25T00:00:00-04:00\",\"2021-08-26T00:00:00-04:00\",\"2021-08-27T00:00:00-04:00\",\"2021-08-30T00:00:00-04:00\",\"2021-08-31T00:00:00-04:00\",\"2021-09-01T00:00:00-04:00\",\"2021-09-02T00:00:00-04:00\",\"2021-09-03T00:00:00-04:00\",\"2021-09-07T00:00:00-04:00\",\"2021-09-08T00:00:00-04:00\",\"2021-09-09T00:00:00-04:00\",\"2021-09-10T00:00:00-04:00\",\"2021-09-13T00:00:00-04:00\",\"2021-09-14T00:00:00-04:00\",\"2021-09-15T00:00:00-04:00\",\"2021-09-16T00:00:00-04:00\",\"2021-09-17T00:00:00-04:00\",\"2021-09-20T00:00:00-04:00\",\"2021-09-21T00:00:00-04:00\",\"2021-09-22T00:00:00-04:00\",\"2021-09-23T00:00:00-04:00\",\"2021-09-24T00:00:00-04:00\",\"2021-09-27T00:00:00-04:00\",\"2021-09-28T00:00:00-04:00\",\"2021-09-29T00:00:00-04:00\",\"2021-09-30T00:00:00-04:00\",\"2021-10-01T00:00:00-04:00\",\"2021-10-04T00:00:00-04:00\",\"2021-10-05T00:00:00-04:00\",\"2021-10-06T00:00:00-04:00\",\"2021-10-07T00:00:00-04:00\",\"2021-10-08T00:00:00-04:00\",\"2021-10-11T00:00:00-04:00\",\"2021-10-12T00:00:00-04:00\",\"2021-10-13T00:00:00-04:00\",\"2021-10-14T00:00:00-04:00\",\"2021-10-15T00:00:00-04:00\",\"2021-10-18T00:00:00-04:00\",\"2021-10-19T00:00:00-04:00\",\"2021-10-20T00:00:00-04:00\",\"2021-10-21T00:00:00-04:00\",\"2021-10-22T00:00:00-04:00\",\"2021-10-25T00:00:00-04:00\",\"2021-10-26T00:00:00-04:00\",\"2021-10-27T00:00:00-04:00\",\"2021-10-28T00:00:00-04:00\",\"2021-10-29T00:00:00-04:00\",\"2021-11-01T00:00:00-04:00\",\"2021-11-02T00:00:00-04:00\",\"2021-11-03T00:00:00-04:00\",\"2021-11-04T00:00:00-04:00\",\"2021-11-05T00:00:00-04:00\",\"2021-11-08T00:00:00-05:00\",\"2021-11-09T00:00:00-05:00\",\"2021-11-10T00:00:00-05:00\",\"2021-11-11T00:00:00-05:00\",\"2021-11-12T00:00:00-05:00\",\"2021-11-15T00:00:00-05:00\",\"2021-11-16T00:00:00-05:00\",\"2021-11-17T00:00:00-05:00\",\"2021-11-18T00:00:00-05:00\",\"2021-11-19T00:00:00-05:00\",\"2021-11-22T00:00:00-05:00\",\"2021-11-23T00:00:00-05:00\",\"2021-11-24T00:00:00-05:00\",\"2021-11-26T00:00:00-05:00\",\"2021-11-29T00:00:00-05:00\",\"2021-11-30T00:00:00-05:00\",\"2021-12-01T00:00:00-05:00\",\"2021-12-02T00:00:00-05:00\",\"2021-12-03T00:00:00-05:00\",\"2021-12-06T00:00:00-05:00\",\"2021-12-07T00:00:00-05:00\",\"2021-12-08T00:00:00-05:00\",\"2021-12-09T00:00:00-05:00\",\"2021-12-10T00:00:00-05:00\",\"2021-12-13T00:00:00-05:00\",\"2021-12-14T00:00:00-05:00\",\"2021-12-15T00:00:00-05:00\",\"2021-12-16T00:00:00-05:00\",\"2021-12-17T00:00:00-05:00\",\"2021-12-20T00:00:00-05:00\",\"2021-12-21T00:00:00-05:00\",\"2021-12-22T00:00:00-05:00\",\"2021-12-23T00:00:00-05:00\",\"2021-12-27T00:00:00-05:00\",\"2021-12-28T00:00:00-05:00\",\"2021-12-29T00:00:00-05:00\",\"2021-12-30T00:00:00-05:00\",\"2021-12-31T00:00:00-05:00\",\"2022-01-03T00:00:00-05:00\",\"2022-01-04T00:00:00-05:00\",\"2022-01-05T00:00:00-05:00\",\"2022-01-06T00:00:00-05:00\",\"2022-01-07T00:00:00-05:00\",\"2022-01-10T00:00:00-05:00\",\"2022-01-11T00:00:00-05:00\",\"2022-01-12T00:00:00-05:00\",\"2022-01-13T00:00:00-05:00\",\"2022-01-14T00:00:00-05:00\",\"2022-01-18T00:00:00-05:00\",\"2022-01-19T00:00:00-05:00\",\"2022-01-20T00:00:00-05:00\",\"2022-01-21T00:00:00-05:00\",\"2022-01-24T00:00:00-05:00\",\"2022-01-25T00:00:00-05:00\",\"2022-01-26T00:00:00-05:00\",\"2022-01-27T00:00:00-05:00\",\"2022-01-28T00:00:00-05:00\",\"2022-01-31T00:00:00-05:00\",\"2022-02-01T00:00:00-05:00\",\"2022-02-02T00:00:00-05:00\",\"2022-02-03T00:00:00-05:00\",\"2022-02-04T00:00:00-05:00\",\"2022-02-07T00:00:00-05:00\",\"2022-02-08T00:00:00-05:00\",\"2022-02-09T00:00:00-05:00\",\"2022-02-10T00:00:00-05:00\",\"2022-02-11T00:00:00-05:00\",\"2022-02-14T00:00:00-05:00\",\"2022-02-15T00:00:00-05:00\",\"2022-02-16T00:00:00-05:00\",\"2022-02-17T00:00:00-05:00\",\"2022-02-18T00:00:00-05:00\",\"2022-02-22T00:00:00-05:00\",\"2022-02-23T00:00:00-05:00\",\"2022-02-24T00:00:00-05:00\",\"2022-02-25T00:00:00-05:00\",\"2022-02-28T00:00:00-05:00\",\"2022-03-01T00:00:00-05:00\",\"2022-03-02T00:00:00-05:00\",\"2022-03-03T00:00:00-05:00\",\"2022-03-04T00:00:00-05:00\",\"2022-03-07T00:00:00-05:00\",\"2022-03-08T00:00:00-05:00\",\"2022-03-09T00:00:00-05:00\",\"2022-03-10T00:00:00-05:00\",\"2022-03-11T00:00:00-05:00\",\"2022-03-14T00:00:00-04:00\",\"2022-03-15T00:00:00-04:00\",\"2022-03-16T00:00:00-04:00\",\"2022-03-17T00:00:00-04:00\",\"2022-03-18T00:00:00-04:00\",\"2022-03-21T00:00:00-04:00\",\"2022-03-22T00:00:00-04:00\",\"2022-03-23T00:00:00-04:00\",\"2022-03-24T00:00:00-04:00\",\"2022-03-25T00:00:00-04:00\",\"2022-03-28T00:00:00-04:00\",\"2022-03-29T00:00:00-04:00\",\"2022-03-30T00:00:00-04:00\",\"2022-03-31T00:00:00-04:00\",\"2022-04-01T00:00:00-04:00\",\"2022-04-04T00:00:00-04:00\",\"2022-04-05T00:00:00-04:00\",\"2022-04-06T00:00:00-04:00\",\"2022-04-07T00:00:00-04:00\",\"2022-04-08T00:00:00-04:00\",\"2022-04-11T00:00:00-04:00\",\"2022-04-12T00:00:00-04:00\",\"2022-04-13T00:00:00-04:00\",\"2022-04-14T00:00:00-04:00\",\"2022-04-18T00:00:00-04:00\",\"2022-04-19T00:00:00-04:00\",\"2022-04-20T00:00:00-04:00\",\"2022-04-21T00:00:00-04:00\",\"2022-04-22T00:00:00-04:00\",\"2022-04-25T00:00:00-04:00\",\"2022-04-26T00:00:00-04:00\",\"2022-04-27T00:00:00-04:00\",\"2022-04-28T00:00:00-04:00\",\"2022-04-29T00:00:00-04:00\",\"2022-05-02T00:00:00-04:00\",\"2022-05-03T00:00:00-04:00\",\"2022-05-04T00:00:00-04:00\",\"2022-05-05T00:00:00-04:00\",\"2022-05-06T00:00:00-04:00\",\"2022-05-09T00:00:00-04:00\",\"2022-05-10T00:00:00-04:00\",\"2022-05-11T00:00:00-04:00\",\"2022-05-12T00:00:00-04:00\",\"2022-05-13T00:00:00-04:00\",\"2022-05-16T00:00:00-04:00\",\"2022-05-17T00:00:00-04:00\",\"2022-05-18T00:00:00-04:00\",\"2022-05-19T00:00:00-04:00\",\"2022-05-20T00:00:00-04:00\",\"2022-05-23T00:00:00-04:00\",\"2022-05-24T00:00:00-04:00\",\"2022-05-25T00:00:00-04:00\",\"2022-05-26T00:00:00-04:00\",\"2022-05-27T00:00:00-04:00\",\"2022-05-31T00:00:00-04:00\",\"2022-06-01T00:00:00-04:00\",\"2022-06-02T00:00:00-04:00\",\"2022-06-03T00:00:00-04:00\",\"2022-06-06T00:00:00-04:00\",\"2022-06-07T00:00:00-04:00\",\"2022-06-08T00:00:00-04:00\",\"2022-06-09T00:00:00-04:00\",\"2022-06-10T00:00:00-04:00\",\"2022-06-13T00:00:00-04:00\",\"2022-06-14T00:00:00-04:00\",\"2022-06-15T00:00:00-04:00\",\"2022-06-16T00:00:00-04:00\",\"2022-06-17T00:00:00-04:00\",\"2022-06-21T00:00:00-04:00\",\"2022-06-22T00:00:00-04:00\",\"2022-06-23T00:00:00-04:00\",\"2022-06-24T00:00:00-04:00\",\"2022-06-27T00:00:00-04:00\",\"2022-06-28T00:00:00-04:00\",\"2022-06-29T00:00:00-04:00\",\"2022-06-30T00:00:00-04:00\",\"2022-07-01T00:00:00-04:00\",\"2022-07-05T00:00:00-04:00\",\"2022-07-06T00:00:00-04:00\",\"2022-07-07T00:00:00-04:00\",\"2022-07-08T00:00:00-04:00\",\"2022-07-11T00:00:00-04:00\",\"2022-07-12T00:00:00-04:00\",\"2022-07-13T00:00:00-04:00\",\"2022-07-14T00:00:00-04:00\",\"2022-07-15T00:00:00-04:00\",\"2022-07-18T00:00:00-04:00\",\"2022-07-19T00:00:00-04:00\",\"2022-07-20T00:00:00-04:00\",\"2022-07-21T00:00:00-04:00\",\"2022-07-22T00:00:00-04:00\",\"2022-07-25T00:00:00-04:00\",\"2022-07-26T00:00:00-04:00\",\"2022-07-27T00:00:00-04:00\",\"2022-07-28T00:00:00-04:00\",\"2022-07-29T00:00:00-04:00\",\"2022-08-01T00:00:00-04:00\",\"2022-08-02T00:00:00-04:00\",\"2022-08-03T00:00:00-04:00\",\"2022-08-04T00:00:00-04:00\",\"2022-08-05T00:00:00-04:00\",\"2022-08-08T00:00:00-04:00\",\"2022-08-09T00:00:00-04:00\",\"2022-08-10T00:00:00-04:00\",\"2022-08-11T00:00:00-04:00\",\"2022-08-12T00:00:00-04:00\",\"2022-08-15T00:00:00-04:00\",\"2022-08-16T00:00:00-04:00\",\"2022-08-17T00:00:00-04:00\",\"2022-08-18T00:00:00-04:00\",\"2022-08-19T00:00:00-04:00\",\"2022-08-22T00:00:00-04:00\",\"2022-08-23T00:00:00-04:00\",\"2022-08-24T00:00:00-04:00\",\"2022-08-25T00:00:00-04:00\",\"2022-08-26T00:00:00-04:00\",\"2022-08-29T00:00:00-04:00\",\"2022-08-30T00:00:00-04:00\",\"2022-08-31T00:00:00-04:00\",\"2022-09-01T00:00:00-04:00\",\"2022-09-02T00:00:00-04:00\",\"2022-09-06T00:00:00-04:00\",\"2022-09-07T00:00:00-04:00\",\"2022-09-08T00:00:00-04:00\",\"2022-09-09T00:00:00-04:00\",\"2022-09-12T00:00:00-04:00\",\"2022-09-13T00:00:00-04:00\",\"2022-09-14T00:00:00-04:00\",\"2022-09-15T00:00:00-04:00\",\"2022-09-16T00:00:00-04:00\",\"2022-09-19T00:00:00-04:00\",\"2022-09-20T00:00:00-04:00\",\"2022-09-21T00:00:00-04:00\",\"2022-09-22T00:00:00-04:00\",\"2022-09-23T00:00:00-04:00\",\"2022-09-26T00:00:00-04:00\",\"2022-09-27T00:00:00-04:00\",\"2022-09-28T00:00:00-04:00\",\"2022-09-29T00:00:00-04:00\",\"2022-09-30T00:00:00-04:00\",\"2022-10-03T00:00:00-04:00\",\"2022-10-04T00:00:00-04:00\",\"2022-10-05T00:00:00-04:00\",\"2022-10-06T00:00:00-04:00\",\"2022-10-07T00:00:00-04:00\",\"2022-10-10T00:00:00-04:00\",\"2022-10-11T00:00:00-04:00\",\"2022-10-12T00:00:00-04:00\",\"2022-10-13T00:00:00-04:00\",\"2022-10-14T00:00:00-04:00\"],\"y\":[207.96665954589844,201.7066650390625,190.94667053222656,199.68333435058594,201.7100067138672,201.19667053222656,199.59333801269534,203.3733367919922,203.29666137695312,205.89666748046875,199.7866668701172,201.62333679199216,205.53334045410156,207.77000427246094,206.94332885742188,207.90333557128906,218.85667419433594,226.60667419433594,223.9566650390625,229.57333374023438,226.9199981689453,226.56666564941403,225.97332763671875,226.3000030517578,219.86000061035156,214.88333129882812,217.60333251953125,218.98333740234375,228.56666564941406,222.8466644287109,217.7933349609375,216.86666870117185,214.74000549316406,215.4066619873047,220.1666717529297,218.42999267578125,216.4199981689453,214.4600067138672,219.2066650390625,214.92666625976562,215.66000366210938,225.78334045410156,229.06666564941406,236.55667114257812,236.5800018310547,236.97332763671875,238.2100067138672,233.03334045410156,237.9199981689453,236.663330078125,235.94000244140625,240.75,239.05667114257812,228.72332763671875,221.90333557128906,229.663330078125,224.49000549316406,226.75332641601562,235.43333435058594,236.163330078125,237.06666564941406,233.72000122070312,237.30667114257812,243.6366729736328,245.24000549316406,244.69667053222656,244.1300048828125,244.52333068847656,250.97332763671875,251.2899932861328,251.6199951171875,245.42333984375,247.6666717529297,248.163330078125,251.94332885742188,252.3300018310547,253.163330078125,243.38999938964844,246.4600067138672,250.64666748046875,251.2133331298828,258.1300048828125,263.78668212890625,259.1866760253906,260.4366760253906,258.49334716796875,258.40667724609375,260.510009765625,260.1966552734375,260.9166564941406,264.53668212890625,261.8299865722656,263.9800109863281,268.5733337402344,270.3599853515625,272.7733459472656,281.010009765625,290.0366821289063,288.0899963378906,288.6000061035156,298.0,303.2266540527344,341.6199951171875,339.4766540527344,345.9533386230469,359.0133361816406,371.3333435058594,402.86334228515625,390.6666564941406,404.6199951171875,409.9700012207031,407.36334228515625,387.64666748046875,341.1666564941406,355.98333740234375,354.5033264160156,344.47332763671875,337.7966613769532,351.57666015624994,363.0033264160156,365.4599914550781,379.0199890136719,385.6233215332031,369.6766662597656,372.0,360.6400146484375,378.9966735839844,381.586669921875,365.0,361.5333251953125,338.3233337402344,336.336669921875,350.5833435058594,356.32000732421875,334.6000061035156,339.01000976562494,322.13665771484375,319.5033264160156,325.3299865722656,308.97332763671875,310.8566589355469,299.9800109863281,312.84332275390625,336.2900085449219,355.6666564941406,364.64666748046875,362.8233337402344,362.0633239746094,356.77999877929693,352.26000976562494,399.9266662597656,383.1966552734375,362.7066650390625,354.8999938964844,342.32000732421875,352.7066650390625,354.79998779296875,368.73999023437506,343.85333251953125,349.86999511718756,343.5033264160156,331.8833312988281,332.0899963378906,314.6333312988281,310.0,306.1333312988282,312.4700012207031,276.3666687011719,282.1166687011719,312.239990234375,310.4166564941406,301.88665771484375,297.0466613769531,307.7733459472656,302.4466552734375,307.3333435058594,310.6666564941406,301.51666259765625,286.6666564941406,291.9200134277344,307.4766540527344,307.7966613769531,292.1166687011719,285.6600036621094,273.84332275390625,254.67999267578125,266.92333984375,269.9566650390625,290.1433410644531,288.1233215332031,293.2966613769531,279.7633361816406,279.42999267578125,268.1933288574219,274.79998779296875,286.3233337402344,279.4333190917969,265.1166687011719,255.4566650390625,267.2966613769531,280.07666015625,290.5333251953125,301.7966613769531,307.0533447265625,331.32666015625,333.03668212890625,337.97332763671875,336.8800048828125,363.9466552734375,366.5233459472656,364.663330078125,359.20001220703125,361.5299987792969,381.8166809082031,363.7533264160156,348.586669921875,352.4200134277344,341.8299865722656,325.30999755859375,328.98333740234375,340.7900085449219,328.3333435058594,334.7633361816406,342.7166748046875,325.73333740234375,336.260009765625,335.01666259765625,332.67333984375,292.1400146484375,293.836669921875,292.50332641601557,290.2533264160156,300.9800109863281,303.0833435058594,317.5400085449219,291.09332275390625,288.54998779296875,262.3699951171875,266.67999267578125,244.6666717529297,242.6666717529297,256.5299987792969,241.4566650390625,253.8699951171875,236.60333251953125,236.47332763671875,221.3000030517578,224.96665954589844,209.3866729736328,219.6000061035156,235.91000366210938,253.2100067138672,252.75332641601562,246.7899932861328,258.3333435058594,234.51666259765625,238.2799987792969,238.88667297363278,241.86666870117185,239.7066650390625,232.22999572753906,215.73666381835938,220.88999938964844,233.0,213.10000610351562,216.75999450683594,237.0366668701172,236.086669921875,235.07000732421875,245.7066650390625,244.9199981689453,232.663330078125,228.49000549316406,224.47332763671875,227.26333618164062,233.06666564941406,231.73333740234375,244.54333496093747,250.76333618164062,234.3433380126953,233.07000732421875,237.0399932861328,238.31333923339844,240.06666564941406,240.54666137695312,245.52999877929688,247.5,271.7066650390625,272.24334716796875,268.4333190917969,258.8599853515625,274.82000732421875,280.8999938964844,297.1499938964844,297.27667236328125,300.586669921875,307.39666748046875,308.6333312988281,288.1700134277344,290.42333984375,283.3333435058594,294.3566589355469,286.6300048828125,300.0299987792969,309.32000732421875,306.5633239746094,303.9966735839844,302.86999511718756,296.6666564941406,289.913330078125,296.45333862304693,297.09667968749994,296.07000732421875,288.0899963378906,284.82000732421875,277.70001220703125,275.6099853515625,277.1600036621094,270.2099914550781,274.4200134277344,283.70001220703125,289.260009765625,299.6799926757813,304.4200134277344,292.1300048828125,302.6099853515625,303.75,303.3500061035156,309.07000732421875,308.7300109863281,300.79998779296875,288.5899963378906,275.3299865722656,276.010009765625,282.94000244140625,287.80999755859375,268.2099914550781,265.25,242.3999938964844,249.44000244140625,240.80999755859375,238.1300048828125,223.07000732421875,222.96000671386716,216.5,217.24000549316406,221.72000122070312,204.99000549316406],\"type\":\"scatter\"},{\"mode\":\"lines\",\"name\":\"Predicted\",\"x\":[\"2021-06-01T00:00:00-04:00\",\"2021-06-02T00:00:00-04:00\",\"2021-06-03T00:00:00-04:00\",\"2021-06-04T00:00:00-04:00\",\"2021-06-07T00:00:00-04:00\",\"2021-06-08T00:00:00-04:00\",\"2021-06-09T00:00:00-04:00\",\"2021-06-10T00:00:00-04:00\",\"2021-06-11T00:00:00-04:00\",\"2021-06-14T00:00:00-04:00\",\"2021-06-15T00:00:00-04:00\",\"2021-06-16T00:00:00-04:00\",\"2021-06-17T00:00:00-04:00\",\"2021-06-18T00:00:00-04:00\",\"2021-06-21T00:00:00-04:00\",\"2021-06-22T00:00:00-04:00\",\"2021-06-23T00:00:00-04:00\",\"2021-06-24T00:00:00-04:00\",\"2021-06-25T00:00:00-04:00\",\"2021-06-28T00:00:00-04:00\",\"2021-06-29T00:00:00-04:00\",\"2021-06-30T00:00:00-04:00\",\"2021-07-01T00:00:00-04:00\",\"2021-07-02T00:00:00-04:00\",\"2021-07-06T00:00:00-04:00\",\"2021-07-07T00:00:00-04:00\",\"2021-07-08T00:00:00-04:00\",\"2021-07-09T00:00:00-04:00\",\"2021-07-12T00:00:00-04:00\",\"2021-07-13T00:00:00-04:00\",\"2021-07-14T00:00:00-04:00\",\"2021-07-15T00:00:00-04:00\",\"2021-07-16T00:00:00-04:00\",\"2021-07-19T00:00:00-04:00\",\"2021-07-20T00:00:00-04:00\",\"2021-07-21T00:00:00-04:00\",\"2021-07-22T00:00:00-04:00\",\"2021-07-23T00:00:00-04:00\",\"2021-07-26T00:00:00-04:00\",\"2021-07-27T00:00:00-04:00\",\"2021-07-28T00:00:00-04:00\",\"2021-07-29T00:00:00-04:00\",\"2021-07-30T00:00:00-04:00\",\"2021-08-02T00:00:00-04:00\",\"2021-08-03T00:00:00-04:00\",\"2021-08-04T00:00:00-04:00\",\"2021-08-05T00:00:00-04:00\",\"2021-08-06T00:00:00-04:00\",\"2021-08-09T00:00:00-04:00\",\"2021-08-10T00:00:00-04:00\",\"2021-08-11T00:00:00-04:00\",\"2021-08-12T00:00:00-04:00\",\"2021-08-13T00:00:00-04:00\",\"2021-08-16T00:00:00-04:00\",\"2021-08-17T00:00:00-04:00\",\"2021-08-18T00:00:00-04:00\",\"2021-08-19T00:00:00-04:00\",\"2021-08-20T00:00:00-04:00\",\"2021-08-23T00:00:00-04:00\",\"2021-08-24T00:00:00-04:00\",\"2021-08-25T00:00:00-04:00\",\"2021-08-26T00:00:00-04:00\",\"2021-08-27T00:00:00-04:00\",\"2021-08-30T00:00:00-04:00\",\"2021-08-31T00:00:00-04:00\",\"2021-09-01T00:00:00-04:00\",\"2021-09-02T00:00:00-04:00\",\"2021-09-03T00:00:00-04:00\",\"2021-09-07T00:00:00-04:00\",\"2021-09-08T00:00:00-04:00\",\"2021-09-09T00:00:00-04:00\",\"2021-09-10T00:00:00-04:00\",\"2021-09-13T00:00:00-04:00\",\"2021-09-14T00:00:00-04:00\",\"2021-09-15T00:00:00-04:00\",\"2021-09-16T00:00:00-04:00\",\"2021-09-17T00:00:00-04:00\",\"2021-09-20T00:00:00-04:00\",\"2021-09-21T00:00:00-04:00\",\"2021-09-22T00:00:00-04:00\",\"2021-09-23T00:00:00-04:00\",\"2021-09-24T00:00:00-04:00\",\"2021-09-27T00:00:00-04:00\",\"2021-09-28T00:00:00-04:00\",\"2021-09-29T00:00:00-04:00\",\"2021-09-30T00:00:00-04:00\",\"2021-10-01T00:00:00-04:00\",\"2021-10-04T00:00:00-04:00\",\"2021-10-05T00:00:00-04:00\",\"2021-10-06T00:00:00-04:00\",\"2021-10-07T00:00:00-04:00\",\"2021-10-08T00:00:00-04:00\",\"2021-10-11T00:00:00-04:00\",\"2021-10-12T00:00:00-04:00\",\"2021-10-13T00:00:00-04:00\",\"2021-10-14T00:00:00-04:00\",\"2021-10-15T00:00:00-04:00\",\"2021-10-18T00:00:00-04:00\",\"2021-10-19T00:00:00-04:00\",\"2021-10-20T00:00:00-04:00\",\"2021-10-21T00:00:00-04:00\",\"2021-10-22T00:00:00-04:00\",\"2021-10-25T00:00:00-04:00\",\"2021-10-26T00:00:00-04:00\",\"2021-10-27T00:00:00-04:00\",\"2021-10-28T00:00:00-04:00\",\"2021-10-29T00:00:00-04:00\",\"2021-11-01T00:00:00-04:00\",\"2021-11-02T00:00:00-04:00\",\"2021-11-03T00:00:00-04:00\",\"2021-11-04T00:00:00-04:00\",\"2021-11-05T00:00:00-04:00\",\"2021-11-08T00:00:00-05:00\",\"2021-11-09T00:00:00-05:00\",\"2021-11-10T00:00:00-05:00\",\"2021-11-11T00:00:00-05:00\",\"2021-11-12T00:00:00-05:00\",\"2021-11-15T00:00:00-05:00\",\"2021-11-16T00:00:00-05:00\",\"2021-11-17T00:00:00-05:00\",\"2021-11-18T00:00:00-05:00\",\"2021-11-19T00:00:00-05:00\",\"2021-11-22T00:00:00-05:00\",\"2021-11-23T00:00:00-05:00\",\"2021-11-24T00:00:00-05:00\",\"2021-11-26T00:00:00-05:00\",\"2021-11-29T00:00:00-05:00\",\"2021-11-30T00:00:00-05:00\",\"2021-12-01T00:00:00-05:00\",\"2021-12-02T00:00:00-05:00\",\"2021-12-03T00:00:00-05:00\",\"2021-12-06T00:00:00-05:00\",\"2021-12-07T00:00:00-05:00\",\"2021-12-08T00:00:00-05:00\",\"2021-12-09T00:00:00-05:00\",\"2021-12-10T00:00:00-05:00\",\"2021-12-13T00:00:00-05:00\",\"2021-12-14T00:00:00-05:00\",\"2021-12-15T00:00:00-05:00\",\"2021-12-16T00:00:00-05:00\",\"2021-12-17T00:00:00-05:00\",\"2021-12-20T00:00:00-05:00\",\"2021-12-21T00:00:00-05:00\",\"2021-12-22T00:00:00-05:00\",\"2021-12-23T00:00:00-05:00\",\"2021-12-27T00:00:00-05:00\",\"2021-12-28T00:00:00-05:00\",\"2021-12-29T00:00:00-05:00\",\"2021-12-30T00:00:00-05:00\",\"2021-12-31T00:00:00-05:00\",\"2022-01-03T00:00:00-05:00\",\"2022-01-04T00:00:00-05:00\",\"2022-01-05T00:00:00-05:00\",\"2022-01-06T00:00:00-05:00\",\"2022-01-07T00:00:00-05:00\",\"2022-01-10T00:00:00-05:00\",\"2022-01-11T00:00:00-05:00\",\"2022-01-12T00:00:00-05:00\",\"2022-01-13T00:00:00-05:00\",\"2022-01-14T00:00:00-05:00\",\"2022-01-18T00:00:00-05:00\",\"2022-01-19T00:00:00-05:00\",\"2022-01-20T00:00:00-05:00\",\"2022-01-21T00:00:00-05:00\",\"2022-01-24T00:00:00-05:00\",\"2022-01-25T00:00:00-05:00\",\"2022-01-26T00:00:00-05:00\",\"2022-01-27T00:00:00-05:00\",\"2022-01-28T00:00:00-05:00\",\"2022-01-31T00:00:00-05:00\",\"2022-02-01T00:00:00-05:00\",\"2022-02-02T00:00:00-05:00\",\"2022-02-03T00:00:00-05:00\",\"2022-02-04T00:00:00-05:00\",\"2022-02-07T00:00:00-05:00\",\"2022-02-08T00:00:00-05:00\",\"2022-02-09T00:00:00-05:00\",\"2022-02-10T00:00:00-05:00\",\"2022-02-11T00:00:00-05:00\",\"2022-02-14T00:00:00-05:00\",\"2022-02-15T00:00:00-05:00\",\"2022-02-16T00:00:00-05:00\",\"2022-02-17T00:00:00-05:00\",\"2022-02-18T00:00:00-05:00\",\"2022-02-22T00:00:00-05:00\",\"2022-02-23T00:00:00-05:00\",\"2022-02-24T00:00:00-05:00\",\"2022-02-25T00:00:00-05:00\",\"2022-02-28T00:00:00-05:00\",\"2022-03-01T00:00:00-05:00\",\"2022-03-02T00:00:00-05:00\",\"2022-03-03T00:00:00-05:00\",\"2022-03-04T00:00:00-05:00\",\"2022-03-07T00:00:00-05:00\",\"2022-03-08T00:00:00-05:00\",\"2022-03-09T00:00:00-05:00\",\"2022-03-10T00:00:00-05:00\",\"2022-03-11T00:00:00-05:00\",\"2022-03-14T00:00:00-04:00\",\"2022-03-15T00:00:00-04:00\",\"2022-03-16T00:00:00-04:00\",\"2022-03-17T00:00:00-04:00\",\"2022-03-18T00:00:00-04:00\",\"2022-03-21T00:00:00-04:00\",\"2022-03-22T00:00:00-04:00\",\"2022-03-23T00:00:00-04:00\",\"2022-03-24T00:00:00-04:00\",\"2022-03-25T00:00:00-04:00\",\"2022-03-28T00:00:00-04:00\",\"2022-03-29T00:00:00-04:00\",\"2022-03-30T00:00:00-04:00\",\"2022-03-31T00:00:00-04:00\",\"2022-04-01T00:00:00-04:00\",\"2022-04-04T00:00:00-04:00\",\"2022-04-05T00:00:00-04:00\",\"2022-04-06T00:00:00-04:00\",\"2022-04-07T00:00:00-04:00\",\"2022-04-08T00:00:00-04:00\",\"2022-04-11T00:00:00-04:00\",\"2022-04-12T00:00:00-04:00\",\"2022-04-13T00:00:00-04:00\",\"2022-04-14T00:00:00-04:00\",\"2022-04-18T00:00:00-04:00\",\"2022-04-19T00:00:00-04:00\",\"2022-04-20T00:00:00-04:00\",\"2022-04-21T00:00:00-04:00\",\"2022-04-22T00:00:00-04:00\",\"2022-04-25T00:00:00-04:00\",\"2022-04-26T00:00:00-04:00\",\"2022-04-27T00:00:00-04:00\",\"2022-04-28T00:00:00-04:00\",\"2022-04-29T00:00:00-04:00\",\"2022-05-02T00:00:00-04:00\",\"2022-05-03T00:00:00-04:00\",\"2022-05-04T00:00:00-04:00\",\"2022-05-05T00:00:00-04:00\",\"2022-05-06T00:00:00-04:00\",\"2022-05-09T00:00:00-04:00\",\"2022-05-10T00:00:00-04:00\",\"2022-05-11T00:00:00-04:00\",\"2022-05-12T00:00:00-04:00\",\"2022-05-13T00:00:00-04:00\",\"2022-05-16T00:00:00-04:00\",\"2022-05-17T00:00:00-04:00\",\"2022-05-18T00:00:00-04:00\",\"2022-05-19T00:00:00-04:00\",\"2022-05-20T00:00:00-04:00\",\"2022-05-23T00:00:00-04:00\",\"2022-05-24T00:00:00-04:00\",\"2022-05-25T00:00:00-04:00\",\"2022-05-26T00:00:00-04:00\",\"2022-05-27T00:00:00-04:00\",\"2022-05-31T00:00:00-04:00\",\"2022-06-01T00:00:00-04:00\",\"2022-06-02T00:00:00-04:00\",\"2022-06-03T00:00:00-04:00\",\"2022-06-06T00:00:00-04:00\",\"2022-06-07T00:00:00-04:00\",\"2022-06-08T00:00:00-04:00\",\"2022-06-09T00:00:00-04:00\",\"2022-06-10T00:00:00-04:00\",\"2022-06-13T00:00:00-04:00\",\"2022-06-14T00:00:00-04:00\",\"2022-06-15T00:00:00-04:00\",\"2022-06-16T00:00:00-04:00\",\"2022-06-17T00:00:00-04:00\",\"2022-06-21T00:00:00-04:00\",\"2022-06-22T00:00:00-04:00\",\"2022-06-23T00:00:00-04:00\",\"2022-06-24T00:00:00-04:00\",\"2022-06-27T00:00:00-04:00\",\"2022-06-28T00:00:00-04:00\",\"2022-06-29T00:00:00-04:00\",\"2022-06-30T00:00:00-04:00\",\"2022-07-01T00:00:00-04:00\",\"2022-07-05T00:00:00-04:00\",\"2022-07-06T00:00:00-04:00\",\"2022-07-07T00:00:00-04:00\",\"2022-07-08T00:00:00-04:00\",\"2022-07-11T00:00:00-04:00\",\"2022-07-12T00:00:00-04:00\",\"2022-07-13T00:00:00-04:00\",\"2022-07-14T00:00:00-04:00\",\"2022-07-15T00:00:00-04:00\",\"2022-07-18T00:00:00-04:00\",\"2022-07-19T00:00:00-04:00\",\"2022-07-20T00:00:00-04:00\",\"2022-07-21T00:00:00-04:00\",\"2022-07-22T00:00:00-04:00\",\"2022-07-25T00:00:00-04:00\",\"2022-07-26T00:00:00-04:00\",\"2022-07-27T00:00:00-04:00\",\"2022-07-28T00:00:00-04:00\",\"2022-07-29T00:00:00-04:00\",\"2022-08-01T00:00:00-04:00\",\"2022-08-02T00:00:00-04:00\",\"2022-08-03T00:00:00-04:00\",\"2022-08-04T00:00:00-04:00\",\"2022-08-05T00:00:00-04:00\",\"2022-08-08T00:00:00-04:00\",\"2022-08-09T00:00:00-04:00\",\"2022-08-10T00:00:00-04:00\",\"2022-08-11T00:00:00-04:00\",\"2022-08-12T00:00:00-04:00\",\"2022-08-15T00:00:00-04:00\",\"2022-08-16T00:00:00-04:00\",\"2022-08-17T00:00:00-04:00\",\"2022-08-18T00:00:00-04:00\",\"2022-08-19T00:00:00-04:00\",\"2022-08-22T00:00:00-04:00\",\"2022-08-23T00:00:00-04:00\",\"2022-08-24T00:00:00-04:00\",\"2022-08-25T00:00:00-04:00\",\"2022-08-26T00:00:00-04:00\",\"2022-08-29T00:00:00-04:00\",\"2022-08-30T00:00:00-04:00\",\"2022-08-31T00:00:00-04:00\",\"2022-09-01T00:00:00-04:00\",\"2022-09-02T00:00:00-04:00\",\"2022-09-06T00:00:00-04:00\",\"2022-09-07T00:00:00-04:00\",\"2022-09-08T00:00:00-04:00\",\"2022-09-09T00:00:00-04:00\",\"2022-09-12T00:00:00-04:00\",\"2022-09-13T00:00:00-04:00\",\"2022-09-14T00:00:00-04:00\",\"2022-09-15T00:00:00-04:00\",\"2022-09-16T00:00:00-04:00\",\"2022-09-19T00:00:00-04:00\",\"2022-09-20T00:00:00-04:00\",\"2022-09-21T00:00:00-04:00\",\"2022-09-22T00:00:00-04:00\",\"2022-09-23T00:00:00-04:00\",\"2022-09-26T00:00:00-04:00\",\"2022-09-27T00:00:00-04:00\",\"2022-09-28T00:00:00-04:00\",\"2022-09-29T00:00:00-04:00\",\"2022-09-30T00:00:00-04:00\",\"2022-10-03T00:00:00-04:00\",\"2022-10-04T00:00:00-04:00\",\"2022-10-05T00:00:00-04:00\",\"2022-10-06T00:00:00-04:00\",\"2022-10-07T00:00:00-04:00\",\"2022-10-10T00:00:00-04:00\",\"2022-10-11T00:00:00-04:00\",\"2022-10-12T00:00:00-04:00\",\"2022-10-13T00:00:00-04:00\",\"2022-10-14T00:00:00-04:00\"],\"y\":[198.6066436767578,198.65310668945312,198.46112060546875,197.79574584960938,197.42591857910156,197.1654510498047,196.97125244140625,196.60646057128906,196.52676391601562,196.39527893066406,196.47055053710938,196.24111938476562,196.13133239746094,196.2532501220703,196.5558624267578,196.86460876464844,197.14694213867188,198.1311492919922,199.8014678955078,201.25161743164062,202.77774047851562,204.01661682128906,205.11557006835938,206.04554748535156,206.97616577148438,207.44265747070312,207.4530487060547,207.5038604736328,207.4877471923828,208.01620483398438,208.24615478515625,208.1951446533203,208.0157928466797,207.6300048828125,207.2982177734375,207.12692260742188,206.8758087158203,206.54867553710938,206.11962890625,206.0843505859375,206.01766967773438,205.79913330078125,206.27001953125,207.00714111328125,208.23751831054688,209.37057495117188,210.4149169921875,211.3813934326172,212.03466796875,212.78724670410156,213.38018798828125,213.8075714111328,214.4914093017578,215.0633544921875,215.1527557373047,214.81463623046875,214.7013397216797,214.2376251220703,213.84127807617188,213.94985961914062,214.08364868164062,214.28204345703125,214.34523010253906,214.57839965820312,215.20404052734375,215.994873046875,216.671630859375,217.27047729492188,217.8651885986328,218.7952880859375,219.7248992919922,220.55979919433594,221.03073120117188,221.61427307128906,222.10076904296875,222.6649627685547,223.18141174316406,223.8940887451172,224.07684326171875,224.18992614746094,224.4158935546875,224.59678649902344,225.21896362304688,226.2596435546875,227.09080505371094,227.87860107421875,228.4646453857422,228.94248962402344,229.6275177001953,230.11720275878906,230.51174926757812,231.07028198242188,231.4425048828125,231.82273864746094,232.49026489257812,233.14149475097656,233.84544372558594,235.00440979003906,236.69798278808594,238.2368621826172,239.67164611816406,241.6819610595703,243.80535888671875,248.23988342285156,252.76792907714844,257.1955261230469,261.8225402832031,266.766845703125,273.24932861328125,278.8372497558594,284.5058898925781,289.8399353027344,294.4935302734375,297.85418701171875,298.83392333984375,299.5939636230469,299.6006164550781,298.84521484375,297.6511535644531,296.840576171875,296.631591796875,296.5196228027344,297.10333251953125,298.2591857910156,298.8440246582031,299.2933349609375,298.9847412109375,299.45855712890625,300.190673828125,300.1414489746094,299.83837890625,298.4803161621094,296.8329162597656,295.6568298339844,294.77081298828125,293.0616760253906,291.56207275390625,289.4688720703125,287.2557067871094,285.4107666015625,283.0008850097656,280.8623962402344,278.1961975097656,276.29119873046875,275.8419494628906,276.68743896484375,278.2215270996094,279.8370666503906,281.45037841796875,282.7289123535156,283.6326904296875,286.8657531738281,289.49456787109375,290.9767761230469,291.8309020996094,291.7920227050781,291.9899597167969,292.0716552734375,292.7994079589844,292.4764404296875,292.18756103515625,291.5260009765625,290.3022766113281,288.9971618652344,287.032958984375,285.0521545410156,282.6850280761719,280.74407958984375,277.4800720214844,274.4424133300781,272.84490966796875,271.38824462890625,269.7533264160156,268.0939025878906,267.0665283203125,265.9339294433594,265.10308837890625,264.57489013671875,263.8189697265625,262.4872131347656,261.3437805175781,260.962646484375,260.741943359375,259.8888244628906,258.78466796875,257.19219970703125,254.722900390625,252.97445678710938,251.2772674560547,250.7998504638672,250.41140747070312,250.4435272216797,249.91497802734375,249.39035034179688,248.3719024658203,247.67758178710938,247.51145935058594,247.12681579589844,246.1376953125,244.6531524658203,243.68112182617188,243.50755310058594,243.95236206054688,245.27574157714844,246.95889282226562,249.9888916015625,253.30726623535156,256.6112976074219,259.6624755859375,263.9295349121094,268.10296630859375,271.8860778808594,275.02130126953125,277.8833312988281,281.46246337890625,284.0061340332031,285.5223083496094,286.7701416015625,287.1268615722656,286.4170837402344,285.62005615234375,285.1903381347656,284.2157897949219,283.46514892578125,283.12286376953125,282.1824645996094,281.8863220214844,281.49530029296875,281.035888671875,279.0224609375,276.6853942871094,274.4502258300781,272.0413513183594,270.1787414550781,268.5730895996094,267.93231201171875,266.38629150390625,264.6781311035156,261.8670654296875,259.20068359375,255.64894104003906,252.23385620117188,249.46958923339844,246.24957275390625,243.79721069335938,240.85763549804688,238.10382080078125,235.10227966308594,232.2324981689453,228.81198120117188,226.05703735351562,224.46531677246094,224.05409240722656,224.0845184326172,223.98416137695312,224.62803649902344,224.34312438964844,224.0520782470703,223.69923400878906,223.5015869140625,223.3217010498047,222.81240844726562,221.4993133544922,220.3172607421875,219.86106872558594,218.52647399902344,217.28179931640625,217.22360229492188,217.2657470703125,217.39613342285156,218.08604431152344,218.8000030517578,218.93637084960938,218.73048400878906,218.28538513183594,217.82403564453125,217.66905212402344,217.44357299804688,217.91297912597656,218.88897705078125,219.15480041503906,219.22567749023438,219.45375061035156,219.63182067871094,219.82354736328125,220.07566833496094,220.56582641601562,221.2006072998047,223.28985595703125,225.4130859375,227.15835571289062,228.29122924804688,230.08106994628906,232.09408569335938,234.87547302246094,237.7421875,240.56011962890625,243.46084594726562,246.18490600585938,247.86392211914062,249.25323486328125,249.96994018554688,250.97789001464844,251.38192749023438,252.28958129882812,253.64852905273438,254.87249755859375,255.8145294189453,256.47320556640625,256.75732421875,256.5507507324219,256.54779052734375,256.5187072753906,256.400634765625,255.89276123046875,255.10482788085938,253.96641540527344,252.69850158691406,251.52590942382812,250.07093811035156,248.87130737304688,248.21266174316406,248.01385498046875,248.48695373535156,249.32630920410156,249.7737274169922,250.7158203125,251.70999145507812,252.7729949951172,253.95668029785156,255.0778350830078,255.74485778808594,255.72613525390625,254.8671112060547,253.81521606445312,253.0330352783203,252.4828338623047,251.17218017578125,249.64515686035156,247.1674346923828,245.03514099121094,242.50364685058594,239.84559631347656,236.6336669921875,233.4381561279297,230.13604736328125,227.02003479003906,224.48602294921875],\"type\":\"scatter\"}],                        {\"template\":{\"data\":{\"bar\":[{\"error_x\":{\"color\":\"#2a3f5f\"},\"error_y\":{\"color\":\"#2a3f5f\"},\"marker\":{\"line\":{\"color\":\"#E5ECF6\",\"width\":0.5},\"pattern\":{\"fillmode\":\"overlay\",\"size\":10,\"solidity\":0.2}},\"type\":\"bar\"}],\"barpolar\":[{\"marker\":{\"line\":{\"color\":\"#E5ECF6\",\"width\":0.5},\"pattern\":{\"fillmode\":\"overlay\",\"size\":10,\"solidity\":0.2}},\"type\":\"barpolar\"}],\"carpet\":[{\"aaxis\":{\"endlinecolor\":\"#2a3f5f\",\"gridcolor\":\"white\",\"linecolor\":\"white\",\"minorgridcolor\":\"white\",\"startlinecolor\":\"#2a3f5f\"},\"baxis\":{\"endlinecolor\":\"#2a3f5f\",\"gridcolor\":\"white\",\"linecolor\":\"white\",\"minorgridcolor\":\"white\",\"startlinecolor\":\"#2a3f5f\"},\"type\":\"carpet\"}],\"choropleth\":[{\"colorbar\":{\"outlinewidth\":0,\"ticks\":\"\"},\"type\":\"choropleth\"}],\"contour\":[{\"colorbar\":{\"outlinewidth\":0,\"ticks\":\"\"},\"colorscale\":[[0.0,\"#0d0887\"],[0.1111111111111111,\"#46039f\"],[0.2222222222222222,\"#7201a8\"],[0.3333333333333333,\"#9c179e\"],[0.4444444444444444,\"#bd3786\"],[0.5555555555555556,\"#d8576b\"],[0.6666666666666666,\"#ed7953\"],[0.7777777777777778,\"#fb9f3a\"],[0.8888888888888888,\"#fdca26\"],[1.0,\"#f0f921\"]],\"type\":\"contour\"}],\"contourcarpet\":[{\"colorbar\":{\"outlinewidth\":0,\"ticks\":\"\"},\"type\":\"contourcarpet\"}],\"heatmap\":[{\"colorbar\":{\"outlinewidth\":0,\"ticks\":\"\"},\"colorscale\":[[0.0,\"#0d0887\"],[0.1111111111111111,\"#46039f\"],[0.2222222222222222,\"#7201a8\"],[0.3333333333333333,\"#9c179e\"],[0.4444444444444444,\"#bd3786\"],[0.5555555555555556,\"#d8576b\"],[0.6666666666666666,\"#ed7953\"],[0.7777777777777778,\"#fb9f3a\"],[0.8888888888888888,\"#fdca26\"],[1.0,\"#f0f921\"]],\"type\":\"heatmap\"}],\"heatmapgl\":[{\"colorbar\":{\"outlinewidth\":0,\"ticks\":\"\"},\"colorscale\":[[0.0,\"#0d0887\"],[0.1111111111111111,\"#46039f\"],[0.2222222222222222,\"#7201a8\"],[0.3333333333333333,\"#9c179e\"],[0.4444444444444444,\"#bd3786\"],[0.5555555555555556,\"#d8576b\"],[0.6666666666666666,\"#ed7953\"],[0.7777777777777778,\"#fb9f3a\"],[0.8888888888888888,\"#fdca26\"],[1.0,\"#f0f921\"]],\"type\":\"heatmapgl\"}],\"histogram\":[{\"marker\":{\"pattern\":{\"fillmode\":\"overlay\",\"size\":10,\"solidity\":0.2}},\"type\":\"histogram\"}],\"histogram2d\":[{\"colorbar\":{\"outlinewidth\":0,\"ticks\":\"\"},\"colorscale\":[[0.0,\"#0d0887\"],[0.1111111111111111,\"#46039f\"],[0.2222222222222222,\"#7201a8\"],[0.3333333333333333,\"#9c179e\"],[0.4444444444444444,\"#bd3786\"],[0.5555555555555556,\"#d8576b\"],[0.6666666666666666,\"#ed7953\"],[0.7777777777777778,\"#fb9f3a\"],[0.8888888888888888,\"#fdca26\"],[1.0,\"#f0f921\"]],\"type\":\"histogram2d\"}],\"histogram2dcontour\":[{\"colorbar\":{\"outlinewidth\":0,\"ticks\":\"\"},\"colorscale\":[[0.0,\"#0d0887\"],[0.1111111111111111,\"#46039f\"],[0.2222222222222222,\"#7201a8\"],[0.3333333333333333,\"#9c179e\"],[0.4444444444444444,\"#bd3786\"],[0.5555555555555556,\"#d8576b\"],[0.6666666666666666,\"#ed7953\"],[0.7777777777777778,\"#fb9f3a\"],[0.8888888888888888,\"#fdca26\"],[1.0,\"#f0f921\"]],\"type\":\"histogram2dcontour\"}],\"mesh3d\":[{\"colorbar\":{\"outlinewidth\":0,\"ticks\":\"\"},\"type\":\"mesh3d\"}],\"parcoords\":[{\"line\":{\"colorbar\":{\"outlinewidth\":0,\"ticks\":\"\"}},\"type\":\"parcoords\"}],\"pie\":[{\"automargin\":true,\"type\":\"pie\"}],\"scatter\":[{\"marker\":{\"colorbar\":{\"outlinewidth\":0,\"ticks\":\"\"}},\"type\":\"scatter\"}],\"scatter3d\":[{\"line\":{\"colorbar\":{\"outlinewidth\":0,\"ticks\":\"\"}},\"marker\":{\"colorbar\":{\"outlinewidth\":0,\"ticks\":\"\"}},\"type\":\"scatter3d\"}],\"scattercarpet\":[{\"marker\":{\"colorbar\":{\"outlinewidth\":0,\"ticks\":\"\"}},\"type\":\"scattercarpet\"}],\"scattergeo\":[{\"marker\":{\"colorbar\":{\"outlinewidth\":0,\"ticks\":\"\"}},\"type\":\"scattergeo\"}],\"scattergl\":[{\"marker\":{\"colorbar\":{\"outlinewidth\":0,\"ticks\":\"\"}},\"type\":\"scattergl\"}],\"scattermapbox\":[{\"marker\":{\"colorbar\":{\"outlinewidth\":0,\"ticks\":\"\"}},\"type\":\"scattermapbox\"}],\"scatterpolar\":[{\"marker\":{\"colorbar\":{\"outlinewidth\":0,\"ticks\":\"\"}},\"type\":\"scatterpolar\"}],\"scatterpolargl\":[{\"marker\":{\"colorbar\":{\"outlinewidth\":0,\"ticks\":\"\"}},\"type\":\"scatterpolargl\"}],\"scatterternary\":[{\"marker\":{\"colorbar\":{\"outlinewidth\":0,\"ticks\":\"\"}},\"type\":\"scatterternary\"}],\"surface\":[{\"colorbar\":{\"outlinewidth\":0,\"ticks\":\"\"},\"colorscale\":[[0.0,\"#0d0887\"],[0.1111111111111111,\"#46039f\"],[0.2222222222222222,\"#7201a8\"],[0.3333333333333333,\"#9c179e\"],[0.4444444444444444,\"#bd3786\"],[0.5555555555555556,\"#d8576b\"],[0.6666666666666666,\"#ed7953\"],[0.7777777777777778,\"#fb9f3a\"],[0.8888888888888888,\"#fdca26\"],[1.0,\"#f0f921\"]],\"type\":\"surface\"}],\"table\":[{\"cells\":{\"fill\":{\"color\":\"#EBF0F8\"},\"line\":{\"color\":\"white\"}},\"header\":{\"fill\":{\"color\":\"#C8D4E3\"},\"line\":{\"color\":\"white\"}},\"type\":\"table\"}]},\"layout\":{\"annotationdefaults\":{\"arrowcolor\":\"#2a3f5f\",\"arrowhead\":0,\"arrowwidth\":1},\"autotypenumbers\":\"strict\",\"coloraxis\":{\"colorbar\":{\"outlinewidth\":0,\"ticks\":\"\"}},\"colorscale\":{\"diverging\":[[0,\"#8e0152\"],[0.1,\"#c51b7d\"],[0.2,\"#de77ae\"],[0.3,\"#f1b6da\"],[0.4,\"#fde0ef\"],[0.5,\"#f7f7f7\"],[0.6,\"#e6f5d0\"],[0.7,\"#b8e186\"],[0.8,\"#7fbc41\"],[0.9,\"#4d9221\"],[1,\"#276419\"]],\"sequential\":[[0.0,\"#0d0887\"],[0.1111111111111111,\"#46039f\"],[0.2222222222222222,\"#7201a8\"],[0.3333333333333333,\"#9c179e\"],[0.4444444444444444,\"#bd3786\"],[0.5555555555555556,\"#d8576b\"],[0.6666666666666666,\"#ed7953\"],[0.7777777777777778,\"#fb9f3a\"],[0.8888888888888888,\"#fdca26\"],[1.0,\"#f0f921\"]],\"sequentialminus\":[[0.0,\"#0d0887\"],[0.1111111111111111,\"#46039f\"],[0.2222222222222222,\"#7201a8\"],[0.3333333333333333,\"#9c179e\"],[0.4444444444444444,\"#bd3786\"],[0.5555555555555556,\"#d8576b\"],[0.6666666666666666,\"#ed7953\"],[0.7777777777777778,\"#fb9f3a\"],[0.8888888888888888,\"#fdca26\"],[1.0,\"#f0f921\"]]},\"colorway\":[\"#636efa\",\"#EF553B\",\"#00cc96\",\"#ab63fa\",\"#FFA15A\",\"#19d3f3\",\"#FF6692\",\"#B6E880\",\"#FF97FF\",\"#FECB52\"],\"font\":{\"color\":\"#2a3f5f\"},\"geo\":{\"bgcolor\":\"white\",\"lakecolor\":\"white\",\"landcolor\":\"#E5ECF6\",\"showlakes\":true,\"showland\":true,\"subunitcolor\":\"white\"},\"hoverlabel\":{\"align\":\"left\"},\"hovermode\":\"closest\",\"mapbox\":{\"style\":\"light\"},\"paper_bgcolor\":\"white\",\"plot_bgcolor\":\"#E5ECF6\",\"polar\":{\"angularaxis\":{\"gridcolor\":\"white\",\"linecolor\":\"white\",\"ticks\":\"\"},\"bgcolor\":\"#E5ECF6\",\"radialaxis\":{\"gridcolor\":\"white\",\"linecolor\":\"white\",\"ticks\":\"\"}},\"scene\":{\"xaxis\":{\"backgroundcolor\":\"#E5ECF6\",\"gridcolor\":\"white\",\"gridwidth\":2,\"linecolor\":\"white\",\"showbackground\":true,\"ticks\":\"\",\"zerolinecolor\":\"white\"},\"yaxis\":{\"backgroundcolor\":\"#E5ECF6\",\"gridcolor\":\"white\",\"gridwidth\":2,\"linecolor\":\"white\",\"showbackground\":true,\"ticks\":\"\",\"zerolinecolor\":\"white\"},\"zaxis\":{\"backgroundcolor\":\"#E5ECF6\",\"gridcolor\":\"white\",\"gridwidth\":2,\"linecolor\":\"white\",\"showbackground\":true,\"ticks\":\"\",\"zerolinecolor\":\"white\"}},\"shapedefaults\":{\"line\":{\"color\":\"#2a3f5f\"}},\"ternary\":{\"aaxis\":{\"gridcolor\":\"white\",\"linecolor\":\"white\",\"ticks\":\"\"},\"baxis\":{\"gridcolor\":\"white\",\"linecolor\":\"white\",\"ticks\":\"\"},\"bgcolor\":\"#E5ECF6\",\"caxis\":{\"gridcolor\":\"white\",\"linecolor\":\"white\",\"ticks\":\"\"}},\"title\":{\"x\":0.05},\"xaxis\":{\"automargin\":true,\"gridcolor\":\"white\",\"linecolor\":\"white\",\"ticks\":\"\",\"title\":{\"standoff\":15},\"zerolinecolor\":\"white\",\"zerolinewidth\":2},\"yaxis\":{\"automargin\":true,\"gridcolor\":\"white\",\"linecolor\":\"white\",\"ticks\":\"\",\"title\":{\"standoff\":15},\"zerolinecolor\":\"white\",\"zerolinewidth\":2}}}},                        {\"responsive\": true}                    ).then(function(){\n",
              "                            \n",
              "var gd = document.getElementById('2961a448-0b16-4dfa-b13f-2babb341ae61');\n",
              "var x = new MutationObserver(function (mutations, observer) {{\n",
              "        var display = window.getComputedStyle(gd).display;\n",
              "        if (!display || display === 'none') {{\n",
              "            console.log([gd, 'removed!']);\n",
              "            Plotly.purge(gd);\n",
              "            observer.disconnect();\n",
              "        }}\n",
              "}});\n",
              "\n",
              "// Listen for the removal of the full notebook cells\n",
              "var notebookContainer = gd.closest('#notebook-container');\n",
              "if (notebookContainer) {{\n",
              "    x.observe(notebookContainer, {childList: true});\n",
              "}}\n",
              "\n",
              "// Listen for the clearing of the current output cell\n",
              "var outputEl = gd.closest('.output');\n",
              "if (outputEl) {{\n",
              "    x.observe(outputEl, {childList: true});\n",
              "}}\n",
              "\n",
              "                        })                };                            </script>        </div>\n",
              "</body>\n",
              "</html>"
            ]
          },
          "metadata": {}
        }
      ]
    },
    {
      "cell_type": "code",
      "metadata": {
        "id": "O9ztu6apxD8B"
      },
      "source": [
        "# Apply in the whole dataset\n",
        "# Concatenating Features\n",
        "Total_features = np.concatenate((Xtrain, Xtest), axis = 0)"
      ],
      "execution_count": 121,
      "outputs": []
    },
    {
      "cell_type": "code",
      "metadata": {
        "id": "nXF_ZH4Bxbqd"
      },
      "source": [
        "# Concatenating Targets\n",
        "Total_Targets = np.concatenate((Ytrain, Ytest), axis = 0)"
      ],
      "execution_count": 122,
      "outputs": []
    },
    {
      "cell_type": "code",
      "metadata": {
        "id": "ILpCIfK3xsO0",
        "colab": {
          "base_uri": "https://localhost:8080/"
        },
        "outputId": "e6dc4762-7c6a-488e-b3ef-aecfc2bb0d7a"
      },
      "source": [
        "# Trainning the model\n",
        "Predictions = model.predict(Total_features)"
      ],
      "execution_count": 123,
      "outputs": [
        {
          "output_type": "stream",
          "name": "stdout",
          "text": [
            "37/37 [==============================] - 1s 34ms/step\n"
          ]
        }
      ]
    },
    {
      "cell_type": "code",
      "metadata": {
        "id": "7m-nid5Kx5CG"
      },
      "source": [
        "# Inverting the Scaller\n",
        "Predictions = Target_Scaler.inverse_transform(Predictions)\n",
        "Actual = Target_Scaler.inverse_transform(Total_Targets)"
      ],
      "execution_count": 124,
      "outputs": []
    },
    {
      "cell_type": "code",
      "metadata": {
        "id": "nbFBR09RyRJy"
      },
      "source": [
        "# Convert an array to a vector\n",
        "Predictions = np.squeeze(Predictions, axis = 1)\n",
        "Actual = np.squeeze(Actual, axis = 1)"
      ],
      "execution_count": 125,
      "outputs": []
    },
    {
      "cell_type": "code",
      "metadata": {
        "colab": {
          "base_uri": "https://localhost:8080/",
          "height": 542
        },
        "id": "ZnYv4ORUym9G",
        "outputId": "604449a1-ebe5-46b0-d6ce-9996b4de65f8"
      },
      "source": [
        " # Check the trend in Volume tradded\n",
        " fig = go.Figure()\n",
        "\n",
        " fig.add_trace(go.Scatter(x = data.index, y = Actual, mode = 'lines', name = 'Actual'))\n",
        " fig.add_trace(go.Scatter(x = data.index, y = Predictions, mode = 'lines', name = 'Predicted'))\n",
        " fig.show()"
      ],
      "execution_count": 126,
      "outputs": [
        {
          "output_type": "display_data",
          "data": {
            "text/html": [
              "<html>\n",
              "<head><meta charset=\"utf-8\" /></head>\n",
              "<body>\n",
              "    <div>            <script src=\"https://cdnjs.cloudflare.com/ajax/libs/mathjax/2.7.5/MathJax.js?config=TeX-AMS-MML_SVG\"></script><script type=\"text/javascript\">if (window.MathJax) {MathJax.Hub.Config({SVG: {font: \"STIX-Web\"}});}</script>                <script type=\"text/javascript\">window.PlotlyConfig = {MathJaxConfig: 'local'};</script>\n",
              "        <script src=\"https://cdn.plot.ly/plotly-2.8.3.min.js\"></script>                <div id=\"e7a84ec1-f9b5-4b63-891d-c3457689ccb5\" class=\"plotly-graph-div\" style=\"height:525px; width:100%;\"></div>            <script type=\"text/javascript\">                                    window.PLOTLYENV=window.PLOTLYENV || {};                                    if (document.getElementById(\"e7a84ec1-f9b5-4b63-891d-c3457689ccb5\")) {                    Plotly.newPlot(                        \"e7a84ec1-f9b5-4b63-891d-c3457689ccb5\",                        [{\"mode\":\"lines\",\"name\":\"Actual\",\"x\":[\"2018-01-02T00:00:00-05:00\",\"2018-01-03T00:00:00-05:00\",\"2018-01-04T00:00:00-05:00\",\"2018-01-05T00:00:00-05:00\",\"2018-01-08T00:00:00-05:00\",\"2018-01-09T00:00:00-05:00\",\"2018-01-10T00:00:00-05:00\",\"2018-01-11T00:00:00-05:00\",\"2018-01-12T00:00:00-05:00\",\"2018-01-16T00:00:00-05:00\",\"2018-01-17T00:00:00-05:00\",\"2018-01-18T00:00:00-05:00\",\"2018-01-19T00:00:00-05:00\",\"2018-01-22T00:00:00-05:00\",\"2018-01-23T00:00:00-05:00\",\"2018-01-24T00:00:00-05:00\",\"2018-01-25T00:00:00-05:00\",\"2018-01-26T00:00:00-05:00\",\"2018-01-29T00:00:00-05:00\",\"2018-01-30T00:00:00-05:00\",\"2018-01-31T00:00:00-05:00\",\"2018-02-01T00:00:00-05:00\",\"2018-02-02T00:00:00-05:00\",\"2018-02-05T00:00:00-05:00\",\"2018-02-06T00:00:00-05:00\",\"2018-02-07T00:00:00-05:00\",\"2018-02-08T00:00:00-05:00\",\"2018-02-09T00:00:00-05:00\",\"2018-02-12T00:00:00-05:00\",\"2018-02-13T00:00:00-05:00\",\"2018-02-14T00:00:00-05:00\",\"2018-02-15T00:00:00-05:00\",\"2018-02-16T00:00:00-05:00\",\"2018-02-20T00:00:00-05:00\",\"2018-02-21T00:00:00-05:00\",\"2018-02-22T00:00:00-05:00\",\"2018-02-23T00:00:00-05:00\",\"2018-02-26T00:00:00-05:00\",\"2018-02-27T00:00:00-05:00\",\"2018-02-28T00:00:00-05:00\",\"2018-03-01T00:00:00-05:00\",\"2018-03-02T00:00:00-05:00\",\"2018-03-05T00:00:00-05:00\",\"2018-03-06T00:00:00-05:00\",\"2018-03-07T00:00:00-05:00\",\"2018-03-08T00:00:00-05:00\",\"2018-03-09T00:00:00-05:00\",\"2018-03-12T00:00:00-04:00\",\"2018-03-13T00:00:00-04:00\",\"2018-03-14T00:00:00-04:00\",\"2018-03-15T00:00:00-04:00\",\"2018-03-16T00:00:00-04:00\",\"2018-03-19T00:00:00-04:00\",\"2018-03-20T00:00:00-04:00\",\"2018-03-21T00:00:00-04:00\",\"2018-03-22T00:00:00-04:00\",\"2018-03-23T00:00:00-04:00\",\"2018-03-26T00:00:00-04:00\",\"2018-03-27T00:00:00-04:00\",\"2018-03-28T00:00:00-04:00\",\"2018-03-29T00:00:00-04:00\",\"2018-04-02T00:00:00-04:00\",\"2018-04-03T00:00:00-04:00\",\"2018-04-04T00:00:00-04:00\",\"2018-04-05T00:00:00-04:00\",\"2018-04-06T00:00:00-04:00\",\"2018-04-09T00:00:00-04:00\",\"2018-04-10T00:00:00-04:00\",\"2018-04-11T00:00:00-04:00\",\"2018-04-12T00:00:00-04:00\",\"2018-04-13T00:00:00-04:00\",\"2018-04-16T00:00:00-04:00\",\"2018-04-17T00:00:00-04:00\",\"2018-04-18T00:00:00-04:00\",\"2018-04-19T00:00:00-04:00\",\"2018-04-20T00:00:00-04:00\",\"2018-04-23T00:00:00-04:00\",\"2018-04-24T00:00:00-04:00\",\"2018-04-25T00:00:00-04:00\",\"2018-04-26T00:00:00-04:00\",\"2018-04-27T00:00:00-04:00\",\"2018-04-30T00:00:00-04:00\",\"2018-05-01T00:00:00-04:00\",\"2018-05-02T00:00:00-04:00\",\"2018-05-03T00:00:00-04:00\",\"2018-05-04T00:00:00-04:00\",\"2018-05-07T00:00:00-04:00\",\"2018-05-08T00:00:00-04:00\",\"2018-05-09T00:00:00-04:00\",\"2018-05-10T00:00:00-04:00\",\"2018-05-11T00:00:00-04:00\",\"2018-05-14T00:00:00-04:00\",\"2018-05-15T00:00:00-04:00\",\"2018-05-16T00:00:00-04:00\",\"2018-05-17T00:00:00-04:00\",\"2018-05-18T00:00:00-04:00\",\"2018-05-21T00:00:00-04:00\",\"2018-05-22T00:00:00-04:00\",\"2018-05-23T00:00:00-04:00\",\"2018-05-24T00:00:00-04:00\",\"2018-05-25T00:00:00-04:00\",\"2018-05-29T00:00:00-04:00\",\"2018-05-30T00:00:00-04:00\",\"2018-05-31T00:00:00-04:00\",\"2018-06-01T00:00:00-04:00\",\"2018-06-04T00:00:00-04:00\",\"2018-06-05T00:00:00-04:00\",\"2018-06-06T00:00:00-04:00\",\"2018-06-07T00:00:00-04:00\",\"2018-06-08T00:00:00-04:00\",\"2018-06-11T00:00:00-04:00\",\"2018-06-12T00:00:00-04:00\",\"2018-06-13T00:00:00-04:00\",\"2018-06-14T00:00:00-04:00\",\"2018-06-15T00:00:00-04:00\",\"2018-06-18T00:00:00-04:00\",\"2018-06-19T00:00:00-04:00\",\"2018-06-20T00:00:00-04:00\",\"2018-06-21T00:00:00-04:00\",\"2018-06-22T00:00:00-04:00\",\"2018-06-25T00:00:00-04:00\",\"2018-06-26T00:00:00-04:00\",\"2018-06-27T00:00:00-04:00\",\"2018-06-28T00:00:00-04:00\",\"2018-06-29T00:00:00-04:00\",\"2018-07-02T00:00:00-04:00\",\"2018-07-03T00:00:00-04:00\",\"2018-07-05T00:00:00-04:00\",\"2018-07-06T00:00:00-04:00\",\"2018-07-09T00:00:00-04:00\",\"2018-07-10T00:00:00-04:00\",\"2018-07-11T00:00:00-04:00\",\"2018-07-12T00:00:00-04:00\",\"2018-07-13T00:00:00-04:00\",\"2018-07-16T00:00:00-04:00\",\"2018-07-17T00:00:00-04:00\",\"2018-07-18T00:00:00-04:00\",\"2018-07-19T00:00:00-04:00\",\"2018-07-20T00:00:00-04:00\",\"2018-07-23T00:00:00-04:00\",\"2018-07-24T00:00:00-04:00\",\"2018-07-25T00:00:00-04:00\",\"2018-07-26T00:00:00-04:00\",\"2018-07-27T00:00:00-04:00\",\"2018-07-30T00:00:00-04:00\",\"2018-07-31T00:00:00-04:00\",\"2018-08-01T00:00:00-04:00\",\"2018-08-02T00:00:00-04:00\",\"2018-08-03T00:00:00-04:00\",\"2018-08-06T00:00:00-04:00\",\"2018-08-07T00:00:00-04:00\",\"2018-08-08T00:00:00-04:00\",\"2018-08-09T00:00:00-04:00\",\"2018-08-10T00:00:00-04:00\",\"2018-08-13T00:00:00-04:00\",\"2018-08-14T00:00:00-04:00\",\"2018-08-15T00:00:00-04:00\",\"2018-08-16T00:00:00-04:00\",\"2018-08-17T00:00:00-04:00\",\"2018-08-20T00:00:00-04:00\",\"2018-08-21T00:00:00-04:00\",\"2018-08-22T00:00:00-04:00\",\"2018-08-23T00:00:00-04:00\",\"2018-08-24T00:00:00-04:00\",\"2018-08-27T00:00:00-04:00\",\"2018-08-28T00:00:00-04:00\",\"2018-08-29T00:00:00-04:00\",\"2018-08-30T00:00:00-04:00\",\"2018-08-31T00:00:00-04:00\",\"2018-09-04T00:00:00-04:00\",\"2018-09-05T00:00:00-04:00\",\"2018-09-06T00:00:00-04:00\",\"2018-09-07T00:00:00-04:00\",\"2018-09-10T00:00:00-04:00\",\"2018-09-11T00:00:00-04:00\",\"2018-09-12T00:00:00-04:00\",\"2018-09-13T00:00:00-04:00\",\"2018-09-14T00:00:00-04:00\",\"2018-09-17T00:00:00-04:00\",\"2018-09-18T00:00:00-04:00\",\"2018-09-19T00:00:00-04:00\",\"2018-09-20T00:00:00-04:00\",\"2018-09-21T00:00:00-04:00\",\"2018-09-24T00:00:00-04:00\",\"2018-09-25T00:00:00-04:00\",\"2018-09-26T00:00:00-04:00\",\"2018-09-27T00:00:00-04:00\",\"2018-09-28T00:00:00-04:00\",\"2018-10-01T00:00:00-04:00\",\"2018-10-02T00:00:00-04:00\",\"2018-10-03T00:00:00-04:00\",\"2018-10-04T00:00:00-04:00\",\"2018-10-05T00:00:00-04:00\",\"2018-10-08T00:00:00-04:00\",\"2018-10-09T00:00:00-04:00\",\"2018-10-10T00:00:00-04:00\",\"2018-10-11T00:00:00-04:00\",\"2018-10-12T00:00:00-04:00\",\"2018-10-15T00:00:00-04:00\",\"2018-10-16T00:00:00-04:00\",\"2018-10-17T00:00:00-04:00\",\"2018-10-18T00:00:00-04:00\",\"2018-10-19T00:00:00-04:00\",\"2018-10-22T00:00:00-04:00\",\"2018-10-23T00:00:00-04:00\",\"2018-10-24T00:00:00-04:00\",\"2018-10-25T00:00:00-04:00\",\"2018-10-26T00:00:00-04:00\",\"2018-10-29T00:00:00-04:00\",\"2018-10-30T00:00:00-04:00\",\"2018-10-31T00:00:00-04:00\",\"2018-11-01T00:00:00-04:00\",\"2018-11-02T00:00:00-04:00\",\"2018-11-05T00:00:00-05:00\",\"2018-11-06T00:00:00-05:00\",\"2018-11-07T00:00:00-05:00\",\"2018-11-08T00:00:00-05:00\",\"2018-11-09T00:00:00-05:00\",\"2018-11-12T00:00:00-05:00\",\"2018-11-13T00:00:00-05:00\",\"2018-11-14T00:00:00-05:00\",\"2018-11-15T00:00:00-05:00\",\"2018-11-16T00:00:00-05:00\",\"2018-11-19T00:00:00-05:00\",\"2018-11-20T00:00:00-05:00\",\"2018-11-21T00:00:00-05:00\",\"2018-11-23T00:00:00-05:00\",\"2018-11-26T00:00:00-05:00\",\"2018-11-27T00:00:00-05:00\",\"2018-11-28T00:00:00-05:00\",\"2018-11-29T00:00:00-05:00\",\"2018-11-30T00:00:00-05:00\",\"2018-12-03T00:00:00-05:00\",\"2018-12-04T00:00:00-05:00\",\"2018-12-06T00:00:00-05:00\",\"2018-12-07T00:00:00-05:00\",\"2018-12-10T00:00:00-05:00\",\"2018-12-11T00:00:00-05:00\",\"2018-12-12T00:00:00-05:00\",\"2018-12-13T00:00:00-05:00\",\"2018-12-14T00:00:00-05:00\",\"2018-12-17T00:00:00-05:00\",\"2018-12-18T00:00:00-05:00\",\"2018-12-19T00:00:00-05:00\",\"2018-12-20T00:00:00-05:00\",\"2018-12-21T00:00:00-05:00\",\"2018-12-24T00:00:00-05:00\",\"2018-12-26T00:00:00-05:00\",\"2018-12-27T00:00:00-05:00\",\"2018-12-28T00:00:00-05:00\",\"2018-12-31T00:00:00-05:00\",\"2019-01-02T00:00:00-05:00\",\"2019-01-03T00:00:00-05:00\",\"2019-01-04T00:00:00-05:00\",\"2019-01-07T00:00:00-05:00\",\"2019-01-08T00:00:00-05:00\",\"2019-01-09T00:00:00-05:00\",\"2019-01-10T00:00:00-05:00\",\"2019-01-11T00:00:00-05:00\",\"2019-01-14T00:00:00-05:00\",\"2019-01-15T00:00:00-05:00\",\"2019-01-16T00:00:00-05:00\",\"2019-01-17T00:00:00-05:00\",\"2019-01-18T00:00:00-05:00\",\"2019-01-22T00:00:00-05:00\",\"2019-01-23T00:00:00-05:00\",\"2019-01-24T00:00:00-05:00\",\"2019-01-25T00:00:00-05:00\",\"2019-01-28T00:00:00-05:00\",\"2019-01-29T00:00:00-05:00\",\"2019-01-30T00:00:00-05:00\",\"2019-01-31T00:00:00-05:00\",\"2019-02-01T00:00:00-05:00\",\"2019-02-04T00:00:00-05:00\",\"2019-02-05T00:00:00-05:00\",\"2019-02-06T00:00:00-05:00\",\"2019-02-07T00:00:00-05:00\",\"2019-02-08T00:00:00-05:00\",\"2019-02-11T00:00:00-05:00\",\"2019-02-12T00:00:00-05:00\",\"2019-02-13T00:00:00-05:00\",\"2019-02-14T00:00:00-05:00\",\"2019-02-15T00:00:00-05:00\",\"2019-02-19T00:00:00-05:00\",\"2019-02-20T00:00:00-05:00\",\"2019-02-21T00:00:00-05:00\",\"2019-02-22T00:00:00-05:00\",\"2019-02-25T00:00:00-05:00\",\"2019-02-26T00:00:00-05:00\",\"2019-02-27T00:00:00-05:00\",\"2019-02-28T00:00:00-05:00\",\"2019-03-01T00:00:00-05:00\",\"2019-03-04T00:00:00-05:00\",\"2019-03-05T00:00:00-05:00\",\"2019-03-06T00:00:00-05:00\",\"2019-03-07T00:00:00-05:00\",\"2019-03-08T00:00:00-05:00\",\"2019-03-11T00:00:00-04:00\",\"2019-03-12T00:00:00-04:00\",\"2019-03-13T00:00:00-04:00\",\"2019-03-14T00:00:00-04:00\",\"2019-03-15T00:00:00-04:00\",\"2019-03-18T00:00:00-04:00\",\"2019-03-19T00:00:00-04:00\",\"2019-03-20T00:00:00-04:00\",\"2019-03-21T00:00:00-04:00\",\"2019-03-22T00:00:00-04:00\",\"2019-03-25T00:00:00-04:00\",\"2019-03-26T00:00:00-04:00\",\"2019-03-27T00:00:00-04:00\",\"2019-03-28T00:00:00-04:00\",\"2019-03-29T00:00:00-04:00\",\"2019-04-01T00:00:00-04:00\",\"2019-04-02T00:00:00-04:00\",\"2019-04-03T00:00:00-04:00\",\"2019-04-04T00:00:00-04:00\",\"2019-04-05T00:00:00-04:00\",\"2019-04-08T00:00:00-04:00\",\"2019-04-09T00:00:00-04:00\",\"2019-04-10T00:00:00-04:00\",\"2019-04-11T00:00:00-04:00\",\"2019-04-12T00:00:00-04:00\",\"2019-04-15T00:00:00-04:00\",\"2019-04-16T00:00:00-04:00\",\"2019-04-17T00:00:00-04:00\",\"2019-04-18T00:00:00-04:00\",\"2019-04-22T00:00:00-04:00\",\"2019-04-23T00:00:00-04:00\",\"2019-04-24T00:00:00-04:00\",\"2019-04-25T00:00:00-04:00\",\"2019-04-26T00:00:00-04:00\",\"2019-04-29T00:00:00-04:00\",\"2019-04-30T00:00:00-04:00\",\"2019-05-01T00:00:00-04:00\",\"2019-05-02T00:00:00-04:00\",\"2019-05-03T00:00:00-04:00\",\"2019-05-06T00:00:00-04:00\",\"2019-05-07T00:00:00-04:00\",\"2019-05-08T00:00:00-04:00\",\"2019-05-09T00:00:00-04:00\",\"2019-05-10T00:00:00-04:00\",\"2019-05-13T00:00:00-04:00\",\"2019-05-14T00:00:00-04:00\",\"2019-05-15T00:00:00-04:00\",\"2019-05-16T00:00:00-04:00\",\"2019-05-17T00:00:00-04:00\",\"2019-05-20T00:00:00-04:00\",\"2019-05-21T00:00:00-04:00\",\"2019-05-22T00:00:00-04:00\",\"2019-05-23T00:00:00-04:00\",\"2019-05-24T00:00:00-04:00\",\"2019-05-28T00:00:00-04:00\",\"2019-05-29T00:00:00-04:00\",\"2019-05-30T00:00:00-04:00\",\"2019-05-31T00:00:00-04:00\",\"2019-06-03T00:00:00-04:00\",\"2019-06-04T00:00:00-04:00\",\"2019-06-05T00:00:00-04:00\",\"2019-06-06T00:00:00-04:00\",\"2019-06-07T00:00:00-04:00\",\"2019-06-10T00:00:00-04:00\",\"2019-06-11T00:00:00-04:00\",\"2019-06-12T00:00:00-04:00\",\"2019-06-13T00:00:00-04:00\",\"2019-06-14T00:00:00-04:00\",\"2019-06-17T00:00:00-04:00\",\"2019-06-18T00:00:00-04:00\",\"2019-06-19T00:00:00-04:00\",\"2019-06-20T00:00:00-04:00\",\"2019-06-21T00:00:00-04:00\",\"2019-06-24T00:00:00-04:00\",\"2019-06-25T00:00:00-04:00\",\"2019-06-26T00:00:00-04:00\",\"2019-06-27T00:00:00-04:00\",\"2019-06-28T00:00:00-04:00\",\"2019-07-01T00:00:00-04:00\",\"2019-07-02T00:00:00-04:00\",\"2019-07-03T00:00:00-04:00\",\"2019-07-05T00:00:00-04:00\",\"2019-07-08T00:00:00-04:00\",\"2019-07-09T00:00:00-04:00\",\"2019-07-10T00:00:00-04:00\",\"2019-07-11T00:00:00-04:00\",\"2019-07-12T00:00:00-04:00\",\"2019-07-15T00:00:00-04:00\",\"2019-07-16T00:00:00-04:00\",\"2019-07-17T00:00:00-04:00\",\"2019-07-18T00:00:00-04:00\",\"2019-07-19T00:00:00-04:00\",\"2019-07-22T00:00:00-04:00\",\"2019-07-23T00:00:00-04:00\",\"2019-07-24T00:00:00-04:00\",\"2019-07-25T00:00:00-04:00\",\"2019-07-26T00:00:00-04:00\",\"2019-07-29T00:00:00-04:00\",\"2019-07-30T00:00:00-04:00\",\"2019-07-31T00:00:00-04:00\",\"2019-08-01T00:00:00-04:00\",\"2019-08-02T00:00:00-04:00\",\"2019-08-05T00:00:00-04:00\",\"2019-08-06T00:00:00-04:00\",\"2019-08-07T00:00:00-04:00\",\"2019-08-08T00:00:00-04:00\",\"2019-08-09T00:00:00-04:00\",\"2019-08-12T00:00:00-04:00\",\"2019-08-13T00:00:00-04:00\",\"2019-08-14T00:00:00-04:00\",\"2019-08-15T00:00:00-04:00\",\"2019-08-16T00:00:00-04:00\",\"2019-08-19T00:00:00-04:00\",\"2019-08-20T00:00:00-04:00\",\"2019-08-21T00:00:00-04:00\",\"2019-08-22T00:00:00-04:00\",\"2019-08-23T00:00:00-04:00\",\"2019-08-26T00:00:00-04:00\",\"2019-08-27T00:00:00-04:00\",\"2019-08-28T00:00:00-04:00\",\"2019-08-29T00:00:00-04:00\",\"2019-08-30T00:00:00-04:00\",\"2019-09-03T00:00:00-04:00\",\"2019-09-04T00:00:00-04:00\",\"2019-09-05T00:00:00-04:00\",\"2019-09-06T00:00:00-04:00\",\"2019-09-09T00:00:00-04:00\",\"2019-09-10T00:00:00-04:00\",\"2019-09-11T00:00:00-04:00\",\"2019-09-12T00:00:00-04:00\",\"2019-09-13T00:00:00-04:00\",\"2019-09-16T00:00:00-04:00\",\"2019-09-17T00:00:00-04:00\",\"2019-09-18T00:00:00-04:00\",\"2019-09-19T00:00:00-04:00\",\"2019-09-20T00:00:00-04:00\",\"2019-09-23T00:00:00-04:00\",\"2019-09-24T00:00:00-04:00\",\"2019-09-25T00:00:00-04:00\",\"2019-09-26T00:00:00-04:00\",\"2019-09-27T00:00:00-04:00\",\"2019-09-30T00:00:00-04:00\",\"2019-10-01T00:00:00-04:00\",\"2019-10-02T00:00:00-04:00\",\"2019-10-03T00:00:00-04:00\",\"2019-10-04T00:00:00-04:00\",\"2019-10-07T00:00:00-04:00\",\"2019-10-08T00:00:00-04:00\",\"2019-10-09T00:00:00-04:00\",\"2019-10-10T00:00:00-04:00\",\"2019-10-11T00:00:00-04:00\",\"2019-10-14T00:00:00-04:00\",\"2019-10-15T00:00:00-04:00\",\"2019-10-16T00:00:00-04:00\",\"2019-10-17T00:00:00-04:00\",\"2019-10-18T00:00:00-04:00\",\"2019-10-21T00:00:00-04:00\",\"2019-10-22T00:00:00-04:00\",\"2019-10-23T00:00:00-04:00\",\"2019-10-24T00:00:00-04:00\",\"2019-10-25T00:00:00-04:00\",\"2019-10-28T00:00:00-04:00\",\"2019-10-29T00:00:00-04:00\",\"2019-10-30T00:00:00-04:00\",\"2019-10-31T00:00:00-04:00\",\"2019-11-01T00:00:00-04:00\",\"2019-11-04T00:00:00-05:00\",\"2019-11-05T00:00:00-05:00\",\"2019-11-06T00:00:00-05:00\",\"2019-11-07T00:00:00-05:00\",\"2019-11-08T00:00:00-05:00\",\"2019-11-11T00:00:00-05:00\",\"2019-11-12T00:00:00-05:00\",\"2019-11-13T00:00:00-05:00\",\"2019-11-14T00:00:00-05:00\",\"2019-11-15T00:00:00-05:00\",\"2019-11-18T00:00:00-05:00\",\"2019-11-19T00:00:00-05:00\",\"2019-11-20T00:00:00-05:00\",\"2019-11-21T00:00:00-05:00\",\"2019-11-22T00:00:00-05:00\",\"2019-11-25T00:00:00-05:00\",\"2019-11-26T00:00:00-05:00\",\"2019-11-27T00:00:00-05:00\",\"2019-11-29T00:00:00-05:00\",\"2019-12-02T00:00:00-05:00\",\"2019-12-03T00:00:00-05:00\",\"2019-12-04T00:00:00-05:00\",\"2019-12-05T00:00:00-05:00\",\"2019-12-06T00:00:00-05:00\",\"2019-12-09T00:00:00-05:00\",\"2019-12-10T00:00:00-05:00\",\"2019-12-11T00:00:00-05:00\",\"2019-12-12T00:00:00-05:00\",\"2019-12-13T00:00:00-05:00\",\"2019-12-16T00:00:00-05:00\",\"2019-12-17T00:00:00-05:00\",\"2019-12-18T00:00:00-05:00\",\"2019-12-19T00:00:00-05:00\",\"2019-12-20T00:00:00-05:00\",\"2019-12-23T00:00:00-05:00\",\"2019-12-24T00:00:00-05:00\",\"2019-12-26T00:00:00-05:00\",\"2019-12-27T00:00:00-05:00\",\"2019-12-30T00:00:00-05:00\",\"2019-12-31T00:00:00-05:00\",\"2020-01-02T00:00:00-05:00\",\"2020-01-03T00:00:00-05:00\",\"2020-01-06T00:00:00-05:00\",\"2020-01-07T00:00:00-05:00\",\"2020-01-08T00:00:00-05:00\",\"2020-01-09T00:00:00-05:00\",\"2020-01-10T00:00:00-05:00\",\"2020-01-13T00:00:00-05:00\",\"2020-01-14T00:00:00-05:00\",\"2020-01-15T00:00:00-05:00\",\"2020-01-16T00:00:00-05:00\",\"2020-01-17T00:00:00-05:00\",\"2020-01-21T00:00:00-05:00\",\"2020-01-22T00:00:00-05:00\",\"2020-01-23T00:00:00-05:00\",\"2020-01-24T00:00:00-05:00\",\"2020-01-27T00:00:00-05:00\",\"2020-01-28T00:00:00-05:00\",\"2020-01-29T00:00:00-05:00\",\"2020-01-30T00:00:00-05:00\",\"2020-01-31T00:00:00-05:00\",\"2020-02-03T00:00:00-05:00\",\"2020-02-04T00:00:00-05:00\",\"2020-02-05T00:00:00-05:00\",\"2020-02-06T00:00:00-05:00\",\"2020-02-07T00:00:00-05:00\",\"2020-02-10T00:00:00-05:00\",\"2020-02-11T00:00:00-05:00\",\"2020-02-12T00:00:00-05:00\",\"2020-02-13T00:00:00-05:00\",\"2020-02-14T00:00:00-05:00\",\"2020-02-18T00:00:00-05:00\",\"2020-02-19T00:00:00-05:00\",\"2020-02-20T00:00:00-05:00\",\"2020-02-21T00:00:00-05:00\",\"2020-02-24T00:00:00-05:00\",\"2020-02-25T00:00:00-05:00\",\"2020-02-26T00:00:00-05:00\",\"2020-02-27T00:00:00-05:00\",\"2020-02-28T00:00:00-05:00\",\"2020-03-02T00:00:00-05:00\",\"2020-03-03T00:00:00-05:00\",\"2020-03-04T00:00:00-05:00\",\"2020-03-05T00:00:00-05:00\",\"2020-03-06T00:00:00-05:00\",\"2020-03-09T00:00:00-04:00\",\"2020-03-10T00:00:00-04:00\",\"2020-03-11T00:00:00-04:00\",\"2020-03-12T00:00:00-04:00\",\"2020-03-13T00:00:00-04:00\",\"2020-03-16T00:00:00-04:00\",\"2020-03-17T00:00:00-04:00\",\"2020-03-18T00:00:00-04:00\",\"2020-03-19T00:00:00-04:00\",\"2020-03-20T00:00:00-04:00\",\"2020-03-23T00:00:00-04:00\",\"2020-03-24T00:00:00-04:00\",\"2020-03-25T00:00:00-04:00\",\"2020-03-26T00:00:00-04:00\",\"2020-03-27T00:00:00-04:00\",\"2020-03-30T00:00:00-04:00\",\"2020-03-31T00:00:00-04:00\",\"2020-04-01T00:00:00-04:00\",\"2020-04-02T00:00:00-04:00\",\"2020-04-03T00:00:00-04:00\",\"2020-04-06T00:00:00-04:00\",\"2020-04-07T00:00:00-04:00\",\"2020-04-08T00:00:00-04:00\",\"2020-04-09T00:00:00-04:00\",\"2020-04-13T00:00:00-04:00\",\"2020-04-14T00:00:00-04:00\",\"2020-04-15T00:00:00-04:00\",\"2020-04-16T00:00:00-04:00\",\"2020-04-17T00:00:00-04:00\",\"2020-04-20T00:00:00-04:00\",\"2020-04-21T00:00:00-04:00\",\"2020-04-22T00:00:00-04:00\",\"2020-04-23T00:00:00-04:00\",\"2020-04-24T00:00:00-04:00\",\"2020-04-27T00:00:00-04:00\",\"2020-04-28T00:00:00-04:00\",\"2020-04-29T00:00:00-04:00\",\"2020-04-30T00:00:00-04:00\",\"2020-05-01T00:00:00-04:00\",\"2020-05-04T00:00:00-04:00\",\"2020-05-05T00:00:00-04:00\",\"2020-05-06T00:00:00-04:00\",\"2020-05-07T00:00:00-04:00\",\"2020-05-08T00:00:00-04:00\",\"2020-05-11T00:00:00-04:00\",\"2020-05-12T00:00:00-04:00\",\"2020-05-13T00:00:00-04:00\",\"2020-05-14T00:00:00-04:00\",\"2020-05-15T00:00:00-04:00\",\"2020-05-18T00:00:00-04:00\",\"2020-05-19T00:00:00-04:00\",\"2020-05-20T00:00:00-04:00\",\"2020-05-21T00:00:00-04:00\",\"2020-05-22T00:00:00-04:00\",\"2020-05-26T00:00:00-04:00\",\"2020-05-27T00:00:00-04:00\",\"2020-05-28T00:00:00-04:00\",\"2020-05-29T00:00:00-04:00\",\"2020-06-01T00:00:00-04:00\",\"2020-06-02T00:00:00-04:00\",\"2020-06-03T00:00:00-04:00\",\"2020-06-04T00:00:00-04:00\",\"2020-06-05T00:00:00-04:00\",\"2020-06-08T00:00:00-04:00\",\"2020-06-09T00:00:00-04:00\",\"2020-06-10T00:00:00-04:00\",\"2020-06-11T00:00:00-04:00\",\"2020-06-12T00:00:00-04:00\",\"2020-06-15T00:00:00-04:00\",\"2020-06-16T00:00:00-04:00\",\"2020-06-17T00:00:00-04:00\",\"2020-06-18T00:00:00-04:00\",\"2020-06-19T00:00:00-04:00\",\"2020-06-22T00:00:00-04:00\",\"2020-06-23T00:00:00-04:00\",\"2020-06-24T00:00:00-04:00\",\"2020-06-25T00:00:00-04:00\",\"2020-06-26T00:00:00-04:00\",\"2020-06-29T00:00:00-04:00\",\"2020-06-30T00:00:00-04:00\",\"2020-07-01T00:00:00-04:00\",\"2020-07-02T00:00:00-04:00\",\"2020-07-06T00:00:00-04:00\",\"2020-07-07T00:00:00-04:00\",\"2020-07-08T00:00:00-04:00\",\"2020-07-09T00:00:00-04:00\",\"2020-07-10T00:00:00-04:00\",\"2020-07-13T00:00:00-04:00\",\"2020-07-14T00:00:00-04:00\",\"2020-07-15T00:00:00-04:00\",\"2020-07-16T00:00:00-04:00\",\"2020-07-17T00:00:00-04:00\",\"2020-07-20T00:00:00-04:00\",\"2020-07-21T00:00:00-04:00\",\"2020-07-22T00:00:00-04:00\",\"2020-07-23T00:00:00-04:00\",\"2020-07-24T00:00:00-04:00\",\"2020-07-27T00:00:00-04:00\",\"2020-07-28T00:00:00-04:00\",\"2020-07-29T00:00:00-04:00\",\"2020-07-30T00:00:00-04:00\",\"2020-07-31T00:00:00-04:00\",\"2020-08-03T00:00:00-04:00\",\"2020-08-04T00:00:00-04:00\",\"2020-08-05T00:00:00-04:00\",\"2020-08-06T00:00:00-04:00\",\"2020-08-07T00:00:00-04:00\",\"2020-08-10T00:00:00-04:00\",\"2020-08-11T00:00:00-04:00\",\"2020-08-12T00:00:00-04:00\",\"2020-08-13T00:00:00-04:00\",\"2020-08-14T00:00:00-04:00\",\"2020-08-17T00:00:00-04:00\",\"2020-08-18T00:00:00-04:00\",\"2020-08-19T00:00:00-04:00\",\"2020-08-20T00:00:00-04:00\",\"2020-08-21T00:00:00-04:00\",\"2020-08-24T00:00:00-04:00\",\"2020-08-25T00:00:00-04:00\",\"2020-08-26T00:00:00-04:00\",\"2020-08-27T00:00:00-04:00\",\"2020-08-28T00:00:00-04:00\",\"2020-08-31T00:00:00-04:00\",\"2020-09-01T00:00:00-04:00\",\"2020-09-02T00:00:00-04:00\",\"2020-09-03T00:00:00-04:00\",\"2020-09-04T00:00:00-04:00\",\"2020-09-08T00:00:00-04:00\",\"2020-09-09T00:00:00-04:00\",\"2020-09-10T00:00:00-04:00\",\"2020-09-11T00:00:00-04:00\",\"2020-09-14T00:00:00-04:00\",\"2020-09-15T00:00:00-04:00\",\"2020-09-16T00:00:00-04:00\",\"2020-09-17T00:00:00-04:00\",\"2020-09-18T00:00:00-04:00\",\"2020-09-21T00:00:00-04:00\",\"2020-09-22T00:00:00-04:00\",\"2020-09-23T00:00:00-04:00\",\"2020-09-24T00:00:00-04:00\",\"2020-09-25T00:00:00-04:00\",\"2020-09-28T00:00:00-04:00\",\"2020-09-29T00:00:00-04:00\",\"2020-09-30T00:00:00-04:00\",\"2020-10-01T00:00:00-04:00\",\"2020-10-02T00:00:00-04:00\",\"2020-10-05T00:00:00-04:00\",\"2020-10-06T00:00:00-04:00\",\"2020-10-07T00:00:00-04:00\",\"2020-10-08T00:00:00-04:00\",\"2020-10-09T00:00:00-04:00\",\"2020-10-12T00:00:00-04:00\",\"2020-10-13T00:00:00-04:00\",\"2020-10-14T00:00:00-04:00\",\"2020-10-15T00:00:00-04:00\",\"2020-10-16T00:00:00-04:00\",\"2020-10-19T00:00:00-04:00\",\"2020-10-20T00:00:00-04:00\",\"2020-10-21T00:00:00-04:00\",\"2020-10-22T00:00:00-04:00\",\"2020-10-23T00:00:00-04:00\",\"2020-10-26T00:00:00-04:00\",\"2020-10-27T00:00:00-04:00\",\"2020-10-28T00:00:00-04:00\",\"2020-10-29T00:00:00-04:00\",\"2020-10-30T00:00:00-04:00\",\"2020-11-02T00:00:00-05:00\",\"2020-11-03T00:00:00-05:00\",\"2020-11-04T00:00:00-05:00\",\"2020-11-05T00:00:00-05:00\",\"2020-11-06T00:00:00-05:00\",\"2020-11-09T00:00:00-05:00\",\"2020-11-10T00:00:00-05:00\",\"2020-11-11T00:00:00-05:00\",\"2020-11-12T00:00:00-05:00\",\"2020-11-13T00:00:00-05:00\",\"2020-11-16T00:00:00-05:00\",\"2020-11-17T00:00:00-05:00\",\"2020-11-18T00:00:00-05:00\",\"2020-11-19T00:00:00-05:00\",\"2020-11-20T00:00:00-05:00\",\"2020-11-23T00:00:00-05:00\",\"2020-11-24T00:00:00-05:00\",\"2020-11-25T00:00:00-05:00\",\"2020-11-27T00:00:00-05:00\",\"2020-11-30T00:00:00-05:00\",\"2020-12-01T00:00:00-05:00\",\"2020-12-02T00:00:00-05:00\",\"2020-12-03T00:00:00-05:00\",\"2020-12-04T00:00:00-05:00\",\"2020-12-07T00:00:00-05:00\",\"2020-12-08T00:00:00-05:00\",\"2020-12-09T00:00:00-05:00\",\"2020-12-10T00:00:00-05:00\",\"2020-12-11T00:00:00-05:00\",\"2020-12-14T00:00:00-05:00\",\"2020-12-15T00:00:00-05:00\",\"2020-12-16T00:00:00-05:00\",\"2020-12-17T00:00:00-05:00\",\"2020-12-18T00:00:00-05:00\",\"2020-12-21T00:00:00-05:00\",\"2020-12-22T00:00:00-05:00\",\"2020-12-23T00:00:00-05:00\",\"2020-12-24T00:00:00-05:00\",\"2020-12-28T00:00:00-05:00\",\"2020-12-29T00:00:00-05:00\",\"2020-12-30T00:00:00-05:00\",\"2020-12-31T00:00:00-05:00\",\"2021-01-04T00:00:00-05:00\",\"2021-01-05T00:00:00-05:00\",\"2021-01-06T00:00:00-05:00\",\"2021-01-07T00:00:00-05:00\",\"2021-01-08T00:00:00-05:00\",\"2021-01-11T00:00:00-05:00\",\"2021-01-12T00:00:00-05:00\",\"2021-01-13T00:00:00-05:00\",\"2021-01-14T00:00:00-05:00\",\"2021-01-15T00:00:00-05:00\",\"2021-01-19T00:00:00-05:00\",\"2021-01-20T00:00:00-05:00\",\"2021-01-21T00:00:00-05:00\",\"2021-01-22T00:00:00-05:00\",\"2021-01-25T00:00:00-05:00\",\"2021-01-26T00:00:00-05:00\",\"2021-01-27T00:00:00-05:00\",\"2021-01-28T00:00:00-05:00\",\"2021-01-29T00:00:00-05:00\",\"2021-02-01T00:00:00-05:00\",\"2021-02-02T00:00:00-05:00\",\"2021-02-03T00:00:00-05:00\",\"2021-02-04T00:00:00-05:00\",\"2021-02-05T00:00:00-05:00\",\"2021-02-08T00:00:00-05:00\",\"2021-02-09T00:00:00-05:00\",\"2021-02-10T00:00:00-05:00\",\"2021-02-11T00:00:00-05:00\",\"2021-02-12T00:00:00-05:00\",\"2021-02-16T00:00:00-05:00\",\"2021-02-17T00:00:00-05:00\",\"2021-02-18T00:00:00-05:00\",\"2021-02-19T00:00:00-05:00\",\"2021-02-22T00:00:00-05:00\",\"2021-02-23T00:00:00-05:00\",\"2021-02-24T00:00:00-05:00\",\"2021-02-25T00:00:00-05:00\",\"2021-02-26T00:00:00-05:00\",\"2021-03-01T00:00:00-05:00\",\"2021-03-02T00:00:00-05:00\",\"2021-03-03T00:00:00-05:00\",\"2021-03-04T00:00:00-05:00\",\"2021-03-05T00:00:00-05:00\",\"2021-03-08T00:00:00-05:00\",\"2021-03-09T00:00:00-05:00\",\"2021-03-10T00:00:00-05:00\",\"2021-03-11T00:00:00-05:00\",\"2021-03-12T00:00:00-05:00\",\"2021-03-15T00:00:00-04:00\",\"2021-03-16T00:00:00-04:00\",\"2021-03-17T00:00:00-04:00\",\"2021-03-18T00:00:00-04:00\",\"2021-03-19T00:00:00-04:00\",\"2021-03-22T00:00:00-04:00\",\"2021-03-23T00:00:00-04:00\",\"2021-03-24T00:00:00-04:00\",\"2021-03-25T00:00:00-04:00\",\"2021-03-26T00:00:00-04:00\",\"2021-03-29T00:00:00-04:00\",\"2021-03-30T00:00:00-04:00\",\"2021-03-31T00:00:00-04:00\",\"2021-04-01T00:00:00-04:00\",\"2021-04-05T00:00:00-04:00\",\"2021-04-06T00:00:00-04:00\",\"2021-04-07T00:00:00-04:00\",\"2021-04-08T00:00:00-04:00\",\"2021-04-09T00:00:00-04:00\",\"2021-04-12T00:00:00-04:00\",\"2021-04-13T00:00:00-04:00\",\"2021-04-14T00:00:00-04:00\",\"2021-04-15T00:00:00-04:00\",\"2021-04-16T00:00:00-04:00\",\"2021-04-19T00:00:00-04:00\",\"2021-04-20T00:00:00-04:00\",\"2021-04-21T00:00:00-04:00\",\"2021-04-22T00:00:00-04:00\",\"2021-04-23T00:00:00-04:00\",\"2021-04-26T00:00:00-04:00\",\"2021-04-27T00:00:00-04:00\",\"2021-04-28T00:00:00-04:00\",\"2021-04-29T00:00:00-04:00\",\"2021-04-30T00:00:00-04:00\",\"2021-05-03T00:00:00-04:00\",\"2021-05-04T00:00:00-04:00\",\"2021-05-05T00:00:00-04:00\",\"2021-05-06T00:00:00-04:00\",\"2021-05-07T00:00:00-04:00\",\"2021-05-10T00:00:00-04:00\",\"2021-05-11T00:00:00-04:00\",\"2021-05-12T00:00:00-04:00\",\"2021-05-13T00:00:00-04:00\",\"2021-05-14T00:00:00-04:00\",\"2021-05-17T00:00:00-04:00\",\"2021-05-18T00:00:00-04:00\",\"2021-05-19T00:00:00-04:00\",\"2021-05-20T00:00:00-04:00\",\"2021-05-21T00:00:00-04:00\",\"2021-05-24T00:00:00-04:00\",\"2021-05-25T00:00:00-04:00\",\"2021-05-26T00:00:00-04:00\",\"2021-05-27T00:00:00-04:00\",\"2021-05-28T00:00:00-04:00\",\"2021-06-01T00:00:00-04:00\",\"2021-06-02T00:00:00-04:00\",\"2021-06-03T00:00:00-04:00\",\"2021-06-04T00:00:00-04:00\",\"2021-06-07T00:00:00-04:00\",\"2021-06-08T00:00:00-04:00\",\"2021-06-09T00:00:00-04:00\",\"2021-06-10T00:00:00-04:00\",\"2021-06-11T00:00:00-04:00\",\"2021-06-14T00:00:00-04:00\",\"2021-06-15T00:00:00-04:00\",\"2021-06-16T00:00:00-04:00\",\"2021-06-17T00:00:00-04:00\",\"2021-06-18T00:00:00-04:00\",\"2021-06-21T00:00:00-04:00\",\"2021-06-22T00:00:00-04:00\",\"2021-06-23T00:00:00-04:00\",\"2021-06-24T00:00:00-04:00\",\"2021-06-25T00:00:00-04:00\",\"2021-06-28T00:00:00-04:00\",\"2021-06-29T00:00:00-04:00\",\"2021-06-30T00:00:00-04:00\",\"2021-07-01T00:00:00-04:00\",\"2021-07-02T00:00:00-04:00\",\"2021-07-06T00:00:00-04:00\",\"2021-07-07T00:00:00-04:00\",\"2021-07-08T00:00:00-04:00\",\"2021-07-09T00:00:00-04:00\",\"2021-07-12T00:00:00-04:00\",\"2021-07-13T00:00:00-04:00\",\"2021-07-14T00:00:00-04:00\",\"2021-07-15T00:00:00-04:00\",\"2021-07-16T00:00:00-04:00\",\"2021-07-19T00:00:00-04:00\",\"2021-07-20T00:00:00-04:00\",\"2021-07-21T00:00:00-04:00\",\"2021-07-22T00:00:00-04:00\",\"2021-07-23T00:00:00-04:00\",\"2021-07-26T00:00:00-04:00\",\"2021-07-27T00:00:00-04:00\",\"2021-07-28T00:00:00-04:00\",\"2021-07-29T00:00:00-04:00\",\"2021-07-30T00:00:00-04:00\",\"2021-08-02T00:00:00-04:00\",\"2021-08-03T00:00:00-04:00\",\"2021-08-04T00:00:00-04:00\",\"2021-08-05T00:00:00-04:00\",\"2021-08-06T00:00:00-04:00\",\"2021-08-09T00:00:00-04:00\",\"2021-08-10T00:00:00-04:00\",\"2021-08-11T00:00:00-04:00\",\"2021-08-12T00:00:00-04:00\",\"2021-08-13T00:00:00-04:00\",\"2021-08-16T00:00:00-04:00\",\"2021-08-17T00:00:00-04:00\",\"2021-08-18T00:00:00-04:00\",\"2021-08-19T00:00:00-04:00\",\"2021-08-20T00:00:00-04:00\",\"2021-08-23T00:00:00-04:00\",\"2021-08-24T00:00:00-04:00\",\"2021-08-25T00:00:00-04:00\",\"2021-08-26T00:00:00-04:00\",\"2021-08-27T00:00:00-04:00\",\"2021-08-30T00:00:00-04:00\",\"2021-08-31T00:00:00-04:00\",\"2021-09-01T00:00:00-04:00\",\"2021-09-02T00:00:00-04:00\",\"2021-09-03T00:00:00-04:00\",\"2021-09-07T00:00:00-04:00\",\"2021-09-08T00:00:00-04:00\",\"2021-09-09T00:00:00-04:00\",\"2021-09-10T00:00:00-04:00\",\"2021-09-13T00:00:00-04:00\",\"2021-09-14T00:00:00-04:00\",\"2021-09-15T00:00:00-04:00\",\"2021-09-16T00:00:00-04:00\",\"2021-09-17T00:00:00-04:00\",\"2021-09-20T00:00:00-04:00\",\"2021-09-21T00:00:00-04:00\",\"2021-09-22T00:00:00-04:00\",\"2021-09-23T00:00:00-04:00\",\"2021-09-24T00:00:00-04:00\",\"2021-09-27T00:00:00-04:00\",\"2021-09-28T00:00:00-04:00\",\"2021-09-29T00:00:00-04:00\",\"2021-09-30T00:00:00-04:00\",\"2021-10-01T00:00:00-04:00\",\"2021-10-04T00:00:00-04:00\",\"2021-10-05T00:00:00-04:00\",\"2021-10-06T00:00:00-04:00\",\"2021-10-07T00:00:00-04:00\",\"2021-10-08T00:00:00-04:00\",\"2021-10-11T00:00:00-04:00\",\"2021-10-12T00:00:00-04:00\",\"2021-10-13T00:00:00-04:00\",\"2021-10-14T00:00:00-04:00\",\"2021-10-15T00:00:00-04:00\",\"2021-10-18T00:00:00-04:00\",\"2021-10-19T00:00:00-04:00\",\"2021-10-20T00:00:00-04:00\",\"2021-10-21T00:00:00-04:00\",\"2021-10-22T00:00:00-04:00\",\"2021-10-25T00:00:00-04:00\",\"2021-10-26T00:00:00-04:00\",\"2021-10-27T00:00:00-04:00\",\"2021-10-28T00:00:00-04:00\",\"2021-10-29T00:00:00-04:00\",\"2021-11-01T00:00:00-04:00\",\"2021-11-02T00:00:00-04:00\",\"2021-11-03T00:00:00-04:00\",\"2021-11-04T00:00:00-04:00\",\"2021-11-05T00:00:00-04:00\",\"2021-11-08T00:00:00-05:00\",\"2021-11-09T00:00:00-05:00\",\"2021-11-10T00:00:00-05:00\",\"2021-11-11T00:00:00-05:00\",\"2021-11-12T00:00:00-05:00\",\"2021-11-15T00:00:00-05:00\",\"2021-11-16T00:00:00-05:00\",\"2021-11-17T00:00:00-05:00\",\"2021-11-18T00:00:00-05:00\",\"2021-11-19T00:00:00-05:00\",\"2021-11-22T00:00:00-05:00\",\"2021-11-23T00:00:00-05:00\",\"2021-11-24T00:00:00-05:00\",\"2021-11-26T00:00:00-05:00\",\"2021-11-29T00:00:00-05:00\",\"2021-11-30T00:00:00-05:00\",\"2021-12-01T00:00:00-05:00\",\"2021-12-02T00:00:00-05:00\",\"2021-12-03T00:00:00-05:00\",\"2021-12-06T00:00:00-05:00\",\"2021-12-07T00:00:00-05:00\",\"2021-12-08T00:00:00-05:00\",\"2021-12-09T00:00:00-05:00\",\"2021-12-10T00:00:00-05:00\",\"2021-12-13T00:00:00-05:00\",\"2021-12-14T00:00:00-05:00\",\"2021-12-15T00:00:00-05:00\",\"2021-12-16T00:00:00-05:00\",\"2021-12-17T00:00:00-05:00\",\"2021-12-20T00:00:00-05:00\",\"2021-12-21T00:00:00-05:00\",\"2021-12-22T00:00:00-05:00\",\"2021-12-23T00:00:00-05:00\",\"2021-12-27T00:00:00-05:00\",\"2021-12-28T00:00:00-05:00\",\"2021-12-29T00:00:00-05:00\",\"2021-12-30T00:00:00-05:00\",\"2021-12-31T00:00:00-05:00\",\"2022-01-03T00:00:00-05:00\",\"2022-01-04T00:00:00-05:00\",\"2022-01-05T00:00:00-05:00\",\"2022-01-06T00:00:00-05:00\",\"2022-01-07T00:00:00-05:00\",\"2022-01-10T00:00:00-05:00\",\"2022-01-11T00:00:00-05:00\",\"2022-01-12T00:00:00-05:00\",\"2022-01-13T00:00:00-05:00\",\"2022-01-14T00:00:00-05:00\",\"2022-01-18T00:00:00-05:00\",\"2022-01-19T00:00:00-05:00\",\"2022-01-20T00:00:00-05:00\",\"2022-01-21T00:00:00-05:00\",\"2022-01-24T00:00:00-05:00\",\"2022-01-25T00:00:00-05:00\",\"2022-01-26T00:00:00-05:00\",\"2022-01-27T00:00:00-05:00\",\"2022-01-28T00:00:00-05:00\",\"2022-01-31T00:00:00-05:00\",\"2022-02-01T00:00:00-05:00\",\"2022-02-02T00:00:00-05:00\",\"2022-02-03T00:00:00-05:00\",\"2022-02-04T00:00:00-05:00\",\"2022-02-07T00:00:00-05:00\",\"2022-02-08T00:00:00-05:00\",\"2022-02-09T00:00:00-05:00\",\"2022-02-10T00:00:00-05:00\",\"2022-02-11T00:00:00-05:00\",\"2022-02-14T00:00:00-05:00\",\"2022-02-15T00:00:00-05:00\",\"2022-02-16T00:00:00-05:00\",\"2022-02-17T00:00:00-05:00\",\"2022-02-18T00:00:00-05:00\",\"2022-02-22T00:00:00-05:00\",\"2022-02-23T00:00:00-05:00\",\"2022-02-24T00:00:00-05:00\",\"2022-02-25T00:00:00-05:00\",\"2022-02-28T00:00:00-05:00\",\"2022-03-01T00:00:00-05:00\",\"2022-03-02T00:00:00-05:00\",\"2022-03-03T00:00:00-05:00\",\"2022-03-04T00:00:00-05:00\",\"2022-03-07T00:00:00-05:00\",\"2022-03-08T00:00:00-05:00\",\"2022-03-09T00:00:00-05:00\",\"2022-03-10T00:00:00-05:00\",\"2022-03-11T00:00:00-05:00\",\"2022-03-14T00:00:00-04:00\",\"2022-03-15T00:00:00-04:00\",\"2022-03-16T00:00:00-04:00\",\"2022-03-17T00:00:00-04:00\",\"2022-03-18T00:00:00-04:00\",\"2022-03-21T00:00:00-04:00\",\"2022-03-22T00:00:00-04:00\",\"2022-03-23T00:00:00-04:00\",\"2022-03-24T00:00:00-04:00\",\"2022-03-25T00:00:00-04:00\",\"2022-03-28T00:00:00-04:00\",\"2022-03-29T00:00:00-04:00\",\"2022-03-30T00:00:00-04:00\",\"2022-03-31T00:00:00-04:00\",\"2022-04-01T00:00:00-04:00\",\"2022-04-04T00:00:00-04:00\",\"2022-04-05T00:00:00-04:00\",\"2022-04-06T00:00:00-04:00\",\"2022-04-07T00:00:00-04:00\",\"2022-04-08T00:00:00-04:00\",\"2022-04-11T00:00:00-04:00\",\"2022-04-12T00:00:00-04:00\",\"2022-04-13T00:00:00-04:00\",\"2022-04-14T00:00:00-04:00\",\"2022-04-18T00:00:00-04:00\",\"2022-04-19T00:00:00-04:00\",\"2022-04-20T00:00:00-04:00\",\"2022-04-21T00:00:00-04:00\",\"2022-04-22T00:00:00-04:00\",\"2022-04-25T00:00:00-04:00\",\"2022-04-26T00:00:00-04:00\",\"2022-04-27T00:00:00-04:00\",\"2022-04-28T00:00:00-04:00\",\"2022-04-29T00:00:00-04:00\",\"2022-05-02T00:00:00-04:00\",\"2022-05-03T00:00:00-04:00\",\"2022-05-04T00:00:00-04:00\",\"2022-05-05T00:00:00-04:00\",\"2022-05-06T00:00:00-04:00\",\"2022-05-09T00:00:00-04:00\",\"2022-05-10T00:00:00-04:00\",\"2022-05-11T00:00:00-04:00\",\"2022-05-12T00:00:00-04:00\",\"2022-05-13T00:00:00-04:00\",\"2022-05-16T00:00:00-04:00\",\"2022-05-17T00:00:00-04:00\",\"2022-05-18T00:00:00-04:00\",\"2022-05-19T00:00:00-04:00\",\"2022-05-20T00:00:00-04:00\",\"2022-05-23T00:00:00-04:00\",\"2022-05-24T00:00:00-04:00\",\"2022-05-25T00:00:00-04:00\",\"2022-05-26T00:00:00-04:00\",\"2022-05-27T00:00:00-04:00\",\"2022-05-31T00:00:00-04:00\",\"2022-06-01T00:00:00-04:00\",\"2022-06-02T00:00:00-04:00\",\"2022-06-03T00:00:00-04:00\",\"2022-06-06T00:00:00-04:00\",\"2022-06-07T00:00:00-04:00\",\"2022-06-08T00:00:00-04:00\",\"2022-06-09T00:00:00-04:00\",\"2022-06-10T00:00:00-04:00\",\"2022-06-13T00:00:00-04:00\",\"2022-06-14T00:00:00-04:00\",\"2022-06-15T00:00:00-04:00\",\"2022-06-16T00:00:00-04:00\",\"2022-06-17T00:00:00-04:00\",\"2022-06-21T00:00:00-04:00\",\"2022-06-22T00:00:00-04:00\",\"2022-06-23T00:00:00-04:00\",\"2022-06-24T00:00:00-04:00\",\"2022-06-27T00:00:00-04:00\",\"2022-06-28T00:00:00-04:00\",\"2022-06-29T00:00:00-04:00\",\"2022-06-30T00:00:00-04:00\",\"2022-07-01T00:00:00-04:00\",\"2022-07-05T00:00:00-04:00\",\"2022-07-06T00:00:00-04:00\",\"2022-07-07T00:00:00-04:00\",\"2022-07-08T00:00:00-04:00\",\"2022-07-11T00:00:00-04:00\",\"2022-07-12T00:00:00-04:00\",\"2022-07-13T00:00:00-04:00\",\"2022-07-14T00:00:00-04:00\",\"2022-07-15T00:00:00-04:00\",\"2022-07-18T00:00:00-04:00\",\"2022-07-19T00:00:00-04:00\",\"2022-07-20T00:00:00-04:00\",\"2022-07-21T00:00:00-04:00\",\"2022-07-22T00:00:00-04:00\",\"2022-07-25T00:00:00-04:00\",\"2022-07-26T00:00:00-04:00\",\"2022-07-27T00:00:00-04:00\",\"2022-07-28T00:00:00-04:00\",\"2022-07-29T00:00:00-04:00\",\"2022-08-01T00:00:00-04:00\",\"2022-08-02T00:00:00-04:00\",\"2022-08-03T00:00:00-04:00\",\"2022-08-04T00:00:00-04:00\",\"2022-08-05T00:00:00-04:00\",\"2022-08-08T00:00:00-04:00\",\"2022-08-09T00:00:00-04:00\",\"2022-08-10T00:00:00-04:00\",\"2022-08-11T00:00:00-04:00\",\"2022-08-12T00:00:00-04:00\",\"2022-08-15T00:00:00-04:00\",\"2022-08-16T00:00:00-04:00\",\"2022-08-17T00:00:00-04:00\",\"2022-08-18T00:00:00-04:00\",\"2022-08-19T00:00:00-04:00\",\"2022-08-22T00:00:00-04:00\",\"2022-08-23T00:00:00-04:00\",\"2022-08-24T00:00:00-04:00\",\"2022-08-25T00:00:00-04:00\",\"2022-08-26T00:00:00-04:00\",\"2022-08-29T00:00:00-04:00\",\"2022-08-30T00:00:00-04:00\",\"2022-08-31T00:00:00-04:00\",\"2022-09-01T00:00:00-04:00\",\"2022-09-02T00:00:00-04:00\",\"2022-09-06T00:00:00-04:00\",\"2022-09-07T00:00:00-04:00\",\"2022-09-08T00:00:00-04:00\",\"2022-09-09T00:00:00-04:00\",\"2022-09-12T00:00:00-04:00\",\"2022-09-13T00:00:00-04:00\",\"2022-09-14T00:00:00-04:00\",\"2022-09-15T00:00:00-04:00\",\"2022-09-16T00:00:00-04:00\",\"2022-09-19T00:00:00-04:00\",\"2022-09-20T00:00:00-04:00\",\"2022-09-21T00:00:00-04:00\",\"2022-09-22T00:00:00-04:00\",\"2022-09-23T00:00:00-04:00\",\"2022-09-26T00:00:00-04:00\",\"2022-09-27T00:00:00-04:00\",\"2022-09-28T00:00:00-04:00\",\"2022-09-29T00:00:00-04:00\",\"2022-09-30T00:00:00-04:00\",\"2022-10-03T00:00:00-04:00\",\"2022-10-04T00:00:00-04:00\",\"2022-10-05T00:00:00-04:00\",\"2022-10-06T00:00:00-04:00\",\"2022-10-07T00:00:00-04:00\",\"2022-10-10T00:00:00-04:00\",\"2022-10-11T00:00:00-04:00\",\"2022-10-12T00:00:00-04:00\",\"2022-10-13T00:00:00-04:00\",\"2022-10-14T00:00:00-04:00\"],\"y\":[22.365999221801758,22.31800079345703,22.219999313354492,23.077999114990234,23.469999313354492,23.827999114990234,23.39933204650879,22.87066650390625,22.062000274658203,22.341333389282227,22.22333335876465,21.8799991607666,22.15333366394043,21.940000534057617,21.81133270263672,23.034000396728516,22.78933334350586,21.775333404541016,21.706666946411133,21.42333221435547,20.90399932861328,20.703332901000977,21.101999282836914,20.606666564941406,20.1026668548584,20.278667449951172,18.61199951171875,17.185333251953125,17.742000579833984,16.832000732421875,17.8353328704834,19.12933349609375,20.381332397460938,19.953332901000977,19.310667037963867,20.31333351135254,20.062000274658203,19.60533332824707,20.022666931152344,19.413999557495117,19.179332733154297,19.55666732788086,20.005332946777344,19.349332809448242,18.891332626342773,18.8973331451416,18.71266746520996,19.031999588012695,19.60533332824707,19.593332290649414,19.994667053222656,20.07666778564453,18.963333129882812,19.606000900268555,20.184667587280273,20.131332397460938,20.456666946411133,20.334667205810547,20.070667266845703,19.46466636657715,18.94533348083496,19.09866714477539,18.96933364868164,18.454666137695312,18.965999603271484,18.333999633789062,18.60466766357422,18.523332595825195,18.590000152587894,18.917333602905273,19.447999954223633,18.982000350952152,19.454666137695312,19.78266716003418,19.408666610717773,21.299999237060547,21.07266616821289,21.177333831787113,22.139999389648438,22.851333618164062,22.985332489013672,23.847999572753906,23.878000259399414,24.722000122070312,23.503332138061523,24.148000717163086,23.167333602905273,22.242000579833984,22.200666427612305,22.799999237060547,22.96666717529297,23.32866668701172,22.863332748413082,22.33799934387207,20.72400093078613,20.610666275024414,20.593332290649414,21.233999252319336,21.49799919128418,21.263999938964844,21.11400032043457,21.257999420166016,20.673332214355472,21.512666702270508,21.59000015258789,21.34866714477539,20.905332565307617,20.213333129882812,19.82866668701172,20.582666397094727,20.44333267211914,19.812000274658203,19.344667434692383,19.875999450683594,20.055999755859375,23.30266761779785,23.211332321166992,22.799333572387695,25.304666519165043,24.689332962036133,23.496667861938477,23.69933319091797,23.76066780090332,23.176000595092773,22.57933235168457,22.363332748413086,20.366666793823242,20.562667846679688,21.459999084472656,21.44266700744629,21.340000152587887,21.521333694458008,21.284666061401367,20.790666580200195,20.333999633789062,20.209999084472656,20.110666275024414,19.26333236694336,18.715999603271484,18.72999954223633,17.549333572387695,19.03333282470703,18.629333496093754,19.369333267211914,19.297332763671875,19.68000030517578,19.6560001373291,18.997333526611328,19.934667587280273,19.8886661529541,19.940000534057614,19.978666305541992,20.06599998474121,20.6386661529541,20.501333236694336,17.65133285522461,20.713333129882812,20.06800079345703,19.65333366394043,18.788667678833008,17.463333129882812,16.70400047302246,17.520000457763672,17.125333786010742,16.815332412719727,17.25200080871582,17.305999755859375,18.439332962036133,18.118667602539062,17.5939998626709,17.333332061767578,17.39666748046875,19.60933303833008,19.233333587646484,20.99066734313965,22.059999465942383,22.323333740234375,21.99333381652832,22.488000869750973,22.95199966430664,23.0939998626709,22.760000228881836,22.737333297729492,23.21066665649414,23.426666259765625,23.36733245849609,22.0853328704834,22.582000732421875,22.933332443237305,23.229333877563477,23.62066650390625,23.564666748046875,23.166000366210938,22.54599952697754,21.722000122070312,23.066667556762695,22.92799949645996,23.191333770751953,22.744667053222656,23.365333557128906,23.899332046508786,23.979999542236328,24.20400047302246,23.864667892456055,24.343332290649414,24.450666427612305,24.440000534057617,25.119333267211914,24.38066673278809,23.22800064086914,22.468666076660156,22.197999954223633,21.025333404541016,21.31800079345703,19.69266700744629,21.73933219909668,21.075332641601562,22.257999420166016,22.18666648864746,20.674667358398438,20.024000167846676,21.179332733154297,22.33066749572754,22.356666564941406,22.568666458129883,22.99799919128418,23.150667190551758,22.293333053588867,22.961999893188477,23.06999969482422,23.15399932861328,20.150667190551758,19.92799949645996,19.172666549682614,19.43400001525879,19.80266761779785,19.7586669921875,19.83066749572754,20.584667205810547,20.468000411987305,20.81399917602539,20.859333038330078,21.42333221435547,21.148000717163086,20.500667572021484,20.386667251586914,20.856000900268555,20.78733253479004,20.5446662902832,20.251333236694336,20.525333404541016,20.375999450683594,20.17066764831543,19.415332794189453,19.6473331451416,19.917999267578125,19.857332229614258,20.982667922973633,21.325332641601562,19.652666091918945,19.02400016784668,18.43600082397461,18.416000366210938,18.439332962036133,18.94266700744629,19.39466667175293,18.890666961669922,19.263999938964844,19.33066749572754,18.36199951171875,17.965999603271484,17.83133316040039,18.239999771118164,18.26799964904785,17.635332107543945,17.3613338470459,17.851333618164062,18.32200050354004,18.57466697692871,18.65733337402344,19.278667449951172,19.058666229248047,19.45400047302246,17.851999282836914,18.33066749572754,18.213333129882812,18.15399932861328,18.40399932861328,17.89466667175293,17.84666633605957,17.7586669921875,18.224000930786133,18.082000732421875,18.21733283996582,17.516666412353516,17.593332290649414,17.243999481201172,16.5086669921875,15.675999641418457,16.097999572753906,15.912667274475098,15.600666999816895,16.273332595825195,17.00200080871582,17.022666931152344,16.470666885375977,16.32266616821289,16.131999969482422,15.968000411987305,15.133999824523926,15.487333297729492,15.463333129882812,15.222000122070312,14.0686674118042,13.690667152404785,13.67199993133545,12.84866714477539,13.03266716003418,12.708666801452637,12.579999923706055,12.657333374023438,12.54800033569336,12.343999862670898,11.9313325881958,12.90666675567627,13.10599994659424,13.729999542236328,13.633333206176758,14.192000389099121,14.473333358764648,13.950667381286621,14.260666847229004,14.32800006866455,15.001999855041504,14.982666969299316,15.095333099365234,14.641332626342773,14.790666580200195,14.909333229064943,14.650667190551758,14.618000030517578,14.855999946594238,14.897333145141602,15.144666671752928,14.970000267028809,15.65999984741211,15.539999961853027,15.355999946594238,15.337332725524902,15.928000450134277,15.90666675567627,16.338666915893555,16.899999618530273,16.825332641601562,16.99066734313965,16.902666091918945,17.211999893188477,17.045333862304688,17.344667434692383,17.658666610717773,15.254667282104492,15.202667236328125,15.718000411987305,16.150667190551758,16.107332229614258,15.59000015258789,15.62266731262207,15.221332550048828,15.383333206176758,15.561332702636719,15.886667251586912,15.667332649230957,15.267333030700684,15.666666984558105,14.641332626342773,14.37600040435791,14.662667274475098,15.121999740600586,15.057332992553711,14.722000122070312,14.8100004196167,14.09333324432373,14.333333015441895,14.272000312805176,14.37266731262207,14.780667304992674,15.040666580200195,15.000666618347168,14.711999893188477,15.305333137512207,15.16333293914795,15.452667236328123,15.702667236328125,16.47333335876465,16.391332626342773,16.34666633605957,16.187332153320312,16.319332122802734,16.232667922973633,16.440000534057617,16.041332244873047,16.082000732421875,14.880666732788086,15.24666690826416,16.17066764831543,16.142000198364258,16.058000564575195,16.312667846679688,16.208667755126953,15.535332679748535,15.428667068481445,15.847999572753906,16.003332138061523,16.302000045776367,16.31599998474121,16.525999069213867,17.130666732788086,17.19266700744629,17.316667556762695,17.46466636657715,17.1299991607666,16.899999618530273,17.038667678833008,16.978666305541992,19.978666305541992,21.875333786010742,21.847333908081055,21.08133316040039,21.000667572021484,20.994667053222656,20.887332916259766,21.1646671295166,21.148000717163086,21.77199935913086,22.369333267211914,22.47599983215332,23.006000518798828,23.32866668701172,23.073999404907227,23.290000915527344,23.47800064086914,23.332666397094727,23.968000411987305,23.481332778930664,23.655332565307617,22.202667236328125,22.422666549682617,21.927999496459957,22.086000442504883,21.996000289916992,22.32466697692871,22.413333892822266,22.20199966430664,22.024667739868164,22.392667770385746,22.635332107543945,23.256000518798828,23.51333236694336,23.978666305541992,23.892667770385742,25.433332443237305,25.266000747680664,26.209999084472656,26.93600082397461,27.03933334350586,27.947999954223636,28.350000381469727,28.729333877563477,28.691999435424805,27.64666748046875,27.8886661529541,28.68400001525879,29.534000396728516,30.102666854858402,31.270666122436523,32.80933380126953,32.089332580566406,31.876667022705078,34.990665435791016,35.861331939697266,34.56666564941406,34.232666015625,34.03333282470704,36.47999954223633,37.97066879272461,38.14666748046875,37.654666900634766,37.201332092285156,37.793331146240234,38.732666015625,42.72066879272461,43.371334075927734,52.0,59.137332916259766,48.97999954223633,49.930667877197266,49.871334075927734,51.41866683959961,51.62533187866211,51.15266799926758,53.5999984741211,53.33533477783203,57.22666549682617,61.16133117675781,59.96066665649414,60.06666564941406,55.58599853515625,53.32733154296875,51.91999816894532,45.26666641235352,44.53266525268555,49.574668884277344,49.70066833496094,49.96666717529297,48.30266571044921,46.89866638183594,40.53333282470703,43.02199935913086,42.28200149536133,37.369998931884766,36.441333770751946,29.67133331298828,28.68000030517578,24.08133316040039,28.50933265686035,28.50200080871582,28.952667236328125,33.66666793823242,35.95000076293945,35.21066665649415,34.290668487548835,33.475334167480476,34.93333435058594,32.104000091552734,30.29800033569336,32.000667572021484,34.416000366210945,36.36333465576172,36.589332580566406,38.200000762939446,43.39666748046874,47.32600021362305,48.65533447265625,49.68066787719726,50.259334564208984,49.75733184814453,45.781333923339844,48.807334899902344,47.04199981689453,48.34333419799805,53.25,51.27466583251953,53.367332458496094,52.12533187866211,46.75466537475586,50.74599838256836,51.2140007019043,52.172000885009766,52.00266647338867,54.62799835205078,54.08599853515625,53.96066665649414,52.73066711425781,53.5553321838379,53.27799987792969,54.242000579833984,53.867332458496094,54.37066650390625,55.17333221435547,54.45866775512695,54.591331481933594,54.68199920654297,53.72066879272461,55.66666793823242,59.87333297729492,58.770668029785156,58.863998413085945,57.62533187866211,59.04399871826171,63.327999114990234,62.711334228515625,68.336669921875,64.85600280761719,62.35200119018555,66.05999755859375,65.47533416748047,66.11933135986328,66.9306640625,66.72666931152344,66.28800201416016,66.78533172607422,64.0566635131836,65.73200225830078,63.98266601562501,67.29000091552734,71.98733520507812,74.64199829101562,80.57733154296875,91.43866729736328,92.65733337402344,91.05867004394531,92.9520034790039,102.97666931152344,99.80400085449219,101.12000274658203,103.06732940673827,100.04266357421875,100.05599975585938,109.53333282470703,104.55733489990236,106.15533447265625,100.87133026123048,94.46666717529297,102.63999938964844,98.43267059326172,99.94066619873047,99.16600036621094,95.38400268554688,99.0,99.13333129882812,99.00133514404298,99.30533599853516,96.84733581542969,94.57133483886719,91.6259994506836,103.65066528320312,108.06666564941406,110.04733276367188,122.3759994506836,125.80599975585938,125.23533630371094,133.45533752441406,136.6653289794922,134.27999877929688,134.8893280029297,143.54466247558594,149.25,147.55999755859375,166.1066741943359,158.35000610351562,149.1233367919922,135.6666717529297,139.44000244140625,110.06999969482422,122.09333038330078,123.77999877929688,124.23999786376953,139.8733367919922,149.9199981689453,147.25332641601562,141.14332580566406,147.38333129882812,149.79666137695312,141.41000366210938,126.78666687011719,129.26333618164062,135.77999877929688,140.39999389648438,139.69000244140625,143.00332641601562,149.3866729736328,138.3633270263672,141.89332580566406,137.9933319091797,141.76666259765625,141.97332763671875,144.6666717529297,147.43333435058594,148.88333129882812,153.76666259765625,149.6266632080078,146.55667114257812,143.61000061035156,140.64666748046875,140.8800048828125,141.92999267578125,140.2100067138672,140.0933380126953,141.55999755859375,135.33999633789062,136.94332885742188,129.34666442871094,133.50332641601562,141.3000030517578,140.32666015625,146.02999877929688,143.31666564941406,140.4199981689453,136.7866668701172,139.0433349609375,137.25332641601562,136.1666717529297,136.02999877929688,147.20333862304688,162.2133331298828,166.42333984375,163.2033386230469,173.9499969482422,185.1266632080078,191.3333282470703,195.25332641601562,189.1999969482422,194.9199981689453,189.60667419433594,197.7933349609375,199.67999267578125,213.9199981689453,216.6266632080078,201.4933319091797,209.02333068847656,203.3300018310547,213.27667236328125,211.0833282470703,207.58999633789062,218.63333129882815,231.6666717529297,216.61999511718747,213.44667053222656,215.32666015625,220.58999633789062,221.22999572753906,221.99667358398438,231.5933380126953,235.22332763671872,243.2566680908203,245.03666687011716,251.9933319091797,272.0133361816406,293.3399963378907,270.39666748046875,283.14666748046875,284.8033447265625,281.6666564941406,275.38665771484375,281.51666259765625,283.48333740234375,281.663330078125,282.21331787109375,293.6000061035156,294.3633422851562,288.0533447265625,278.4766540527344,264.510009765625,279.9366760253906,290.92999267578125,284.89666748046875,283.3299865722656,284.07666015625006,287.8066711425781,283.1533203125,268.2733459472656,270.5533447265625,272.0400085449219,265.40667724609375,266.04998779296875,262.4599914550781,260.4333190917969,238.1666717529297,232.94667053222656,247.33999633789062,227.4066619873047,225.1666717529297,239.47666931152344,228.81333923339844,217.73333740234375,207.14666748046875,199.31666564941406,187.6666717529297,224.52667236328125,222.68666076660156,233.1999969482422,231.2433319091797,235.97999572753906,225.6266632080078,233.93666076660156,217.72000122070312,218.2899932861328,223.3333282470703,220.7200012207031,210.0899963378906,213.4633331298828,206.23666381835935,203.76333618164062,211.8733367919922,222.64332580566406,220.5833282470703,230.35000610351562,230.5399932861328,223.6566619873047,227.9333343505859,225.67333984375,233.9933319091797,254.10667419433594,244.07666015625,246.28334045410156,246.59333801269528,238.2100067138672,239.663330078125,248.0399932861328,239.89666748046875,243.13333129882812,246.06666564941406,234.913330078125,231.46665954589844,225.6666717529297,236.47999572753906,228.3000030517578,224.53334045410156,223.64666748046875,221.17999267578125,224.1233367919922,209.67999267578125,205.73333740234375,196.6300048828125,190.56333923339844,196.5800018310547,192.27667236328125,192.6233367919922,187.82000732421875,195.5933380126953,193.6266632080078,202.14666748046875,201.56333923339844,206.3766632080078,210.28334045410156,208.4066619873047,207.96665954589844,201.7066650390625,190.94667053222656,199.68333435058594,201.7100067138672,201.19667053222656,199.59333801269534,203.3733367919922,203.29666137695312,205.89666748046875,199.7866668701172,201.62333679199216,205.53334045410156,207.77000427246094,206.94332885742188,207.90333557128906,218.85667419433594,226.60667419433594,223.9566650390625,229.57333374023438,226.9199981689453,226.56666564941403,225.97332763671875,226.3000030517578,219.86000061035156,214.88333129882812,217.60333251953125,218.98333740234375,228.56666564941406,222.8466644287109,217.7933349609375,216.86666870117185,214.74000549316406,215.4066619873047,220.1666717529297,218.42999267578125,216.4199981689453,214.4600067138672,219.2066650390625,214.92666625976562,215.66000366210938,225.78334045410156,229.06666564941406,236.55667114257812,236.5800018310547,236.97332763671875,238.2100067138672,233.03334045410156,237.9199981689453,236.663330078125,235.94000244140625,240.75,239.05667114257812,228.72332763671875,221.90333557128906,229.663330078125,224.49000549316406,226.75332641601562,235.43333435058594,236.163330078125,237.06666564941406,233.72000122070312,237.30667114257812,243.6366729736328,245.24000549316406,244.69667053222656,244.1300048828125,244.52333068847656,250.97332763671875,251.2899932861328,251.6199951171875,245.42333984375,247.6666717529297,248.163330078125,251.94332885742188,252.3300018310547,253.163330078125,243.38999938964844,246.4600067138672,250.64666748046875,251.2133331298828,258.1300048828125,263.78668212890625,259.1866760253906,260.4366760253906,258.49334716796875,258.40667724609375,260.510009765625,260.1966552734375,260.9166564941406,264.53668212890625,261.8299865722656,263.9800109863281,268.5733337402344,270.3599853515625,272.7733459472656,281.010009765625,290.0366821289063,288.0899963378906,288.6000061035156,298.0,303.2266540527344,341.6199951171875,339.4766540527344,345.9533386230469,359.0133361816406,371.3333435058594,402.86334228515625,390.6666564941406,404.6199951171875,409.9700012207031,407.36334228515625,387.64666748046875,341.1666564941406,355.98333740234375,354.5033264160156,344.47332763671875,337.7966613769532,351.57666015624994,363.0033264160156,365.4599914550781,379.0199890136719,385.6233215332031,369.6766662597656,372.0,360.6400146484375,378.9966735839844,381.586669921875,365.0,361.5333251953125,338.3233337402344,336.336669921875,350.5833435058594,356.32000732421875,334.6000061035156,339.01000976562494,322.13665771484375,319.5033264160156,325.3299865722656,308.97332763671875,310.8566589355469,299.9800109863281,312.84332275390625,336.2900085449219,355.6666564941406,364.64666748046875,362.8233337402344,362.0633239746094,356.77999877929693,352.26000976562494,399.9266662597656,383.1966552734375,362.7066650390625,354.8999938964844,342.32000732421875,352.7066650390625,354.79998779296875,368.73999023437506,343.85333251953125,349.86999511718756,343.5033264160156,331.8833312988281,332.0899963378906,314.6333312988281,310.0,306.1333312988282,312.4700012207031,276.3666687011719,282.1166687011719,312.239990234375,310.4166564941406,301.88665771484375,297.0466613769531,307.7733459472656,302.4466552734375,307.3333435058594,310.6666564941406,301.51666259765625,286.6666564941406,291.9200134277344,307.4766540527344,307.7966613769531,292.1166687011719,285.6600036621094,273.84332275390625,254.67999267578125,266.92333984375,269.9566650390625,290.1433410644531,288.1233215332031,293.2966613769531,279.7633361816406,279.42999267578125,268.1933288574219,274.79998779296875,286.3233337402344,279.4333190917969,265.1166687011719,255.4566650390625,267.2966613769531,280.07666015625,290.5333251953125,301.7966613769531,307.0533447265625,331.32666015625,333.03668212890625,337.97332763671875,336.8800048828125,363.9466552734375,366.5233459472656,364.663330078125,359.20001220703125,361.5299987792969,381.8166809082031,363.7533264160156,348.586669921875,352.4200134277344,341.8299865722656,325.30999755859375,328.98333740234375,340.7900085449219,328.3333435058594,334.7633361816406,342.7166748046875,325.73333740234375,336.260009765625,335.01666259765625,332.67333984375,292.1400146484375,293.836669921875,292.50332641601557,290.2533264160156,300.9800109863281,303.0833435058594,317.5400085449219,291.09332275390625,288.54998779296875,262.3699951171875,266.67999267578125,244.6666717529297,242.6666717529297,256.5299987792969,241.4566650390625,253.8699951171875,236.60333251953125,236.47332763671875,221.3000030517578,224.96665954589844,209.3866729736328,219.6000061035156,235.91000366210938,253.2100067138672,252.75332641601562,246.7899932861328,258.3333435058594,234.51666259765625,238.2799987792969,238.88667297363278,241.86666870117185,239.7066650390625,232.22999572753906,215.73666381835938,220.88999938964844,233.0,213.10000610351562,216.75999450683594,237.0366668701172,236.086669921875,235.07000732421875,245.7066650390625,244.9199981689453,232.663330078125,228.49000549316406,224.47332763671875,227.26333618164062,233.06666564941406,231.73333740234375,244.54333496093747,250.76333618164062,234.3433380126953,233.07000732421875,237.0399932861328,238.31333923339844,240.06666564941406,240.54666137695312,245.52999877929688,247.5,271.7066650390625,272.24334716796875,268.4333190917969,258.8599853515625,274.82000732421875,280.8999938964844,297.1499938964844,297.27667236328125,300.586669921875,307.39666748046875,308.6333312988281,288.1700134277344,290.42333984375,283.3333435058594,294.3566589355469,286.6300048828125,300.0299987792969,309.32000732421875,306.5633239746094,303.9966735839844,302.86999511718756,296.6666564941406,289.913330078125,296.45333862304693,297.09667968749994,296.07000732421875,288.0899963378906,284.82000732421875,277.70001220703125,275.6099853515625,277.1600036621094,270.2099914550781,274.4200134277344,283.70001220703125,289.260009765625,299.6799926757813,304.4200134277344,292.1300048828125,302.6099853515625,303.75,303.3500061035156,309.07000732421875,308.7300109863281,300.79998779296875,288.5899963378906,275.3299865722656,276.010009765625,282.94000244140625,287.80999755859375,268.2099914550781,265.25,242.3999938964844,249.44000244140625,240.80999755859375,238.1300048828125,223.07000732421875,222.96000671386716,216.5,217.24000549316406,221.72000122070312,204.99000549316406],\"type\":\"scatter\"},{\"mode\":\"lines\",\"name\":\"Predicted\",\"x\":[\"2018-01-02T00:00:00-05:00\",\"2018-01-03T00:00:00-05:00\",\"2018-01-04T00:00:00-05:00\",\"2018-01-05T00:00:00-05:00\",\"2018-01-08T00:00:00-05:00\",\"2018-01-09T00:00:00-05:00\",\"2018-01-10T00:00:00-05:00\",\"2018-01-11T00:00:00-05:00\",\"2018-01-12T00:00:00-05:00\",\"2018-01-16T00:00:00-05:00\",\"2018-01-17T00:00:00-05:00\",\"2018-01-18T00:00:00-05:00\",\"2018-01-19T00:00:00-05:00\",\"2018-01-22T00:00:00-05:00\",\"2018-01-23T00:00:00-05:00\",\"2018-01-24T00:00:00-05:00\",\"2018-01-25T00:00:00-05:00\",\"2018-01-26T00:00:00-05:00\",\"2018-01-29T00:00:00-05:00\",\"2018-01-30T00:00:00-05:00\",\"2018-01-31T00:00:00-05:00\",\"2018-02-01T00:00:00-05:00\",\"2018-02-02T00:00:00-05:00\",\"2018-02-05T00:00:00-05:00\",\"2018-02-06T00:00:00-05:00\",\"2018-02-07T00:00:00-05:00\",\"2018-02-08T00:00:00-05:00\",\"2018-02-09T00:00:00-05:00\",\"2018-02-12T00:00:00-05:00\",\"2018-02-13T00:00:00-05:00\",\"2018-02-14T00:00:00-05:00\",\"2018-02-15T00:00:00-05:00\",\"2018-02-16T00:00:00-05:00\",\"2018-02-20T00:00:00-05:00\",\"2018-02-21T00:00:00-05:00\",\"2018-02-22T00:00:00-05:00\",\"2018-02-23T00:00:00-05:00\",\"2018-02-26T00:00:00-05:00\",\"2018-02-27T00:00:00-05:00\",\"2018-02-28T00:00:00-05:00\",\"2018-03-01T00:00:00-05:00\",\"2018-03-02T00:00:00-05:00\",\"2018-03-05T00:00:00-05:00\",\"2018-03-06T00:00:00-05:00\",\"2018-03-07T00:00:00-05:00\",\"2018-03-08T00:00:00-05:00\",\"2018-03-09T00:00:00-05:00\",\"2018-03-12T00:00:00-04:00\",\"2018-03-13T00:00:00-04:00\",\"2018-03-14T00:00:00-04:00\",\"2018-03-15T00:00:00-04:00\",\"2018-03-16T00:00:00-04:00\",\"2018-03-19T00:00:00-04:00\",\"2018-03-20T00:00:00-04:00\",\"2018-03-21T00:00:00-04:00\",\"2018-03-22T00:00:00-04:00\",\"2018-03-23T00:00:00-04:00\",\"2018-03-26T00:00:00-04:00\",\"2018-03-27T00:00:00-04:00\",\"2018-03-28T00:00:00-04:00\",\"2018-03-29T00:00:00-04:00\",\"2018-04-02T00:00:00-04:00\",\"2018-04-03T00:00:00-04:00\",\"2018-04-04T00:00:00-04:00\",\"2018-04-05T00:00:00-04:00\",\"2018-04-06T00:00:00-04:00\",\"2018-04-09T00:00:00-04:00\",\"2018-04-10T00:00:00-04:00\",\"2018-04-11T00:00:00-04:00\",\"2018-04-12T00:00:00-04:00\",\"2018-04-13T00:00:00-04:00\",\"2018-04-16T00:00:00-04:00\",\"2018-04-17T00:00:00-04:00\",\"2018-04-18T00:00:00-04:00\",\"2018-04-19T00:00:00-04:00\",\"2018-04-20T00:00:00-04:00\",\"2018-04-23T00:00:00-04:00\",\"2018-04-24T00:00:00-04:00\",\"2018-04-25T00:00:00-04:00\",\"2018-04-26T00:00:00-04:00\",\"2018-04-27T00:00:00-04:00\",\"2018-04-30T00:00:00-04:00\",\"2018-05-01T00:00:00-04:00\",\"2018-05-02T00:00:00-04:00\",\"2018-05-03T00:00:00-04:00\",\"2018-05-04T00:00:00-04:00\",\"2018-05-07T00:00:00-04:00\",\"2018-05-08T00:00:00-04:00\",\"2018-05-09T00:00:00-04:00\",\"2018-05-10T00:00:00-04:00\",\"2018-05-11T00:00:00-04:00\",\"2018-05-14T00:00:00-04:00\",\"2018-05-15T00:00:00-04:00\",\"2018-05-16T00:00:00-04:00\",\"2018-05-17T00:00:00-04:00\",\"2018-05-18T00:00:00-04:00\",\"2018-05-21T00:00:00-04:00\",\"2018-05-22T00:00:00-04:00\",\"2018-05-23T00:00:00-04:00\",\"2018-05-24T00:00:00-04:00\",\"2018-05-25T00:00:00-04:00\",\"2018-05-29T00:00:00-04:00\",\"2018-05-30T00:00:00-04:00\",\"2018-05-31T00:00:00-04:00\",\"2018-06-01T00:00:00-04:00\",\"2018-06-04T00:00:00-04:00\",\"2018-06-05T00:00:00-04:00\",\"2018-06-06T00:00:00-04:00\",\"2018-06-07T00:00:00-04:00\",\"2018-06-08T00:00:00-04:00\",\"2018-06-11T00:00:00-04:00\",\"2018-06-12T00:00:00-04:00\",\"2018-06-13T00:00:00-04:00\",\"2018-06-14T00:00:00-04:00\",\"2018-06-15T00:00:00-04:00\",\"2018-06-18T00:00:00-04:00\",\"2018-06-19T00:00:00-04:00\",\"2018-06-20T00:00:00-04:00\",\"2018-06-21T00:00:00-04:00\",\"2018-06-22T00:00:00-04:00\",\"2018-06-25T00:00:00-04:00\",\"2018-06-26T00:00:00-04:00\",\"2018-06-27T00:00:00-04:00\",\"2018-06-28T00:00:00-04:00\",\"2018-06-29T00:00:00-04:00\",\"2018-07-02T00:00:00-04:00\",\"2018-07-03T00:00:00-04:00\",\"2018-07-05T00:00:00-04:00\",\"2018-07-06T00:00:00-04:00\",\"2018-07-09T00:00:00-04:00\",\"2018-07-10T00:00:00-04:00\",\"2018-07-11T00:00:00-04:00\",\"2018-07-12T00:00:00-04:00\",\"2018-07-13T00:00:00-04:00\",\"2018-07-16T00:00:00-04:00\",\"2018-07-17T00:00:00-04:00\",\"2018-07-18T00:00:00-04:00\",\"2018-07-19T00:00:00-04:00\",\"2018-07-20T00:00:00-04:00\",\"2018-07-23T00:00:00-04:00\",\"2018-07-24T00:00:00-04:00\",\"2018-07-25T00:00:00-04:00\",\"2018-07-26T00:00:00-04:00\",\"2018-07-27T00:00:00-04:00\",\"2018-07-30T00:00:00-04:00\",\"2018-07-31T00:00:00-04:00\",\"2018-08-01T00:00:00-04:00\",\"2018-08-02T00:00:00-04:00\",\"2018-08-03T00:00:00-04:00\",\"2018-08-06T00:00:00-04:00\",\"2018-08-07T00:00:00-04:00\",\"2018-08-08T00:00:00-04:00\",\"2018-08-09T00:00:00-04:00\",\"2018-08-10T00:00:00-04:00\",\"2018-08-13T00:00:00-04:00\",\"2018-08-14T00:00:00-04:00\",\"2018-08-15T00:00:00-04:00\",\"2018-08-16T00:00:00-04:00\",\"2018-08-17T00:00:00-04:00\",\"2018-08-20T00:00:00-04:00\",\"2018-08-21T00:00:00-04:00\",\"2018-08-22T00:00:00-04:00\",\"2018-08-23T00:00:00-04:00\",\"2018-08-24T00:00:00-04:00\",\"2018-08-27T00:00:00-04:00\",\"2018-08-28T00:00:00-04:00\",\"2018-08-29T00:00:00-04:00\",\"2018-08-30T00:00:00-04:00\",\"2018-08-31T00:00:00-04:00\",\"2018-09-04T00:00:00-04:00\",\"2018-09-05T00:00:00-04:00\",\"2018-09-06T00:00:00-04:00\",\"2018-09-07T00:00:00-04:00\",\"2018-09-10T00:00:00-04:00\",\"2018-09-11T00:00:00-04:00\",\"2018-09-12T00:00:00-04:00\",\"2018-09-13T00:00:00-04:00\",\"2018-09-14T00:00:00-04:00\",\"2018-09-17T00:00:00-04:00\",\"2018-09-18T00:00:00-04:00\",\"2018-09-19T00:00:00-04:00\",\"2018-09-20T00:00:00-04:00\",\"2018-09-21T00:00:00-04:00\",\"2018-09-24T00:00:00-04:00\",\"2018-09-25T00:00:00-04:00\",\"2018-09-26T00:00:00-04:00\",\"2018-09-27T00:00:00-04:00\",\"2018-09-28T00:00:00-04:00\",\"2018-10-01T00:00:00-04:00\",\"2018-10-02T00:00:00-04:00\",\"2018-10-03T00:00:00-04:00\",\"2018-10-04T00:00:00-04:00\",\"2018-10-05T00:00:00-04:00\",\"2018-10-08T00:00:00-04:00\",\"2018-10-09T00:00:00-04:00\",\"2018-10-10T00:00:00-04:00\",\"2018-10-11T00:00:00-04:00\",\"2018-10-12T00:00:00-04:00\",\"2018-10-15T00:00:00-04:00\",\"2018-10-16T00:00:00-04:00\",\"2018-10-17T00:00:00-04:00\",\"2018-10-18T00:00:00-04:00\",\"2018-10-19T00:00:00-04:00\",\"2018-10-22T00:00:00-04:00\",\"2018-10-23T00:00:00-04:00\",\"2018-10-24T00:00:00-04:00\",\"2018-10-25T00:00:00-04:00\",\"2018-10-26T00:00:00-04:00\",\"2018-10-29T00:00:00-04:00\",\"2018-10-30T00:00:00-04:00\",\"2018-10-31T00:00:00-04:00\",\"2018-11-01T00:00:00-04:00\",\"2018-11-02T00:00:00-04:00\",\"2018-11-05T00:00:00-05:00\",\"2018-11-06T00:00:00-05:00\",\"2018-11-07T00:00:00-05:00\",\"2018-11-08T00:00:00-05:00\",\"2018-11-09T00:00:00-05:00\",\"2018-11-12T00:00:00-05:00\",\"2018-11-13T00:00:00-05:00\",\"2018-11-14T00:00:00-05:00\",\"2018-11-15T00:00:00-05:00\",\"2018-11-16T00:00:00-05:00\",\"2018-11-19T00:00:00-05:00\",\"2018-11-20T00:00:00-05:00\",\"2018-11-21T00:00:00-05:00\",\"2018-11-23T00:00:00-05:00\",\"2018-11-26T00:00:00-05:00\",\"2018-11-27T00:00:00-05:00\",\"2018-11-28T00:00:00-05:00\",\"2018-11-29T00:00:00-05:00\",\"2018-11-30T00:00:00-05:00\",\"2018-12-03T00:00:00-05:00\",\"2018-12-04T00:00:00-05:00\",\"2018-12-06T00:00:00-05:00\",\"2018-12-07T00:00:00-05:00\",\"2018-12-10T00:00:00-05:00\",\"2018-12-11T00:00:00-05:00\",\"2018-12-12T00:00:00-05:00\",\"2018-12-13T00:00:00-05:00\",\"2018-12-14T00:00:00-05:00\",\"2018-12-17T00:00:00-05:00\",\"2018-12-18T00:00:00-05:00\",\"2018-12-19T00:00:00-05:00\",\"2018-12-20T00:00:00-05:00\",\"2018-12-21T00:00:00-05:00\",\"2018-12-24T00:00:00-05:00\",\"2018-12-26T00:00:00-05:00\",\"2018-12-27T00:00:00-05:00\",\"2018-12-28T00:00:00-05:00\",\"2018-12-31T00:00:00-05:00\",\"2019-01-02T00:00:00-05:00\",\"2019-01-03T00:00:00-05:00\",\"2019-01-04T00:00:00-05:00\",\"2019-01-07T00:00:00-05:00\",\"2019-01-08T00:00:00-05:00\",\"2019-01-09T00:00:00-05:00\",\"2019-01-10T00:00:00-05:00\",\"2019-01-11T00:00:00-05:00\",\"2019-01-14T00:00:00-05:00\",\"2019-01-15T00:00:00-05:00\",\"2019-01-16T00:00:00-05:00\",\"2019-01-17T00:00:00-05:00\",\"2019-01-18T00:00:00-05:00\",\"2019-01-22T00:00:00-05:00\",\"2019-01-23T00:00:00-05:00\",\"2019-01-24T00:00:00-05:00\",\"2019-01-25T00:00:00-05:00\",\"2019-01-28T00:00:00-05:00\",\"2019-01-29T00:00:00-05:00\",\"2019-01-30T00:00:00-05:00\",\"2019-01-31T00:00:00-05:00\",\"2019-02-01T00:00:00-05:00\",\"2019-02-04T00:00:00-05:00\",\"2019-02-05T00:00:00-05:00\",\"2019-02-06T00:00:00-05:00\",\"2019-02-07T00:00:00-05:00\",\"2019-02-08T00:00:00-05:00\",\"2019-02-11T00:00:00-05:00\",\"2019-02-12T00:00:00-05:00\",\"2019-02-13T00:00:00-05:00\",\"2019-02-14T00:00:00-05:00\",\"2019-02-15T00:00:00-05:00\",\"2019-02-19T00:00:00-05:00\",\"2019-02-20T00:00:00-05:00\",\"2019-02-21T00:00:00-05:00\",\"2019-02-22T00:00:00-05:00\",\"2019-02-25T00:00:00-05:00\",\"2019-02-26T00:00:00-05:00\",\"2019-02-27T00:00:00-05:00\",\"2019-02-28T00:00:00-05:00\",\"2019-03-01T00:00:00-05:00\",\"2019-03-04T00:00:00-05:00\",\"2019-03-05T00:00:00-05:00\",\"2019-03-06T00:00:00-05:00\",\"2019-03-07T00:00:00-05:00\",\"2019-03-08T00:00:00-05:00\",\"2019-03-11T00:00:00-04:00\",\"2019-03-12T00:00:00-04:00\",\"2019-03-13T00:00:00-04:00\",\"2019-03-14T00:00:00-04:00\",\"2019-03-15T00:00:00-04:00\",\"2019-03-18T00:00:00-04:00\",\"2019-03-19T00:00:00-04:00\",\"2019-03-20T00:00:00-04:00\",\"2019-03-21T00:00:00-04:00\",\"2019-03-22T00:00:00-04:00\",\"2019-03-25T00:00:00-04:00\",\"2019-03-26T00:00:00-04:00\",\"2019-03-27T00:00:00-04:00\",\"2019-03-28T00:00:00-04:00\",\"2019-03-29T00:00:00-04:00\",\"2019-04-01T00:00:00-04:00\",\"2019-04-02T00:00:00-04:00\",\"2019-04-03T00:00:00-04:00\",\"2019-04-04T00:00:00-04:00\",\"2019-04-05T00:00:00-04:00\",\"2019-04-08T00:00:00-04:00\",\"2019-04-09T00:00:00-04:00\",\"2019-04-10T00:00:00-04:00\",\"2019-04-11T00:00:00-04:00\",\"2019-04-12T00:00:00-04:00\",\"2019-04-15T00:00:00-04:00\",\"2019-04-16T00:00:00-04:00\",\"2019-04-17T00:00:00-04:00\",\"2019-04-18T00:00:00-04:00\",\"2019-04-22T00:00:00-04:00\",\"2019-04-23T00:00:00-04:00\",\"2019-04-24T00:00:00-04:00\",\"2019-04-25T00:00:00-04:00\",\"2019-04-26T00:00:00-04:00\",\"2019-04-29T00:00:00-04:00\",\"2019-04-30T00:00:00-04:00\",\"2019-05-01T00:00:00-04:00\",\"2019-05-02T00:00:00-04:00\",\"2019-05-03T00:00:00-04:00\",\"2019-05-06T00:00:00-04:00\",\"2019-05-07T00:00:00-04:00\",\"2019-05-08T00:00:00-04:00\",\"2019-05-09T00:00:00-04:00\",\"2019-05-10T00:00:00-04:00\",\"2019-05-13T00:00:00-04:00\",\"2019-05-14T00:00:00-04:00\",\"2019-05-15T00:00:00-04:00\",\"2019-05-16T00:00:00-04:00\",\"2019-05-17T00:00:00-04:00\",\"2019-05-20T00:00:00-04:00\",\"2019-05-21T00:00:00-04:00\",\"2019-05-22T00:00:00-04:00\",\"2019-05-23T00:00:00-04:00\",\"2019-05-24T00:00:00-04:00\",\"2019-05-28T00:00:00-04:00\",\"2019-05-29T00:00:00-04:00\",\"2019-05-30T00:00:00-04:00\",\"2019-05-31T00:00:00-04:00\",\"2019-06-03T00:00:00-04:00\",\"2019-06-04T00:00:00-04:00\",\"2019-06-05T00:00:00-04:00\",\"2019-06-06T00:00:00-04:00\",\"2019-06-07T00:00:00-04:00\",\"2019-06-10T00:00:00-04:00\",\"2019-06-11T00:00:00-04:00\",\"2019-06-12T00:00:00-04:00\",\"2019-06-13T00:00:00-04:00\",\"2019-06-14T00:00:00-04:00\",\"2019-06-17T00:00:00-04:00\",\"2019-06-18T00:00:00-04:00\",\"2019-06-19T00:00:00-04:00\",\"2019-06-20T00:00:00-04:00\",\"2019-06-21T00:00:00-04:00\",\"2019-06-24T00:00:00-04:00\",\"2019-06-25T00:00:00-04:00\",\"2019-06-26T00:00:00-04:00\",\"2019-06-27T00:00:00-04:00\",\"2019-06-28T00:00:00-04:00\",\"2019-07-01T00:00:00-04:00\",\"2019-07-02T00:00:00-04:00\",\"2019-07-03T00:00:00-04:00\",\"2019-07-05T00:00:00-04:00\",\"2019-07-08T00:00:00-04:00\",\"2019-07-09T00:00:00-04:00\",\"2019-07-10T00:00:00-04:00\",\"2019-07-11T00:00:00-04:00\",\"2019-07-12T00:00:00-04:00\",\"2019-07-15T00:00:00-04:00\",\"2019-07-16T00:00:00-04:00\",\"2019-07-17T00:00:00-04:00\",\"2019-07-18T00:00:00-04:00\",\"2019-07-19T00:00:00-04:00\",\"2019-07-22T00:00:00-04:00\",\"2019-07-23T00:00:00-04:00\",\"2019-07-24T00:00:00-04:00\",\"2019-07-25T00:00:00-04:00\",\"2019-07-26T00:00:00-04:00\",\"2019-07-29T00:00:00-04:00\",\"2019-07-30T00:00:00-04:00\",\"2019-07-31T00:00:00-04:00\",\"2019-08-01T00:00:00-04:00\",\"2019-08-02T00:00:00-04:00\",\"2019-08-05T00:00:00-04:00\",\"2019-08-06T00:00:00-04:00\",\"2019-08-07T00:00:00-04:00\",\"2019-08-08T00:00:00-04:00\",\"2019-08-09T00:00:00-04:00\",\"2019-08-12T00:00:00-04:00\",\"2019-08-13T00:00:00-04:00\",\"2019-08-14T00:00:00-04:00\",\"2019-08-15T00:00:00-04:00\",\"2019-08-16T00:00:00-04:00\",\"2019-08-19T00:00:00-04:00\",\"2019-08-20T00:00:00-04:00\",\"2019-08-21T00:00:00-04:00\",\"2019-08-22T00:00:00-04:00\",\"2019-08-23T00:00:00-04:00\",\"2019-08-26T00:00:00-04:00\",\"2019-08-27T00:00:00-04:00\",\"2019-08-28T00:00:00-04:00\",\"2019-08-29T00:00:00-04:00\",\"2019-08-30T00:00:00-04:00\",\"2019-09-03T00:00:00-04:00\",\"2019-09-04T00:00:00-04:00\",\"2019-09-05T00:00:00-04:00\",\"2019-09-06T00:00:00-04:00\",\"2019-09-09T00:00:00-04:00\",\"2019-09-10T00:00:00-04:00\",\"2019-09-11T00:00:00-04:00\",\"2019-09-12T00:00:00-04:00\",\"2019-09-13T00:00:00-04:00\",\"2019-09-16T00:00:00-04:00\",\"2019-09-17T00:00:00-04:00\",\"2019-09-18T00:00:00-04:00\",\"2019-09-19T00:00:00-04:00\",\"2019-09-20T00:00:00-04:00\",\"2019-09-23T00:00:00-04:00\",\"2019-09-24T00:00:00-04:00\",\"2019-09-25T00:00:00-04:00\",\"2019-09-26T00:00:00-04:00\",\"2019-09-27T00:00:00-04:00\",\"2019-09-30T00:00:00-04:00\",\"2019-10-01T00:00:00-04:00\",\"2019-10-02T00:00:00-04:00\",\"2019-10-03T00:00:00-04:00\",\"2019-10-04T00:00:00-04:00\",\"2019-10-07T00:00:00-04:00\",\"2019-10-08T00:00:00-04:00\",\"2019-10-09T00:00:00-04:00\",\"2019-10-10T00:00:00-04:00\",\"2019-10-11T00:00:00-04:00\",\"2019-10-14T00:00:00-04:00\",\"2019-10-15T00:00:00-04:00\",\"2019-10-16T00:00:00-04:00\",\"2019-10-17T00:00:00-04:00\",\"2019-10-18T00:00:00-04:00\",\"2019-10-21T00:00:00-04:00\",\"2019-10-22T00:00:00-04:00\",\"2019-10-23T00:00:00-04:00\",\"2019-10-24T00:00:00-04:00\",\"2019-10-25T00:00:00-04:00\",\"2019-10-28T00:00:00-04:00\",\"2019-10-29T00:00:00-04:00\",\"2019-10-30T00:00:00-04:00\",\"2019-10-31T00:00:00-04:00\",\"2019-11-01T00:00:00-04:00\",\"2019-11-04T00:00:00-05:00\",\"2019-11-05T00:00:00-05:00\",\"2019-11-06T00:00:00-05:00\",\"2019-11-07T00:00:00-05:00\",\"2019-11-08T00:00:00-05:00\",\"2019-11-11T00:00:00-05:00\",\"2019-11-12T00:00:00-05:00\",\"2019-11-13T00:00:00-05:00\",\"2019-11-14T00:00:00-05:00\",\"2019-11-15T00:00:00-05:00\",\"2019-11-18T00:00:00-05:00\",\"2019-11-19T00:00:00-05:00\",\"2019-11-20T00:00:00-05:00\",\"2019-11-21T00:00:00-05:00\",\"2019-11-22T00:00:00-05:00\",\"2019-11-25T00:00:00-05:00\",\"2019-11-26T00:00:00-05:00\",\"2019-11-27T00:00:00-05:00\",\"2019-11-29T00:00:00-05:00\",\"2019-12-02T00:00:00-05:00\",\"2019-12-03T00:00:00-05:00\",\"2019-12-04T00:00:00-05:00\",\"2019-12-05T00:00:00-05:00\",\"2019-12-06T00:00:00-05:00\",\"2019-12-09T00:00:00-05:00\",\"2019-12-10T00:00:00-05:00\",\"2019-12-11T00:00:00-05:00\",\"2019-12-12T00:00:00-05:00\",\"2019-12-13T00:00:00-05:00\",\"2019-12-16T00:00:00-05:00\",\"2019-12-17T00:00:00-05:00\",\"2019-12-18T00:00:00-05:00\",\"2019-12-19T00:00:00-05:00\",\"2019-12-20T00:00:00-05:00\",\"2019-12-23T00:00:00-05:00\",\"2019-12-24T00:00:00-05:00\",\"2019-12-26T00:00:00-05:00\",\"2019-12-27T00:00:00-05:00\",\"2019-12-30T00:00:00-05:00\",\"2019-12-31T00:00:00-05:00\",\"2020-01-02T00:00:00-05:00\",\"2020-01-03T00:00:00-05:00\",\"2020-01-06T00:00:00-05:00\",\"2020-01-07T00:00:00-05:00\",\"2020-01-08T00:00:00-05:00\",\"2020-01-09T00:00:00-05:00\",\"2020-01-10T00:00:00-05:00\",\"2020-01-13T00:00:00-05:00\",\"2020-01-14T00:00:00-05:00\",\"2020-01-15T00:00:00-05:00\",\"2020-01-16T00:00:00-05:00\",\"2020-01-17T00:00:00-05:00\",\"2020-01-21T00:00:00-05:00\",\"2020-01-22T00:00:00-05:00\",\"2020-01-23T00:00:00-05:00\",\"2020-01-24T00:00:00-05:00\",\"2020-01-27T00:00:00-05:00\",\"2020-01-28T00:00:00-05:00\",\"2020-01-29T00:00:00-05:00\",\"2020-01-30T00:00:00-05:00\",\"2020-01-31T00:00:00-05:00\",\"2020-02-03T00:00:00-05:00\",\"2020-02-04T00:00:00-05:00\",\"2020-02-05T00:00:00-05:00\",\"2020-02-06T00:00:00-05:00\",\"2020-02-07T00:00:00-05:00\",\"2020-02-10T00:00:00-05:00\",\"2020-02-11T00:00:00-05:00\",\"2020-02-12T00:00:00-05:00\",\"2020-02-13T00:00:00-05:00\",\"2020-02-14T00:00:00-05:00\",\"2020-02-18T00:00:00-05:00\",\"2020-02-19T00:00:00-05:00\",\"2020-02-20T00:00:00-05:00\",\"2020-02-21T00:00:00-05:00\",\"2020-02-24T00:00:00-05:00\",\"2020-02-25T00:00:00-05:00\",\"2020-02-26T00:00:00-05:00\",\"2020-02-27T00:00:00-05:00\",\"2020-02-28T00:00:00-05:00\",\"2020-03-02T00:00:00-05:00\",\"2020-03-03T00:00:00-05:00\",\"2020-03-04T00:00:00-05:00\",\"2020-03-05T00:00:00-05:00\",\"2020-03-06T00:00:00-05:00\",\"2020-03-09T00:00:00-04:00\",\"2020-03-10T00:00:00-04:00\",\"2020-03-11T00:00:00-04:00\",\"2020-03-12T00:00:00-04:00\",\"2020-03-13T00:00:00-04:00\",\"2020-03-16T00:00:00-04:00\",\"2020-03-17T00:00:00-04:00\",\"2020-03-18T00:00:00-04:00\",\"2020-03-19T00:00:00-04:00\",\"2020-03-20T00:00:00-04:00\",\"2020-03-23T00:00:00-04:00\",\"2020-03-24T00:00:00-04:00\",\"2020-03-25T00:00:00-04:00\",\"2020-03-26T00:00:00-04:00\",\"2020-03-27T00:00:00-04:00\",\"2020-03-30T00:00:00-04:00\",\"2020-03-31T00:00:00-04:00\",\"2020-04-01T00:00:00-04:00\",\"2020-04-02T00:00:00-04:00\",\"2020-04-03T00:00:00-04:00\",\"2020-04-06T00:00:00-04:00\",\"2020-04-07T00:00:00-04:00\",\"2020-04-08T00:00:00-04:00\",\"2020-04-09T00:00:00-04:00\",\"2020-04-13T00:00:00-04:00\",\"2020-04-14T00:00:00-04:00\",\"2020-04-15T00:00:00-04:00\",\"2020-04-16T00:00:00-04:00\",\"2020-04-17T00:00:00-04:00\",\"2020-04-20T00:00:00-04:00\",\"2020-04-21T00:00:00-04:00\",\"2020-04-22T00:00:00-04:00\",\"2020-04-23T00:00:00-04:00\",\"2020-04-24T00:00:00-04:00\",\"2020-04-27T00:00:00-04:00\",\"2020-04-28T00:00:00-04:00\",\"2020-04-29T00:00:00-04:00\",\"2020-04-30T00:00:00-04:00\",\"2020-05-01T00:00:00-04:00\",\"2020-05-04T00:00:00-04:00\",\"2020-05-05T00:00:00-04:00\",\"2020-05-06T00:00:00-04:00\",\"2020-05-07T00:00:00-04:00\",\"2020-05-08T00:00:00-04:00\",\"2020-05-11T00:00:00-04:00\",\"2020-05-12T00:00:00-04:00\",\"2020-05-13T00:00:00-04:00\",\"2020-05-14T00:00:00-04:00\",\"2020-05-15T00:00:00-04:00\",\"2020-05-18T00:00:00-04:00\",\"2020-05-19T00:00:00-04:00\",\"2020-05-20T00:00:00-04:00\",\"2020-05-21T00:00:00-04:00\",\"2020-05-22T00:00:00-04:00\",\"2020-05-26T00:00:00-04:00\",\"2020-05-27T00:00:00-04:00\",\"2020-05-28T00:00:00-04:00\",\"2020-05-29T00:00:00-04:00\",\"2020-06-01T00:00:00-04:00\",\"2020-06-02T00:00:00-04:00\",\"2020-06-03T00:00:00-04:00\",\"2020-06-04T00:00:00-04:00\",\"2020-06-05T00:00:00-04:00\",\"2020-06-08T00:00:00-04:00\",\"2020-06-09T00:00:00-04:00\",\"2020-06-10T00:00:00-04:00\",\"2020-06-11T00:00:00-04:00\",\"2020-06-12T00:00:00-04:00\",\"2020-06-15T00:00:00-04:00\",\"2020-06-16T00:00:00-04:00\",\"2020-06-17T00:00:00-04:00\",\"2020-06-18T00:00:00-04:00\",\"2020-06-19T00:00:00-04:00\",\"2020-06-22T00:00:00-04:00\",\"2020-06-23T00:00:00-04:00\",\"2020-06-24T00:00:00-04:00\",\"2020-06-25T00:00:00-04:00\",\"2020-06-26T00:00:00-04:00\",\"2020-06-29T00:00:00-04:00\",\"2020-06-30T00:00:00-04:00\",\"2020-07-01T00:00:00-04:00\",\"2020-07-02T00:00:00-04:00\",\"2020-07-06T00:00:00-04:00\",\"2020-07-07T00:00:00-04:00\",\"2020-07-08T00:00:00-04:00\",\"2020-07-09T00:00:00-04:00\",\"2020-07-10T00:00:00-04:00\",\"2020-07-13T00:00:00-04:00\",\"2020-07-14T00:00:00-04:00\",\"2020-07-15T00:00:00-04:00\",\"2020-07-16T00:00:00-04:00\",\"2020-07-17T00:00:00-04:00\",\"2020-07-20T00:00:00-04:00\",\"2020-07-21T00:00:00-04:00\",\"2020-07-22T00:00:00-04:00\",\"2020-07-23T00:00:00-04:00\",\"2020-07-24T00:00:00-04:00\",\"2020-07-27T00:00:00-04:00\",\"2020-07-28T00:00:00-04:00\",\"2020-07-29T00:00:00-04:00\",\"2020-07-30T00:00:00-04:00\",\"2020-07-31T00:00:00-04:00\",\"2020-08-03T00:00:00-04:00\",\"2020-08-04T00:00:00-04:00\",\"2020-08-05T00:00:00-04:00\",\"2020-08-06T00:00:00-04:00\",\"2020-08-07T00:00:00-04:00\",\"2020-08-10T00:00:00-04:00\",\"2020-08-11T00:00:00-04:00\",\"2020-08-12T00:00:00-04:00\",\"2020-08-13T00:00:00-04:00\",\"2020-08-14T00:00:00-04:00\",\"2020-08-17T00:00:00-04:00\",\"2020-08-18T00:00:00-04:00\",\"2020-08-19T00:00:00-04:00\",\"2020-08-20T00:00:00-04:00\",\"2020-08-21T00:00:00-04:00\",\"2020-08-24T00:00:00-04:00\",\"2020-08-25T00:00:00-04:00\",\"2020-08-26T00:00:00-04:00\",\"2020-08-27T00:00:00-04:00\",\"2020-08-28T00:00:00-04:00\",\"2020-08-31T00:00:00-04:00\",\"2020-09-01T00:00:00-04:00\",\"2020-09-02T00:00:00-04:00\",\"2020-09-03T00:00:00-04:00\",\"2020-09-04T00:00:00-04:00\",\"2020-09-08T00:00:00-04:00\",\"2020-09-09T00:00:00-04:00\",\"2020-09-10T00:00:00-04:00\",\"2020-09-11T00:00:00-04:00\",\"2020-09-14T00:00:00-04:00\",\"2020-09-15T00:00:00-04:00\",\"2020-09-16T00:00:00-04:00\",\"2020-09-17T00:00:00-04:00\",\"2020-09-18T00:00:00-04:00\",\"2020-09-21T00:00:00-04:00\",\"2020-09-22T00:00:00-04:00\",\"2020-09-23T00:00:00-04:00\",\"2020-09-24T00:00:00-04:00\",\"2020-09-25T00:00:00-04:00\",\"2020-09-28T00:00:00-04:00\",\"2020-09-29T00:00:00-04:00\",\"2020-09-30T00:00:00-04:00\",\"2020-10-01T00:00:00-04:00\",\"2020-10-02T00:00:00-04:00\",\"2020-10-05T00:00:00-04:00\",\"2020-10-06T00:00:00-04:00\",\"2020-10-07T00:00:00-04:00\",\"2020-10-08T00:00:00-04:00\",\"2020-10-09T00:00:00-04:00\",\"2020-10-12T00:00:00-04:00\",\"2020-10-13T00:00:00-04:00\",\"2020-10-14T00:00:00-04:00\",\"2020-10-15T00:00:00-04:00\",\"2020-10-16T00:00:00-04:00\",\"2020-10-19T00:00:00-04:00\",\"2020-10-20T00:00:00-04:00\",\"2020-10-21T00:00:00-04:00\",\"2020-10-22T00:00:00-04:00\",\"2020-10-23T00:00:00-04:00\",\"2020-10-26T00:00:00-04:00\",\"2020-10-27T00:00:00-04:00\",\"2020-10-28T00:00:00-04:00\",\"2020-10-29T00:00:00-04:00\",\"2020-10-30T00:00:00-04:00\",\"2020-11-02T00:00:00-05:00\",\"2020-11-03T00:00:00-05:00\",\"2020-11-04T00:00:00-05:00\",\"2020-11-05T00:00:00-05:00\",\"2020-11-06T00:00:00-05:00\",\"2020-11-09T00:00:00-05:00\",\"2020-11-10T00:00:00-05:00\",\"2020-11-11T00:00:00-05:00\",\"2020-11-12T00:00:00-05:00\",\"2020-11-13T00:00:00-05:00\",\"2020-11-16T00:00:00-05:00\",\"2020-11-17T00:00:00-05:00\",\"2020-11-18T00:00:00-05:00\",\"2020-11-19T00:00:00-05:00\",\"2020-11-20T00:00:00-05:00\",\"2020-11-23T00:00:00-05:00\",\"2020-11-24T00:00:00-05:00\",\"2020-11-25T00:00:00-05:00\",\"2020-11-27T00:00:00-05:00\",\"2020-11-30T00:00:00-05:00\",\"2020-12-01T00:00:00-05:00\",\"2020-12-02T00:00:00-05:00\",\"2020-12-03T00:00:00-05:00\",\"2020-12-04T00:00:00-05:00\",\"2020-12-07T00:00:00-05:00\",\"2020-12-08T00:00:00-05:00\",\"2020-12-09T00:00:00-05:00\",\"2020-12-10T00:00:00-05:00\",\"2020-12-11T00:00:00-05:00\",\"2020-12-14T00:00:00-05:00\",\"2020-12-15T00:00:00-05:00\",\"2020-12-16T00:00:00-05:00\",\"2020-12-17T00:00:00-05:00\",\"2020-12-18T00:00:00-05:00\",\"2020-12-21T00:00:00-05:00\",\"2020-12-22T00:00:00-05:00\",\"2020-12-23T00:00:00-05:00\",\"2020-12-24T00:00:00-05:00\",\"2020-12-28T00:00:00-05:00\",\"2020-12-29T00:00:00-05:00\",\"2020-12-30T00:00:00-05:00\",\"2020-12-31T00:00:00-05:00\",\"2021-01-04T00:00:00-05:00\",\"2021-01-05T00:00:00-05:00\",\"2021-01-06T00:00:00-05:00\",\"2021-01-07T00:00:00-05:00\",\"2021-01-08T00:00:00-05:00\",\"2021-01-11T00:00:00-05:00\",\"2021-01-12T00:00:00-05:00\",\"2021-01-13T00:00:00-05:00\",\"2021-01-14T00:00:00-05:00\",\"2021-01-15T00:00:00-05:00\",\"2021-01-19T00:00:00-05:00\",\"2021-01-20T00:00:00-05:00\",\"2021-01-21T00:00:00-05:00\",\"2021-01-22T00:00:00-05:00\",\"2021-01-25T00:00:00-05:00\",\"2021-01-26T00:00:00-05:00\",\"2021-01-27T00:00:00-05:00\",\"2021-01-28T00:00:00-05:00\",\"2021-01-29T00:00:00-05:00\",\"2021-02-01T00:00:00-05:00\",\"2021-02-02T00:00:00-05:00\",\"2021-02-03T00:00:00-05:00\",\"2021-02-04T00:00:00-05:00\",\"2021-02-05T00:00:00-05:00\",\"2021-02-08T00:00:00-05:00\",\"2021-02-09T00:00:00-05:00\",\"2021-02-10T00:00:00-05:00\",\"2021-02-11T00:00:00-05:00\",\"2021-02-12T00:00:00-05:00\",\"2021-02-16T00:00:00-05:00\",\"2021-02-17T00:00:00-05:00\",\"2021-02-18T00:00:00-05:00\",\"2021-02-19T00:00:00-05:00\",\"2021-02-22T00:00:00-05:00\",\"2021-02-23T00:00:00-05:00\",\"2021-02-24T00:00:00-05:00\",\"2021-02-25T00:00:00-05:00\",\"2021-02-26T00:00:00-05:00\",\"2021-03-01T00:00:00-05:00\",\"2021-03-02T00:00:00-05:00\",\"2021-03-03T00:00:00-05:00\",\"2021-03-04T00:00:00-05:00\",\"2021-03-05T00:00:00-05:00\",\"2021-03-08T00:00:00-05:00\",\"2021-03-09T00:00:00-05:00\",\"2021-03-10T00:00:00-05:00\",\"2021-03-11T00:00:00-05:00\",\"2021-03-12T00:00:00-05:00\",\"2021-03-15T00:00:00-04:00\",\"2021-03-16T00:00:00-04:00\",\"2021-03-17T00:00:00-04:00\",\"2021-03-18T00:00:00-04:00\",\"2021-03-19T00:00:00-04:00\",\"2021-03-22T00:00:00-04:00\",\"2021-03-23T00:00:00-04:00\",\"2021-03-24T00:00:00-04:00\",\"2021-03-25T00:00:00-04:00\",\"2021-03-26T00:00:00-04:00\",\"2021-03-29T00:00:00-04:00\",\"2021-03-30T00:00:00-04:00\",\"2021-03-31T00:00:00-04:00\",\"2021-04-01T00:00:00-04:00\",\"2021-04-05T00:00:00-04:00\",\"2021-04-06T00:00:00-04:00\",\"2021-04-07T00:00:00-04:00\",\"2021-04-08T00:00:00-04:00\",\"2021-04-09T00:00:00-04:00\",\"2021-04-12T00:00:00-04:00\",\"2021-04-13T00:00:00-04:00\",\"2021-04-14T00:00:00-04:00\",\"2021-04-15T00:00:00-04:00\",\"2021-04-16T00:00:00-04:00\",\"2021-04-19T00:00:00-04:00\",\"2021-04-20T00:00:00-04:00\",\"2021-04-21T00:00:00-04:00\",\"2021-04-22T00:00:00-04:00\",\"2021-04-23T00:00:00-04:00\",\"2021-04-26T00:00:00-04:00\",\"2021-04-27T00:00:00-04:00\",\"2021-04-28T00:00:00-04:00\",\"2021-04-29T00:00:00-04:00\",\"2021-04-30T00:00:00-04:00\",\"2021-05-03T00:00:00-04:00\",\"2021-05-04T00:00:00-04:00\",\"2021-05-05T00:00:00-04:00\",\"2021-05-06T00:00:00-04:00\",\"2021-05-07T00:00:00-04:00\",\"2021-05-10T00:00:00-04:00\",\"2021-05-11T00:00:00-04:00\",\"2021-05-12T00:00:00-04:00\",\"2021-05-13T00:00:00-04:00\",\"2021-05-14T00:00:00-04:00\",\"2021-05-17T00:00:00-04:00\",\"2021-05-18T00:00:00-04:00\",\"2021-05-19T00:00:00-04:00\",\"2021-05-20T00:00:00-04:00\",\"2021-05-21T00:00:00-04:00\",\"2021-05-24T00:00:00-04:00\",\"2021-05-25T00:00:00-04:00\",\"2021-05-26T00:00:00-04:00\",\"2021-05-27T00:00:00-04:00\",\"2021-05-28T00:00:00-04:00\",\"2021-06-01T00:00:00-04:00\",\"2021-06-02T00:00:00-04:00\",\"2021-06-03T00:00:00-04:00\",\"2021-06-04T00:00:00-04:00\",\"2021-06-07T00:00:00-04:00\",\"2021-06-08T00:00:00-04:00\",\"2021-06-09T00:00:00-04:00\",\"2021-06-10T00:00:00-04:00\",\"2021-06-11T00:00:00-04:00\",\"2021-06-14T00:00:00-04:00\",\"2021-06-15T00:00:00-04:00\",\"2021-06-16T00:00:00-04:00\",\"2021-06-17T00:00:00-04:00\",\"2021-06-18T00:00:00-04:00\",\"2021-06-21T00:00:00-04:00\",\"2021-06-22T00:00:00-04:00\",\"2021-06-23T00:00:00-04:00\",\"2021-06-24T00:00:00-04:00\",\"2021-06-25T00:00:00-04:00\",\"2021-06-28T00:00:00-04:00\",\"2021-06-29T00:00:00-04:00\",\"2021-06-30T00:00:00-04:00\",\"2021-07-01T00:00:00-04:00\",\"2021-07-02T00:00:00-04:00\",\"2021-07-06T00:00:00-04:00\",\"2021-07-07T00:00:00-04:00\",\"2021-07-08T00:00:00-04:00\",\"2021-07-09T00:00:00-04:00\",\"2021-07-12T00:00:00-04:00\",\"2021-07-13T00:00:00-04:00\",\"2021-07-14T00:00:00-04:00\",\"2021-07-15T00:00:00-04:00\",\"2021-07-16T00:00:00-04:00\",\"2021-07-19T00:00:00-04:00\",\"2021-07-20T00:00:00-04:00\",\"2021-07-21T00:00:00-04:00\",\"2021-07-22T00:00:00-04:00\",\"2021-07-23T00:00:00-04:00\",\"2021-07-26T00:00:00-04:00\",\"2021-07-27T00:00:00-04:00\",\"2021-07-28T00:00:00-04:00\",\"2021-07-29T00:00:00-04:00\",\"2021-07-30T00:00:00-04:00\",\"2021-08-02T00:00:00-04:00\",\"2021-08-03T00:00:00-04:00\",\"2021-08-04T00:00:00-04:00\",\"2021-08-05T00:00:00-04:00\",\"2021-08-06T00:00:00-04:00\",\"2021-08-09T00:00:00-04:00\",\"2021-08-10T00:00:00-04:00\",\"2021-08-11T00:00:00-04:00\",\"2021-08-12T00:00:00-04:00\",\"2021-08-13T00:00:00-04:00\",\"2021-08-16T00:00:00-04:00\",\"2021-08-17T00:00:00-04:00\",\"2021-08-18T00:00:00-04:00\",\"2021-08-19T00:00:00-04:00\",\"2021-08-20T00:00:00-04:00\",\"2021-08-23T00:00:00-04:00\",\"2021-08-24T00:00:00-04:00\",\"2021-08-25T00:00:00-04:00\",\"2021-08-26T00:00:00-04:00\",\"2021-08-27T00:00:00-04:00\",\"2021-08-30T00:00:00-04:00\",\"2021-08-31T00:00:00-04:00\",\"2021-09-01T00:00:00-04:00\",\"2021-09-02T00:00:00-04:00\",\"2021-09-03T00:00:00-04:00\",\"2021-09-07T00:00:00-04:00\",\"2021-09-08T00:00:00-04:00\",\"2021-09-09T00:00:00-04:00\",\"2021-09-10T00:00:00-04:00\",\"2021-09-13T00:00:00-04:00\",\"2021-09-14T00:00:00-04:00\",\"2021-09-15T00:00:00-04:00\",\"2021-09-16T00:00:00-04:00\",\"2021-09-17T00:00:00-04:00\",\"2021-09-20T00:00:00-04:00\",\"2021-09-21T00:00:00-04:00\",\"2021-09-22T00:00:00-04:00\",\"2021-09-23T00:00:00-04:00\",\"2021-09-24T00:00:00-04:00\",\"2021-09-27T00:00:00-04:00\",\"2021-09-28T00:00:00-04:00\",\"2021-09-29T00:00:00-04:00\",\"2021-09-30T00:00:00-04:00\",\"2021-10-01T00:00:00-04:00\",\"2021-10-04T00:00:00-04:00\",\"2021-10-05T00:00:00-04:00\",\"2021-10-06T00:00:00-04:00\",\"2021-10-07T00:00:00-04:00\",\"2021-10-08T00:00:00-04:00\",\"2021-10-11T00:00:00-04:00\",\"2021-10-12T00:00:00-04:00\",\"2021-10-13T00:00:00-04:00\",\"2021-10-14T00:00:00-04:00\",\"2021-10-15T00:00:00-04:00\",\"2021-10-18T00:00:00-04:00\",\"2021-10-19T00:00:00-04:00\",\"2021-10-20T00:00:00-04:00\",\"2021-10-21T00:00:00-04:00\",\"2021-10-22T00:00:00-04:00\",\"2021-10-25T00:00:00-04:00\",\"2021-10-26T00:00:00-04:00\",\"2021-10-27T00:00:00-04:00\",\"2021-10-28T00:00:00-04:00\",\"2021-10-29T00:00:00-04:00\",\"2021-11-01T00:00:00-04:00\",\"2021-11-02T00:00:00-04:00\",\"2021-11-03T00:00:00-04:00\",\"2021-11-04T00:00:00-04:00\",\"2021-11-05T00:00:00-04:00\",\"2021-11-08T00:00:00-05:00\",\"2021-11-09T00:00:00-05:00\",\"2021-11-10T00:00:00-05:00\",\"2021-11-11T00:00:00-05:00\",\"2021-11-12T00:00:00-05:00\",\"2021-11-15T00:00:00-05:00\",\"2021-11-16T00:00:00-05:00\",\"2021-11-17T00:00:00-05:00\",\"2021-11-18T00:00:00-05:00\",\"2021-11-19T00:00:00-05:00\",\"2021-11-22T00:00:00-05:00\",\"2021-11-23T00:00:00-05:00\",\"2021-11-24T00:00:00-05:00\",\"2021-11-26T00:00:00-05:00\",\"2021-11-29T00:00:00-05:00\",\"2021-11-30T00:00:00-05:00\",\"2021-12-01T00:00:00-05:00\",\"2021-12-02T00:00:00-05:00\",\"2021-12-03T00:00:00-05:00\",\"2021-12-06T00:00:00-05:00\",\"2021-12-07T00:00:00-05:00\",\"2021-12-08T00:00:00-05:00\",\"2021-12-09T00:00:00-05:00\",\"2021-12-10T00:00:00-05:00\",\"2021-12-13T00:00:00-05:00\",\"2021-12-14T00:00:00-05:00\",\"2021-12-15T00:00:00-05:00\",\"2021-12-16T00:00:00-05:00\",\"2021-12-17T00:00:00-05:00\",\"2021-12-20T00:00:00-05:00\",\"2021-12-21T00:00:00-05:00\",\"2021-12-22T00:00:00-05:00\",\"2021-12-23T00:00:00-05:00\",\"2021-12-27T00:00:00-05:00\",\"2021-12-28T00:00:00-05:00\",\"2021-12-29T00:00:00-05:00\",\"2021-12-30T00:00:00-05:00\",\"2021-12-31T00:00:00-05:00\",\"2022-01-03T00:00:00-05:00\",\"2022-01-04T00:00:00-05:00\",\"2022-01-05T00:00:00-05:00\",\"2022-01-06T00:00:00-05:00\",\"2022-01-07T00:00:00-05:00\",\"2022-01-10T00:00:00-05:00\",\"2022-01-11T00:00:00-05:00\",\"2022-01-12T00:00:00-05:00\",\"2022-01-13T00:00:00-05:00\",\"2022-01-14T00:00:00-05:00\",\"2022-01-18T00:00:00-05:00\",\"2022-01-19T00:00:00-05:00\",\"2022-01-20T00:00:00-05:00\",\"2022-01-21T00:00:00-05:00\",\"2022-01-24T00:00:00-05:00\",\"2022-01-25T00:00:00-05:00\",\"2022-01-26T00:00:00-05:00\",\"2022-01-27T00:00:00-05:00\",\"2022-01-28T00:00:00-05:00\",\"2022-01-31T00:00:00-05:00\",\"2022-02-01T00:00:00-05:00\",\"2022-02-02T00:00:00-05:00\",\"2022-02-03T00:00:00-05:00\",\"2022-02-04T00:00:00-05:00\",\"2022-02-07T00:00:00-05:00\",\"2022-02-08T00:00:00-05:00\",\"2022-02-09T00:00:00-05:00\",\"2022-02-10T00:00:00-05:00\",\"2022-02-11T00:00:00-05:00\",\"2022-02-14T00:00:00-05:00\",\"2022-02-15T00:00:00-05:00\",\"2022-02-16T00:00:00-05:00\",\"2022-02-17T00:00:00-05:00\",\"2022-02-18T00:00:00-05:00\",\"2022-02-22T00:00:00-05:00\",\"2022-02-23T00:00:00-05:00\",\"2022-02-24T00:00:00-05:00\",\"2022-02-25T00:00:00-05:00\",\"2022-02-28T00:00:00-05:00\",\"2022-03-01T00:00:00-05:00\",\"2022-03-02T00:00:00-05:00\",\"2022-03-03T00:00:00-05:00\",\"2022-03-04T00:00:00-05:00\",\"2022-03-07T00:00:00-05:00\",\"2022-03-08T00:00:00-05:00\",\"2022-03-09T00:00:00-05:00\",\"2022-03-10T00:00:00-05:00\",\"2022-03-11T00:00:00-05:00\",\"2022-03-14T00:00:00-04:00\",\"2022-03-15T00:00:00-04:00\",\"2022-03-16T00:00:00-04:00\",\"2022-03-17T00:00:00-04:00\",\"2022-03-18T00:00:00-04:00\",\"2022-03-21T00:00:00-04:00\",\"2022-03-22T00:00:00-04:00\",\"2022-03-23T00:00:00-04:00\",\"2022-03-24T00:00:00-04:00\",\"2022-03-25T00:00:00-04:00\",\"2022-03-28T00:00:00-04:00\",\"2022-03-29T00:00:00-04:00\",\"2022-03-30T00:00:00-04:00\",\"2022-03-31T00:00:00-04:00\",\"2022-04-01T00:00:00-04:00\",\"2022-04-04T00:00:00-04:00\",\"2022-04-05T00:00:00-04:00\",\"2022-04-06T00:00:00-04:00\",\"2022-04-07T00:00:00-04:00\",\"2022-04-08T00:00:00-04:00\",\"2022-04-11T00:00:00-04:00\",\"2022-04-12T00:00:00-04:00\",\"2022-04-13T00:00:00-04:00\",\"2022-04-14T00:00:00-04:00\",\"2022-04-18T00:00:00-04:00\",\"2022-04-19T00:00:00-04:00\",\"2022-04-20T00:00:00-04:00\",\"2022-04-21T00:00:00-04:00\",\"2022-04-22T00:00:00-04:00\",\"2022-04-25T00:00:00-04:00\",\"2022-04-26T00:00:00-04:00\",\"2022-04-27T00:00:00-04:00\",\"2022-04-28T00:00:00-04:00\",\"2022-04-29T00:00:00-04:00\",\"2022-05-02T00:00:00-04:00\",\"2022-05-03T00:00:00-04:00\",\"2022-05-04T00:00:00-04:00\",\"2022-05-05T00:00:00-04:00\",\"2022-05-06T00:00:00-04:00\",\"2022-05-09T00:00:00-04:00\",\"2022-05-10T00:00:00-04:00\",\"2022-05-11T00:00:00-04:00\",\"2022-05-12T00:00:00-04:00\",\"2022-05-13T00:00:00-04:00\",\"2022-05-16T00:00:00-04:00\",\"2022-05-17T00:00:00-04:00\",\"2022-05-18T00:00:00-04:00\",\"2022-05-19T00:00:00-04:00\",\"2022-05-20T00:00:00-04:00\",\"2022-05-23T00:00:00-04:00\",\"2022-05-24T00:00:00-04:00\",\"2022-05-25T00:00:00-04:00\",\"2022-05-26T00:00:00-04:00\",\"2022-05-27T00:00:00-04:00\",\"2022-05-31T00:00:00-04:00\",\"2022-06-01T00:00:00-04:00\",\"2022-06-02T00:00:00-04:00\",\"2022-06-03T00:00:00-04:00\",\"2022-06-06T00:00:00-04:00\",\"2022-06-07T00:00:00-04:00\",\"2022-06-08T00:00:00-04:00\",\"2022-06-09T00:00:00-04:00\",\"2022-06-10T00:00:00-04:00\",\"2022-06-13T00:00:00-04:00\",\"2022-06-14T00:00:00-04:00\",\"2022-06-15T00:00:00-04:00\",\"2022-06-16T00:00:00-04:00\",\"2022-06-17T00:00:00-04:00\",\"2022-06-21T00:00:00-04:00\",\"2022-06-22T00:00:00-04:00\",\"2022-06-23T00:00:00-04:00\",\"2022-06-24T00:00:00-04:00\",\"2022-06-27T00:00:00-04:00\",\"2022-06-28T00:00:00-04:00\",\"2022-06-29T00:00:00-04:00\",\"2022-06-30T00:00:00-04:00\",\"2022-07-01T00:00:00-04:00\",\"2022-07-05T00:00:00-04:00\",\"2022-07-06T00:00:00-04:00\",\"2022-07-07T00:00:00-04:00\",\"2022-07-08T00:00:00-04:00\",\"2022-07-11T00:00:00-04:00\",\"2022-07-12T00:00:00-04:00\",\"2022-07-13T00:00:00-04:00\",\"2022-07-14T00:00:00-04:00\",\"2022-07-15T00:00:00-04:00\",\"2022-07-18T00:00:00-04:00\",\"2022-07-19T00:00:00-04:00\",\"2022-07-20T00:00:00-04:00\",\"2022-07-21T00:00:00-04:00\",\"2022-07-22T00:00:00-04:00\",\"2022-07-25T00:00:00-04:00\",\"2022-07-26T00:00:00-04:00\",\"2022-07-27T00:00:00-04:00\",\"2022-07-28T00:00:00-04:00\",\"2022-07-29T00:00:00-04:00\",\"2022-08-01T00:00:00-04:00\",\"2022-08-02T00:00:00-04:00\",\"2022-08-03T00:00:00-04:00\",\"2022-08-04T00:00:00-04:00\",\"2022-08-05T00:00:00-04:00\",\"2022-08-08T00:00:00-04:00\",\"2022-08-09T00:00:00-04:00\",\"2022-08-10T00:00:00-04:00\",\"2022-08-11T00:00:00-04:00\",\"2022-08-12T00:00:00-04:00\",\"2022-08-15T00:00:00-04:00\",\"2022-08-16T00:00:00-04:00\",\"2022-08-17T00:00:00-04:00\",\"2022-08-18T00:00:00-04:00\",\"2022-08-19T00:00:00-04:00\",\"2022-08-22T00:00:00-04:00\",\"2022-08-23T00:00:00-04:00\",\"2022-08-24T00:00:00-04:00\",\"2022-08-25T00:00:00-04:00\",\"2022-08-26T00:00:00-04:00\",\"2022-08-29T00:00:00-04:00\",\"2022-08-30T00:00:00-04:00\",\"2022-08-31T00:00:00-04:00\",\"2022-09-01T00:00:00-04:00\",\"2022-09-02T00:00:00-04:00\",\"2022-09-06T00:00:00-04:00\",\"2022-09-07T00:00:00-04:00\",\"2022-09-08T00:00:00-04:00\",\"2022-09-09T00:00:00-04:00\",\"2022-09-12T00:00:00-04:00\",\"2022-09-13T00:00:00-04:00\",\"2022-09-14T00:00:00-04:00\",\"2022-09-15T00:00:00-04:00\",\"2022-09-16T00:00:00-04:00\",\"2022-09-19T00:00:00-04:00\",\"2022-09-20T00:00:00-04:00\",\"2022-09-21T00:00:00-04:00\",\"2022-09-22T00:00:00-04:00\",\"2022-09-23T00:00:00-04:00\",\"2022-09-26T00:00:00-04:00\",\"2022-09-27T00:00:00-04:00\",\"2022-09-28T00:00:00-04:00\",\"2022-09-29T00:00:00-04:00\",\"2022-09-30T00:00:00-04:00\",\"2022-10-03T00:00:00-04:00\",\"2022-10-04T00:00:00-04:00\",\"2022-10-05T00:00:00-04:00\",\"2022-10-06T00:00:00-04:00\",\"2022-10-07T00:00:00-04:00\",\"2022-10-10T00:00:00-04:00\",\"2022-10-11T00:00:00-04:00\",\"2022-10-12T00:00:00-04:00\",\"2022-10-13T00:00:00-04:00\",\"2022-10-14T00:00:00-04:00\"],\"y\":[73.3840560913086,73.32553100585938,73.14832305908203,72.87277221679688,72.91716766357422,72.94855499267578,72.92027282714844,72.89974212646484,72.936767578125,73.01077270507812,72.97809600830078,72.82302856445312,72.65402221679688,72.54500579833984,72.32705688476562,72.23560333251953,72.44752502441406,72.54861450195312,72.74869537353516,72.86112976074219,72.90777587890625,72.99989318847656,72.88677978515625,72.83818817138672,72.68253326416016,72.60570526123047,72.68013000488281,73.10845184326172,74.0826416015625,74.83023071289062,75.5722427368164,76.53558349609375,77.64737701416016,78.77070617675781,79.42389678955078,79.64571380615234,79.78860473632812,79.56647491455078,79.20899963378906,78.78256225585938,78.21527862548828,77.65690612792969,77.1036605834961,76.56574249267578,75.9839859008789,75.3429183959961,74.78187561035156,74.12694549560547,73.52640533447266,73.00592803955078,72.52037811279297,72.13634490966797,72.1349105834961,72.80787658691406,73.0747299194336,73.34004211425781,73.37379455566406,73.33426666259766,73.23207092285156,73.00218963623047,72.88629150390625,72.95123291015625,72.79132080078125,72.49451446533203,72.34320831298828,72.39742279052734,72.4741439819336,72.37984466552734,72.11041259765625,71.78257751464844,71.57990264892578,71.56993865966797,71.47834014892578,71.38099670410156,71.25867462158203,71.20254516601562,72.21771240234375,73.13111877441406,73.63099670410156,74.44583129882812,75.97421264648438,76.69027709960938,77.38203430175781,77.95525360107422,78.5611343383789,79.08113861083984,79.2879409790039,79.29277801513672,79.32762145996094,79.08560943603516,78.84143829345703,78.64903259277344,78.48365020751953,78.16321563720703,78.70775604248047,78.88391876220703,79.41183471679688,79.37007141113281,79.15520477294922,79.01266479492188,78.50920104980469,77.9793472290039,77.4438705444336,77.02669525146484,76.6523666381836,76.22232818603516,75.81761932373047,75.3568344116211,75.27433013916016,75.1973648071289,75.04042053222656,74.67853546142578,74.30289459228516,74.02010345458984,73.66094970703125,73.69042205810547,74.96054077148438,75.81932830810547,76.27442932128906,78.37569427490234,80.25895690917969,81.54348754882812,82.22740173339844,82.57394409179688,82.43255615234375,82.2216567993164,81.660400390625,81.8586196899414,82.095703125,82.16390228271484,81.67545318603516,80.97755432128906,80.10176849365234,79.85491180419922,79.3311996459961,78.77371978759766,78.21133422851562,77.53553009033203,77.03569793701172,76.5286865234375,76.03605651855469,76.63236999511719,76.99214935302734,76.99058532714844,77.00752258300781,76.716064453125,76.4015884399414,76.05342102050781,76.34706115722656,76.27497863769531,76.10749053955078,75.6811294555664,75.20930480957031,74.71308898925781,74.50653839111328,74.41600799560547,76.0881576538086,77.47854614257812,78.14505767822266,78.28648376464844,78.31076049804688,78.75825500488281,78.9068374633789,78.93838500976562,78.94829559326172,78.55035400390625,78.02745056152344,77.37762451171875,77.00346374511719,76.61767578125,75.99463653564453,75.63085174560547,75.06297302246094,75.5680923461914,76.40283203125,77.55571746826172,79.33191680908203,80.31722259521484,80.69882202148438,80.7503433227539,80.64456939697266,80.44652557373047,80.16790008544922,79.77789306640625,79.42720794677734,79.07451629638672,78.57544708251953,78.12689971923828,77.56495666503906,77.0390625,76.54513549804688,76.29569244384766,76.29849243164062,76.22935485839844,75.92057800292969,75.49217987060547,75.3868637084961,75.23269653320312,74.9463119506836,74.54022979736328,74.32588958740234,74.38924407958984,74.5607681274414,74.74118041992188,75.20228576660156,75.35541534423828,75.4394760131836,75.38459014892578,75.47572326660156,75.49776458740234,75.54878234863281,75.5169906616211,75.53812408447266,75.56193542480469,75.5324478149414,75.2244644165039,75.16309356689453,75.13118743896484,75.29618072509766,75.23259735107422,75.4510269165039,75.34326171875,75.27808380126953,75.26827239990234,75.22064971923828,75.06884765625,74.96964263916016,74.80628204345703,74.59020233154297,74.47105407714844,74.28436279296875,74.02484893798828,75.09674835205078,75.5707778930664,75.99653625488281,76.06417083740234,75.97608947753906,75.75704956054688,75.34905242919922,75.41900634765625,75.66715240478516,75.62467193603516,75.54293823242188,75.42414855957031,75.1430892944336,74.89778900146484,74.6044921875,74.4388198852539,74.1767807006836,73.87338256835938,73.55567169189453,73.17552185058594,72.79125213623047,72.64379119873047,72.65292358398438,72.50980377197266,72.44232940673828,72.53765106201172,72.93040466308594,73.37095642089844,74.65841674804688,75.6690673828125,76.7461929321289,77.17670440673828,77.30323028564453,77.29907989501953,77.11311340332031,76.83775329589844,76.48982238769531,76.1405029296875,76.30963134765625,76.23924255371094,76.27222442626953,76.00658416748047,75.60839080810547,75.33745574951172,75.19010925292969,74.90234375,74.73995208740234,74.47144317626953,74.1480484008789,74.00946044921875,73.70938110351562,73.60295104980469,74.61909484863281,75.14466857910156,75.43395233154297,75.31156921386719,75.14907836914062,75.09954833984375,74.82433319091797,74.74954986572266,74.50523376464844,74.09777069091797,73.71289825439453,73.77879333496094,73.87261962890625,73.98019409179688,74.88919830322266,75.97139739990234,76.7497329711914,76.91246032714844,76.93878936767578,77.45529174804688,78.47357177734375,78.68306732177734,78.64191436767578,78.16468811035156,77.5692367553711,76.92857360839844,76.50444030761719,75.91007232666016,75.32183074951172,74.75041198730469,74.9168472290039,75.45658874511719,75.935302734375,76.48912048339844,77.64387512207031,78.00432586669922,77.90413665771484,77.7400131225586,77.20061492919922,76.71492767333984,76.39952087402344,76.25016784667969,76.1523666381836,76.60914611816406,76.89920806884766,76.82987976074219,76.73612976074219,76.83934020996094,76.49437713623047,76.02198791503906,75.8804702758789,75.81180572509766,75.3378677368164,75.19586181640625,74.8481674194336,74.31529235839844,73.7562026977539,73.36280822753906,72.86797332763672,72.43651580810547,72.15220642089844,71.99425506591797,72.27733612060547,72.15300750732422,71.89209747314453,71.60511016845703,71.53585815429688,71.43019104003906,71.48826599121094,71.74280548095703,71.8463134765625,72.04857635498047,71.87810516357422,71.80902862548828,71.70968627929688,71.46932983398438,71.67926025390625,72.69859313964844,73.0131607055664,73.18807220458984,73.23323822021484,73.28082275390625,73.18883514404297,72.90302276611328,72.62177276611328,72.21464538574219,71.74839782714844,71.33230590820312,70.82035064697266,70.33998107910156,69.92931365966797,69.85115051269531,69.75894927978516,69.49818420410156,69.2498550415039,68.9339370727539,68.86592864990234,68.77227783203125,68.80096435546875,68.6323013305664,68.45449829101562,68.10877990722656,67.9063491821289,68.04932403564453,68.00126647949219,67.94864654541016,68.04913330078125,67.93950653076172,67.8391342163086,67.72686767578125,68.0776138305664,68.41073608398438,68.52213287353516,68.52513122558594,68.42529296875,68.30467224121094,68.21976470947266,68.23587799072266,68.13299560546875,68.5818862915039,68.92069244384766,69.49845886230469,70.05712127685547,70.20402526855469,70.28003692626953,70.25099182128906,70.83112335205078,71.0001449584961,71.12554931640625,71.26793670654297,71.27207946777344,71.19779968261719,71.2593765258789,71.50450897216797,71.50938415527344,71.4857406616211,71.31566619873047,71.15430450439453,70.91305541992188,70.642578125,70.4090576171875,72.16533660888672,74.46796417236328,76.18734741210938,77.29664611816406,77.9327163696289,77.99102783203125,77.89202880859375,77.84899139404297,77.62806701660156,77.46896362304688,77.79956817626953,77.64236450195312,77.71987915039062,77.64727020263672,77.62191009521484,77.45935821533203,77.15304565429688,76.74420166015625,76.61180114746094,76.43505859375,76.23966217041016,76.77217102050781,77.15898895263672,77.20719146728516,77.00453186035156,76.4887466430664,76.15776824951172,75.89102172851562,75.56484985351562,75.10713195800781,74.94584655761719,74.97498321533203,75.04203796386719,75.03575897216797,75.14838409423828,75.19769287109375,76.17967224121094,76.63580322265625,77.4760971069336,78.67564392089844,79.70033264160156,80.60833740234375,81.04717254638672,81.54771423339844,81.90758514404297,82.33381652832031,82.57606506347656,82.74515533447266,83.51166534423828,83.84901428222656,84.72267150878906,86.71320343017578,88.70375061035156,89.56739044189453,91.28572845458984,93.25543975830078,94.32247161865234,95.42292785644531,95.78084564208984,96.3176040649414,97.82334899902344,98.66007232666016,98.94112396240234,98.93250274658203,98.66952514648438,98.77378845214844,99.9305419921875,100.40088653564453,103.43305969238281,108.29763793945312,112.16988372802734,115.3185806274414,116.51007843017578,117.6121826171875,117.46771240234375,116.85745239257812,117.10961151123047,116.68252563476562,116.40424346923828,116.95462036132812,117.03276824951172,116.84941101074219,116.37486267089844,115.82392883300781,114.9650650024414,114.45854187011719,113.98064422607422,113.56689453125,113.62675476074219,113.0547103881836,112.02098846435547,110.91011047363281,109.72264099121094,108.6476058959961,107.45402526855469,106.43844604492188,105.76458740234375,104.7231674194336,103.90000915527344,102.96565246582031,102.72241973876953,102.5361099243164,101.69392395019531,101.48597717285156,101.437255859375,101.11396789550781,100.52973937988281,99.66609191894531,99.20122528076172,98.38914489746094,97.92930603027344,97.84342193603516,97.5032958984375,97.4802017211914,97.1520004272461,96.93489837646484,97.65420532226562,99.3358383178711,100.84171295166016,102.19358825683594,102.91991424560547,103.52806854248047,104.16741943359375,104.47040557861328,104.46810913085938,104.41244506835938,105.09512329101562,105.37933349609375,105.78340911865234,106.98811340332031,108.33837890625,109.0430908203125,109.41590118408203,109.2540283203125,108.93153381347656,108.93900299072266,108.98094177246094,109.00174713134766,109.18769836425781,109.07438659667969,108.63976287841797,108.26127624511719,107.68363952636719,106.9256820678711,106.55199432373047,106.0546875,105.46422576904297,105.12699127197266,104.47991180419922,104.23100280761719,104.5576400756836,104.8824691772461,104.8700942993164,104.77880859375,104.63192749023438,105.16293334960938,105.5790023803711,106.82117462158203,107.80638122558594,108.70584869384766,109.665771484375,110.38900756835938,110.7402572631836,111.00508880615234,111.07971954345703,110.8798599243164,110.60063171386719,110.44180297851562,110.27828979492188,110.0020523071289,109.89994049072266,110.66661834716797,111.50407409667969,112.98387145996094,115.38922119140625,118.06382751464844,120.28144073486328,122.08833312988281,125.00481414794922,128.87094116210938,131.8441162109375,134.10984802246094,135.6652374267578,136.49034118652344,138.0112762451172,139.12002563476562,140.02264404296875,141.19195556640625,141.67140197753906,142.15689086914062,142.29454040527344,141.93255615234375,141.22898864746094,140.5264434814453,139.7692413330078,138.97998046875,137.95068359375,136.9958953857422,136.15908813476562,135.178955078125,134.17015075683594,134.8050994873047,135.9387969970703,136.8097381591797,138.86346435546875,140.97706604003906,142.72967529296875,145.34716796875,148.22586059570312,150.8324737548828,152.59405517578125,154.67701721191406,157.5909881591797,160.1733856201172,163.78997802734375,166.58079528808594,168.65882873535156,169.59059143066406,170.63441467285156,170.0247039794922,169.21400451660156,168.36224365234375,167.12913513183594,166.95082092285156,167.66749572753906,168.1108856201172,168.32089233398438,168.94833374023438,170.0669403076172,170.41659545898438,170.08087158203125,169.74429321289062,169.27450561523438,168.69932556152344,168.0539093017578,167.5565948486328,167.43650817871094,167.13552856445312,166.69317626953125,166.06837463378906,165.54075622558594,165.01243591308594,164.5037384033203,164.28036499023438,164.12405395507812,164.47109985351562,164.5258026123047,164.38075256347656,164.08740234375,163.54769897460938,162.97134399414062,162.56033325195312,162.02976989746094,161.422607421875,160.830322265625,159.9597930908203,159.12411499023438,158.2279052734375,157.41586303710938,157.13890075683594,156.90968322753906,157.02259826660156,156.9808349609375,156.98252868652344,156.76670837402344,156.4625244140625,156.06793212890625,155.60183715820312,155.2260284423828,155.95904541015625,157.94837951660156,160.19619750976562,161.91917419433594,164.28213500976562,167.2327423095703,170.39639282226562,173.48992919921875,176.42367553710938,179.12408447265625,181.3870391845703,183.70513916015625,185.70867919921875,188.5547332763672,191.58197021484375,193.83404541015625,196.14266967773438,197.66259765625,199.43951416015625,200.8345184326172,201.793701171875,203.29258728027344,207.66749572753906,209.52931213378906,210.67657470703125,211.27145385742188,211.65223693847656,211.9780731201172,212.09661865234375,212.85818481445312,213.94114685058594,215.44415283203125,216.81605529785156,218.61212158203125,221.47105407714844,225.76931762695312,228.8265380859375,232.0289764404297,234.87025451660156,237.2165985107422,239.019775390625,240.62962341308594,242.06919860839844,243.1338653564453,244.00576782226562,245.5287322998047,246.82608032226562,247.75979614257812,248.06695556640625,247.63626098632812,247.61895751953125,248.08514404296875,248.22312927246094,248.1930389404297,248.11843872070312,248.30137634277344,248.20677185058594,247.6486053466797,246.94668579101562,246.2997589111328,245.30038452148438,244.3912353515625,243.24732971191406,242.0396728515625,240.0621337890625,238.22198486328125,236.79141235351562,234.56153869628906,232.29998779296875,230.6478729248047,228.6324462890625,226.275634765625,223.9884490966797,221.8341064453125,218.80859375,217.86810302734375,217.17538452148438,216.92796325683594,216.74459838867188,216.84335327148438,216.56150817871094,216.79844665527344,216.21524047851562,215.70896911621094,215.4152374267578,214.91238403320312,213.92105102539062,213.12901306152344,211.95677185058594,210.58201599121094,209.7808380126953,209.57752990722656,209.47561645507812,210.05465698242188,210.60772705078125,210.8179931640625,211.14981079101562,211.30032348632812,211.9314422607422,213.8226318359375,215.44871520996094,216.8663330078125,218.17489624023438,219.09957885742188,219.87586975097656,220.86557006835938,221.4625244140625,221.97869873046875,222.58226013183594,222.56703186035156,222.14939880371094,221.4121856689453,221.29925537109375,220.67259216308594,219.868408203125,218.89169311523438,217.868408203125,216.9710693359375,215.53773498535156,214.12290954589844,212.1620635986328,210.05191040039062,208.1565704345703,206.16783142089844,204.38665771484375,202.5711212158203,201.18199157714844,199.8197479248047,199.15000915527344,198.5850372314453,198.4053955078125,198.5209503173828,198.6066436767578,198.65310668945312,198.46112060546875,197.79574584960938,197.42591857910156,197.1654510498047,196.97125244140625,196.60646057128906,196.52676391601562,196.39527893066406,196.47055053710938,196.24111938476562,196.13133239746094,196.2532501220703,196.5558624267578,196.86460876464844,197.14694213867188,198.1311492919922,199.8014678955078,201.25161743164062,202.77774047851562,204.01661682128906,205.11557006835938,206.04554748535156,206.97616577148438,207.44265747070312,207.4530487060547,207.5038604736328,207.4877471923828,208.01620483398438,208.24615478515625,208.1951446533203,208.0157928466797,207.6300048828125,207.2982177734375,207.12692260742188,206.8758087158203,206.54867553710938,206.11962890625,206.0843505859375,206.01766967773438,205.79913330078125,206.27001953125,207.00714111328125,208.23751831054688,209.37057495117188,210.4149169921875,211.3813934326172,212.03466796875,212.78724670410156,213.38018798828125,213.8075714111328,214.4914093017578,215.0633544921875,215.1527557373047,214.81463623046875,214.7013397216797,214.2376251220703,213.84127807617188,213.94985961914062,214.08364868164062,214.28204345703125,214.34523010253906,214.57839965820312,215.20404052734375,215.994873046875,216.671630859375,217.27047729492188,217.8651885986328,218.7952880859375,219.7248992919922,220.55979919433594,221.03073120117188,221.61427307128906,222.10076904296875,222.6649627685547,223.18141174316406,223.8940887451172,224.07684326171875,224.18992614746094,224.4158935546875,224.59678649902344,225.21896362304688,226.2596435546875,227.09080505371094,227.87860107421875,228.4646453857422,228.94248962402344,229.6275177001953,230.11720275878906,230.51174926757812,231.07028198242188,231.4425048828125,231.82273864746094,232.49026489257812,233.14149475097656,233.84544372558594,235.00440979003906,236.69798278808594,238.2368621826172,239.67164611816406,241.6819610595703,243.80535888671875,248.23988342285156,252.76792907714844,257.1955261230469,261.8225402832031,266.766845703125,273.24932861328125,278.8372497558594,284.5058898925781,289.8399353027344,294.4935302734375,297.85418701171875,298.83392333984375,299.5939636230469,299.6006164550781,298.84521484375,297.6511535644531,296.840576171875,296.631591796875,296.5196228027344,297.10333251953125,298.2591857910156,298.8440246582031,299.2933349609375,298.9847412109375,299.45855712890625,300.190673828125,300.1414489746094,299.83837890625,298.4803161621094,296.8329162597656,295.6568298339844,294.77081298828125,293.0616760253906,291.56207275390625,289.4688720703125,287.2557067871094,285.4107666015625,283.0008850097656,280.8623962402344,278.1961975097656,276.29119873046875,275.8419494628906,276.68743896484375,278.2215270996094,279.8370666503906,281.45037841796875,282.7289123535156,283.6326904296875,286.8657531738281,289.49456787109375,290.9767761230469,291.8309020996094,291.7920227050781,291.9899597167969,292.0716552734375,292.7994079589844,292.4764404296875,292.18756103515625,291.5260009765625,290.3022766113281,288.9971618652344,287.032958984375,285.0521545410156,282.6850280761719,280.74407958984375,277.4800720214844,274.4424133300781,272.84490966796875,271.38824462890625,269.7533264160156,268.0939025878906,267.0665283203125,265.9339294433594,265.10308837890625,264.57489013671875,263.8189697265625,262.4872131347656,261.3437805175781,260.962646484375,260.741943359375,259.8888244628906,258.78466796875,257.19219970703125,254.722900390625,252.97445678710938,251.2772674560547,250.7998504638672,250.41140747070312,250.4435272216797,249.91497802734375,249.39035034179688,248.3719024658203,247.67758178710938,247.51145935058594,247.12681579589844,246.1376953125,244.6531524658203,243.68112182617188,243.50755310058594,243.95236206054688,245.27574157714844,246.95889282226562,249.9888916015625,253.30726623535156,256.6112976074219,259.6624755859375,263.9295349121094,268.10296630859375,271.8860778808594,275.02130126953125,277.8833312988281,281.46246337890625,284.0061340332031,285.5223083496094,286.7701416015625,287.1268615722656,286.4170837402344,285.62005615234375,285.1903381347656,284.2157897949219,283.46514892578125,283.12286376953125,282.1824645996094,281.8863220214844,281.49530029296875,281.035888671875,279.0224609375,276.6853942871094,274.4502258300781,272.0413513183594,270.1787414550781,268.5730895996094,267.93231201171875,266.38629150390625,264.6781311035156,261.8670654296875,259.20068359375,255.64894104003906,252.23385620117188,249.46958923339844,246.24957275390625,243.79721069335938,240.85763549804688,238.10382080078125,235.10227966308594,232.2324981689453,228.81198120117188,226.05703735351562,224.46531677246094,224.05409240722656,224.0845184326172,223.98416137695312,224.62803649902344,224.34312438964844,224.0520782470703,223.69923400878906,223.5015869140625,223.3217010498047,222.81240844726562,221.4993133544922,220.3172607421875,219.86106872558594,218.52647399902344,217.28179931640625,217.22360229492188,217.2657470703125,217.39613342285156,218.08604431152344,218.8000030517578,218.93637084960938,218.73048400878906,218.28538513183594,217.82403564453125,217.66905212402344,217.44357299804688,217.91297912597656,218.88897705078125,219.15480041503906,219.22567749023438,219.45375061035156,219.63182067871094,219.82354736328125,220.07566833496094,220.56582641601562,221.2006072998047,223.28985595703125,225.4130859375,227.15835571289062,228.29122924804688,230.08106994628906,232.09408569335938,234.87547302246094,237.7421875,240.56011962890625,243.46084594726562,246.18490600585938,247.86392211914062,249.25323486328125,249.96994018554688,250.97789001464844,251.38192749023438,252.28958129882812,253.64852905273438,254.87249755859375,255.8145294189453,256.47320556640625,256.75732421875,256.5507507324219,256.54779052734375,256.5187072753906,256.400634765625,255.89276123046875,255.10482788085938,253.96641540527344,252.69850158691406,251.52590942382812,250.07093811035156,248.87130737304688,248.21266174316406,248.01385498046875,248.48695373535156,249.32630920410156,249.7737274169922,250.7158203125,251.70999145507812,252.7729949951172,253.95668029785156,255.0778350830078,255.74485778808594,255.72613525390625,254.8671112060547,253.81521606445312,253.0330352783203,252.4828338623047,251.17218017578125,249.64515686035156,247.1674346923828,245.03514099121094,242.50364685058594,239.84559631347656,236.6336669921875,233.4381561279297,230.13604736328125,227.02003479003906,224.48602294921875],\"type\":\"scatter\"}],                        {\"template\":{\"data\":{\"bar\":[{\"error_x\":{\"color\":\"#2a3f5f\"},\"error_y\":{\"color\":\"#2a3f5f\"},\"marker\":{\"line\":{\"color\":\"#E5ECF6\",\"width\":0.5},\"pattern\":{\"fillmode\":\"overlay\",\"size\":10,\"solidity\":0.2}},\"type\":\"bar\"}],\"barpolar\":[{\"marker\":{\"line\":{\"color\":\"#E5ECF6\",\"width\":0.5},\"pattern\":{\"fillmode\":\"overlay\",\"size\":10,\"solidity\":0.2}},\"type\":\"barpolar\"}],\"carpet\":[{\"aaxis\":{\"endlinecolor\":\"#2a3f5f\",\"gridcolor\":\"white\",\"linecolor\":\"white\",\"minorgridcolor\":\"white\",\"startlinecolor\":\"#2a3f5f\"},\"baxis\":{\"endlinecolor\":\"#2a3f5f\",\"gridcolor\":\"white\",\"linecolor\":\"white\",\"minorgridcolor\":\"white\",\"startlinecolor\":\"#2a3f5f\"},\"type\":\"carpet\"}],\"choropleth\":[{\"colorbar\":{\"outlinewidth\":0,\"ticks\":\"\"},\"type\":\"choropleth\"}],\"contour\":[{\"colorbar\":{\"outlinewidth\":0,\"ticks\":\"\"},\"colorscale\":[[0.0,\"#0d0887\"],[0.1111111111111111,\"#46039f\"],[0.2222222222222222,\"#7201a8\"],[0.3333333333333333,\"#9c179e\"],[0.4444444444444444,\"#bd3786\"],[0.5555555555555556,\"#d8576b\"],[0.6666666666666666,\"#ed7953\"],[0.7777777777777778,\"#fb9f3a\"],[0.8888888888888888,\"#fdca26\"],[1.0,\"#f0f921\"]],\"type\":\"contour\"}],\"contourcarpet\":[{\"colorbar\":{\"outlinewidth\":0,\"ticks\":\"\"},\"type\":\"contourcarpet\"}],\"heatmap\":[{\"colorbar\":{\"outlinewidth\":0,\"ticks\":\"\"},\"colorscale\":[[0.0,\"#0d0887\"],[0.1111111111111111,\"#46039f\"],[0.2222222222222222,\"#7201a8\"],[0.3333333333333333,\"#9c179e\"],[0.4444444444444444,\"#bd3786\"],[0.5555555555555556,\"#d8576b\"],[0.6666666666666666,\"#ed7953\"],[0.7777777777777778,\"#fb9f3a\"],[0.8888888888888888,\"#fdca26\"],[1.0,\"#f0f921\"]],\"type\":\"heatmap\"}],\"heatmapgl\":[{\"colorbar\":{\"outlinewidth\":0,\"ticks\":\"\"},\"colorscale\":[[0.0,\"#0d0887\"],[0.1111111111111111,\"#46039f\"],[0.2222222222222222,\"#7201a8\"],[0.3333333333333333,\"#9c179e\"],[0.4444444444444444,\"#bd3786\"],[0.5555555555555556,\"#d8576b\"],[0.6666666666666666,\"#ed7953\"],[0.7777777777777778,\"#fb9f3a\"],[0.8888888888888888,\"#fdca26\"],[1.0,\"#f0f921\"]],\"type\":\"heatmapgl\"}],\"histogram\":[{\"marker\":{\"pattern\":{\"fillmode\":\"overlay\",\"size\":10,\"solidity\":0.2}},\"type\":\"histogram\"}],\"histogram2d\":[{\"colorbar\":{\"outlinewidth\":0,\"ticks\":\"\"},\"colorscale\":[[0.0,\"#0d0887\"],[0.1111111111111111,\"#46039f\"],[0.2222222222222222,\"#7201a8\"],[0.3333333333333333,\"#9c179e\"],[0.4444444444444444,\"#bd3786\"],[0.5555555555555556,\"#d8576b\"],[0.6666666666666666,\"#ed7953\"],[0.7777777777777778,\"#fb9f3a\"],[0.8888888888888888,\"#fdca26\"],[1.0,\"#f0f921\"]],\"type\":\"histogram2d\"}],\"histogram2dcontour\":[{\"colorbar\":{\"outlinewidth\":0,\"ticks\":\"\"},\"colorscale\":[[0.0,\"#0d0887\"],[0.1111111111111111,\"#46039f\"],[0.2222222222222222,\"#7201a8\"],[0.3333333333333333,\"#9c179e\"],[0.4444444444444444,\"#bd3786\"],[0.5555555555555556,\"#d8576b\"],[0.6666666666666666,\"#ed7953\"],[0.7777777777777778,\"#fb9f3a\"],[0.8888888888888888,\"#fdca26\"],[1.0,\"#f0f921\"]],\"type\":\"histogram2dcontour\"}],\"mesh3d\":[{\"colorbar\":{\"outlinewidth\":0,\"ticks\":\"\"},\"type\":\"mesh3d\"}],\"parcoords\":[{\"line\":{\"colorbar\":{\"outlinewidth\":0,\"ticks\":\"\"}},\"type\":\"parcoords\"}],\"pie\":[{\"automargin\":true,\"type\":\"pie\"}],\"scatter\":[{\"marker\":{\"colorbar\":{\"outlinewidth\":0,\"ticks\":\"\"}},\"type\":\"scatter\"}],\"scatter3d\":[{\"line\":{\"colorbar\":{\"outlinewidth\":0,\"ticks\":\"\"}},\"marker\":{\"colorbar\":{\"outlinewidth\":0,\"ticks\":\"\"}},\"type\":\"scatter3d\"}],\"scattercarpet\":[{\"marker\":{\"colorbar\":{\"outlinewidth\":0,\"ticks\":\"\"}},\"type\":\"scattercarpet\"}],\"scattergeo\":[{\"marker\":{\"colorbar\":{\"outlinewidth\":0,\"ticks\":\"\"}},\"type\":\"scattergeo\"}],\"scattergl\":[{\"marker\":{\"colorbar\":{\"outlinewidth\":0,\"ticks\":\"\"}},\"type\":\"scattergl\"}],\"scattermapbox\":[{\"marker\":{\"colorbar\":{\"outlinewidth\":0,\"ticks\":\"\"}},\"type\":\"scattermapbox\"}],\"scatterpolar\":[{\"marker\":{\"colorbar\":{\"outlinewidth\":0,\"ticks\":\"\"}},\"type\":\"scatterpolar\"}],\"scatterpolargl\":[{\"marker\":{\"colorbar\":{\"outlinewidth\":0,\"ticks\":\"\"}},\"type\":\"scatterpolargl\"}],\"scatterternary\":[{\"marker\":{\"colorbar\":{\"outlinewidth\":0,\"ticks\":\"\"}},\"type\":\"scatterternary\"}],\"surface\":[{\"colorbar\":{\"outlinewidth\":0,\"ticks\":\"\"},\"colorscale\":[[0.0,\"#0d0887\"],[0.1111111111111111,\"#46039f\"],[0.2222222222222222,\"#7201a8\"],[0.3333333333333333,\"#9c179e\"],[0.4444444444444444,\"#bd3786\"],[0.5555555555555556,\"#d8576b\"],[0.6666666666666666,\"#ed7953\"],[0.7777777777777778,\"#fb9f3a\"],[0.8888888888888888,\"#fdca26\"],[1.0,\"#f0f921\"]],\"type\":\"surface\"}],\"table\":[{\"cells\":{\"fill\":{\"color\":\"#EBF0F8\"},\"line\":{\"color\":\"white\"}},\"header\":{\"fill\":{\"color\":\"#C8D4E3\"},\"line\":{\"color\":\"white\"}},\"type\":\"table\"}]},\"layout\":{\"annotationdefaults\":{\"arrowcolor\":\"#2a3f5f\",\"arrowhead\":0,\"arrowwidth\":1},\"autotypenumbers\":\"strict\",\"coloraxis\":{\"colorbar\":{\"outlinewidth\":0,\"ticks\":\"\"}},\"colorscale\":{\"diverging\":[[0,\"#8e0152\"],[0.1,\"#c51b7d\"],[0.2,\"#de77ae\"],[0.3,\"#f1b6da\"],[0.4,\"#fde0ef\"],[0.5,\"#f7f7f7\"],[0.6,\"#e6f5d0\"],[0.7,\"#b8e186\"],[0.8,\"#7fbc41\"],[0.9,\"#4d9221\"],[1,\"#276419\"]],\"sequential\":[[0.0,\"#0d0887\"],[0.1111111111111111,\"#46039f\"],[0.2222222222222222,\"#7201a8\"],[0.3333333333333333,\"#9c179e\"],[0.4444444444444444,\"#bd3786\"],[0.5555555555555556,\"#d8576b\"],[0.6666666666666666,\"#ed7953\"],[0.7777777777777778,\"#fb9f3a\"],[0.8888888888888888,\"#fdca26\"],[1.0,\"#f0f921\"]],\"sequentialminus\":[[0.0,\"#0d0887\"],[0.1111111111111111,\"#46039f\"],[0.2222222222222222,\"#7201a8\"],[0.3333333333333333,\"#9c179e\"],[0.4444444444444444,\"#bd3786\"],[0.5555555555555556,\"#d8576b\"],[0.6666666666666666,\"#ed7953\"],[0.7777777777777778,\"#fb9f3a\"],[0.8888888888888888,\"#fdca26\"],[1.0,\"#f0f921\"]]},\"colorway\":[\"#636efa\",\"#EF553B\",\"#00cc96\",\"#ab63fa\",\"#FFA15A\",\"#19d3f3\",\"#FF6692\",\"#B6E880\",\"#FF97FF\",\"#FECB52\"],\"font\":{\"color\":\"#2a3f5f\"},\"geo\":{\"bgcolor\":\"white\",\"lakecolor\":\"white\",\"landcolor\":\"#E5ECF6\",\"showlakes\":true,\"showland\":true,\"subunitcolor\":\"white\"},\"hoverlabel\":{\"align\":\"left\"},\"hovermode\":\"closest\",\"mapbox\":{\"style\":\"light\"},\"paper_bgcolor\":\"white\",\"plot_bgcolor\":\"#E5ECF6\",\"polar\":{\"angularaxis\":{\"gridcolor\":\"white\",\"linecolor\":\"white\",\"ticks\":\"\"},\"bgcolor\":\"#E5ECF6\",\"radialaxis\":{\"gridcolor\":\"white\",\"linecolor\":\"white\",\"ticks\":\"\"}},\"scene\":{\"xaxis\":{\"backgroundcolor\":\"#E5ECF6\",\"gridcolor\":\"white\",\"gridwidth\":2,\"linecolor\":\"white\",\"showbackground\":true,\"ticks\":\"\",\"zerolinecolor\":\"white\"},\"yaxis\":{\"backgroundcolor\":\"#E5ECF6\",\"gridcolor\":\"white\",\"gridwidth\":2,\"linecolor\":\"white\",\"showbackground\":true,\"ticks\":\"\",\"zerolinecolor\":\"white\"},\"zaxis\":{\"backgroundcolor\":\"#E5ECF6\",\"gridcolor\":\"white\",\"gridwidth\":2,\"linecolor\":\"white\",\"showbackground\":true,\"ticks\":\"\",\"zerolinecolor\":\"white\"}},\"shapedefaults\":{\"line\":{\"color\":\"#2a3f5f\"}},\"ternary\":{\"aaxis\":{\"gridcolor\":\"white\",\"linecolor\":\"white\",\"ticks\":\"\"},\"baxis\":{\"gridcolor\":\"white\",\"linecolor\":\"white\",\"ticks\":\"\"},\"bgcolor\":\"#E5ECF6\",\"caxis\":{\"gridcolor\":\"white\",\"linecolor\":\"white\",\"ticks\":\"\"}},\"title\":{\"x\":0.05},\"xaxis\":{\"automargin\":true,\"gridcolor\":\"white\",\"linecolor\":\"white\",\"ticks\":\"\",\"title\":{\"standoff\":15},\"zerolinecolor\":\"white\",\"zerolinewidth\":2},\"yaxis\":{\"automargin\":true,\"gridcolor\":\"white\",\"linecolor\":\"white\",\"ticks\":\"\",\"title\":{\"standoff\":15},\"zerolinecolor\":\"white\",\"zerolinewidth\":2}}}},                        {\"responsive\": true}                    ).then(function(){\n",
              "                            \n",
              "var gd = document.getElementById('e7a84ec1-f9b5-4b63-891d-c3457689ccb5');\n",
              "var x = new MutationObserver(function (mutations, observer) {{\n",
              "        var display = window.getComputedStyle(gd).display;\n",
              "        if (!display || display === 'none') {{\n",
              "            console.log([gd, 'removed!']);\n",
              "            Plotly.purge(gd);\n",
              "            observer.disconnect();\n",
              "        }}\n",
              "}});\n",
              "\n",
              "// Listen for the removal of the full notebook cells\n",
              "var notebookContainer = gd.closest('#notebook-container');\n",
              "if (notebookContainer) {{\n",
              "    x.observe(notebookContainer, {childList: true});\n",
              "}}\n",
              "\n",
              "// Listen for the clearing of the current output cell\n",
              "var outputEl = gd.closest('.output');\n",
              "if (outputEl) {{\n",
              "    x.observe(outputEl, {childList: true});\n",
              "}}\n",
              "\n",
              "                        })                };                            </script>        </div>\n",
              "</body>\n",
              "</html>"
            ]
          },
          "metadata": {}
        }
      ]
    },
    {
      "cell_type": "markdown",
      "metadata": {
        "id": "QMkON0Szlx70"
      },
      "source": [
        "### Real Time Prediction"
      ]
    },
    {
      "cell_type": "code",
      "metadata": {
        "id": "LHH1Z6odl2jE",
        "colab": {
          "base_uri": "https://localhost:8080/"
        },
        "outputId": "0951bbc2-dac2-4051-e840-468321e1d067"
      },
      "source": [
        "# Function to make the real time prediction\n",
        "def PredictStockPrice(Model, DataFrame, PreviousDate, feature_length = 32):\n",
        "  idx_location = DataFrame.index.get_loc(PreviousDate)\n",
        "  Features = DataFrame.iloc[idx_location - feature_length : idx_location,:].values\n",
        "  Features = np.expand_dims(Features, axis = 0)\n",
        "  Features = Feature_Scaler.transform(Features)\n",
        "  Prediction = Model.predict(Features)\n",
        "  Prediction = Target_Scaler.inverse_transform(Prediction)\n",
        "  return Prediction[0][0]\n",
        "\n",
        "real_time_pred = PredictStockPrice(model, data, '2022-10-12')  "
      ],
      "execution_count": 153,
      "outputs": [
        {
          "output_type": "stream",
          "name": "stdout",
          "text": [
            "1/1 [==============================] - 0s 45ms/step\n"
          ]
        }
      ]
    },
    {
      "cell_type": "markdown",
      "source": [],
      "metadata": {
        "id": "OzXgms7411eY"
      }
    },
    {
      "cell_type": "code",
      "source": [
        "# Get the actual stock from Yahoo Finance API\n",
        "actual_test = yf.download(\"TSLA\" , start = \"2022-10-13\", end = \"2022-10-14\")"
      ],
      "metadata": {
        "colab": {
          "base_uri": "https://localhost:8080/"
        },
        "id": "wle5ozpq0y-V",
        "outputId": "53c15ea4-83e1-4f42-de97-b711991b0e16"
      },
      "execution_count": 154,
      "outputs": [
        {
          "output_type": "stream",
          "name": "stdout",
          "text": [
            "\r[*********************100%***********************]  1 of 1 completed\n"
          ]
        }
      ]
    },
    {
      "cell_type": "code",
      "metadata": {
        "colab": {
          "base_uri": "https://localhost:8080/"
        },
        "id": "50AtxmGXnb4x",
        "outputId": "0ec45aeb-7dc7-4efc-95b7-55d456223bf5"
      },
      "source": [
        "print('The Actual stock related 2022-10-13 is: {}'.format(actual_test['Close'][0]))\n",
        "print('Our prediction related 2022-10-13 is: {}'.format(real_time_pred))"
      ],
      "execution_count": 156,
      "outputs": [
        {
          "output_type": "stream",
          "name": "stdout",
          "text": [
            "The Actual stock related 2022-10-13 is: 221.72000122070312\n",
            "Our prediction related 2022-10-13 is: 230.13604736328125\n"
          ]
        }
      ]
    }
  ]
}